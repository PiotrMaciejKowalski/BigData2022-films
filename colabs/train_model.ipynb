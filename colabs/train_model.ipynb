{
  "cells": [
    {
      "cell_type": "markdown",
      "metadata": {
        "id": "view-in-github",
        "colab_type": "text"
      },
      "source": [
        "<a href=\"https://colab.research.google.com/github/PiotrMaciejKowalski/BigData2022-films/blob/CU-862j3hjza_Trening-modelu/colabs/model_demo.ipynb\" target=\"_parent\"><img src=\"https://colab.research.google.com/assets/colab-badge.svg\" alt=\"Open In Colab\"/></a>"
      ]
    },
    {
      "cell_type": "markdown",
      "source": [
        "##Spark Set up "
      ],
      "metadata": {
        "id": "0DE6AMYEekMt"
      }
    },
    {
      "cell_type": "code",
      "execution_count": null,
      "metadata": {
        "id": "ezAXyedTV7xb"
      },
      "outputs": [],
      "source": [
        "from google.colab import drive\n",
        "drive.mount('/content/drive')"
      ]
    },
    {
      "cell_type": "code",
      "execution_count": null,
      "metadata": {
        "id": "wRKDu1B7V9K_"
      },
      "outputs": [],
      "source": [
        "# install Java8\n",
        "!apt-get install openjdk-8-jdk-headless -qq > /dev/null\n",
        "# download spark2.4.5\n",
        "!wget -q https://archive.apache.org/dist/spark/spark-3.2.1/spark-3.2.1-bin-hadoop3.2.tgz\n",
        "# unzip it\n",
        "!tar xf spark-3.2.1-bin-hadoop3.2.tgz\n",
        "# install findspark\n",
        "!pip install -q findspark\n",
        "# clone github repo\n",
        "!git clone https://github.com/PiotrMaciejKowalski/BigData2022-films\n",
        "# Przeniesienie plików z BigData2022-films do katalogu nadrzędnego\n",
        "!mv BigData2022-films/* .\n",
        "!mv BigData2022-films/.* .\n",
        "!rmdir BigData2022-films"
      ]
    },
    {
      "cell_type": "code",
      "execution_count": 6,
      "metadata": {
        "id": "Gy1Vn78v9m5g"
      },
      "outputs": [],
      "source": [
        "import os\n",
        "\n",
        "# setup environment variables for our Spark Session to work\n",
        "os.environ[\"JAVA_HOME\"] = \"/usr/lib/jvm/java-8-openjdk-amd64\"\n",
        "os.environ[\"SPARK_HOME\"] = '/content/spark-3.2.1-bin-hadoop3.2'\n",
        "\n",
        "from lib.pyspark_startup import init, load"
      ]
    },
    {
      "cell_type": "code",
      "execution_count": 7,
      "metadata": {
        "id": "6gMtlQ2r9upV"
      },
      "outputs": [],
      "source": [
        "spark = init()"
      ]
    },
    {
      "cell_type": "markdown",
      "source": [
        "## Load data"
      ],
      "metadata": {
        "id": "8dbZ-35vftJz"
      }
    },
    {
      "cell_type": "code",
      "execution_count": 8,
      "metadata": {
        "id": "-qqhXPYhYDdA"
      },
      "outputs": [],
      "source": [
        "path = \"/content/drive/.shortcut-targets-by-id/1VcOir9FMG8LzEsUE-Q8YA79c_sV0tJwp/bigdata2022/\""
      ]
    },
    {
      "cell_type": "code",
      "source": [
        "train_df = spark.read.parquet(path + \"train_df.parquet\")"
      ],
      "metadata": {
        "id": "HjkapA0VZOwM"
      },
      "execution_count": 9,
      "outputs": []
    },
    {
      "cell_type": "markdown",
      "source": [
        "## Loading model"
      ],
      "metadata": {
        "id": "hfe_LjkCq-GQ"
      }
    },
    {
      "cell_type": "code",
      "source": [
        "from lib.model import Model"
      ],
      "metadata": {
        "id": "N0AFCixw0QWD"
      },
      "execution_count": 10,
      "outputs": []
    },
    {
      "cell_type": "code",
      "source": [
        "model = Model(train_df)"
      ],
      "metadata": {
        "id": "Fv56Cw3cpfPZ"
      },
      "execution_count": 11,
      "outputs": []
    },
    {
      "cell_type": "markdown",
      "source": [
        "## Train model"
      ],
      "metadata": {
        "id": "0dBw40YIrEt8"
      }
    },
    {
      "cell_type": "code",
      "source": [
        "tytul = \"Toy Story\"\n",
        "model.train(tytul)"
      ],
      "metadata": {
        "colab": {
          "base_uri": "https://localhost:8080/"
        },
        "id": "t8YwABEMpqt9",
        "outputId": "6b3b1d49-106c-4d95-baaf-b78e5b7f360a"
      },
      "execution_count": 16,
      "outputs": [
        {
          "output_type": "execute_result",
          "data": {
            "text/plain": [
              "DataFrame[id: string, tytul: string, cos_similarity: float, IOU: float]"
            ]
          },
          "metadata": {},
          "execution_count": 16
        }
      ]
    },
    {
      "cell_type": "code",
      "source": [
        "prediction = model.predict(0.5,True) # Rule of thumb\n",
        "prediction.show(15, truncate=False)"
      ],
      "metadata": {
        "colab": {
          "base_uri": "https://localhost:8080/"
        },
        "id": "BHRqrDD22j85",
        "outputId": "e8305fdf-fe62-452a-cc65-166b08eb81fb"
      },
      "execution_count": 15,
      "outputs": [
        {
          "output_type": "stream",
          "name": "stdout",
          "text": [
            "+---------+-------------------------------+--------------+----------+----------+\n",
            "|id       |tytul                          |cos_similarity|IOU       |prediction|\n",
            "+---------+-------------------------------+--------------+----------+----------+\n",
            "|tt0114709|Toy Story                      |1.0           |1.0       |1.0       |\n",
            "|tt0120363|Toy Story 2                    |1.0           |0.33333334|0.6666667 |\n",
            "|tt0120623|A Bug's Life                   |1.0           |0.1764706 |0.5882353 |\n",
            "|tt0317219|Cars                           |1.0           |0.11111111|0.5555556 |\n",
            "|tt0429589|The Ant Bully                  |1.0           |0.05263158|0.5263158 |\n",
            "|tt0356634|Garfield                       |1.0           |0.05263158|0.5263158 |\n",
            "|tt0455499|Garfield: A Tail of Two Kitties|1.0           |0.05263158|0.5263158 |\n",
            "|tt0338348|The Polar Express              |1.0           |0.05263158|0.5263158 |\n",
            "|tt1049413|Up                             |1.0           |0.05263158|0.5263158 |\n",
            "|tt1979376|Toy Story 4                    |0.8           |0.25      |0.525     |\n",
            "|tt0435761|Toy Story 3                    |0.8           |0.25      |0.525     |\n",
            "|tt0138749|The Road to El Dorado          |1.0           |0.0       |0.5       |\n",
            "|tt0187819|Doug's 1st Movie               |1.0           |0.0       |0.5       |\n",
            "|tt0119899|Pippi Longstocking             |1.0           |0.0       |0.5       |\n",
            "|tt0213203|Rugrats in Paris               |1.0           |0.0       |0.5       |\n",
            "+---------+-------------------------------+--------------+----------+----------+\n",
            "only showing top 15 rows\n",
            "\n"
          ]
        }
      ]
    },
    {
      "cell_type": "markdown",
      "source": [
        "## Return weights"
      ],
      "metadata": {
        "id": "pzT4Z8A3ryMt"
      }
    },
    {
      "cell_type": "code",
      "source": [
        "# TODO Zwracac wyliczone wagi do pliku"
      ],
      "metadata": {
        "id": "2VoQsTqGrzuQ"
      },
      "execution_count": 17,
      "outputs": []
    }
  ],
  "metadata": {
    "colab": {
      "provenance": [],
      "collapsed_sections": [
        "8dbZ-35vftJz"
      ],
      "include_colab_link": true
    },
    "kernelspec": {
      "display_name": "Python 3",
      "name": "python3"
    },
    "language_info": {
      "name": "python"
    },
    "gpuClass": "premium"
  },
  "nbformat": 4,
  "nbformat_minor": 0
}