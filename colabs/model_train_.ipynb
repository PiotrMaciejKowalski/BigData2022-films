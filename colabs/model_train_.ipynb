{
 "cells": [
  {
   "cell_type": "code",
   "execution_count": 1,
   "metadata": {
    "colab": {
     "base_uri": "https://localhost:8080/"
    },
    "id": "ezAXyedTV7xb",
    "outputId": "0309c513-fa30-4464-cd14-c1a25fab805c"
   },
   "outputs": [
    {
     "output_type": "stream",
     "name": "stdout",
     "text": [
      "Drive already mounted at /content/drive; to attempt to forcibly remount, call drive.mount(\"/content/drive\", force_remount=True).\n"
     ]
    }
   ],
   "source": [
    "from google.colab import drive\n",
    "drive.mount('/content/drive')"
   ]
  },
  {
   "cell_type": "code",
   "execution_count": 2,
   "metadata": {
    "colab": {
     "base_uri": "https://localhost:8080/"
    },
    "id": "wRKDu1B7V9K_",
    "outputId": "d644ad97-e0f5-482b-8bd6-da04b8b08642"
   },
   "outputs": [
    {
     "output_type": "stream",
     "name": "stdout",
     "text": [
      "Cloning into 'BigData2022-films'...\n",
      "remote: Enumerating objects: 1202, done.\u001B[K\n",
      "remote: Counting objects: 100% (516/516), done.\u001B[K\n",
      "remote: Compressing objects: 100% (276/276), done.\u001B[K\n",
      "remote: Total 1202 (delta 352), reused 283 (delta 240), pack-reused 686\u001B[K\n",
      "Receiving objects: 100% (1202/1202), 2.72 MiB | 8.25 MiB/s, done.\n",
      "Resolving deltas: 100% (714/714), done.\n",
      "mv: cannot move 'BigData2022-films/colabs' to './colabs': Directory not empty\n",
      "mv: cannot move 'BigData2022-films/docs' to './docs': Directory not empty\n",
      "mv: cannot move 'BigData2022-films/lib' to './lib': Directory not empty\n",
      "mv: cannot move 'BigData2022-films/notebooks' to './notebooks': Directory not empty\n",
      "mv: cannot move 'BigData2022-films/reports' to './reports': Directory not empty\n",
      "mv: cannot move 'BigData2022-films/stripped' to './stripped': Directory not empty\n",
      "mv: cannot move 'BigData2022-films/tests' to './tests': Directory not empty\n",
      "mv: cannot move 'BigData2022-films/tutorials' to './tutorials': Directory not empty\n",
      "mv: cannot move 'BigData2022-films/.' to './.': Device or resource busy\n",
      "mv: cannot move 'BigData2022-films/..' to './..': Device or resource busy\n",
      "mv: cannot move 'BigData2022-films/.git' to './.git': Directory not empty\n",
      "rmdir: failed to remove 'BigData2022-films': Directory not empty\n"
     ]
    }
   ],
   "source": [
    "# install Java8\n",
    "!apt-get install openjdk-8-jdk-headless -qq > /dev/null\n",
    "# download spark2.4.5\n",
    "!wget -q https://archive.apache.org/dist/spark/spark-3.2.1/spark-3.2.1-bin-hadoop3.2.tgz\n",
    "# unzip it\n",
    "!tar xf spark-3.2.1-bin-hadoop3.2.tgz\n",
    "# install findspark\n",
    "!pip install -q findspark\n",
    "# clone github repo\n",
    "!git clone https://github.com/PiotrMaciejKowalski/BigData2022-films\n",
    "# Przeniesienie plików z BigData2022-films do katalogu nadrzędnego\n",
    "!mv BigData2022-films/* .\n",
    "!mv BigData2022-films/.* .\n",
    "!rmdir BigData2022-films"
   ]
  },
  {
   "cell_type": "code",
   "execution_count": 3,
   "metadata": {
    "id": "Gy1Vn78v9m5g"
   },
   "outputs": [],
   "source": [
    "import os\n",
    "\n",
    "# setup environment variables for our Spark Session to work\n",
    "os.environ[\"JAVA_HOME\"] = \"/usr/lib/jvm/java-8-openjdk-amd64\"\n",
    "os.environ[\"SPARK_HOME\"] = '/content/spark-3.2.1-bin-hadoop3.2'\n",
    "\n",
    "from lib.pyspark_startup import init, load"
   ]
  },
  {
   "cell_type": "code",
   "execution_count": 4,
   "metadata": {
    "id": "6gMtlQ2r9upV"
   },
   "outputs": [],
   "source": [
    "spark = init()"
   ]
  },
  {
   "cell_type": "code",
   "execution_count": 5,
   "metadata": {
    "id": "-qqhXPYhYDdA"
   },
   "outputs": [],
   "source": [
    "path = \"/content/drive/.shortcut-targets-by-id/1VcOir9FMG8LzEsUE-Q8YA79c_sV0tJwp/bigdata2022/\""
   ]
  },
  {
   "cell_type": "code",
   "source": [
    "train = spark.read.parquet(path + \"train_df.parquet\")"
   ],
   "metadata": {
    "id": "HjkapA0VZOwM"
   },
   "execution_count": 6,
   "outputs": []
  },
  {
   "cell_type": "code",
   "execution_count": 7,
   "metadata": {
    "id": "dodBMXZZ9u3q"
   },
   "outputs": [],
   "source": [
    "import pyspark.sql.functions as f\n",
    "from pyspark.sql.types import FloatType \n",
    "import random\n",
    "from pyspark.sql import DataFrame"
   ]
  },
  {
   "cell_type": "code",
   "execution_count": 8,
   "metadata": {
    "colab": {
     "base_uri": "https://localhost:8080/"
    },
    "id": "hzTg2qyOV9QL",
    "outputId": "2904fbe9-9719-4b9d-ba9b-046315aa7f8a"
   },
   "outputs": [
    {
     "output_type": "stream",
     "name": "stdout",
     "text": [
      "+---------+--------------------+---------------------+-------------------------+-----------------------+--------------+--------------------------+--------------------+--------------------+\n",
      "|       id|               tytul|rok_wydania_produkcji|rok_zakonczenia_produkcji|dlugosc_produkcji_w_min|liczba_sezonow|liczba_wszystkich_odcinkow|        ludzie_filmu|            features|\n",
      "+---------+--------------------+---------------------+-------------------------+-----------------------+--------------+--------------------------+--------------------+--------------------+\n",
      "|tt0000001|          Carmencita|                 1894|                     1894|                      1|             1|                         1|[nm1588970, nm000...|(45,[1,17,19],[1....|\n",
      "|tt0000003|      Pauvre Pierrot|                 1892|                     1892|                      4|             1|                         1|[nm0721526, nm177...|(45,[1,20,22,23],...|\n",
      "|tt0000006|   Chinese Opium Den|                 1894|                     1894|                      1|             1|                         1|[nm0005690, null,...|(45,[1,17],[1.0,1...|\n",
      "|tt0000007|Corbett and Court...|                 1894|                     1894|                      1|             1|                         1|[nm0179163, nm018...|(45,[1,17,37],[1....|\n",
      "|tt0000009|          Miss Jerry|                 1894|                     1894|                     45|             1|                         1|[nm0063086, nm018...|(45,[2,22],[1.0,1...|\n",
      "|tt0000016|Boat Leaving the ...|                 1895|                     1895|                      1|             1|                         1|[nm0525900, nm973...|(45,[1,17,19],[1....|\n",
      "|tt0000018|Das boxende Känguruh|                 1895|                     1895|                      1|             1|                         1|[nm3692071, nm080...|(45,[1,17],[1.0,1...|\n",
      "|tt0000027|Cordeliers' Squar...|                 1895|                     1895|                      1|             1|                         1|[nm0525910, null,...|(45,[1,17,19],[1....|\n",
      "|tt0000029|         Baby's Meal|                 1895|                     1895|                      1|             1|                         1|[nm0525908, nm052...|(45,[1,17,19],[1....|\n",
      "|tt0000033|  Horse Trick Riders|                 1895|                     1895|                      1|             1|                         1|[nm0525910, null,...|(45,[1,17,19,20],...|\n",
      "|tt0000034|Arrivée d'un trai...|                 1896|                     1896|                      1|             1|                         1|[nm0617588, null,...|(45,[1,17,19],[1....|\n",
      "|tt0000035|Watering the Flowers|                 1896|                     1896|                      1|             1|                         1|[nm0617588, null,...|(45,[1,17,20],[1....|\n",
      "|tt0000036|    Awakening of Rip|                 1896|                     1896|                      0|             1|                         1|[nm0420198, nm000...|(45,[1,17,18],[1....|\n",
      "|tt0000041|   Bataille de neige|                 1897|                     1897|                      1|             1|                         1|[nm0525910, nm052...|(45,[1,17,19,20],...|\n",
      "|tt0000062|    Danse serpentine|                 1896|                     1896|                      1|             1|                         1|[nm0617588, null,...|(45,[1,17],[1.0,1...|\n",
      "|tt0000070|Demolition of a Wall|                 1896|                     1896|                      1|             1|                         1|[nm0525908, nm052...|(45,[1,17,19],[1....|\n",
      "|tt0000075|The Conjuring of ...|                 1896|                     1896|                      1|             1|                         1|[nm0194945, nm061...|(45,[1,17,24],[1....|\n",
      "|tt0000091|The House of the ...|                 1896|                     1896|                      3|             1|                         1|[nm0194945, nm617...|(45,[1,17,24],[1....|\n",
      "|tt0000109|Rip Meeting the D...|                 1896|                     1896|                      1|             1|                         1|[nm0420198, nm000...|(45,[1,17,31],[1....|\n",
      "|tt0000110|Rip Passing Over ...|                 1896|                     1896|                      1|             1|                         1|[nm0420198, nm000...|(45,[1,17,31],[1....|\n",
      "+---------+--------------------+---------------------+-------------------------+-----------------------+--------------+--------------------------+--------------------+--------------------+\n",
      "only showing top 20 rows\n",
      "\n"
     ]
    }
   ],
   "source": [
    "train.show(20)"
   ]
  },
  {
   "cell_type": "markdown",
   "source": [
    "COS_SIM"
   ],
   "metadata": {
    "id": "fLDBz6cBUfBj"
   }
  },
  {
   "cell_type": "code",
   "execution_count": 9,
   "metadata": {
    "id": "ZUZnBwXh9u5w"
   },
   "outputs": [],
   "source": [
    "# Define a function that takes two vectors as input and returns their cosine similarity\n",
    "def cosine_similarity(vec1, vec2):\n",
    "    return float(vec1.dot(vec2) / (vec1.norm(2) * vec2.norm(2)))"
   ]
  },
  {
   "cell_type": "markdown",
   "source": [
    "IoU\n"
   ],
   "metadata": {
    "id": "RYul6ae6V7Uc"
   }
  },
  {
   "cell_type": "code",
   "source": [
    "from typing import List, Any\n",
    "\n",
    "\n",
    "def intersection_over_union(list_1: List[Any], list_2: List[Any]) -> float:\n",
    "\n",
    "    if None in list_1:\n",
    "      list_1 = list(filter(None, list_1))\n",
    "\n",
    "    if None in list_2:\n",
    "      list_2 = list(filter(None, list_2))\n",
    "\n",
    "    if len(list_1) == 0 or len(list_2) == 0:\n",
    "        return 0.0\n",
    "\n",
    "    return len(set(list_1) & set(list_2)) / len(set(list_1 + list_2))"
   ],
   "metadata": {
    "id": "GYJtlbxLklc1"
   },
   "execution_count": 10,
   "outputs": []
  },
  {
   "cell_type": "markdown",
   "source": [
    "Funkcja łącząca IOU i cos_sim"
   ],
   "metadata": {
    "id": "MP8Rh13m_89f"
   }
  },
  {
   "cell_type": "code",
   "source": [
    "def cos_sim_and_iou_for_row(\n",
    "    df: DataFrame,\n",
    "    movie_id: str,\n",
    "    cos_sim_col_name: str = \"features\",\n",
    "    iou_col_name: str = \"ludzie_filmu\",\n",
    ") -> DataFrame:\n",
    "    \"\"\"This function returns a DataFrame that contains cosinus similarity and \n",
    "    intersection_over_union calculations for the given movie_id.\n",
    "\n",
    "\n",
    "\n",
    "    :param df:              pyspark.sql.DataFrame\n",
    "    :param movie_id:        String\n",
    "    :return:                pyspark.sql.DataFrame\"\"\"\n",
    "\n",
    "  #  if not(cos_sim_col_name in df.columns and iou_col_name in df.columns):\n",
    "    #  raise AssertionError(\"input dataframe does not have the required columns\")\n",
    "\n",
    "    vec_cos_sim =  df.filter(df.id == movie_id).select(cos_sim_col_name).collect()[0][0]\n",
    "    vec_iou = df.filter(df.id == movie_id).select(iou_col_name).collect()[0][0]\n",
    "\n",
    "    def cos(x):\n",
    "        return cosine_similarity(vec_cos_sim, x)\n",
    "\n",
    "    cos_udf = f.udf(cos, FloatType())\n",
    "\n",
    "    def iou(x):\n",
    "      return intersection_over_union(vec_iou, x)\n",
    "\n",
    "    iou_udf = f.udf(iou, FloatType())\n",
    "\n",
    "\n",
    "    df = df.withColumn(\"cos_similarity\", cos_udf(f.col(cos_sim_col_name)))\n",
    "    df = df.withColumn('IOU', iou_udf(f.col(iou_col_name)))\n",
    "\n",
    "    return df.select([\"id\",\"tytul\", \"cos_similarity\",\"IOU\"])"
   ],
   "metadata": {
    "id": "fF1DKoHm_-j3"
   },
   "execution_count": 11,
   "outputs": []
  },
  {
   "cell_type": "markdown",
   "source": [
    "Film do testowania: tutaj \"Toy Story\". "
   ],
   "metadata": {
    "id": "d4dJdadNtkYw"
   }
  },
  {
   "cell_type": "code",
   "source": [
    "movie_id = train.filter(train.tytul == \"Toy Story\").select(\"id\").collect()[0][0]"
   ],
   "metadata": {
    "id": "scp7oOlxgYei"
   },
   "execution_count": 12,
   "outputs": []
  },
  {
   "cell_type": "code",
   "source": [
    "df = cos_sim_and_iou_for_row(train,movie_id)"
   ],
   "metadata": {
    "id": "Qww7fmKX_-vy"
   },
   "execution_count": 13,
   "outputs": []
  },
  {
   "cell_type": "code",
   "source": [
    "df.show()"
   ],
   "metadata": {
    "colab": {
     "base_uri": "https://localhost:8080/"
    },
    "id": "G8yjG-WQikkE",
    "outputId": "66a2ddc8-a3be-4efc-8763-1a55bc1d0731"
   },
   "execution_count": 14,
   "outputs": [
    {
     "output_type": "stream",
     "name": "stdout",
     "text": [
      "+---------+--------------------+--------------+---+\n",
      "|       id|               tytul|cos_similarity|IOU|\n",
      "+---------+--------------------+--------------+---+\n",
      "|tt0000001|          Carmencita|           0.0|0.0|\n",
      "|tt0000003|      Pauvre Pierrot|     0.4472136|0.0|\n",
      "|tt0000006|   Chinese Opium Den|           0.0|0.0|\n",
      "|tt0000007|Corbett and Court...|           0.0|0.0|\n",
      "|tt0000009|          Miss Jerry|    0.31622776|0.0|\n",
      "|tt0000016|Boat Leaving the ...|           0.0|0.0|\n",
      "|tt0000018|Das boxende Känguruh|           0.0|0.0|\n",
      "|tt0000027|Cordeliers' Squar...|           0.0|0.0|\n",
      "|tt0000029|         Baby's Meal|           0.0|0.0|\n",
      "|tt0000033|  Horse Trick Riders|     0.2236068|0.0|\n",
      "|tt0000034|Arrivée d'un trai...|           0.0|0.0|\n",
      "|tt0000035|Watering the Flowers|     0.2581989|0.0|\n",
      "|tt0000036|    Awakening of Rip|           0.0|0.0|\n",
      "|tt0000041|   Bataille de neige|     0.2236068|0.0|\n",
      "|tt0000062|    Danse serpentine|           0.0|0.0|\n",
      "|tt0000070|Demolition of a Wall|           0.0|0.0|\n",
      "|tt0000075|The Conjuring of ...|           0.0|0.0|\n",
      "|tt0000091|The House of the ...|           0.0|0.0|\n",
      "|tt0000109|Rip Meeting the D...|           0.0|0.0|\n",
      "|tt0000110|Rip Passing Over ...|           0.0|0.0|\n",
      "+---------+--------------------+--------------+---+\n",
      "only showing top 20 rows\n",
      "\n"
     ]
    }
   ]
  },
  {
   "cell_type": "markdown",
   "source": [
    "Tutaj funkcja przyjmujaca df z policzynm iou oraz cos_sim. param to waga. "
   ],
   "metadata": {
    "id": "K1ZwZGext-dI"
   }
  },
  {
   "cell_type": "code",
   "source": [
    "def testujemy(df,a_param:float):\n",
    "\n",
    "\n",
    "    add_udf = f.udf(lambda x, y: a_param* x + (1- a_param) * y, FloatType())\n",
    "\n",
    "    df = df.withColumn(\"prediction\", add_udf(df[\"cos_similarity\"], df[\"IOU\"]))\n",
    "\n",
    "\n",
    "    return df"
   ],
   "metadata": {
    "id": "MEScWCHk_-8i"
   },
   "execution_count": 15,
   "outputs": []
  },
  {
   "cell_type": "code",
   "source": [
    "df_prediction= testujemy(df, 0.5)"
   ],
   "metadata": {
    "id": "H1dWV3S1__C7"
   },
   "execution_count": 23,
   "outputs": []
  },
  {
   "cell_type": "code",
   "source": [
    "df_prediction.show()"
   ],
   "metadata": {
    "colab": {
     "base_uri": "https://localhost:8080/"
    },
    "id": "8Bg60wOJiyRJ",
    "outputId": "d12f3f38-2204-45c1-ef24-f049e536f8f0"
   },
   "execution_count": 24,
   "outputs": [
    {
     "output_type": "stream",
     "name": "stdout",
     "text": [
      "+---------+--------------------+--------------+---+----------+\n",
      "|       id|               tytul|cos_similarity|IOU|prediction|\n",
      "+---------+--------------------+--------------+---+----------+\n",
      "|tt0000001|          Carmencita|           0.0|0.0|       0.0|\n",
      "|tt0000003|      Pauvre Pierrot|     0.4472136|0.0| 0.2236068|\n",
      "|tt0000006|   Chinese Opium Den|           0.0|0.0|       0.0|\n",
      "|tt0000007|Corbett and Court...|           0.0|0.0|       0.0|\n",
      "|tt0000009|          Miss Jerry|    0.31622776|0.0|0.15811388|\n",
      "|tt0000016|Boat Leaving the ...|           0.0|0.0|       0.0|\n",
      "|tt0000018|Das boxende Känguruh|           0.0|0.0|       0.0|\n",
      "|tt0000027|Cordeliers' Squar...|           0.0|0.0|       0.0|\n",
      "|tt0000029|         Baby's Meal|           0.0|0.0|       0.0|\n",
      "|tt0000033|  Horse Trick Riders|     0.2236068|0.0| 0.1118034|\n",
      "|tt0000034|Arrivée d'un trai...|           0.0|0.0|       0.0|\n",
      "|tt0000035|Watering the Flowers|     0.2581989|0.0|0.12909944|\n",
      "|tt0000036|    Awakening of Rip|           0.0|0.0|       0.0|\n",
      "|tt0000041|   Bataille de neige|     0.2236068|0.0| 0.1118034|\n",
      "|tt0000062|    Danse serpentine|           0.0|0.0|       0.0|\n",
      "|tt0000070|Demolition of a Wall|           0.0|0.0|       0.0|\n",
      "|tt0000075|The Conjuring of ...|           0.0|0.0|       0.0|\n",
      "|tt0000091|The House of the ...|           0.0|0.0|       0.0|\n",
      "|tt0000109|Rip Meeting the D...|           0.0|0.0|       0.0|\n",
      "|tt0000110|Rip Passing Over ...|           0.0|0.0|       0.0|\n",
      "+---------+--------------------+--------------+---+----------+\n",
      "only showing top 20 rows\n",
      "\n"
     ]
    }
   ]
  },
  {
   "cell_type": "code",
   "source": [
    "from pyspark.sql.functions import desc"
   ],
   "metadata": {
    "id": "zzvWrM13FV_-"
   },
   "execution_count": 25,
   "outputs": []
  },
  {
   "cell_type": "code",
   "source": [
    "df_prediction = df_prediction.sort(desc(\"prediction\"))"
   ],
   "metadata": {
    "id": "NO1di-fFfjAW"
   },
   "execution_count": 26,
   "outputs": []
  },
  {
   "cell_type": "code",
   "source": [
    "df_prediction.show(10)"
   ],
   "metadata": {
    "id": "t5VKD7OQV-eu",
    "colab": {
     "base_uri": "https://localhost:8080/"
    },
    "outputId": "fe1119fa-9345-49cb-d4cc-ffb9be460071"
   },
   "execution_count": 27,
   "outputs": [
    {
     "output_type": "stream",
     "name": "stdout",
     "text": [
      "+---------+--------------------+--------------+----------+----------+\n",
      "|       id|               tytul|cos_similarity|       IOU|prediction|\n",
      "+---------+--------------------+--------------+----------+----------+\n",
      "|tt0114709|           Toy Story|           1.0|       1.0|       1.0|\n",
      "|tt0120363|         Toy Story 2|           1.0|0.33333334| 0.6666667|\n",
      "|tt0120623|        A Bug's Life|           1.0| 0.1764706| 0.5882353|\n",
      "|tt0317219|                Cars|           1.0|0.11111111| 0.5555556|\n",
      "|tt0338348|   The Polar Express|           1.0|0.05263158| 0.5263158|\n",
      "|tt0356634|            Garfield|           1.0|0.05263158| 0.5263158|\n",
      "|tt0455499|Garfield: A Tail ...|           1.0|0.05263158| 0.5263158|\n",
      "|tt1049413|                  Up|           1.0|0.05263158| 0.5263158|\n",
      "|tt0429589|       The Ant Bully|           1.0|0.05263158| 0.5263158|\n",
      "|tt1979376|         Toy Story 4|           0.8|      0.25|     0.525|\n",
      "+---------+--------------------+--------------+----------+----------+\n",
      "only showing top 10 rows\n",
      "\n"
     ]
    }
   ]
  },
  {
   "cell_type": "code",
   "execution_count": null,
   "outputs": [],
   "source": [
    "from lib.model import predict"
   ],
   "metadata": {
    "collapsed": false
   }
  },
  {
   "cell_type": "code",
   "execution_count": null,
   "outputs": [],
   "source": [
    "df_pred = predict(df,\"Toy Story\")"
   ],
   "metadata": {
    "collapsed": false
   }
  },
  {
   "cell_type": "code",
   "execution_count": null,
   "outputs": [],
   "source": [
    "df_pred.show(20)"
   ],
   "metadata": {
    "collapsed": false
   }
  },
  {
   "cell_type": "code",
   "execution_count": null,
   "metadata": {
    "id": "T-7Bes0J-LYW"
   },
   "outputs": [],
   "source": [
    "# import time\n",
    "\n",
    "# # get the start time\n",
    "# st = time.time()\n",
    "\n",
    "# # main program\n",
    "# # find sum to first 1 million numbers\n",
    "# kam = IOU(\"tt0000006\", df_dom)\n",
    "\n",
    "# # get the end time\n",
    "# et = time.time()\n",
    "\n",
    "# # get the execution time\n",
    "# elapsed_time = et - st\n",
    "# print('Execution time:', elapsed_time, 'seconds')"
   ]
  }
 ],
 "metadata": {
  "colab": {
   "provenance": []
  },
  "kernelspec": {
   "display_name": "Python 3",
   "name": "python3"
  },
  "language_info": {
   "name": "python"
  }
 },
 "nbformat": 4,
 "nbformat_minor": 0
}
