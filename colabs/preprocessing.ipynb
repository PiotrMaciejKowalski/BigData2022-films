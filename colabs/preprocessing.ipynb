{
  "cells": [
    {
      "cell_type": "markdown",
      "metadata": {
        "id": "view-in-github",
        "colab_type": "text"
      },
      "source": [
        "<a href=\"https://colab.research.google.com/github/PiotrMaciejKowalski/BigData2022-films/blob/Usunicie-nulli-z-danych/colabs/preprocessing.ipynb\" target=\"_parent\"><img src=\"https://colab.research.google.com/assets/colab-badge.svg\" alt=\"Open In Colab\"/></a>"
      ]
    },
    {
      "cell_type": "markdown",
      "metadata": {
        "id": "5Agowe5uPVKS"
      },
      "source": [
        "# Spark Setup and Data Load\n",
        "## (with joining tables)"
      ]
    },
    {
      "cell_type": "code",
      "source": [
        "from google.colab import drive\n",
        "drive.mount('/content/drive')"
      ],
      "metadata": {
        "id": "xea8rmW1Mtc8"
      },
      "execution_count": null,
      "outputs": []
    },
    {
      "cell_type": "code",
      "execution_count": null,
      "metadata": {
        "id": "W8My8u33PYJt"
      },
      "outputs": [],
      "source": [
        "# install Java8\n",
        "!apt-get install openjdk-8-jdk-headless -qq > /dev/null\n",
        "# download spark2.4.5\n",
        "!wget -q https://archive.apache.org/dist/spark/spark-3.2.1/spark-3.2.1-bin-hadoop3.2.tgz\n",
        "# unzip it\n",
        "!tar xf spark-3.2.1-bin-hadoop3.2.tgz\n",
        "# install findspark\n",
        "!pip install -q findspark\n",
        "# clone github repo\n",
        "!git clone https://github.com/PiotrMaciejKowalski/BigData2022-films\n",
        "# Przeniesienie plików z BigData2022-films do katalogu nadrzędnego\n",
        "!mv BigData2022-films/* .\n",
        "!mv BigData2022-films/.* .\n",
        "!rmdir BigData2022-films"
      ]
    },
    {
      "cell_type": "code",
      "source": [
        "!git checkout Usunicie-nulli-z-danych"
      ],
      "metadata": {
        "id": "M6l29JfAQ5j5"
      },
      "execution_count": null,
      "outputs": []
    },
    {
      "cell_type": "code",
      "execution_count": 4,
      "metadata": {
        "id": "fG3Xpjc4MvYY"
      },
      "outputs": [],
      "source": [
        "import os\n",
        "\n",
        "# setup environment variables for our Spark Session to work\n",
        "os.environ[\"JAVA_HOME\"] = \"/usr/lib/jvm/java-8-openjdk-amd64\"\n",
        "os.environ[\"SPARK_HOME\"] = '/content/spark-3.2.1-bin-hadoop3.2'\n",
        "\n",
        "from lib.pyspark_startup import init, load"
      ]
    },
    {
      "cell_type": "code",
      "source": [
        "spark = init()"
      ],
      "metadata": {
        "id": "lIJChpFeBN-U"
      },
      "execution_count": 5,
      "outputs": []
    },
    {
      "cell_type": "code",
      "source": [
        "# Ładowanie danych z dysku google\n",
        "df = load(spark = spark,\n",
        "          path = \"/content/drive/.shortcut-targets-by-id/1VcOir9FMG8LzEsUE-Q8YA79c_sV0tJwp/bigdata2022/\")"
      ],
      "metadata": {
        "id": "fOLm43gvBWNM"
      },
      "execution_count": 11,
      "outputs": []
    },
    {
      "cell_type": "markdown",
      "source": [
        "# Preprocessing"
      ],
      "metadata": {
        "id": "1ikYahXOI5br"
      }
    },
    {
      "cell_type": "markdown",
      "source": [
        "## Odfiltorwanie odcinków"
      ],
      "metadata": {
        "id": "YwtuyqnrXhj5"
      }
    },
    {
      "cell_type": "code",
      "source": [
        "title_episode = spark.read.csv(\n",
        "    \"/content/drive/.shortcut-targets-by-id/1VcOir9FMG8LzEsUE-Q8YA79c_sV0tJwp/bigdata2022/title.episode.tsv.gz\",\n",
        "    sep=\"\\t\",\n",
        "    header=True,\n",
        ")"
      ],
      "metadata": {
        "id": "ePixRIUMXgp0"
      },
      "execution_count": 12,
      "outputs": []
    },
    {
      "cell_type": "code",
      "source": [
        "df = df.join(title_episode,df.id==title_episode.tconst,\"leftanti\")"
      ],
      "metadata": {
        "id": "mElBks_wqR-H"
      },
      "execution_count": 13,
      "outputs": []
    },
    {
      "cell_type": "markdown",
      "source": [
        "## Konwersja"
      ],
      "metadata": {
        "id": "_WNjSTSoVGEw"
      }
    },
    {
      "cell_type": "code",
      "source": [
        "from pyspark.sql.functions import col\n",
        "\n",
        "cols = [\"dlugosc_produkcji_w_min\", \"rok_wydania_produkcji\", \"rok_zakonczenia_produkcji\"]\n",
        "for c in cols:\n",
        "    df = df.withColumn(c, col(c).cast(\"float\").alias(c))"
      ],
      "metadata": {
        "id": "siPvKQtOJEPm"
      },
      "execution_count": 14,
      "outputs": []
    },
    {
      "cell_type": "markdown",
      "source": [
        "## Uzupełnienie wartości dla filmów"
      ],
      "metadata": {
        "id": "i_7SqK5ximjS"
      }
    },
    {
      "cell_type": "code",
      "source": [
        "from pyspark.sql.functions import when\n",
        "\n",
        "for col in [\"liczba_sezonow\", \"liczba_wszystkich_odcinkow\"]:\n",
        "    df = df.withColumn(\n",
        "        col,\n",
        "        when(\n",
        "            df[\"rodzaj_produkcji\"].isin(\n",
        "                [\n",
        "                    \"short\",\n",
        "                    \"movie\",\n",
        "                    \"video\",\n",
        "                    \"tvMovie\",\n",
        "                    \"tvMiniSeries\",\n",
        "                    \"tvSpecial\",\n",
        "                    \"tvShort\",\n",
        "                ]\n",
        "            ),\n",
        "            1.0,\n",
        "        ).otherwise(df[col]),\n",
        "    )"
      ],
      "metadata": {
        "id": "To-5270KVSFh"
      },
      "execution_count": 15,
      "outputs": []
    },
    {
      "cell_type": "code",
      "source": [
        "df = df.withColumn(\n",
        "    \"rok_zakonczenia_produkcji\",\n",
        "    when(\n",
        "        df[\"rodzaj_produkcji\"].isin(\n",
        "            [\n",
        "                \"short\",\n",
        "                \"movie\",\n",
        "                \"video\",\n",
        "                \"tvMovie\",\n",
        "                \"tvMiniSeries\",\n",
        "                \"tvSpecial\",\n",
        "                \"tvShort\",\n",
        "            ]\n",
        "        ),\n",
        "        df[\"rok_wydania_produkcji\"],\n",
        "    ).otherwise(df[\"rok_zakonczenia_produkcji\"]),\n",
        ")"
      ],
      "metadata": {
        "id": "fos4mrQrlPwE"
      },
      "execution_count": 16,
      "outputs": []
    },
    {
      "cell_type": "markdown",
      "source": [
        "## Usuniecie nulli"
      ],
      "metadata": {
        "id": "7pGjPhaQmSNa"
      }
    },
    {
      "cell_type": "code",
      "source": [
        "df = df.dropna(subset = df.columns[0:10])"
      ],
      "metadata": {
        "id": "y9Z6xu8fmYR1"
      },
      "execution_count": 17,
      "outputs": []
    },
    {
      "cell_type": "markdown",
      "source": [
        "## Odfiltrowanie niechcianych rodzajów produkcji"
      ],
      "metadata": {
        "id": "uL-gfQ5RYQtf"
      }
    },
    {
      "cell_type": "code",
      "source": [
        "df = df.filter(\n",
        "    (df.rodzaj_produkcji != \"videoGame\")\n",
        "    & (df.rodzaj_produkcji != \"tvEpisode\")\n",
        "    & (df.rodzaj_produkcji != \"tvPilot\")\n",
        ")"
      ],
      "metadata": {
        "id": "ot7o-cQTYVKy"
      },
      "execution_count": 20,
      "outputs": []
    },
    {
      "cell_type": "code",
      "source": [
        "df.show()"
      ],
      "metadata": {
        "colab": {
          "base_uri": "https://localhost:8080/"
        },
        "id": "C7xyhMKfmeZN",
        "outputId": "e8209634-9ea5-49df-8ba5-f53c1c864097"
      },
      "execution_count": 21,
      "outputs": [
        {
          "output_type": "stream",
          "name": "stdout",
          "text": [
            "+---------+----------------+--------------------+-----------------+---------------------+-------------------------+-----------------------+--------------------+--------------+--------------------------+----------+---------+---------+---------+---------+---------+---------+---------+---------+---------+\n",
            "|       id|rodzaj_produkcji|               tytul|czy_dla_doroslych|rok_wydania_produkcji|rok_zakonczenia_produkcji|dlugosc_produkcji_w_min|             gatunek|liczba_sezonow|liczba_wszystkich_odcinkow|         1|       10|        2|        3|        4|        5|        6|        7|        8|        9|\n",
            "+---------+----------------+--------------------+-----------------+---------------------+-------------------------+-----------------------+--------------------+--------------+--------------------------+----------+---------+---------+---------+---------+---------+---------+---------+---------+---------+\n",
            "|tt0000008|           short|Edison Kinetoscop...|                0|               1894.0|                   1894.0|                    1.0|   Documentary,Short|           1.0|                       1.0| nm0653028|     null|nm0005690|nm0374658|     null|     null|     null|     null|     null|     null|\n",
            "|tt0000015|           short| Autour d'une cabine|                0|               1894.0|                   1894.0|                    2.0|     Animation,Short|           1.0|                       1.0| nm0721526|     null|     null|     null|     null|     null|     null|     null|     null|     null|\n",
            "|tt0000108|           short|Rip Leaving Sleep...|                0|               1896.0|                   1896.0|                    1.0|         Drama,Short|           1.0|                       1.0| nm0420198|     null|nm0005690|nm0410331|nm0005658|     null|     null|     null|     null|     null|\n",
            "|tt0000174|           short|Výstavní párkar a...|                0|               1898.0|                   1898.0|                    1.0|        Comedy,Short|           1.0|                       1.0| nm0841389|     null|nm1024447|nm0471818|     null|     null|     null|     null|     null|     null|\n",
            "|tt0000242|           short|The Sign of the C...|                0|               1899.0|                   1899.0|                    3.0|Fantasy,Horror,Short|           1.0|                       1.0| nm0617588|     null|     null|     null|     null|     null|     null|     null|     null|     null|\n",
            "|tt0000264|           short|Summoning the Spi...|                0|               1899.0|                   1899.0|                    1.0|Fantasy,Horror,Short|           1.0|                       1.0| nm0617588|     null|     null|     null|     null|     null|     null|     null|     null|     null|\n",
            "|tt0000302|           short|La fée aux choux,...|                0|               1900.0|                   1900.0|                    1.0|               Short|           1.0|                       1.0| nm0349785|     null|     null|     null|     null|     null|     null|     null|     null|     null|\n",
            "|tt0000379|           short|Visita de la escu...|                0|               1901.0|                   1901.0|                    6.0|   Documentary,Short|           1.0|                       1.0| nm0005717|     null|     null|     null|     null|     null|     null|     null|     null|     null|\n",
            "|tt0000423|           short|   The Enchanted Box|                0|               1903.0|                   1903.0|                    1.0|       Fantasy,Short|           1.0|                       1.0| nm0617588|     null|     null|     null|     null|     null|     null|     null|     null|     null|\n",
            "|tt0000430|           short|     A Chess Dispute|                0|               1903.0|                   1903.0|                    1.0|        Comedy,Short|           1.0|                       1.0|nm10102653|     null|nm0666972|     null|     null|     null|     null|     null|     null|     null|\n",
            "|tt0000451|           short|  Mary Jane's Mishap|                0|               1903.0|                   1903.0|                    4.0|        Comedy,Short|           1.0|                       1.0| nm0809419|     null|nm0808310|     null|     null|     null|     null|     null|     null|     null|\n",
            "|tt0000452|           short|The Messenger Boy...|                0|               1903.0|                   1903.0|                    2.0|Comedy,Romance,Short|           1.0|                       1.0| nm0001908|     null|nm0692105|     null|     null|     null|     null|     null|     null|     null|\n",
            "|tt0000492|           short|            Personal|                0|               1904.0|                   1904.0|                    6.0|        Comedy,Short|           1.0|                       1.0| nm0567363|     null|nm0005658|     null|     null|     null|     null|     null|     null|     null|\n",
            "|tt0000497|           short|   A Railway Tragedy|                0|               1904.0|                   1904.0|                    5.0|         Crime,Short|           1.0|                       1.0|      null|     null|     null|     null|     null|     null|     null|     null|     null|     null|\n",
            "|tt0000608|           short|En ny hat til Mad...|                0|               1906.0|                   1906.0|                    6.0|        Comedy,Short|           1.0|                       1.0| nm0380965|     null|nm0488932|nm0333175|     null|     null|     null|     null|     null|     null|\n",
            "|tt0000614|           short|     The Red Spectre|                0|               1907.0|                   1907.0|                    9.0|Fantasy,Horror,Short|           1.0|                       1.0| nm0558863|     null|nm0159015|nm0954087|     null|     null|     null|     null|     null|     null|\n",
            "|tt0000621|           short|   That Fatal Sneeze|                0|               1907.0|                   1907.0|                    6.0|Comedy,Fantasy,Short|           1.0|                       1.0| nm2140812|     null|nm0693275|nm0280432|nm0378408|     null|     null|     null|     null|     null|\n",
            "|tt0000644|           short|   Behind the Scenes|                0|               1908.0|                   1908.0|                    9.0|         Drama,Short|           1.0|                       1.0| nm0492757|nm0784407|nm0250676|nm0115524|nm0311375|nm0000428|nm0555522|nm0366008|nm0409390|nm0629589|\n",
            "|tt0000658|           short|The Puppet's Nigh...|                0|               1908.0|                   1908.0|                    2.0|     Animation,Short|           1.0|                       1.0| nm0169871|     null|     null|     null|     null|     null|     null|     null|     null|     null|\n",
            "|tt0000748|           short|The Red Man and t...|                0|               1908.0|                   1908.0|                   14.0|Action,Short,Western|           1.0|                       1.0| nm0409390|     null|nm0849803|nm0038106|nm0311375|nm0000428|nm0366610|nm0005658|nm0555522|nm0813603|\n",
            "+---------+----------------+--------------------+-----------------+---------------------+-------------------------+-----------------------+--------------------+--------------+--------------------------+----------+---------+---------+---------+---------+---------+---------+---------+---------+---------+\n",
            "only showing top 20 rows\n",
            "\n"
          ]
        }
      ]
    }
  ],
  "metadata": {
    "colab": {
      "provenance": [],
      "include_colab_link": true
    },
    "kernelspec": {
      "display_name": "Python 3.10.6 ('bigdata2022_env')",
      "language": "python",
      "name": "python3"
    },
    "language_info": {
      "name": "python",
      "version": "3.10.6"
    },
    "vscode": {
      "interpreter": {
        "hash": "d3bd7558b382e9dfedbadb497b519832d5eeed5cdea53be5faf7c2ce6e68cd89"
      }
    },
    "gpuClass": "standard"
  },
  "nbformat": 4,
  "nbformat_minor": 0
}