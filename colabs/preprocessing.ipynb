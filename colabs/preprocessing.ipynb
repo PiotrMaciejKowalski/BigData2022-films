{
  "cells": [
    {
      "cell_type": "markdown",
      "metadata": {
        "id": "5Agowe5uPVKS"
      },
      "source": [
        "# Spark Setup and Data Load"
      ]
    },
    {
      "cell_type": "code",
      "execution_count": 6,
      "metadata": {
        "id": "xea8rmW1Mtc8",
        "colab": {
          "base_uri": "https://localhost:8080/"
        },
        "outputId": "a927a513-80d6-40a0-9407-2683fb5802ac"
      },
      "outputs": [
        {
          "output_type": "stream",
          "name": "stdout",
          "text": [
            "Drive already mounted at /content/drive; to attempt to forcibly remount, call drive.mount(\"/content/drive\", force_remount=True).\n"
          ]
        }
      ],
      "source": [
        "from google.colab import drive\n",
        "drive.mount('/content/drive')"
      ]
    },
    {
      "cell_type": "code",
      "execution_count": 2,
      "metadata": {
        "id": "W8My8u33PYJt",
        "colab": {
          "base_uri": "https://localhost:8080/"
        },
        "outputId": "adbd33a4-8598-4fae-a3b4-47df0a021e96"
      },
      "outputs": [
        {
          "output_type": "stream",
          "name": "stdout",
          "text": [
            "Cloning into 'BigData2022-films'...\n",
            "remote: Enumerating objects: 1189, done.\u001b[K\n",
            "remote: Counting objects: 100% (509/509), done.\u001b[K\n",
            "remote: Compressing objects: 100% (264/264), done.\u001b[K\n",
            "remote: Total 1189 (delta 353), reused 287 (delta 245), pack-reused 680\u001b[K\n",
            "Receiving objects: 100% (1189/1189), 2.72 MiB | 4.95 MiB/s, done.\n",
            "Resolving deltas: 100% (709/709), done.\n",
            "mv: cannot move 'BigData2022-films/.' to './.': Device or resource busy\n",
            "mv: cannot move 'BigData2022-films/..' to './..': Device or resource busy\n"
          ]
        }
      ],
      "source": [
        "# install Java8\n",
        "!apt-get install openjdk-8-jdk-headless -qq > /dev/null\n",
        "# download spark2.4.5\n",
        "!wget -q https://archive.apache.org/dist/spark/spark-3.2.1/spark-3.2.1-bin-hadoop3.2.tgz\n",
        "# unzip it\n",
        "!tar xf spark-3.2.1-bin-hadoop3.2.tgz\n",
        "# install findspark\n",
        "!pip install -q findspark\n",
        "# clone github repo\n",
        "!git clone https://github.com/PiotrMaciejKowalski/BigData2022-films\n",
        "# Przeniesienie plików z BigData2022-films do katalogu nadrzędnego\n",
        "!mv BigData2022-films/* .\n",
        "!mv BigData2022-films/.* .\n",
        "!rmdir BigData2022-films"
      ]
    },
    {
      "cell_type": "code",
      "execution_count": 3,
      "metadata": {
        "id": "fG3Xpjc4MvYY"
      },
      "outputs": [],
      "source": [
        "import os\n",
        "\n",
        "# setup environment variables for our Spark Session to work\n",
        "os.environ[\"JAVA_HOME\"] = \"/usr/lib/jvm/java-8-openjdk-amd64\"\n",
        "os.environ[\"SPARK_HOME\"] = '/content/spark-3.2.1-bin-hadoop3.2'\n",
        "\n",
        "from lib.pyspark_startup import init, load"
      ]
    },
    {
      "cell_type": "code",
      "execution_count": 4,
      "metadata": {
        "id": "lIJChpFeBN-U"
      },
      "outputs": [],
      "source": [
        "spark = init()"
      ]
    },
    {
      "cell_type": "code",
      "execution_count": 40,
      "metadata": {
        "id": "fOLm43gvBWNM"
      },
      "outputs": [],
      "source": [
        "# Ładowanie danych z dysku google\n",
        "path = \"/content/drive/.shortcut-targets-by-id/1VcOir9FMG8LzEsUE-Q8YA79c_sV0tJwp/bigdata2022/\"\n",
        "\n",
        "df = spark.read.parquet(path + \"clean_df.parquet\")"
      ]
    },
    {
      "cell_type": "markdown",
      "source": [
        "# Preprocessing - przyłożenie stworzonych funkcji"
      ],
      "metadata": {
        "id": "yXU7xq4qUiNk"
      }
    },
    {
      "cell_type": "code",
      "source": [
        "from pyspark.sql.types import IntegerType\n",
        "df = df.withColumn(\"czy_dla_doroslych\",df.czy_dla_doroslych.cast(IntegerType()))"
      ],
      "metadata": {
        "id": "E5Qef4Ou63lp"
      },
      "execution_count": 41,
      "outputs": []
    },
    {
      "cell_type": "code",
      "source": [
        "from lib.feature_creators import add_epoch_column\n",
        "\n",
        "df = add_epoch_column(df)"
      ],
      "metadata": {
        "id": "3I-HEm45a0wo"
      },
      "execution_count": 42,
      "outputs": []
    },
    {
      "cell_type": "code",
      "source": [
        "from lib.film_people_list import people_film_merge_columns\n",
        "\n",
        "df = people_film_merge_columns(df,df['id'], add_column = True)"
      ],
      "metadata": {
        "id": "Fd-TvW73a_9U"
      },
      "execution_count": 43,
      "outputs": []
    },
    {
      "cell_type": "code",
      "source": [
        "from lib.pyspark_preprocesing import one_hot_encoding, count_vectorizer\n",
        "\n",
        "df = one_hot_encoding(df, [\"rodzaj_produkcji\", \"epoka_rok_wydania_produkcji\"])\n",
        "df = count_vectorizer(df, \"gatunek\")"
      ],
      "metadata": {
        "id": "U_ebpfN6W4RN"
      },
      "execution_count": 44,
      "outputs": []
    },
    {
      "cell_type": "code",
      "source": [
        "from lib.scaler_columns_function import scaler_columns\n",
        "df = scaler_columns(df, [\"dlugosc_produkcji_w_min\", \"liczba_sezonow\", \"liczba_wszystkich_odcinkow\"])"
      ],
      "metadata": {
        "id": "QUhMbqpOGS18"
      },
      "execution_count": 45,
      "outputs": []
    },
    {
      "cell_type": "code",
      "source": [
        "from lib.preprocessing_function_similarity import merge_dense_vectors\n",
        "\n",
        "df = merge_dense_vectors(df, [\"czy_dla_doroslych\", \"rodzaj_produkcji_ohe\", \"epoka_rok_wydania_produkcji_ohe\", \"gatunek_vec\", \"dlugosc_produkcji_w_min_scaled\", \"liczba_sezonow_scaled\", \"liczba_wszystkich_odcinkow_scaled\"])"
      ],
      "metadata": {
        "id": "Vmrr7EzmbUxc"
      },
      "execution_count": 47,
      "outputs": []
    },
    {
      "cell_type": "markdown",
      "source": [
        "# Podział na zbiór uczący, walidacyjny i testowy"
      ],
      "metadata": {
        "id": "Vl0Y0n5XTPDx"
      }
    },
    {
      "cell_type": "code",
      "source": [
        "train, valid, test = df.randomSplit([0.70, 0.2, 0.1], seed=123)"
      ],
      "metadata": {
        "id": "9lZQjmV_TOgj"
      },
      "execution_count": null,
      "outputs": []
    },
    {
      "cell_type": "markdown",
      "metadata": {
        "id": "3naR3zhLJDPH"
      },
      "source": [
        "# Zapis na dysku"
      ]
    },
    {
      "cell_type": "code",
      "execution_count": null,
      "metadata": {
        "id": "hL93JLOGJF0Y"
      },
      "outputs": [],
      "source": [
        "train.write.mode(\"overwrite\").parquet(path + \"train_df.parquet\")\n",
        "valid.write.mode(\"overwrite\").parquet(path + \"valid_df.parquet\")\n",
        "test.write.mode(\"overwrite\").parquet(path + \"test_df.parquet\")"
      ]
    }
  ],
  "metadata": {
    "colab": {
      "provenance": []
    },
    "gpuClass": "standard",
    "kernelspec": {
      "display_name": "Python 3.10.6 ('bigdata2022_env')",
      "language": "python",
      "name": "python3"
    },
    "language_info": {
      "name": "python",
      "version": "3.10.6 | packaged by conda-forge | (main, Oct 24 2022, 16:02:16) [MSC v.1916 64 bit (AMD64)]"
    },
    "vscode": {
      "interpreter": {
        "hash": "d3bd7558b382e9dfedbadb497b519832d5eeed5cdea53be5faf7c2ce6e68cd89"
      }
    }
  },
  "nbformat": 4,
  "nbformat_minor": 0
}