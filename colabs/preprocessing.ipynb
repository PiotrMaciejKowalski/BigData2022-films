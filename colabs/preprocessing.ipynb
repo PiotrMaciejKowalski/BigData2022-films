{
  "cells": [
    {
      "cell_type": "markdown",
      "metadata": {
        "id": "view-in-github",
        "colab_type": "text"
      },
      "source": [
        "<a href=\"https://colab.research.google.com/github/PiotrMaciejKowalski/BigData2022-films/blob/Usunicie-nulli-z-danych/colabs/preprocessing.ipynb\" target=\"_parent\"><img src=\"https://colab.research.google.com/assets/colab-badge.svg\" alt=\"Open In Colab\"/></a>"
      ]
    },
    {
      "cell_type": "markdown",
      "metadata": {
        "id": "5Agowe5uPVKS"
      },
      "source": [
        "# Spark Setup and Data Load\n",
        "## (with joining tables)"
      ]
    },
    {
      "cell_type": "code",
      "source": [
        "from google.colab import drive\n",
        "drive.mount('/content/drive')"
      ],
      "metadata": {
        "id": "xea8rmW1Mtc8"
      },
      "execution_count": null,
      "outputs": []
    },
    {
      "cell_type": "code",
      "execution_count": null,
      "metadata": {
        "id": "W8My8u33PYJt"
      },
      "outputs": [],
      "source": [
        "# install Java8\n",
        "!apt-get install openjdk-8-jdk-headless -qq > /dev/null\n",
        "# download spark2.4.5\n",
        "!wget -q https://archive.apache.org/dist/spark/spark-3.2.1/spark-3.2.1-bin-hadoop3.2.tgz\n",
        "# unzip it\n",
        "!tar xf spark-3.2.1-bin-hadoop3.2.tgz\n",
        "# install findspark\n",
        "!pip install -q findspark\n",
        "# clone github repo\n",
        "!git clone https://github.com/PiotrMaciejKowalski/BigData2022-films\n",
        "# Przeniesienie plików z BigData2022-films do katalogu nadrzędnego\n",
        "!mv BigData2022-films/* .\n",
        "!mv BigData2022-films/.* .\n",
        "!rmdir BigData2022-films"
      ]
    },
    {
      "cell_type": "code",
      "execution_count": 5,
      "metadata": {
        "id": "fG3Xpjc4MvYY"
      },
      "outputs": [],
      "source": [
        "import os\n",
        "\n",
        "# setup environment variables for our Spark Session to work\n",
        "os.environ[\"JAVA_HOME\"] = \"/usr/lib/jvm/java-8-openjdk-amd64\"\n",
        "os.environ[\"SPARK_HOME\"] = '/content/spark-3.2.1-bin-hadoop3.2'\n",
        "\n",
        "from lib.pyspark_startup import init, load"
      ]
    },
    {
      "cell_type": "code",
      "source": [
        "spark = init()"
      ],
      "metadata": {
        "id": "lIJChpFeBN-U"
      },
      "execution_count": 6,
      "outputs": []
    },
    {
      "cell_type": "code",
      "source": [
        "# Ładowanie danych z dysku google\n",
        "df = load(spark = spark,\n",
        "          path = \"/content/drive/.shortcut-targets-by-id/1VcOir9FMG8LzEsUE-Q8YA79c_sV0tJwp/bigdata2022/\")"
      ],
      "metadata": {
        "id": "fOLm43gvBWNM"
      },
      "execution_count": 7,
      "outputs": []
    },
    {
      "cell_type": "markdown",
      "source": [
        "# Preprocessing"
      ],
      "metadata": {
        "id": "1ikYahXOI5br"
      }
    },
    {
      "cell_type": "markdown",
      "source": [
        "## Odfiltorwanie odcinków"
      ],
      "metadata": {
        "id": "YwtuyqnrXhj5"
      }
    },
    {
      "cell_type": "code",
      "source": [
        "title_episode = spark.read.csv(\n",
        "    \"/content/drive/.shortcut-targets-by-id/1VcOir9FMG8LzEsUE-Q8YA79c_sV0tJwp/bigdata2022/title.episode.tsv.gz\",\n",
        "    sep=\"\\t\",\n",
        "    header=True,\n",
        ")"
      ],
      "metadata": {
        "id": "ePixRIUMXgp0"
      },
      "execution_count": 8,
      "outputs": []
    },
    {
      "cell_type": "code",
      "source": [
        "df = df.join(title_episode,df.id==title_episode.tconst,\"leftanti\")"
      ],
      "metadata": {
        "id": "mElBks_wqR-H"
      },
      "execution_count": 9,
      "outputs": []
    },
    {
      "cell_type": "markdown",
      "source": [
        "## Konwersja"
      ],
      "metadata": {
        "id": "_WNjSTSoVGEw"
      }
    },
    {
      "cell_type": "code",
      "source": [
        "from pyspark.sql.functions import col\n",
        "\n",
        "cols = [\"dlugosc_produkcji_w_min\", \"rok_wydania_produkcji\", \"rok_zakonczenia_produkcji\"]\n",
        "for c in cols:\n",
        "    df = df.withColumn(c, col(c).cast(\"float\").alias(c))"
      ],
      "metadata": {
        "id": "siPvKQtOJEPm"
      },
      "execution_count": 10,
      "outputs": []
    },
    {
      "cell_type": "markdown",
      "source": [
        "## Uzupełnienie wartości dla filmów"
      ],
      "metadata": {
        "id": "i_7SqK5ximjS"
      }
    },
    {
      "cell_type": "code",
      "source": [
        "from pyspark.sql.functions import when\n",
        "\n",
        "for col in [\"liczba_sezonow\", \"liczba_wszystkich_odcinkow\"]:\n",
        "    df = df.withColumn(\n",
        "        col,\n",
        "        when(\n",
        "            df[\"rodzaj_produkcji\"].isin(\n",
        "                [\n",
        "                    \"short\",\n",
        "                    \"movie\",\n",
        "                    \"video\",\n",
        "                    \"tvMovie\",\n",
        "                    \"tvMiniSeries\",\n",
        "                    \"tvSpecial\",\n",
        "                    \"tvShort\",\n",
        "                ]\n",
        "            ),\n",
        "            1.0,\n",
        "        ).otherwise(df[col]),\n",
        "    )"
      ],
      "metadata": {
        "id": "To-5270KVSFh"
      },
      "execution_count": 11,
      "outputs": []
    },
    {
      "cell_type": "code",
      "source": [
        "df = df.withColumn(\n",
        "    \"rok_zakonczenia_produkcji\",\n",
        "    when(\n",
        "        df[\"rodzaj_produkcji\"].isin(\n",
        "            [\n",
        "                \"short\",\n",
        "                \"movie\",\n",
        "                \"video\",\n",
        "                \"tvMovie\",\n",
        "                \"tvMiniSeries\",\n",
        "                \"tvSpecial\",\n",
        "                \"tvShort\",\n",
        "            ]\n",
        "        ),\n",
        "        df[\"rok_wydania_produkcji\"],\n",
        "    ).otherwise(df[\"rok_zakonczenia_produkcji\"]),\n",
        ")"
      ],
      "metadata": {
        "id": "fos4mrQrlPwE"
      },
      "execution_count": 12,
      "outputs": []
    },
    {
      "cell_type": "markdown",
      "source": [
        "## Usuniecie nulli"
      ],
      "metadata": {
        "id": "7pGjPhaQmSNa"
      }
    },
    {
      "cell_type": "code",
      "source": [
        "df = df.dropna(subset = df.columns[0:10])"
      ],
      "metadata": {
        "id": "y9Z6xu8fmYR1"
      },
      "execution_count": 13,
      "outputs": []
    },
    {
      "cell_type": "markdown",
      "source": [
        "## Odfiltrowanie niechcianych rodzajów produkcji"
      ],
      "metadata": {
        "id": "uL-gfQ5RYQtf"
      }
    },
    {
      "cell_type": "code",
      "source": [
        "df = df.filter(\n",
        "    (df.rodzaj_produkcji != \"videoGame\")\n",
        "    & (df.rodzaj_produkcji != \"tvEpisode\")\n",
        "    & (df.rodzaj_produkcji != \"tvPilot\")\n",
        ")"
      ],
      "metadata": {
        "id": "ot7o-cQTYVKy"
      },
      "execution_count": 14,
      "outputs": []
    },
    {
      "cell_type": "markdown",
      "source": [
        "## Usunięcie produkcji z błędnymi typami\n"
      ],
      "metadata": {
        "id": "AKePscaPj-RS"
      }
    },
    {
      "cell_type": "code",
      "source": [
        "wrong_titleType = ['tt19885910', 'tt0306736','tt13275514','tt7122856','tt12590968','tt15115302']"
      ],
      "metadata": {
        "id": "lscLaYoOkCG4"
      },
      "execution_count": 15,
      "outputs": []
    },
    {
      "cell_type": "code",
      "source": [
        "df = df.filter(~df['id'].isin(wrong_titleType))"
      ],
      "metadata": {
        "id": "CgdXET1I0nJU"
      },
      "execution_count": 16,
      "outputs": []
    }
  ],
  "metadata": {
    "colab": {
      "provenance": [],
      "include_colab_link": true
    },
    "kernelspec": {
      "display_name": "Python 3.10.6 ('bigdata2022_env')",
      "language": "python",
      "name": "python3"
    },
    "language_info": {
      "name": "python",
      "version": "3.10.6"
    },
    "vscode": {
      "interpreter": {
        "hash": "d3bd7558b382e9dfedbadb497b519832d5eeed5cdea53be5faf7c2ce6e68cd89"
      }
    },
    "gpuClass": "standard"
  },
  "nbformat": 4,
  "nbformat_minor": 0
}