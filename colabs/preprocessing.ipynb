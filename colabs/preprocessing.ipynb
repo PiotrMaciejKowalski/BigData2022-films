{
  "cells": [
    {
      "cell_type": "markdown",
      "metadata": {
        "id": "5Agowe5uPVKS"
      },
      "source": [
        "# Spark Setup and Data Load"
      ]
    },
    {
      "cell_type": "code",
      "execution_count": 8,
      "metadata": {
        "id": "xea8rmW1Mtc8",
        "colab": {
          "base_uri": "https://localhost:8080/"
        },
        "outputId": "54c37e43-1dcc-4c67-ec3b-2877a4925c93"
      },
      "outputs": [
        {
          "output_type": "stream",
          "name": "stdout",
          "text": [
            "Drive already mounted at /content/drive; to attempt to forcibly remount, call drive.mount(\"/content/drive\", force_remount=True).\n"
          ]
        }
      ],
      "source": [
        "from google.colab import drive\n",
        "drive.mount('/content/drive')"
      ]
    },
    {
      "cell_type": "code",
      "execution_count": 9,
      "metadata": {
        "id": "W8My8u33PYJt",
        "colab": {
          "base_uri": "https://localhost:8080/"
        },
        "outputId": "ace52de7-31df-4777-b2cc-d990bf8e1615"
      },
      "outputs": [
        {
          "output_type": "stream",
          "name": "stdout",
          "text": [
            "Cloning into 'BigData2022-films'...\n",
            "remote: Enumerating objects: 800, done.\u001b[K\n",
            "remote: Counting objects: 100% (415/415), done.\u001b[K\n",
            "remote: Compressing objects: 100% (235/235), done.\u001b[K\n",
            "remote: Total 800 (delta 270), reused 244 (delta 179), pack-reused 385\u001b[K\n",
            "Receiving objects: 100% (800/800), 2.91 MiB | 13.65 MiB/s, done.\n",
            "Resolving deltas: 100% (446/446), done.\n",
            "mv: cannot move 'BigData2022-films/colabs' to './colabs': Directory not empty\n",
            "mv: cannot move 'BigData2022-films/docs' to './docs': Directory not empty\n",
            "mv: cannot move 'BigData2022-films/lib' to './lib': Directory not empty\n",
            "mv: cannot move 'BigData2022-films/notebooks' to './notebooks': Directory not empty\n",
            "mv: cannot move 'BigData2022-films/reports' to './reports': Directory not empty\n",
            "mv: cannot move 'BigData2022-films/stripped' to './stripped': Directory not empty\n",
            "mv: cannot move 'BigData2022-films/tests' to './tests': Directory not empty\n",
            "mv: cannot move 'BigData2022-films/tutorials' to './tutorials': Directory not empty\n",
            "mv: cannot move 'BigData2022-films/.' to './.': Device or resource busy\n",
            "mv: cannot move 'BigData2022-films/..' to './..': Device or resource busy\n",
            "mv: cannot move 'BigData2022-films/.git' to './.git': Directory not empty\n",
            "rmdir: failed to remove 'BigData2022-films': Directory not empty\n"
          ]
        }
      ],
      "source": [
        "# install Java8\n",
        "!apt-get install openjdk-8-jdk-headless -qq > /dev/null\n",
        "# download spark2.4.5\n",
        "!wget -q https://archive.apache.org/dist/spark/spark-3.2.1/spark-3.2.1-bin-hadoop3.2.tgz\n",
        "# unzip it\n",
        "!tar xf spark-3.2.1-bin-hadoop3.2.tgz\n",
        "# install findspark\n",
        "!pip install -q findspark\n",
        "# clone github repo\n",
        "!git clone https://github.com/PiotrMaciejKowalski/BigData2022-films\n",
        "# Przeniesienie plików z BigData2022-films do katalogu nadrzędnego\n",
        "!mv BigData2022-films/* .\n",
        "!mv BigData2022-films/.* .\n",
        "!rmdir BigData2022-films"
      ]
    },
    {
      "cell_type": "code",
      "execution_count": 10,
      "metadata": {
        "id": "fG3Xpjc4MvYY"
      },
      "outputs": [],
      "source": [
        "import os\n",
        "\n",
        "# setup environment variables for our Spark Session to work\n",
        "os.environ[\"JAVA_HOME\"] = \"/usr/lib/jvm/java-8-openjdk-amd64\"\n",
        "os.environ[\"SPARK_HOME\"] = '/content/spark-3.2.1-bin-hadoop3.2'\n",
        "\n",
        "from lib.pyspark_startup import init, load"
      ]
    },
    {
      "cell_type": "code",
      "execution_count": 11,
      "metadata": {
        "id": "lIJChpFeBN-U"
      },
      "outputs": [],
      "source": [
        "spark = init()"
      ]
    },
    {
      "cell_type": "code",
      "execution_count": 12,
      "metadata": {
        "id": "fOLm43gvBWNM"
      },
      "outputs": [],
      "source": [
        "# Ładowanie danych z dysku google\n",
        "path = \"/content/drive/.shortcut-targets-by-id/1VcOir9FMG8LzEsUE-Q8YA79c_sV0tJwp/bigdata2022/\"\n",
        "\n",
        "df = spark.read.parquet(path + \"clean_df.parquet\")"
      ]
    },
    {
      "cell_type": "markdown",
      "source": [
        "# Preprocessing - przyłożenie stworzonych funkcji"
      ],
      "metadata": {
        "id": "yXU7xq4qUiNk"
      }
    },
    {
      "cell_type": "code",
      "source": [
        "from lib.pyspark_preprocesing import one_hot_encoding\n",
        "\n",
        "df = one_hot_encoding(df, [\"rodzaj_produkcji\",\"gatunek\"])"
      ],
      "metadata": {
        "id": "3I-HEm45a0wo"
      },
      "execution_count": 14,
      "outputs": []
    },
    {
      "cell_type": "code",
      "source": [
        "from lib.feature_creators import add_epoch_column\n",
        "\n",
        "df = add_epoch_column(df)"
      ],
      "metadata": {
        "id": "Fd-TvW73a_9U"
      },
      "execution_count": 16,
      "outputs": []
    },
    {
      "cell_type": "code",
      "source": [
        "df.show()"
      ],
      "metadata": {
        "id": "g8M_NK7xbCzQ",
        "outputId": "d3aada20-c5ed-4eb7-b5f0-274d5a0a7476",
        "colab": {
          "base_uri": "https://localhost:8080/"
        }
      },
      "execution_count": 17,
      "outputs": [
        {
          "output_type": "stream",
          "name": "stdout",
          "text": [
            "+---------+--------------------+-----------------+---------------------+-------------------------+-----------------------+--------------+--------------------------+---------+----+---------+---------+---------+---------+----+----+----+----+--------------------+------------------+-----+\n",
            "|       id|               tytul|czy_dla_doroslych|rok_wydania_produkcji|rok_zakonczenia_produkcji|dlugosc_produkcji_w_min|liczba_sezonow|liczba_wszystkich_odcinkow|        1|  10|        2|        3|        4|        5|   6|   7|   8|   9|rodzaj_produkcji_ohe|       gatunek_ohe|epoka|\n",
            "+---------+--------------------+-----------------+---------------------+-------------------------+-----------------------+--------------+--------------------------+---------+----+---------+---------+---------+---------+----+----+----+----+--------------------+------------------+-----+\n",
            "|tt0000001|          Carmencita|                0|                 1894|                     1894|                      1|           1.0|                       1.0|nm1588970|null|nm0005690|nm0374658|     null|     null|null|null|null|null|       (7,[0],[1.0])|  (1886,[4],[1.0])|    1|\n",
            "|tt0000003|      Pauvre Pierrot|                0|                 1892|                     1892|                      4|           1.0|                       1.0|nm0721526|null|nm1770680|nm1335271|nm5442200|     null|null|null|null|null|       (7,[0],[1.0])|(1886,[302],[1.0])|    1|\n",
            "|tt0000005|    Blacksmith Scene|                0|                 1893|                     1893|                      1|           1.0|                       1.0|nm0443482|null|nm0653042|nm0005690|nm0249379|     null|null|null|null|null|       (7,[0],[1.0])|  (1886,[5],[1.0])|    1|\n",
            "|tt0000006|   Chinese Opium Den|                0|                 1894|                     1894|                      1|           1.0|                       1.0|nm0005690|null|     null|     null|     null|     null|null|null|null|null|       (7,[0],[1.0])|  (1886,[1],[1.0])|    1|\n",
            "|tt0000007|Corbett and Court...|                0|                 1894|                     1894|                      1|           1.0|                       1.0|nm0179163|null|nm0183947|nm0005690|nm0374658|nm0249379|null|null|null|null|       (7,[0],[1.0])|(1886,[101],[1.0])|    1|\n",
            "|tt0000009|          Miss Jerry|                0|                 1894|                     1894|                     45|           1.0|                       1.0|nm0063086|null|nm0183823|nm1309758|nm0085156|     null|null|null|null|null|       (7,[1],[1.0])| (1886,[33],[1.0])|    1|\n",
            "|tt0000016|Boat Leaving the ...|                0|                 1895|                     1895|                      1|           1.0|                       1.0|nm0525900|null|nm9735581|nm0525910|     null|     null|null|null|null|null|       (7,[0],[1.0])|  (1886,[4],[1.0])|    1|\n",
            "|tt0000018|Das boxende Känguruh|                0|                 1895|                     1895|                      1|           1.0|                       1.0|nm3692071|null|nm0804434|     null|     null|     null|null|null|null|null|       (7,[0],[1.0])|  (1886,[1],[1.0])|    1|\n",
            "|tt0000031| Jumping the Blanket|                0|                 1895|                     1895|                      1|           1.0|                       1.0|nm0525910|null|     null|     null|     null|     null|null|null|null|null|       (7,[0],[1.0])|  (1886,[4],[1.0])|    1|\n",
            "|tt0000034|Arrivée d'un trai...|                0|                 1896|                     1896|                      1|           1.0|                       1.0|nm0617588|null|     null|     null|     null|     null|null|null|null|null|       (7,[0],[1.0])|  (1886,[4],[1.0])|    1|\n",
            "|tt0000078|Feira de Gado na ...|                0|                 1896|                     1896|                      1|           1.0|                       1.0|nm0234288|null|     null|     null|     null|     null|null|null|null|null|       (7,[0],[1.0])|  (1886,[4],[1.0])|    1|\n",
            "|tt0000110|Rip Passing Over ...|                0|                 1896|                     1896|                      1|           1.0|                       1.0|nm0420198|null|nm0005690|nm0410331|nm0005658|     null|null|null|null|null|       (7,[0],[1.0])| (1886,[24],[1.0])|    1|\n",
            "|tt0000138|   The Bewitched Inn|                0|                 1897|                     1897|                      2|           1.0|                       1.0|nm0617588|null|     null|     null|     null|     null|null|null|null|null|       (7,[0],[1.0])| (1886,[44],[1.0])|    1|\n",
            "|tt0000140|Baignade dans le ...|                0|                 1897|                     1897|                      1|           1.0|                       1.0|nm0349785|null|     null|     null|     null|     null|null|null|null|null|       (7,[0],[1.0])|  (1886,[1],[1.0])|    1|\n",
            "|tt0000143|    Les cambrioleurs|                0|                 1897|                     1897|                      1|           1.0|                       1.0|nm0349785|null|     null|     null|     null|     null|null|null|null|null|       (7,[0],[1.0])|  (1886,[5],[1.0])|    1|\n",
            "|tt0000144| Chez le magnétiseur|                0|                 1897|                     1897|                      1|           1.0|                       1.0|nm0349785|null|     null|     null|     null|     null|null|null|null|null|       (7,[0],[1.0])|  (1886,[5],[1.0])|    1|\n",
            "|tt0000152|The Hallucinated ...|                0|                 1897|                     1897|                      2|           1.0|                       1.0|nm0617588|null|     null|     null|     null|     null|null|null|null|null|       (7,[0],[1.0])|(1886,[172],[1.0])|    1|\n",
            "|tt0000162|       Niagara Falls|                0|                 1897|                     1897|                      1|           1.0|                       1.0|nm0698645|null|nm0525908|nm0525910|     null|     null|null|null|null|null|       (7,[0],[1.0])|  (1886,[4],[1.0])|    1|\n",
            "|tt0000166|Salida de los tra...|                0|                 1897|                     1897|                      1|           1.0|                       1.0|nm0005717|null|     null|     null|     null|     null|null|null|null|null|       (7,[0],[1.0])|  (1886,[4],[1.0])|    1|\n",
            "|tt0000168|Salida del públic...|                0|                 1897|                     1897|                      1|           1.0|                       1.0|nm0005717|null|     null|     null|     null|     null|null|null|null|null|       (7,[0],[1.0])|  (1886,[4],[1.0])|    1|\n",
            "+---------+--------------------+-----------------+---------------------+-------------------------+-----------------------+--------------+--------------------------+---------+----+---------+---------+---------+---------+----+----+----+----+--------------------+------------------+-----+\n",
            "only showing top 20 rows\n",
            "\n"
          ]
        }
      ]
    },
    {
      "cell_type": "markdown",
      "source": [
        "# Podział na zbiór uczący, walidacyjny i testowy"
      ],
      "metadata": {
        "id": "Vl0Y0n5XTPDx"
      }
    },
    {
      "cell_type": "code",
      "source": [
        "train, valid, test = df.randomSplit([0.70, 0.2, 0.1], seed=123)"
      ],
      "metadata": {
        "id": "9lZQjmV_TOgj"
      },
      "execution_count": null,
      "outputs": []
    },
    {
      "cell_type": "markdown",
      "metadata": {
        "id": "3naR3zhLJDPH"
      },
      "source": [
        "# Zapis na dysku"
      ]
    },
    {
      "cell_type": "code",
      "execution_count": null,
      "metadata": {
        "id": "hL93JLOGJF0Y"
      },
      "outputs": [],
      "source": [
        "train.write.mode(\"overwrite\").parquet(path + \"train_df.parquet\")\n",
        "valid.write.mode(\"overwrite\").parquet(path + \"valid_df.parquet\")\n",
        "test.write.mode(\"overwrite\").parquet(path + \"test_df.parquet\")"
      ]
    }
  ],
  "metadata": {
    "colab": {
      "provenance": []
    },
    "gpuClass": "standard",
    "kernelspec": {
      "display_name": "Python 3.10.6 ('bigdata2022_env')",
      "language": "python",
      "name": "python3"
    },
    "language_info": {
      "name": "python",
      "version": "3.10.6 | packaged by conda-forge | (main, Oct 24 2022, 16:02:16) [MSC v.1916 64 bit (AMD64)]"
    },
    "vscode": {
      "interpreter": {
        "hash": "d3bd7558b382e9dfedbadb497b519832d5eeed5cdea53be5faf7c2ce6e68cd89"
      }
    }
  },
  "nbformat": 4,
  "nbformat_minor": 0
}