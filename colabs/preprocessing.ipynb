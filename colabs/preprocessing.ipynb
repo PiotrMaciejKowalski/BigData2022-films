{
  "cells": [
    {
      "cell_type": "markdown",
      "metadata": {
        "id": "5Agowe5uPVKS"
      },
      "source": [
        "# Spark Setup and Data Load"
      ]
    },
    {
      "cell_type": "code",
      "execution_count": 1,
      "metadata": {
        "id": "xea8rmW1Mtc8",
        "colab": {
          "base_uri": "https://localhost:8080/"
        },
        "outputId": "0a7f8cb9-e1fc-4392-f6a9-a4a2b5eb0e63"
      },
      "outputs": [
        {
          "output_type": "stream",
          "name": "stdout",
          "text": [
            "Mounted at /content/drive\n"
          ]
        }
      ],
      "source": [
        "from google.colab import drive\n",
        "drive.mount('/content/drive')"
      ]
    },
    {
      "cell_type": "code",
      "execution_count": 2,
      "metadata": {
        "id": "W8My8u33PYJt",
        "colab": {
          "base_uri": "https://localhost:8080/"
        },
        "outputId": "9ae83963-7a98-4a72-de0c-9fbfdf3ff283"
      },
      "outputs": [
        {
          "output_type": "stream",
          "name": "stdout",
          "text": [
            "Cloning into 'BigData2022-films'...\n",
            "remote: Enumerating objects: 812, done.\u001b[K\n",
            "remote: Counting objects: 100% (424/424), done.\u001b[K\n",
            "remote: Compressing objects: 100% (244/244), done.\u001b[K\n",
            "remote: Total 812 (delta 274), reused 246 (delta 179), pack-reused 388\u001b[K\n",
            "Receiving objects: 100% (812/812), 2.91 MiB | 7.57 MiB/s, done.\n",
            "Resolving deltas: 100% (453/453), done.\n",
            "mv: cannot move 'BigData2022-films/.' to './.': Device or resource busy\n",
            "mv: cannot move 'BigData2022-films/..' to './..': Device or resource busy\n"
          ]
        }
      ],
      "source": [
        "# install Java8\n",
        "!apt-get install openjdk-8-jdk-headless -qq > /dev/null\n",
        "# download spark2.4.5\n",
        "!wget -q https://archive.apache.org/dist/spark/spark-3.2.1/spark-3.2.1-bin-hadoop3.2.tgz\n",
        "# unzip it\n",
        "!tar xf spark-3.2.1-bin-hadoop3.2.tgz\n",
        "# install findspark\n",
        "!pip install -q findspark\n",
        "# clone github repo\n",
        "!git clone https://github.com/PiotrMaciejKowalski/BigData2022-films\n",
        "# Przeniesienie plików z BigData2022-films do katalogu nadrzędnego\n",
        "!mv BigData2022-films/* .\n",
        "!mv BigData2022-films/.* .\n",
        "!rmdir BigData2022-films"
      ]
    },
    {
      "cell_type": "code",
      "execution_count": 3,
      "metadata": {
        "id": "fG3Xpjc4MvYY"
      },
      "outputs": [],
      "source": [
        "import os\n",
        "\n",
        "# setup environment variables for our Spark Session to work\n",
        "os.environ[\"JAVA_HOME\"] = \"/usr/lib/jvm/java-8-openjdk-amd64\"\n",
        "os.environ[\"SPARK_HOME\"] = '/content/spark-3.2.1-bin-hadoop3.2'\n",
        "\n",
        "from lib.pyspark_startup import init, load"
      ]
    },
    {
      "cell_type": "code",
      "execution_count": 4,
      "metadata": {
        "id": "lIJChpFeBN-U"
      },
      "outputs": [],
      "source": [
        "spark = init()"
      ]
    },
    {
      "cell_type": "code",
      "execution_count": 31,
      "metadata": {
        "id": "fOLm43gvBWNM"
      },
      "outputs": [],
      "source": [
        "# Ładowanie danych z dysku google\n",
        "path = \"/content/drive/.shortcut-targets-by-id/1VcOir9FMG8LzEsUE-Q8YA79c_sV0tJwp/bigdata2022/\"\n",
        "\n",
        "df = spark.read.parquet(path + \"clean_df.parquet\")"
      ]
    },
    {
      "cell_type": "markdown",
      "source": [
        "# Preprocessing - przyłożenie stworzonych funkcji"
      ],
      "metadata": {
        "id": "yXU7xq4qUiNk"
      }
    },
    {
      "cell_type": "code",
      "source": [
        "from lib.pyspark_preprocesing import one_hot_encoding\n",
        "\n",
        "df = one_hot_encoding(df, [\"rodzaj_produkcji\",\"gatunek\"])"
      ],
      "metadata": {
        "id": "3I-HEm45a0wo"
      },
      "execution_count": 32,
      "outputs": []
    },
    {
      "cell_type": "code",
      "source": [
        "from lib.feature_creators import add_epoch_column\n",
        "\n",
        "df = add_epoch_column(df)"
      ],
      "metadata": {
        "id": "Fd-TvW73a_9U"
      },
      "execution_count": 33,
      "outputs": []
    },
    {
      "cell_type": "code",
      "source": [
        "from lib.film_people_list import people_film_merge_columns\n",
        "\n",
        "dataCollect = df.collect()\n",
        "df = people_film_merge_columns(df,df['id'], add_column = True)"
      ],
      "metadata": {
        "id": "U_ebpfN6W4RN"
      },
      "execution_count": 34,
      "outputs": []
    },
    {
      "cell_type": "code",
      "source": [
        "df.show()"
      ],
      "metadata": {
        "id": "JG30ezeEdqeV",
        "outputId": "04fb1435-19b8-44b6-d253-2e39bced3a0b",
        "colab": {
          "base_uri": "https://localhost:8080/"
        }
      },
      "execution_count": 35,
      "outputs": [
        {
          "output_type": "stream",
          "name": "stdout",
          "text": [
            "+---------+--------------------+-----------------+---------------------+-------------------------+-----------------------+--------------+--------------------------+--------------------+------------------+-----+--------------------+\n",
            "|       id|               tytul|czy_dla_doroslych|rok_wydania_produkcji|rok_zakonczenia_produkcji|dlugosc_produkcji_w_min|liczba_sezonow|liczba_wszystkich_odcinkow|rodzaj_produkcji_ohe|       gatunek_ohe|epoka|        ludzie_filmu|\n",
            "+---------+--------------------+-----------------+---------------------+-------------------------+-----------------------+--------------+--------------------------+--------------------+------------------+-----+--------------------+\n",
            "|tt0000001|          Carmencita|                0|                 1894|                     1894|                      1|           1.0|                       1.0|       (7,[0],[1.0])|  (1886,[4],[1.0])|    1|[nm1588970, nm000...|\n",
            "|tt0000003|      Pauvre Pierrot|                0|                 1892|                     1892|                      4|           1.0|                       1.0|       (7,[0],[1.0])|(1886,[302],[1.0])|    1|[nm0721526, nm177...|\n",
            "|tt0000005|    Blacksmith Scene|                0|                 1893|                     1893|                      1|           1.0|                       1.0|       (7,[0],[1.0])|  (1886,[5],[1.0])|    1|[nm0443482, nm065...|\n",
            "|tt0000006|   Chinese Opium Den|                0|                 1894|                     1894|                      1|           1.0|                       1.0|       (7,[0],[1.0])|  (1886,[1],[1.0])|    1|[nm0005690, null,...|\n",
            "|tt0000007|Corbett and Court...|                0|                 1894|                     1894|                      1|           1.0|                       1.0|       (7,[0],[1.0])|(1886,[101],[1.0])|    1|[nm0179163, nm018...|\n",
            "|tt0000009|          Miss Jerry|                0|                 1894|                     1894|                     45|           1.0|                       1.0|       (7,[1],[1.0])| (1886,[33],[1.0])|    1|[nm0063086, nm018...|\n",
            "|tt0000016|Boat Leaving the ...|                0|                 1895|                     1895|                      1|           1.0|                       1.0|       (7,[0],[1.0])|  (1886,[4],[1.0])|    1|[nm0525900, nm973...|\n",
            "|tt0000018|Das boxende Känguruh|                0|                 1895|                     1895|                      1|           1.0|                       1.0|       (7,[0],[1.0])|  (1886,[1],[1.0])|    1|[nm3692071, nm080...|\n",
            "|tt0000031| Jumping the Blanket|                0|                 1895|                     1895|                      1|           1.0|                       1.0|       (7,[0],[1.0])|  (1886,[4],[1.0])|    1|[nm0525910, null,...|\n",
            "|tt0000034|Arrivée d'un trai...|                0|                 1896|                     1896|                      1|           1.0|                       1.0|       (7,[0],[1.0])|  (1886,[4],[1.0])|    1|[nm0617588, null,...|\n",
            "|tt0000078|Feira de Gado na ...|                0|                 1896|                     1896|                      1|           1.0|                       1.0|       (7,[0],[1.0])|  (1886,[4],[1.0])|    1|[nm0234288, null,...|\n",
            "|tt0000110|Rip Passing Over ...|                0|                 1896|                     1896|                      1|           1.0|                       1.0|       (7,[0],[1.0])| (1886,[24],[1.0])|    1|[nm0420198, nm000...|\n",
            "|tt0000138|   The Bewitched Inn|                0|                 1897|                     1897|                      2|           1.0|                       1.0|       (7,[0],[1.0])| (1886,[44],[1.0])|    1|[nm0617588, null,...|\n",
            "|tt0000140|Baignade dans le ...|                0|                 1897|                     1897|                      1|           1.0|                       1.0|       (7,[0],[1.0])|  (1886,[1],[1.0])|    1|[nm0349785, null,...|\n",
            "|tt0000143|    Les cambrioleurs|                0|                 1897|                     1897|                      1|           1.0|                       1.0|       (7,[0],[1.0])|  (1886,[5],[1.0])|    1|[nm0349785, null,...|\n",
            "|tt0000144| Chez le magnétiseur|                0|                 1897|                     1897|                      1|           1.0|                       1.0|       (7,[0],[1.0])|  (1886,[5],[1.0])|    1|[nm0349785, null,...|\n",
            "|tt0000152|The Hallucinated ...|                0|                 1897|                     1897|                      2|           1.0|                       1.0|       (7,[0],[1.0])|(1886,[172],[1.0])|    1|[nm0617588, null,...|\n",
            "|tt0000162|       Niagara Falls|                0|                 1897|                     1897|                      1|           1.0|                       1.0|       (7,[0],[1.0])|  (1886,[4],[1.0])|    1|[nm0698645, nm052...|\n",
            "|tt0000166|Salida de los tra...|                0|                 1897|                     1897|                      1|           1.0|                       1.0|       (7,[0],[1.0])|  (1886,[4],[1.0])|    1|[nm0005717, null,...|\n",
            "|tt0000168|Salida del públic...|                0|                 1897|                     1897|                      1|           1.0|                       1.0|       (7,[0],[1.0])|  (1886,[4],[1.0])|    1|[nm0005717, null,...|\n",
            "+---------+--------------------+-----------------+---------------------+-------------------------+-----------------------+--------------+--------------------------+--------------------+------------------+-----+--------------------+\n",
            "only showing top 20 rows\n",
            "\n"
          ]
        }
      ]
    },
    {
      "cell_type": "markdown",
      "source": [
        "# Podział na zbiór uczący, walidacyjny i testowy"
      ],
      "metadata": {
        "id": "Vl0Y0n5XTPDx"
      }
    },
    {
      "cell_type": "code",
      "source": [
        "train, valid, test = df.randomSplit([0.70, 0.2, 0.1], seed=123)"
      ],
      "metadata": {
        "id": "9lZQjmV_TOgj"
      },
      "execution_count": null,
      "outputs": []
    },
    {
      "cell_type": "markdown",
      "metadata": {
        "id": "3naR3zhLJDPH"
      },
      "source": [
        "# Zapis na dysku"
      ]
    },
    {
      "cell_type": "code",
      "execution_count": null,
      "metadata": {
        "id": "hL93JLOGJF0Y"
      },
      "outputs": [],
      "source": [
        "train.write.mode(\"overwrite\").parquet(path + \"train_df.parquet\")\n",
        "valid.write.mode(\"overwrite\").parquet(path + \"valid_df.parquet\")\n",
        "test.write.mode(\"overwrite\").parquet(path + \"test_df.parquet\")"
      ]
    }
  ],
  "metadata": {
    "colab": {
      "provenance": []
    },
    "gpuClass": "standard",
    "kernelspec": {
      "display_name": "Python 3.10.6 ('bigdata2022_env')",
      "language": "python",
      "name": "python3"
    },
    "language_info": {
      "name": "python",
      "version": "3.10.6 | packaged by conda-forge | (main, Oct 24 2022, 16:02:16) [MSC v.1916 64 bit (AMD64)]"
    },
    "vscode": {
      "interpreter": {
        "hash": "d3bd7558b382e9dfedbadb497b519832d5eeed5cdea53be5faf7c2ce6e68cd89"
      }
    }
  },
  "nbformat": 4,
  "nbformat_minor": 0
}