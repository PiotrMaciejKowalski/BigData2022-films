{
  "cells": [
    {
      "cell_type": "markdown",
      "metadata": {
        "id": "view-in-github",
        "colab_type": "text"
      },
      "source": [
        "<a href=\"https://colab.research.google.com/github/PiotrMaciejKowalski/BigData2022-films/blob/analiza_b%C5%82%C4%99d%C3%B3w/colabs/Demo.ipynb\" target=\"_parent\"><img src=\"https://colab.research.google.com/assets/colab-badge.svg\" alt=\"Open In Colab\"/></a>"
      ]
    },
    {
      "cell_type": "markdown",
      "source": [
        "## Wczytywanie danych i instalacje początkowe"
      ],
      "metadata": {
        "id": "sKbK9JhhKDUN"
      }
    },
    {
      "cell_type": "code",
      "execution_count": 1,
      "metadata": {
        "id": "ezAXyedTV7xb",
        "colab": {
          "base_uri": "https://localhost:8080/"
        },
        "outputId": "d0d7089a-c276-4fde-a806-bafbea72bf30"
      },
      "outputs": [
        {
          "output_type": "stream",
          "name": "stdout",
          "text": [
            "Mounted at /content/drive\n"
          ]
        }
      ],
      "source": [
        "from google.colab import drive\n",
        "drive.mount('/content/drive')"
      ]
    },
    {
      "cell_type": "code",
      "execution_count": 2,
      "metadata": {
        "id": "wRKDu1B7V9K_",
        "colab": {
          "base_uri": "https://localhost:8080/"
        },
        "outputId": "9f70174a-06eb-472a-d8ea-35628bd434c3"
      },
      "outputs": [
        {
          "output_type": "stream",
          "name": "stdout",
          "text": [
            "Cloning into 'BigData2022-films'...\n",
            "remote: Enumerating objects: 1321, done.\u001b[K\n",
            "remote: Counting objects: 100% (26/26), done.\u001b[K\n",
            "remote: Compressing objects: 100% (22/22), done.\u001b[K\n",
            "remote: Total 1321 (delta 12), reused 12 (delta 4), pack-reused 1295\u001b[K\n",
            "Receiving objects: 100% (1321/1321), 2.75 MiB | 14.38 MiB/s, done.\n",
            "Resolving deltas: 100% (829/829), done.\n",
            "mv: cannot move 'BigData2022-films/.' to './.': Device or resource busy\n",
            "mv: cannot move 'BigData2022-films/..' to './..': Device or resource busy\n"
          ]
        }
      ],
      "source": [
        "# install Java8\n",
        "!apt-get install openjdk-8-jdk-headless -qq > /dev/null\n",
        "# download spark2.4.5\n",
        "!wget -q https://archive.apache.org/dist/spark/spark-3.2.1/spark-3.2.1-bin-hadoop3.2.tgz\n",
        "# unzip it\n",
        "!tar xf spark-3.2.1-bin-hadoop3.2.tgz\n",
        "# install findspark\n",
        "!pip install -q findspark\n",
        "# clone github repo\n",
        "!git clone https://github.com/PiotrMaciejKowalski/BigData2022-films\n",
        "# Przeniesienie plików z BigData2022-films do katalogu nadrzędnego\n",
        "!mv BigData2022-films/* .\n",
        "!mv BigData2022-films/.* .\n",
        "!rmdir BigData2022-films"
      ]
    },
    {
      "cell_type": "code",
      "execution_count": 3,
      "metadata": {
        "id": "Gy1Vn78v9m5g"
      },
      "outputs": [],
      "source": [
        "import os\n",
        "\n",
        "# setup environment variables for our Spark Session to work\n",
        "os.environ[\"JAVA_HOME\"] = \"/usr/lib/jvm/java-8-openjdk-amd64\"\n",
        "os.environ[\"SPARK_HOME\"] = '/content/spark-3.2.1-bin-hadoop3.2'\n",
        "\n",
        "from lib.pyspark_startup import init, load"
      ]
    },
    {
      "cell_type": "code",
      "source": [
        "!git checkout analiza_błędów"
      ],
      "metadata": {
        "id": "jrTo7uk4xuJh",
        "colab": {
          "base_uri": "https://localhost:8080/"
        },
        "outputId": "3b51a698-e19e-46d8-b72b-dd5c06019817"
      },
      "execution_count": 4,
      "outputs": [
        {
          "output_type": "stream",
          "name": "stdout",
          "text": [
            "Branch 'analiza_błędów' set up to track remote branch 'analiza_błędów' from 'origin'.\n",
            "Switched to a new branch 'analiza_błędów'\n"
          ]
        }
      ]
    },
    {
      "cell_type": "code",
      "execution_count": 5,
      "metadata": {
        "id": "6gMtlQ2r9upV"
      },
      "outputs": [],
      "source": [
        "spark = init()"
      ]
    },
    {
      "cell_type": "code",
      "execution_count": 6,
      "metadata": {
        "id": "-qqhXPYhYDdA"
      },
      "outputs": [],
      "source": [
        "path = \"/content/drive/.shortcut-targets-by-id/1VcOir9FMG8LzEsUE-Q8YA79c_sV0tJwp/bigdata2022/\""
      ]
    },
    {
      "cell_type": "code",
      "source": [
        "test = spark.read.parquet(path + \"test_df.parquet\")\n",
        "train = spark.read.parquet(path + \"train_df.parquet\")\n",
        "valid = spark.read.parquet(path + \"valid_df.parquet\")"
      ],
      "metadata": {
        "id": "asW5xw8U1Fu3"
      },
      "execution_count": 7,
      "outputs": []
    },
    {
      "cell_type": "code",
      "source": [
        "df_temp = test.union(train)\n",
        "df_clean = df_temp.union(valid)"
      ],
      "metadata": {
        "id": "FxpfqGqhpsnl"
      },
      "execution_count": 8,
      "outputs": []
    },
    {
      "cell_type": "code",
      "execution_count": 9,
      "metadata": {
        "id": "dodBMXZZ9u3q"
      },
      "outputs": [],
      "source": [
        "import pyspark.sql.functions as f\n",
        "from pyspark.sql.types import FloatType \n",
        "import random\n",
        "from pyspark.sql import DataFrame"
      ]
    },
    {
      "cell_type": "markdown",
      "source": [
        "## Funkcje"
      ],
      "metadata": {
        "id": "JMkv3xj7KOx0"
      }
    },
    {
      "cell_type": "code",
      "source": [
        "#TODO Przeniesc ponizsze funkcje do liba, najlepiej oddzielny plik np. pyspark_demo.py\n",
        "\n",
        "def testujemy(df,a_param:float):\n",
        "\n",
        "    add_udf = f.udf(lambda x, y: round(a_param* x + (1- a_param) * y,4), FloatType())\n",
        "    df = df.withColumn(\"prediction\", add_udf(df[\"cos_similarity\"], df[\"IOU\"]))\n",
        "\n",
        "    return df"
      ],
      "metadata": {
        "id": "eoobMClqKhRc"
      },
      "execution_count": 11,
      "outputs": []
    },
    {
      "cell_type": "code",
      "source": [
        "from pyspark.sql.functions import desc\n",
        "from lib.pyspark_matrix_similarity import cos_sim_and_iou_for_row\n",
        "from lib.ranking_function import ranking_list\n",
        "\n",
        "def najbardziej_podobne (id, ile, df1):\n",
        "  #wyrzuca najlepsze wartości prediction\n",
        "    df = cos_sim_and_iou_for_row(df1,id)\n",
        "    df_prediction= testujemy(df, 0.5)\n",
        "    df_prediction = df_prediction.sort(desc(\"prediction\"))\n",
        "    df_prediction.show(ile, truncate=False) "
      ],
      "metadata": {
        "id": "af_MKAcgNKny"
      },
      "execution_count": 10,
      "outputs": []
    },
    {
      "cell_type": "markdown",
      "source": [
        "## Jak wyglądają nasze dane?"
      ],
      "metadata": {
        "id": "xrdhbRtICw8Z"
      }
    },
    {
      "cell_type": "markdown",
      "source": [
        "Podejrzyjmy zbiór testowy:"
      ],
      "metadata": {
        "id": "rBQrVFiKDJPF"
      }
    },
    {
      "cell_type": "code",
      "source": [
        "test.show(10, truncate=False)"
      ],
      "metadata": {
        "colab": {
          "base_uri": "https://localhost:8080/"
        },
        "id": "wNYbNNhgC4Pv",
        "outputId": "17965eee-122c-43a3-a373-27bed1978ecc"
      },
      "execution_count": 50,
      "outputs": [
        {
          "output_type": "stream",
          "name": "stdout",
          "text": [
            "+---------+----------------------------------------------------------+---------------------+-------------------------+-----------------------+--------------+--------------------------+---------------------------------------------------------------------------------------------------------+------------------------------------------+\n",
            "|id       |tytul                                                     |rok_wydania_produkcji|rok_zakonczenia_produkcji|dlugosc_produkcji_w_min|liczba_sezonow|liczba_wszystkich_odcinkow|ludzie_filmu                                                                                             |features                                  |\n",
            "+---------+----------------------------------------------------------+---------------------+-------------------------+-----------------------+--------------+--------------------------+---------------------------------------------------------------------------------------------------------+------------------------------------------+\n",
            "|tt0000005|Blacksmith Scene                                          |1893                 |1893                     |1                      |1             |1                         |[nm0443482, nm0653042, nm0005690, nm0249379, null, null, null, null, null, null]                         |(45,[1,17,20],[1.0,1.0,1.0])              |\n",
            "|tt0000010|Leaving the Factory                                       |1895                 |1895                     |1                      |1             |1                         |[nm0525910, null, null, null, null, null, null, null, null, null]                                        |(45,[1,17,19],[1.0,1.0,1.0])              |\n",
            "|tt0000031|Jumping the Blanket                                       |1895                 |1895                     |1                      |1             |1                         |[nm0525910, null, null, null, null, null, null, null, null, null]                                        |(45,[1,17,19],[1.0,1.0,1.0])              |\n",
            "|tt0000078|Feira de Gado na Corujeira                                |1896                 |1896                     |1                      |1             |1                         |[nm0234288, null, null, null, null, null, null, null, null, null]                                        |(45,[1,17,19],[1.0,1.0,1.0])              |\n",
            "|tt0000131|A Terrible Night                                          |1896                 |1896                     |1                      |1             |1                         |[nm0617588, null, null, null, null, null, null, null, null, null]                                        |(45,[1,17,20,24],[1.0,1.0,1.0,1.0])       |\n",
            "|tt0000147|The Corbett-Fitzsimmons Fight                             |1897                 |1897                     |100                    |1             |1                         |[nm0179163, nm0280615, nm4082222, nm4081458, nm0714557, nm0103755, nm2256592, null, null, null]          |(45,[2,19,37,40],[1.0,1.0,1.0,1.0])       |\n",
            "|tt0000166|Salida de los trabajadores de la fábrica España Industrial|1897                 |1897                     |1                      |1             |1                         |[nm0005717, null, null, null, null, null, null, null, null, null]                                        |(45,[1,17,19],[1.0,1.0,1.0])              |\n",
            "|tt0000509|The Inexperienced Chauffeur                               |1906                 |1906                     |3                      |1             |1                         |[nm0214243, nm1563072, nm0381874, nm0159015, null, null, null, null, null, null]                         |(45,[1,15,17,20],[1.0,1.0,1.0,1.0])       |\n",
            "|tt0000536|Apachentanz                                               |1906                 |1906                     |6                      |1             |1                         |[nm0691995, nm0691996, nm6758605, nm0582268, null, null, null, null, null, null]                         |(45,[1,15,17],[1.0,1.0,1.0])              |\n",
            "|tt0000728|Money Mad                                                 |1908                 |1908                     |11                     |1             |1                         |[nm0409390, nm0813603, nm0311375, nm0424530, nm0000428, nm0005658, nm0492757, nm0534221, nm0784407, null]|(45,[1,15,17,18,28],[1.0,1.0,1.0,1.0,1.0])|\n",
            "+---------+----------------------------------------------------------+---------------------+-------------------------+-----------------------+--------------+--------------------------+---------------------------------------------------------------------------------------------------------+------------------------------------------+\n",
            "only showing top 10 rows\n",
            "\n"
          ]
        }
      ]
    },
    {
      "cell_type": "markdown",
      "source": [
        "Ciekawie wyglądają ostatnie dwie kolumny - ludzie_filmu zawiera 10-elementową listę wypełnioną najbardziej znaczącymi osobami przy produkcji filmu (np. reżyser, aktorzy pierwszoplanowi). \n",
        "Kolumna features zawiera Sparse vector cech, które używamy w naszym similarity. Są to sklejone kolejno wektory:\n",
        "\n",
        "*   czy_dla_dorosłych (długość 1)\n",
        "*   rodzaj_produkcji_ohe (długość 7)\n",
        "*   epoka_rok_wydania_produkcji_ohe (długość 9)\n",
        "*   gatunek_vec (długość 28)\n",
        "\n",
        "Na przykładzie filmu \"Blacksmith scene\" wektor features ma długość 45, na jego \n",
        "1, 17 oraz 20 pozycji są 1, co oznacza rodzaj produkcji = short, epokę 1 oraz gatunek = komedia."
      ],
      "metadata": {
        "id": "6v1-gGujC6_1"
      }
    },
    {
      "cell_type": "markdown",
      "source": [
        "## Testowanie"
      ],
      "metadata": {
        "id": "d4dJdadNtkYw"
      }
    },
    {
      "cell_type": "markdown",
      "source": [
        "Zobaczmy jak nasz kod działa w praktyce. "
      ],
      "metadata": {
        "id": "c8ARxKef7-aC"
      }
    },
    {
      "cell_type": "markdown",
      "source": [
        "### Toy Story"
      ],
      "metadata": {
        "id": "nHnmBaccltJg"
      }
    },
    {
      "cell_type": "code",
      "source": [
        "najbardziej_podobne(\"tt0114709\",15,df_clean)"
      ],
      "metadata": {
        "id": "zPGVrnAmo20k",
        "colab": {
          "base_uri": "https://localhost:8080/"
        },
        "outputId": "de687175-cfa3-4910-bb23-47e1343d6a3a"
      },
      "execution_count": 15,
      "outputs": [
        {
          "output_type": "stream",
          "name": "stdout",
          "text": [
            "+---------+-----------------------------------------------------+--------------+----------+----------+\n",
            "|id       |tytul                                                |cos_similarity|IOU       |prediction|\n",
            "+---------+-----------------------------------------------------+--------------+----------+----------+\n",
            "|tt0114709|Toy Story                                            |1.0           |1.0       |1.0       |\n",
            "|tt0120363|Toy Story 2                                          |1.0           |0.33333334|0.6667    |\n",
            "|tt0120623|A Bug's Life                                         |1.0           |0.1764706 |0.5882    |\n",
            "|tt0317219|Cars                                                 |1.0           |0.11111111|0.5556    |\n",
            "|tt0338348|The Polar Express                                    |1.0           |0.05263158|0.5263    |\n",
            "|tt0429589|The Ant Bully                                        |1.0           |0.05263158|0.5263    |\n",
            "|tt1049413|Up                                                   |1.0           |0.05263158|0.5263    |\n",
            "|tt0356634|Garfield                                             |1.0           |0.05263158|0.5263    |\n",
            "|tt0455499|Garfield: A Tail of Two Kitties                      |1.0           |0.05263158|0.5263    |\n",
            "|tt0198781|Monsters, Inc.                                       |1.0           |0.05263158|0.5263    |\n",
            "|tt0266543|Finding Nemo                                         |1.0           |0.05263158|0.5263    |\n",
            "|tt1979376|Toy Story 4                                          |0.8           |0.25      |0.525     |\n",
            "|tt0435761|Toy Story 3                                          |0.8           |0.25      |0.525     |\n",
            "|tt0120630|Chicken Run                                          |1.0           |0.0       |0.5       |\n",
            "|tt1147512|Doraemon: Nobita's Diary on the Creation of the World|1.0           |0.0       |0.5       |\n",
            "+---------+-----------------------------------------------------+--------------+----------+----------+\n",
            "only showing top 15 rows\n",
            "\n"
          ]
        }
      ]
    },
    {
      "cell_type": "code",
      "source": [
        "ranking_list(df_clean,\"tt0114709\").sort_values(by='score', ascending=False).head(15)"
      ],
      "metadata": {
        "colab": {
          "base_uri": "https://localhost:8080/",
          "height": 519
        },
        "id": "mcJThgHRdnLV",
        "outputId": "37273bca-e809-426d-eca6-d3650bbc239f"
      },
      "execution_count": 75,
      "outputs": [
        {
          "output_type": "execute_result",
          "data": {
            "text/plain": [
              "                id  score\n",
              "161790   tt0114709   18.0\n",
              "163342   tt0120363   13.0\n",
              "623219   tt0120623   11.0\n",
              "681047   tt0435761   10.0\n",
              "839037   tt1979376   10.0\n",
              "106929   tt2446040    9.0\n",
              "221827   tt0429589    9.0\n",
              "1046692  tt0198781    9.0\n",
              "659889   tt0317219    9.0\n",
              "666156   tt0356634    9.0\n",
              "684777   tt0455499    9.0\n",
              "185422   tt0230011    9.0\n",
              "670913   tt0383060    8.0\n",
              "651582   tt0272183    8.0\n",
              "1182732  tt0299172    8.0"
            ],
            "text/html": [
              "\n",
              "  <div id=\"df-4904608e-bb35-4207-b330-e464e6f64a31\">\n",
              "    <div class=\"colab-df-container\">\n",
              "      <div>\n",
              "<style scoped>\n",
              "    .dataframe tbody tr th:only-of-type {\n",
              "        vertical-align: middle;\n",
              "    }\n",
              "\n",
              "    .dataframe tbody tr th {\n",
              "        vertical-align: top;\n",
              "    }\n",
              "\n",
              "    .dataframe thead th {\n",
              "        text-align: right;\n",
              "    }\n",
              "</style>\n",
              "<table border=\"1\" class=\"dataframe\">\n",
              "  <thead>\n",
              "    <tr style=\"text-align: right;\">\n",
              "      <th></th>\n",
              "      <th>id</th>\n",
              "      <th>score</th>\n",
              "    </tr>\n",
              "  </thead>\n",
              "  <tbody>\n",
              "    <tr>\n",
              "      <th>161790</th>\n",
              "      <td>tt0114709</td>\n",
              "      <td>18.0</td>\n",
              "    </tr>\n",
              "    <tr>\n",
              "      <th>163342</th>\n",
              "      <td>tt0120363</td>\n",
              "      <td>13.0</td>\n",
              "    </tr>\n",
              "    <tr>\n",
              "      <th>623219</th>\n",
              "      <td>tt0120623</td>\n",
              "      <td>11.0</td>\n",
              "    </tr>\n",
              "    <tr>\n",
              "      <th>681047</th>\n",
              "      <td>tt0435761</td>\n",
              "      <td>10.0</td>\n",
              "    </tr>\n",
              "    <tr>\n",
              "      <th>839037</th>\n",
              "      <td>tt1979376</td>\n",
              "      <td>10.0</td>\n",
              "    </tr>\n",
              "    <tr>\n",
              "      <th>106929</th>\n",
              "      <td>tt2446040</td>\n",
              "      <td>9.0</td>\n",
              "    </tr>\n",
              "    <tr>\n",
              "      <th>221827</th>\n",
              "      <td>tt0429589</td>\n",
              "      <td>9.0</td>\n",
              "    </tr>\n",
              "    <tr>\n",
              "      <th>1046692</th>\n",
              "      <td>tt0198781</td>\n",
              "      <td>9.0</td>\n",
              "    </tr>\n",
              "    <tr>\n",
              "      <th>659889</th>\n",
              "      <td>tt0317219</td>\n",
              "      <td>9.0</td>\n",
              "    </tr>\n",
              "    <tr>\n",
              "      <th>666156</th>\n",
              "      <td>tt0356634</td>\n",
              "      <td>9.0</td>\n",
              "    </tr>\n",
              "    <tr>\n",
              "      <th>684777</th>\n",
              "      <td>tt0455499</td>\n",
              "      <td>9.0</td>\n",
              "    </tr>\n",
              "    <tr>\n",
              "      <th>185422</th>\n",
              "      <td>tt0230011</td>\n",
              "      <td>9.0</td>\n",
              "    </tr>\n",
              "    <tr>\n",
              "      <th>670913</th>\n",
              "      <td>tt0383060</td>\n",
              "      <td>8.0</td>\n",
              "    </tr>\n",
              "    <tr>\n",
              "      <th>651582</th>\n",
              "      <td>tt0272183</td>\n",
              "      <td>8.0</td>\n",
              "    </tr>\n",
              "    <tr>\n",
              "      <th>1182732</th>\n",
              "      <td>tt0299172</td>\n",
              "      <td>8.0</td>\n",
              "    </tr>\n",
              "  </tbody>\n",
              "</table>\n",
              "</div>\n",
              "      <button class=\"colab-df-convert\" onclick=\"convertToInteractive('df-4904608e-bb35-4207-b330-e464e6f64a31')\"\n",
              "              title=\"Convert this dataframe to an interactive table.\"\n",
              "              style=\"display:none;\">\n",
              "        \n",
              "  <svg xmlns=\"http://www.w3.org/2000/svg\" height=\"24px\"viewBox=\"0 0 24 24\"\n",
              "       width=\"24px\">\n",
              "    <path d=\"M0 0h24v24H0V0z\" fill=\"none\"/>\n",
              "    <path d=\"M18.56 5.44l.94 2.06.94-2.06 2.06-.94-2.06-.94-.94-2.06-.94 2.06-2.06.94zm-11 1L8.5 8.5l.94-2.06 2.06-.94-2.06-.94L8.5 2.5l-.94 2.06-2.06.94zm10 10l.94 2.06.94-2.06 2.06-.94-2.06-.94-.94-2.06-.94 2.06-2.06.94z\"/><path d=\"M17.41 7.96l-1.37-1.37c-.4-.4-.92-.59-1.43-.59-.52 0-1.04.2-1.43.59L10.3 9.45l-7.72 7.72c-.78.78-.78 2.05 0 2.83L4 21.41c.39.39.9.59 1.41.59.51 0 1.02-.2 1.41-.59l7.78-7.78 2.81-2.81c.8-.78.8-2.07 0-2.86zM5.41 20L4 18.59l7.72-7.72 1.47 1.35L5.41 20z\"/>\n",
              "  </svg>\n",
              "      </button>\n",
              "      \n",
              "  <style>\n",
              "    .colab-df-container {\n",
              "      display:flex;\n",
              "      flex-wrap:wrap;\n",
              "      gap: 12px;\n",
              "    }\n",
              "\n",
              "    .colab-df-convert {\n",
              "      background-color: #E8F0FE;\n",
              "      border: none;\n",
              "      border-radius: 50%;\n",
              "      cursor: pointer;\n",
              "      display: none;\n",
              "      fill: #1967D2;\n",
              "      height: 32px;\n",
              "      padding: 0 0 0 0;\n",
              "      width: 32px;\n",
              "    }\n",
              "\n",
              "    .colab-df-convert:hover {\n",
              "      background-color: #E2EBFA;\n",
              "      box-shadow: 0px 1px 2px rgba(60, 64, 67, 0.3), 0px 1px 3px 1px rgba(60, 64, 67, 0.15);\n",
              "      fill: #174EA6;\n",
              "    }\n",
              "\n",
              "    [theme=dark] .colab-df-convert {\n",
              "      background-color: #3B4455;\n",
              "      fill: #D2E3FC;\n",
              "    }\n",
              "\n",
              "    [theme=dark] .colab-df-convert:hover {\n",
              "      background-color: #434B5C;\n",
              "      box-shadow: 0px 1px 3px 1px rgba(0, 0, 0, 0.15);\n",
              "      filter: drop-shadow(0px 1px 2px rgba(0, 0, 0, 0.3));\n",
              "      fill: #FFFFFF;\n",
              "    }\n",
              "  </style>\n",
              "\n",
              "      <script>\n",
              "        const buttonEl =\n",
              "          document.querySelector('#df-4904608e-bb35-4207-b330-e464e6f64a31 button.colab-df-convert');\n",
              "        buttonEl.style.display =\n",
              "          google.colab.kernel.accessAllowed ? 'block' : 'none';\n",
              "\n",
              "        async function convertToInteractive(key) {\n",
              "          const element = document.querySelector('#df-4904608e-bb35-4207-b330-e464e6f64a31');\n",
              "          const dataTable =\n",
              "            await google.colab.kernel.invokeFunction('convertToInteractive',\n",
              "                                                     [key], {});\n",
              "          if (!dataTable) return;\n",
              "\n",
              "          const docLinkHtml = 'Like what you see? Visit the ' +\n",
              "            '<a target=\"_blank\" href=https://colab.research.google.com/notebooks/data_table.ipynb>data table notebook</a>'\n",
              "            + ' to learn more about interactive tables.';\n",
              "          element.innerHTML = '';\n",
              "          dataTable['output_type'] = 'display_data';\n",
              "          await google.colab.output.renderOutput(dataTable, element);\n",
              "          const docLink = document.createElement('div');\n",
              "          docLink.innerHTML = docLinkHtml;\n",
              "          element.appendChild(docLink);\n",
              "        }\n",
              "      </script>\n",
              "    </div>\n",
              "  </div>\n",
              "  "
            ]
          },
          "metadata": {},
          "execution_count": 75
        }
      ]
    },
    {
      "cell_type": "markdown",
      "source": [
        "Zgodnie z intuicją (a także funkcją rankującą), kolejne części powinny być bardziej podobne do Toy Story - jest to kontynuacja tej samej serii, występują ci sami bohaterowie. Można jednak wytłumaczyć tak odległe miejsce w rankingu faktem, że części te powstały na przestrzeni 23 lat, a bohaterowie tej serii dorastają wraz z widzem, a ich problemy i sposób postrzegania świata zmienia się w kolejnych częściach."
      ],
      "metadata": {
        "id": "W6J2Y_U-8w3m"
      }
    },
    {
      "cell_type": "markdown",
      "source": [
        "### DC"
      ],
      "metadata": {
        "id": "R5u4Bv1Pl6oR"
      }
    },
    {
      "cell_type": "markdown",
      "source": [
        "Ciekawie wyglądają również filmy z wydawnictwa DC związane z postacią Batmana.  Po sprawdzeniu najbardziej podobnych filmów do \"Mrocznego rycerza\" otrzymujemy \"Batman: początek\" oraz \"Mroczny Rycerz powstaje\". Co ciekawe nie znajduje znaczącego podobieństwa do filmu \"Batman\" z 2022 roku (analogicznie w druga stronę)."
      ],
      "metadata": {
        "id": "pIEZDZ-GIRdt"
      }
    },
    {
      "cell_type": "code",
      "source": [
        "najbardziej_podobne(\"tt0468569\",10,df_clean)"
      ],
      "metadata": {
        "colab": {
          "base_uri": "https://localhost:8080/"
        },
        "id": "UE48QNugso75",
        "outputId": "90cc7155-2d26-45f8-84f8-73e0cb7fbcb6"
      },
      "execution_count": 52,
      "outputs": [
        {
          "output_type": "stream",
          "name": "stdout",
          "text": [
            "+---------+---------------------+--------------+----------+----------+\n",
            "|id       |tytul                |cos_similarity|IOU       |prediction|\n",
            "+---------+---------------------+--------------+----------+----------+\n",
            "|tt0468569|The Dark Knight      |1.0           |1.0       |1.0       |\n",
            "|tt0372784|Batman Begins        |1.0           |0.53846157|0.7692    |\n",
            "|tt1345836|The Dark Knight Rises|0.6708204     |0.42857143|0.5497    |\n",
            "|tt0963178|The International    |1.0           |0.05263158|0.5263    |\n",
            "|tt0433387|Harsh Times          |1.0           |0.05263158|0.5263    |\n",
            "|tt0119099|Fallen               |1.0           |0.05263158|0.5263    |\n",
            "|tt1289406|Harry Brown          |1.0           |0.05263158|0.5263    |\n",
            "|tt0381849|3:10 to Yuma         |1.0           |0.05263158|0.5263    |\n",
            "|tt0367878|Os Imortais          |1.0           |0.0       |0.5       |\n",
            "|tt0214555|Bullets Over Summer  |1.0           |0.0       |0.5       |\n",
            "+---------+---------------------+--------------+----------+----------+\n",
            "only showing top 10 rows\n",
            "\n"
          ]
        }
      ]
    },
    {
      "cell_type": "code",
      "source": [
        "najbardziej_podobne(\"tt1877830\",10,df_clean)"
      ],
      "metadata": {
        "colab": {
          "base_uri": "https://localhost:8080/"
        },
        "id": "pxAFixEfGCCa",
        "outputId": "2735833a-92d4-49c5-8c3f-40b1edcaa034"
      },
      "execution_count": 53,
      "outputs": [
        {
          "output_type": "stream",
          "name": "stdout",
          "text": [
            "+----------+--------------------------------+--------------+----------+----------+\n",
            "|id        |tytul                           |cos_similarity|IOU       |prediction|\n",
            "+----------+--------------------------------+--------------+----------+----------+\n",
            "|tt1877830 |The Batman                      |1.0           |1.0       |1.0       |\n",
            "|tt14857194|Superman: Agent of Batman       |1.0           |0.11111111|0.5556    |\n",
            "|tt3156558 |Caped Crusader: The Dark Hours  |1.0           |0.05882353|0.5294    |\n",
            "|tt1235522 |Broken City                     |1.0           |0.05263158|0.5263    |\n",
            "|tt5057140 |Hold the Dark                   |1.0           |0.05263158|0.5263    |\n",
            "|tt2602174 |Batman Revealed                 |1.0           |0.05263158|0.5263    |\n",
            "|tt3647498 |Blood Father                    |1.0           |0.05263158|0.5263    |\n",
            "|tt2101341 |Dead Man Down                   |1.0           |0.05263158|0.5263    |\n",
            "|tt2345737 |The Rover                       |1.0           |0.05263158|0.5263    |\n",
            "|tt1558741 |Comme les cinq doigts de la main|1.0           |0.0       |0.5       |\n",
            "+----------+--------------------------------+--------------+----------+----------+\n",
            "only showing top 10 rows\n",
            "\n"
          ]
        }
      ]
    },
    {
      "cell_type": "markdown",
      "source": [
        "### Władca pierścieni"
      ],
      "metadata": {
        "id": "MqvYAp49aCJ9"
      }
    },
    {
      "cell_type": "markdown",
      "source": [
        "Nasze prediction dla Władcy Pierścieni: Powrót Króla wskazuje jako bardziej podobne pozostałe 2 części trylogii, niż wersję reżyserską tego samego filmu (czyli rozszerzoną, z dodatkowymi scenami). Po weryfikacji danych na IMDB może wynikać to z faktu, że dla wersji reżyserskiej mamy mniej informacji, np. w obsadzie wersji reżyserskiej występuje tylko Elijah Wood, gdzie dla podstawowej wersji filmu jest to kilkadziesiąt osób."
      ],
      "metadata": {
        "id": "wtvolX2bFhO2"
      }
    },
    {
      "cell_type": "code",
      "source": [
        "najbardziej_podobne(\"tt0167260\",10,df_clean)"
      ],
      "metadata": {
        "colab": {
          "base_uri": "https://localhost:8080/"
        },
        "id": "KZwSRc9WJ-gQ",
        "outputId": "f4c4fe26-2842-49a0-963f-dd8adc89ecac"
      },
      "execution_count": 55,
      "outputs": [
        {
          "output_type": "stream",
          "name": "stdout",
          "text": [
            "+----------+-----------------------------------------------------------------------------------+--------------+----------+----------+\n",
            "|id        |tytul                                                                              |cos_similarity|IOU       |prediction|\n",
            "+----------+-----------------------------------------------------------------------------------+--------------+----------+----------+\n",
            "|tt0167260 |The Lord of the Rings: The Return of the King                                      |1.0           |1.0       |1.0       |\n",
            "|tt0167261 |The Lord of the Rings: The Two Towers                                              |1.0           |0.8181818 |0.9091    |\n",
            "|tt0120737 |The Lord of the Rings: The Fellowship of the Ring                                  |1.0           |0.6666667 |0.8333    |\n",
            "|tt21811588|The Lord of the Rings: The Fellowship of the Ring - Special Extended Edition Scenes|0.8           |0.54545456|0.6727    |\n",
            "|tt21811606|The Lord of the Rings: The Return of the King - Special Extended Edition Scenes    |0.8           |0.5       |0.65      |\n",
            "|tt21811594|The Lord of the Rings: The Two Towers - Special Extended Edition Scenes            |0.8           |0.45454547|0.6273    |\n",
            "|tt0360717 |King Kong                                                                          |1.0           |0.1764706 |0.5882    |\n",
            "|tt0320661 |Kingdom of Heaven                                                                  |1.0           |0.05263158|0.5263    |\n",
            "|tt0116040 |Daylight                                                                           |1.0           |0.05263158|0.5263    |\n",
            "|tt1320185 |Chandrahas                                                                         |1.0           |0.0       |0.5       |\n",
            "+----------+-----------------------------------------------------------------------------------+--------------+----------+----------+\n",
            "only showing top 10 rows\n",
            "\n"
          ]
        }
      ]
    },
    {
      "cell_type": "markdown",
      "source": [
        "### Ojciec chrzestny"
      ],
      "metadata": {
        "id": "hLXW3DsQmJ_A"
      }
    },
    {
      "cell_type": "markdown",
      "source": [
        "Dla \"Ojca chrzestnego\" nasz algorytm wskazuje jako najbardziej podobne filmy gangsterskie."
      ],
      "metadata": {
        "id": "wre7w-X0Ljx7"
      }
    },
    {
      "cell_type": "code",
      "source": [
        "najbardziej_podobne(\"tt0068646\",10,df_clean)"
      ],
      "metadata": {
        "colab": {
          "base_uri": "https://localhost:8080/"
        },
        "id": "g4lTkRa8381C",
        "outputId": "44668832-9bb5-44da-8f37-39e0b5b51bc3"
      },
      "execution_count": 56,
      "outputs": [
        {
          "output_type": "stream",
          "name": "stdout",
          "text": [
            "+---------+---------------------------------+--------------+----------+----------+\n",
            "|id       |tytul                            |cos_similarity|IOU       |prediction|\n",
            "+---------+---------------------------------+--------------+----------+----------+\n",
            "|tt0068646|The Godfather                    |1.0           |1.0       |1.0       |\n",
            "|tt0071562|The Godfather: Part II           |1.0           |0.42857143|0.7143    |\n",
            "|tt0099674|The Godfather: Part III          |0.75          |0.33333334|0.5417    |\n",
            "|tt0086442|A Time to Die                    |1.0           |0.05263158|0.5263    |\n",
            "|tt0086250|Scarface                         |1.0           |0.05263158|0.5263    |\n",
            "|tt0086066|The Outsiders                    |1.0           |0.05263158|0.5263    |\n",
            "|tt0071532|The Gambler                      |1.0           |0.05263158|0.5263    |\n",
            "|tt0087089|The Cotton Club                  |0.8944272     |0.11111111|0.5028    |\n",
            "|tt0073845|L'uomo che sfidò l'organizzazione|1.0           |0.0       |0.5       |\n",
            "|tt0068526|Les ebranlées                    |1.0           |0.0       |0.5       |\n",
            "+---------+---------------------------------+--------------+----------+----------+\n",
            "only showing top 10 rows\n",
            "\n"
          ]
        }
      ]
    },
    {
      "cell_type": "markdown",
      "source": [
        "### Harry Potter i Insygnia Śmierci: część 2"
      ],
      "metadata": {
        "id": "Hsq7ZrSPmSU4"
      }
    },
    {
      "cell_type": "markdown",
      "source": [
        "Dla filmu Harry Potter i Insygnia Śmierci: część 2 similarity wskazuje, że najbardziej podobne są części, które chronologicznie znajdują się najbliżej. Jest to zasadne, ponieważ film \"dorastał z widzem\" i można zauważyć, że każda kolejna część była coraz bardziej mroczna. W zestawieniu pojawiła się również seria \"Fantastyczne Zwierzęta\" - również jest to uzasadnione, ponieważ jest ona osadzona w tym samym uniwersum, a klimat jest podobny to późniejszych części serii."
      ],
      "metadata": {
        "id": "hnllFPOInZee"
      }
    },
    {
      "cell_type": "code",
      "source": [
        "najbardziej_podobne(\"tt1201607\",15,df_clean)"
      ],
      "metadata": {
        "colab": {
          "base_uri": "https://localhost:8080/"
        },
        "id": "wNnxpiH1OVOg",
        "outputId": "c1d9da99-9d18-47d3-fcc5-4943a7eb5f6c"
      },
      "execution_count": 59,
      "outputs": [
        {
          "output_type": "stream",
          "name": "stdout",
          "text": [
            "+----------+--------------------------------------------+--------------+----------+----------+\n",
            "|id        |tytul                                       |cos_similarity|IOU       |prediction|\n",
            "+----------+--------------------------------------------+--------------+----------+----------+\n",
            "|tt1201607 |Harry Potter and the Deathly Hallows: Part 2|1.0           |1.0       |1.0       |\n",
            "|tt0926084 |Harry Potter and the Deathly Hallows: Part 1|1.0           |0.8181818 |0.9091    |\n",
            "|tt0417741 |Harry Potter and the Half-Blood Prince      |0.6           |0.8181818 |0.7091    |\n",
            "|tt3183660 |Fantastic Beasts and Where to Find Them     |1.0           |0.25      |0.625     |\n",
            "|tt4123430 |Fantastic Beasts: The Crimes of Grindelwald |1.0           |0.25      |0.625     |\n",
            "|tt4123432 |Fantastic Beasts: The Secrets of Dumbledore |1.0           |0.25      |0.625     |\n",
            "|tt0330373 |Harry Potter and the Goblet of Fire         |0.8           |0.42857143|0.6143    |\n",
            "|tt0304141 |Harry Potter and the Prisoner of Azkaban    |0.8           |0.42857143|0.6143    |\n",
            "|tt0295297 |Harry Potter and the Chamber of Secrets     |0.8           |0.42857143|0.6143    |\n",
            "|tt0373889 |Harry Potter and the Order of the Phoenix   |0.6           |0.53846157|0.5692    |\n",
            "|tt0241527 |Harry Potter and the Sorcerer's Stone       |0.8           |0.33333334|0.5667    |\n",
            "|tt2771200 |Beauty and the Beast                        |1.0           |0.05263158|0.5263    |\n",
            "|tt1367177 |Dead of Knight                              |1.0           |0.0       |0.5       |\n",
            "|tt13967784|Adventures of the Crystal Skull             |1.0           |0.0       |0.5       |\n",
            "|tt6301886 |The Fairy Stories. Essence of Care          |1.0           |0.0       |0.5       |\n",
            "+----------+--------------------------------------------+--------------+----------+----------+\n",
            "only showing top 15 rows\n",
            "\n"
          ]
        }
      ]
    },
    {
      "cell_type": "markdown",
      "source": [
        "### Dobry, zły, brzydki"
      ],
      "metadata": {
        "id": "sK7Vkkd_u0xY"
      }
    },
    {
      "cell_type": "code",
      "source": [
        "najbardziej_podobne(\"tt0060196\",15,df_clean)"
      ],
      "metadata": {
        "colab": {
          "base_uri": "https://localhost:8080/"
        },
        "id": "IudA2ya0r-Z0",
        "outputId": "d65ee54b-08ee-47a3-cabc-f8b4b9c4aff1"
      },
      "execution_count": 76,
      "outputs": [
        {
          "output_type": "stream",
          "name": "stdout",
          "text": [
            "+---------+------------------------------+--------------+----------+----------+\n",
            "|id       |tytul                         |cos_similarity|IOU       |prediction|\n",
            "+---------+------------------------------+--------------+----------+----------+\n",
            "|tt0060196|The Good, the Bad and the Ugly|1.0           |1.0       |1.0       |\n",
            "|tt0059578|For a Few Dollars More        |0.8660254     |0.25      |0.558     |\n",
            "|tt0061152|Legacy of the Incas           |1.0           |0.05263158|0.5263    |\n",
            "|tt0064208|Death Rides a Horse           |0.8660254     |0.1764706 |0.5212    |\n",
            "|tt0057639|The Sign of the Coyote        |1.0           |0.0       |0.5       |\n",
            "|tt0057687|Winnetou                      |1.0           |0.0       |0.5       |\n",
            "|tt0063847|Zorro the Fox                 |1.0           |0.0       |0.5       |\n",
            "|tt0062709|Bang Bang Kid                 |1.0           |0.0       |0.5       |\n",
            "|tt0057484|Duel at the Rio Grande        |1.0           |0.0       |0.5       |\n",
            "|tt0056652|Zorro the Avenger             |1.0           |0.0       |0.5       |\n",
            "|tt0060754|The Night of the Grizzly      |1.0           |0.0       |0.5       |\n",
            "|tt0392933|Zagor                         |1.0           |0.0       |0.5       |\n",
            "|tt0058709|Amongst Vultures              |1.0           |0.0       |0.5       |\n",
            "|tt0059538|Old Surehand                  |1.0           |0.0       |0.5       |\n",
            "|tt0051594|La estampida                  |1.0           |0.0       |0.5       |\n",
            "+---------+------------------------------+--------------+----------+----------+\n",
            "only showing top 15 rows\n",
            "\n"
          ]
        }
      ]
    },
    {
      "cell_type": "markdown",
      "source": [
        "### Pewnego razu na Dzikim Zachodzie"
      ],
      "metadata": {
        "id": "olKkAudau-1D"
      }
    },
    {
      "cell_type": "markdown",
      "source": [
        "Dla tytułu \"Pewnego razu na Dzikim Zachodzie\" wskazane podobne filmy wszystkie należą do gatunku western."
      ],
      "metadata": {
        "id": "h8qgXuIRNEIS"
      }
    },
    {
      "cell_type": "code",
      "source": [
        "najbardziej_podobne(\"tt0064116\",10,df_clean)"
      ],
      "metadata": {
        "colab": {
          "base_uri": "https://localhost:8080/"
        },
        "id": "rFtNJPHTu2_U",
        "outputId": "b2875fc6-2cb6-4efb-db35-88a9903c6a36"
      },
      "execution_count": 78,
      "outputs": [
        {
          "output_type": "stream",
          "name": "stdout",
          "text": [
            "+---------+------------------------------+--------------+-----------+----------+\n",
            "|id       |tytul                         |cos_similarity|IOU        |prediction|\n",
            "+---------+------------------------------+--------------+-----------+----------+\n",
            "|tt0064116|Once Upon a Time in the West  |1.0           |1.0        |1.0       |\n",
            "|tt0059578|For a Few Dollars More        |1.0           |0.1764706  |0.5882    |\n",
            "|tt0060165|A Big Hand for the Little Lady|1.0           |0.11111111 |0.5556    |\n",
            "|tt0061636|Face to Face                  |1.0           |0.11111111 |0.5556    |\n",
            "|tt0061787|Hour of the Gun               |1.0           |0.055555556|0.5278    |\n",
            "|tt0063501|The Big Gundown               |1.0           |0.05263158 |0.5263    |\n",
            "|tt0052194|Showdown at Boot Hill         |1.0           |0.05263158 |0.5263    |\n",
            "|tt0056085|How the West Was Won          |1.0           |0.05263158 |0.5263    |\n",
            "|tt0051087|The Tin Star                  |1.0           |0.05263158 |0.5263    |\n",
            "|tt0058475|Bullets Don't Argue           |1.0           |0.05263158 |0.5263    |\n",
            "+---------+------------------------------+--------------+-----------+----------+\n",
            "only showing top 10 rows\n",
            "\n"
          ]
        }
      ]
    },
    {
      "cell_type": "markdown",
      "source": [
        "### Marvel"
      ],
      "metadata": {
        "id": "AM4aMwTVNT2Z"
      }
    },
    {
      "cell_type": "code",
      "source": [
        "najbardziej_podobne(\"tt4154756\",10,df_clean)"
      ],
      "metadata": {
        "colab": {
          "base_uri": "https://localhost:8080/"
        },
        "id": "b04PvVYyAdMj",
        "outputId": "9dbf2ced-8072-43b1-f3fc-9030f4b0fb26"
      },
      "execution_count": 84,
      "outputs": [
        {
          "output_type": "stream",
          "name": "stdout",
          "text": [
            "+---------+-----------------------------------+--------------+----------+----------+\n",
            "|id       |tytul                              |cos_similarity|IOU       |prediction|\n",
            "+---------+-----------------------------------+--------------+----------+----------+\n",
            "|tt4154756|Avengers: Infinity War             |1.0           |1.0       |1.0       |\n",
            "|tt4154796|Avengers: Endgame                  |0.8           |1.0       |0.9       |\n",
            "|tt3498820|Captain America: Civil War         |1.0           |0.53846157|0.7692    |\n",
            "|tt2395427|Avengers: Age of Ultron            |1.0           |0.42857143|0.7143    |\n",
            "|tt1843866|Captain America: The Winter Soldier|1.0           |0.42857143|0.7143    |\n",
            "|tt0458339|Captain America: The First Avenger |1.0           |0.25      |0.625     |\n",
            "|tt1300854|Iron Man 3                         |1.0           |0.1764706 |0.5882    |\n",
            "|tt1228705|Iron Man 2                         |1.0           |0.1764706 |0.5882    |\n",
            "|tt1502712|Fantastic Four                     |1.0           |0.11111111|0.5556    |\n",
            "|tt0848228|The Avengers                       |1.0           |0.11111111|0.5556    |\n",
            "+---------+-----------------------------------+--------------+----------+----------+\n",
            "only showing top 10 rows\n",
            "\n"
          ]
        }
      ]
    },
    {
      "cell_type": "code",
      "source": [
        "najbardziej_podobne(\"tt1431045\",10,df_clean)"
      ],
      "metadata": {
        "colab": {
          "base_uri": "https://localhost:8080/"
        },
        "id": "TcJxtbQ_4c0O",
        "outputId": "d63f3153-52e5-411a-a61c-b88bfcea8724"
      },
      "execution_count": 82,
      "outputs": [
        {
          "output_type": "stream",
          "name": "stdout",
          "text": [
            "+----------+--------------------------------------------------------------+--------------+----------+----------+\n",
            "|id        |tytul                                                         |cos_similarity|IOU       |prediction|\n",
            "+----------+--------------------------------------------------------------+--------------+----------+----------+\n",
            "|tt1431045 |Deadpool                                                      |1.0           |1.0       |1.0       |\n",
            "|tt5463162 |Deadpool 2                                                    |1.0           |0.33333334|0.6667    |\n",
            "|tt5884052 |Pokémon: Detective Pikachu                                    |1.0           |0.05263158|0.5263    |\n",
            "|tt6264654 |Free Guy                                                      |1.0           |0.05263158|0.5263    |\n",
            "|tt0790736 |R.I.P.D.                                                      |1.0           |0.05263158|0.5263    |\n",
            "|tt2463208 |The Adam Project                                              |1.0           |0.05263158|0.5263    |\n",
            "|tt2246613 |Buzzard Country                                               |1.0           |0.0       |0.5       |\n",
            "|tt2993848 |Iceman: The Time Traveller                                    |1.0           |0.0       |0.5       |\n",
            "|tt16159802|World: Out of This World                                      |1.0           |0.0       |0.5       |\n",
            "|tt14591240|Theoretically, an even more paranoid conspiratorial phone call|1.0           |0.0       |0.5       |\n",
            "+----------+--------------------------------------------------------------+--------------+----------+----------+\n",
            "only showing top 10 rows\n",
            "\n"
          ]
        }
      ]
    },
    {
      "cell_type": "code",
      "source": [
        "najbardziej_podobne(\"tt0325980\",10,df_clean)"
      ],
      "metadata": {
        "colab": {
          "base_uri": "https://localhost:8080/"
        },
        "id": "bSmmHawM90DC",
        "outputId": "d418e3e8-5760-4f94-d122-6b6d9e7898fc"
      },
      "execution_count": 83,
      "outputs": [
        {
          "output_type": "stream",
          "name": "stdout",
          "text": [
            "+---------+------------------------------------------------------+--------------+----------+----------+\n",
            "|id       |tytul                                                 |cos_similarity|IOU       |prediction|\n",
            "+---------+------------------------------------------------------+--------------+----------+----------+\n",
            "|tt0449088|Pirates of the Caribbean: At World's End              |1.0           |1.0       |1.0       |\n",
            "|tt0325980|Pirates of the Caribbean: The Curse of the Black Pearl|1.0           |1.0       |1.0       |\n",
            "|tt0383574|Pirates of the Caribbean: Dead Man's Chest            |1.0           |0.8181818 |0.9091    |\n",
            "|tt1298650|Pirates of the Caribbean: On Stranger Tides           |0.8           |0.42857143|0.6143    |\n",
            "|tt1790809|Pirates of the Caribbean: Dead Men Tell No Tales      |0.8           |0.42857143|0.6143    |\n",
            "|tt0121765|Star Wars: Episode II - Attack of the Clones          |1.0           |0.0       |0.5       |\n",
            "|tt0411477|Hellboy II: The Golden Army                           |1.0           |0.0       |0.5       |\n",
            "|tt0368855|Samurai Resurrection                                  |1.0           |0.0       |0.5       |\n",
            "|tt0113855|Mortal Kombat                                         |1.0           |0.0       |0.5       |\n",
            "|tt1290472|Dragon Hunter                                         |1.0           |0.0       |0.5       |\n",
            "+---------+------------------------------------------------------+--------------+----------+----------+\n",
            "only showing top 10 rows\n",
            "\n"
          ]
        }
      ]
    }
  ],
  "metadata": {
    "colab": {
      "provenance": [],
      "collapsed_sections": [
        "sKbK9JhhKDUN"
      ],
      "include_colab_link": true
    },
    "kernelspec": {
      "display_name": "Python 3",
      "name": "python3"
    },
    "language_info": {
      "name": "python"
    }
  },
  "nbformat": 4,
  "nbformat_minor": 0
}