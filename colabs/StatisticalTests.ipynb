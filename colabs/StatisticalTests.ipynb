{
 "nbformat": 4,
 "nbformat_minor": 0,
 "metadata": {
  "colab": {
   "provenance": [],
   "collapsed_sections": [],
   "toc_visible": true
  },
  "kernelspec": {
   "name": "python3",
   "display_name": "Python 3"
  },
  "language_info": {
   "name": "python"
  }
 },
 "cells": [
  {
   "cell_type": "markdown",
   "source": [
    "# Przygotowanie danych i środowiska"
   ],
   "metadata": {
    "id": "ZQYFoZhzXDJ2"
   }
  },
  {
   "cell_type": "code",
   "execution_count": 1,
   "metadata": {
    "colab": {
     "base_uri": "https://localhost:8080/"
    },
    "id": "YXJPQNA9W2CI",
    "outputId": "3b1c7637-8ccb-4ed5-c857-b3cf8b6d5858"
   },
   "outputs": [
    {
     "output_type": "stream",
     "name": "stdout",
     "text": [
      "default-java\t\t   java-11-openjdk-amd64     java-8-openjdk-amd64\n",
      "java-1.11.0-openjdk-amd64  java-1.8.0-openjdk-amd64\n",
      "Looking in indexes: https://pypi.org/simple, https://us-python.pkg.dev/colab-wheels/public/simple/\n",
      "Requirement already satisfied: pyarrow in /usr/local/lib/python3.7/dist-packages (10.0.0)\n",
      "Requirement already satisfied: numpy>=1.16.6 in /usr/local/lib/python3.7/dist-packages (from pyarrow) (1.21.6)\n",
      "Looking in indexes: https://pypi.org/simple, https://us-python.pkg.dev/colab-wheels/public/simple/\n",
      "Requirement already satisfied: scikit_posthocs in /usr/local/lib/python3.7/dist-packages (0.7.0)\n",
      "Requirement already satisfied: statsmodels in /usr/local/lib/python3.7/dist-packages (from scikit_posthocs) (0.12.2)\n",
      "Requirement already satisfied: matplotlib in /usr/local/lib/python3.7/dist-packages (from scikit_posthocs) (3.2.2)\n",
      "Requirement already satisfied: seaborn in /usr/local/lib/python3.7/dist-packages (from scikit_posthocs) (0.11.2)\n",
      "Requirement already satisfied: scipy in /usr/local/lib/python3.7/dist-packages (from scikit_posthocs) (1.7.3)\n",
      "Requirement already satisfied: numpy in /usr/local/lib/python3.7/dist-packages (from scikit_posthocs) (1.21.6)\n",
      "Requirement already satisfied: pandas>=0.20.0 in /usr/local/lib/python3.7/dist-packages (from scikit_posthocs) (1.3.5)\n",
      "Requirement already satisfied: pytz>=2017.3 in /usr/local/lib/python3.7/dist-packages (from pandas>=0.20.0->scikit_posthocs) (2022.6)\n",
      "Requirement already satisfied: python-dateutil>=2.7.3 in /usr/local/lib/python3.7/dist-packages (from pandas>=0.20.0->scikit_posthocs) (2.8.2)\n",
      "Requirement already satisfied: six>=1.5 in /usr/local/lib/python3.7/dist-packages (from python-dateutil>=2.7.3->pandas>=0.20.0->scikit_posthocs) (1.15.0)\n",
      "Requirement already satisfied: kiwisolver>=1.0.1 in /usr/local/lib/python3.7/dist-packages (from matplotlib->scikit_posthocs) (1.4.4)\n",
      "Requirement already satisfied: pyparsing!=2.0.4,!=2.1.2,!=2.1.6,>=2.0.1 in /usr/local/lib/python3.7/dist-packages (from matplotlib->scikit_posthocs) (3.0.9)\n",
      "Requirement already satisfied: cycler>=0.10 in /usr/local/lib/python3.7/dist-packages (from matplotlib->scikit_posthocs) (0.11.0)\n",
      "Requirement already satisfied: typing-extensions in /usr/local/lib/python3.7/dist-packages (from kiwisolver>=1.0.1->matplotlib->scikit_posthocs) (4.1.1)\n",
      "Requirement already satisfied: patsy>=0.5 in /usr/local/lib/python3.7/dist-packages (from statsmodels->scikit_posthocs) (0.5.3)\n"
     ]
    }
   ],
   "source": [
    "# install Java8\n",
    "!apt-get install openjdk-8-jdk-headless -qq > /dev/null\n",
    "# download spark2.4.5\n",
    "!wget -q https://archive.apache.org/dist/spark/spark-2.4.5/spark-2.4.5-bin-hadoop2.7.tgz\n",
    "# unzip it\n",
    "!tar xf spark-2.4.5-bin-hadoop2.7.tgz\n",
    "# install findspark\n",
    "!pip install -q findspark\n",
    "# Google Colab has Java 11 available, test it using below command -\n",
    "!ls /usr/lib/jvm\n",
    "#install pyarrow\n",
    "!pip install -U pyarrow\n",
    "# Tietjen-Moore test package\n",
    "!pip install scikit_posthocs"
   ]
  },
  {
   "cell_type": "code",
   "source": [
    "import os\n",
    "import findspark\n",
    "\n",
    "os.environ[\"JAVA_HOME\"] = \"/usr/lib/jvm/java-8-openjdk-amd64\"\n",
    "os.environ[\"SPARK_HOME\"] = \"/content/spark-2.4.5-bin-hadoop2.7\"\n",
    "\n",
    "findspark.init()\n",
    "from pyspark.sql import SparkSession\n",
    "\n",
    "spark = SparkSession.builder.master(\"local[*]\").getOrCreate()\n",
    "spark_params = {\n",
    "\"spark.executor.memory\" : \"4g\",\n",
    "\"spark.driver.memory\": \"4g\",\n",
    "\"spark.memory.fraction\": \"0.9\"}\n",
    "for param, value in spark_params.items():\n",
    "  spark.conf.set(param, value)\n",
    "\n",
    "!wget \"https://datasets.imdbws.com/title.basics.tsv.gz\"\n",
    "!wget \"https://datasets.imdbws.com/title.ratings.tsv.gz\"\n",
    "\n",
    "title_ratings = spark.read.csv(\"title.ratings.tsv.gz\", sep='\\t', header=True)\n",
    "title_basics = spark.read.csv(\"title.basics.tsv.gz\", sep='\\t', header=True)"
   ],
   "metadata": {
    "colab": {
     "base_uri": "https://localhost:8080/"
    },
    "id": "SqWCiLz4W_9R",
    "outputId": "58374dc0-9ef6-4484-f300-8ac81c0af5e0"
   },
   "execution_count": 2,
   "outputs": [
    {
     "output_type": "stream",
     "name": "stdout",
     "text": [
      "--2022-11-11 17:50:37--  https://datasets.imdbws.com/title.basics.tsv.gz\n",
      "Resolving datasets.imdbws.com (datasets.imdbws.com)... 13.227.219.93, 13.227.219.51, 13.227.219.78, ...\n",
      "Connecting to datasets.imdbws.com (datasets.imdbws.com)|13.227.219.93|:443... connected.\n",
      "HTTP request sent, awaiting response... 200 OK\n",
      "Length: 163667534 (156M) [binary/octet-stream]\n",
      "Saving to: ‘title.basics.tsv.gz.2’\n",
      "\n",
      "title.basics.tsv.gz 100%[===================>] 156.08M  38.5MB/s    in 4.2s    \n",
      "\n",
      "2022-11-11 17:50:41 (37.2 MB/s) - ‘title.basics.tsv.gz.2’ saved [163667534/163667534]\n",
      "\n",
      "--2022-11-11 17:50:41--  https://datasets.imdbws.com/title.ratings.tsv.gz\n",
      "Resolving datasets.imdbws.com (datasets.imdbws.com)... 13.227.219.93, 13.227.219.51, 13.227.219.78, ...\n",
      "Connecting to datasets.imdbws.com (datasets.imdbws.com)|13.227.219.93|:443... connected.\n",
      "HTTP request sent, awaiting response... 200 OK\n",
      "Length: 6258233 (6.0M) [binary/octet-stream]\n",
      "Saving to: ‘title.ratings.tsv.gz.2’\n",
      "\n",
      "title.ratings.tsv.g 100%[===================>]   5.97M  29.6MB/s    in 0.2s    \n",
      "\n",
      "2022-11-11 17:50:42 (29.6 MB/s) - ‘title.ratings.tsv.gz.2’ saved [6258233/6258233]\n",
      "\n"
     ]
    }
   ]
  },
  {
   "cell_type": "code",
   "source": [
    "print(title_basics.show(5))\n",
    "print(title_ratings.show(5))"
   ],
   "metadata": {
    "id": "hILS08jNrYpQ",
    "colab": {
     "base_uri": "https://localhost:8080/"
    },
    "outputId": "de3e9c5a-222d-472e-da14-013cfc07b1ca"
   },
   "execution_count": 3,
   "outputs": [
    {
     "output_type": "stream",
     "name": "stdout",
     "text": [
      "+---------+---------+--------------------+--------------------+-------+---------+-------+--------------+--------------------+\n",
      "|   tconst|titleType|        primaryTitle|       originalTitle|isAdult|startYear|endYear|runtimeMinutes|              genres|\n",
      "+---------+---------+--------------------+--------------------+-------+---------+-------+--------------+--------------------+\n",
      "|tt0000001|    short|          Carmencita|          Carmencita|      0|     1894|     \\N|             1|   Documentary,Short|\n",
      "|tt0000002|    short|Le clown et ses c...|Le clown et ses c...|      0|     1892|     \\N|             5|     Animation,Short|\n",
      "|tt0000003|    short|      Pauvre Pierrot|      Pauvre Pierrot|      0|     1892|     \\N|             4|Animation,Comedy,...|\n",
      "|tt0000004|    short|         Un bon bock|         Un bon bock|      0|     1892|     \\N|            12|     Animation,Short|\n",
      "|tt0000005|    short|    Blacksmith Scene|    Blacksmith Scene|      0|     1893|     \\N|             1|        Comedy,Short|\n",
      "+---------+---------+--------------------+--------------------+-------+---------+-------+--------------+--------------------+\n",
      "only showing top 5 rows\n",
      "\n",
      "None\n",
      "+---------+-------------+--------+\n",
      "|   tconst|averageRating|numVotes|\n",
      "+---------+-------------+--------+\n",
      "|tt0000001|          5.7|    1922|\n",
      "|tt0000002|          5.8|     259|\n",
      "|tt0000003|          6.5|    1734|\n",
      "|tt0000004|          5.6|     174|\n",
      "|tt0000005|          6.2|    2545|\n",
      "+---------+-------------+--------+\n",
      "only showing top 5 rows\n",
      "\n",
      "None\n"
     ]
    }
   ]
  },
  {
   "cell_type": "code",
   "source": [
    "import pandas as pd\n",
    "import numpy as np\n",
    "import matplotlib.pyplot as plt\n",
    "\n",
    "from statistics import mean, stdev\n",
    "\n",
    "from scipy.stats import kstest, pearsonr, chisquare\n",
    "from scipy.stats.mstats import winsorize"
   ],
   "metadata": {
    "id": "ObfX0WPjt6Vp"
   },
   "execution_count": 4,
   "outputs": []
  },
  {
   "cell_type": "code",
   "source": [
    "def compare_with_normal_dist(sample):\n",
    "  # Create a gaussian distribution\n",
    "  m = mean(sample)\n",
    "  sd = stdev(sample)\n",
    "  x = np.random.normal(loc = m, scale = sd, size = len(sample))\n",
    "\n",
    "  # Binning\n",
    "  n_x, bins_x = np.histogram(x, bins = int(np.ceil(np.sqrt(x.size))))\n",
    "  n_y, bins_y = np.histogram(sample, bins = int(np.ceil(np.sqrt(len(sample)))))\n",
    "\n",
    "  # Normalizings\n",
    "  n_x = n_x / len(x) / len(bins_y)\n",
    "  n_y = n_y / len(sample) / len(bins_x)\n",
    "\n",
    "  # Plotting\n",
    "  plt.plot(bins_x[:-1], n_x)\n",
    "  plt.plot(bins_y[:-1], n_y)\n",
    "  plt.show()  \n",
    "\n",
    "def histogram(sample, title_lab=None):\n",
    "  plt.hist(sample)\n",
    "  plt.title(title_lab)\n",
    "  plt.show() \n",
    "\n",
    "def pearson_corr_test(vec1, vec2):\n",
    "  stat, p = pearsonr(vec1, vec2)\n",
    "  print(f'Statistic: {stat}, p-value: {p}')"
   ],
   "metadata": {
    "id": "hrZ4DoAByj2q"
   },
   "execution_count": 5,
   "outputs": []
  },
  {
   "cell_type": "markdown",
   "source": [
    "# Testy normalności "
   ],
   "metadata": {
    "id": "LNUS5-iYXTY0"
   }
  },
  {
   "cell_type": "markdown",
   "source": [
    "Przygotwanie odpowiednich wartości liczbowych"
   ],
   "metadata": {
    "id": "ZZXi3-Iksux1"
   }
  },
  {
   "cell_type": "code",
   "source": [
    "to_filter = ['\\\\N', 'Reality-TV', 'Talk-Show', 'Documentary', \n",
    "             'Animation,Comedy,Family', 'Game-Show', 'Game-Show,Reality-TV']\n",
    "\n",
    "runtime = (title_basics.select('runtimeMinutes').\n",
    "           filter(~title_basics.runtimeMinutes.isin(to_filter)))\n",
    "runtime = list(runtime.toPandas()['runtimeMinutes'])\n",
    "runtime = [float(x) for x in runtime]\n",
    "\n",
    "ratings = list(title_ratings.select('averageRating').toPandas()['averageRating'])\n",
    "ratings = [float(x) for x in ratings]\n",
    "\n",
    "votes = list(title_ratings.select('numVotes').toPandas()['numVotes'])\n",
    "votes = [float(x) for x in votes]"
   ],
   "metadata": {
    "id": "j_pHG1qBsreD"
   },
   "execution_count": 6,
   "outputs": []
  },
  {
   "cell_type": "markdown",
   "source": [
    "Rozkład ocen filmów"
   ],
   "metadata": {
    "id": "TeCJtagrJ5zO"
   }
  },
  {
   "cell_type": "code",
   "source": [
    "m_r = mean(ratings)\n",
    "sd_r = stdev(ratings)\n",
    "\n",
    "print(kstest([(x - m_r) / sd_r for x in ratings], \"norm\"))\n",
    "print(f\"mean: {m_r}, standard deviation: {sd_r}\")\n",
    "\n",
    "histogram(ratings, 'Oceny')\n",
    "compare_with_normal_dist(ratings)"
   ],
   "metadata": {
    "id": "ZKn6uACwcaBS",
    "colab": {
     "base_uri": "https://localhost:8080/",
     "height": 575
    },
    "outputId": "be734324-d246-4cc6-aac8-fb784f512c12"
   },
   "execution_count": 7,
   "outputs": [
    {
     "output_type": "stream",
     "name": "stdout",
     "text": [
      "KstestResult(statistic=0.07659309852981872, pvalue=0.0)\n",
      "mean: 6.949892651006658, standard deviation: 1.3901667315318438\n"
     ]
    },
    {
     "output_type": "display_data",
     "data": {
      "text/plain": [
       "<Figure size 432x288 with 1 Axes>"
      ],
      "image/png": "[encoded data removed]"
     },
     "metadata": {
      "needs_background": "light"
     }
    },
    {
     "output_type": "display_data",
     "data": {
      "text/plain": [
       "<Figure size 432x288 with 1 Axes>"
      ],
      "image/png": "[encoded data removed]"
     },
     "metadata": {
      "needs_background": "light"
     }
    }
   ]
  },
  {
   "cell_type": "markdown",
   "source": [
    "Rozkład liczby ocen"
   ],
   "metadata": {
    "id": "aS2tdZhsJ_P2"
   }
  },
  {
   "cell_type": "code",
   "source": [
    "m_v = mean(votes)\n",
    "sd_v = stdev(votes)\n",
    "\n",
    "print(kstest([(x - m_v) / sd_v for x in votes], \"norm\"))\n",
    "print(f\"mean: {m_v}, standard deviation: {sd_v}\")\n",
    "\n",
    "histogram(votes, 'Liczba głosów')\n",
    "compare_with_normal_dist(votes)"
   ],
   "metadata": {
    "id": "-7GwYZtPywik",
    "colab": {
     "base_uri": "https://localhost:8080/",
     "height": 590
    },
    "outputId": "10ee09d8-5ef5-41b8-834a-927a438a7dc4"
   },
   "execution_count": 8,
   "outputs": [
    {
     "output_type": "stream",
     "name": "stdout",
     "text": [
      "KstestResult(statistic=0.47607165858893874, pvalue=0.0)\n",
      "mean: 1042.0391711502389, standard deviation: 17279.532232500063\n"
     ]
    },
    {
     "output_type": "display_data",
     "data": {
      "text/plain": [
       "<Figure size 432x288 with 1 Axes>"
      ],
      "image/png": "[encoded data removed]"
     },
     "metadata": {
      "needs_background": "light"
     }
    },
    {
     "output_type": "display_data",
     "data": {
      "text/plain": [
       "<Figure size 432x288 with 1 Axes>"
      ],
      "image/png": "[encoded data removed]"
     },
     "metadata": {
      "needs_background": "light"
     }
    }
   ]
  },
  {
   "cell_type": "markdown",
   "source": [
    "Rozkład czasu trwania"
   ],
   "metadata": {
    "id": "ARbVnzCdKDZN"
   }
  },
  {
   "cell_type": "code",
   "source": [
    "m_t = mean(runtime)\n",
    "sd_t = stdev(runtime)\n",
    "\n",
    "print(kstest([(x - m_t) / sd_t for x in runtime], \"norm\"))\n",
    "print(f\"mean: {m_t}, standard deviation: {sd_t}\")\n",
    "\n",
    "histogram(runtime, 'Czas trwania')\n",
    "compare_with_normal_dist(runtime)"
   ],
   "metadata": {
    "id": "CAmn5MnRJe8N",
    "colab": {
     "base_uri": "https://localhost:8080/",
     "height": 566
    },
    "outputId": "16904dfb-7a56-43f4-e4ad-acf34c16ffb6"
   },
   "execution_count": 9,
   "outputs": [
    {
     "output_type": "stream",
     "name": "stdout",
     "text": [
      "KstestResult(statistic=0.2927393306039908, pvalue=0.0)\n",
      "mean: 43.89264214594141, standard deviation: 78.64589211096042\n"
     ]
    },
    {
     "output_type": "display_data",
     "data": {
      "text/plain": [
       "<Figure size 432x288 with 1 Axes>"
      ],
      "image/png": "[encoded data removed]"
     },
     "metadata": {
      "needs_background": "light"
     }
    },
    {
     "output_type": "display_data",
     "data": {
      "text/plain": [
       "<Figure size 432x288 with 1 Axes>"
      ],
      "image/png": "[encoded data removed]"
     },
     "metadata": {
      "needs_background": "light"
     }
    }
   ]
  },
  {
   "cell_type": "markdown",
   "source": [
    "Histogramy oraz przeprowadzone testy statystyczne sugerują, że dane nie pochodzą z rozkładu normlanego. Dla liczby ocen oraz czasu trwania wystepują obserwacje które skrajnie różnią się od średniej w danej próbce. Obserwacje te powodują, że p-value dla testów Kolomogorowa-Smirnova jest bliskie zeru."
   ],
   "metadata": {
    "id": "V16h_X4Yx7Nr"
   }
  },
  {
   "cell_type": "markdown",
   "source": [
    "# Analiza wartości odstających"
   ],
   "metadata": {
    "id": "EcQfsdWAU9Tq"
   }
  },
  {
   "cell_type": "markdown",
   "source": [
    "Usuwamy obserwacje które leża dalej niż 3*odchylenie standardowe od średniej"
   ],
   "metadata": {
    "id": "_HrD2P86sWtW"
   }
  },
  {
   "cell_type": "code",
   "source": [
    "ratings_cut = [x for x in ratings if (x > m_r - 3 * sd_r) and (x < m_r + 3 * sd_r)]\n",
    "votes_cut = [x for x in votes if (x > m_v - 3 * sd_v) and (x < m_v + 3 * sd_v)]\n",
    "runtime_cut = [x for x in runtime if (x > m_t - 3 * sd_t) and (x < m_t + 3 * sd_t)]"
   ],
   "metadata": {
    "id": "TWNCXsCbVJJD"
   },
   "execution_count": 10,
   "outputs": []
  },
  {
   "cell_type": "code",
   "source": [
    "histogram(ratings_cut, 'Oceny')\n",
    "histogram(votes_cut, 'Liczba głosów')\n",
    "histogram(runtime_cut, 'Czas trwania')"
   ],
   "metadata": {
    "colab": {
     "base_uri": "https://localhost:8080/",
     "height": 809
    },
    "id": "rrPAmLKJrIvY",
    "outputId": "c0403033-277f-4c99-d694-b32379d5fd37"
   },
   "execution_count": 11,
   "outputs": [
    {
     "output_type": "display_data",
     "data": {
      "text/plain": [
       "<Figure size 432x288 with 1 Axes>"
      ],
      "image/png": "[encoded data removed]"
     },
     "metadata": {
      "needs_background": "light"
     }
    },
    {
     "output_type": "display_data",
     "data": {
      "text/plain": [
       "<Figure size 432x288 with 1 Axes>"
      ],
      "image/png": "[encoded data removed]"
     },
     "metadata": {
      "needs_background": "light"
     }
    },
    {
     "output_type": "display_data",
     "data": {
      "text/plain": [
       "<Figure size 432x288 with 1 Axes>"
      ],
      "image/png": "[encoded data removed]"
     },
     "metadata": {
      "needs_background": "light"
     }
    }
   ]
  },
  {
   "cell_type": "markdown",
   "source": [
    "Widzimy, że dla liczby głosów taka korekta nie jest wystarczająca. Nadal istnieją filmy które posiadają kilka tysięcy ocen, podczas gdy większość filmów ma mnije niż 2500 ocen."
   ],
   "metadata": {
    "id": "2RBVYcfYtjs5"
   }
  },
  {
   "cell_type": "markdown",
   "source": [
    "W tej metodzie nie usuwamy wartości skrajnych lecz mapujemy je na wartości kwantyla 1% i 99%."
   ],
   "metadata": {
    "id": "7WX-v_w8uQlq"
   }
  },
  {
   "cell_type": "code",
   "source": [
    "ratings_win = winsorize(ratings, limits=[0.01, 0.01])\n",
    "votes_win = winsorize(votes, limits=[0.01, 0.01])\n",
    "runtime_win = winsorize(runtime, limits=[0.01, 0.01])"
   ],
   "metadata": {
    "id": "Fam1MLdwudxT"
   },
   "execution_count": 12,
   "outputs": []
  },
  {
   "cell_type": "code",
   "source": [
    "histogram(ratings_win, 'Oceny')\n",
    "histogram(votes_win, 'Liczba głosów')\n",
    "histogram(runtime_win, 'Czas trwania')"
   ],
   "metadata": {
    "colab": {
     "base_uri": "https://localhost:8080/",
     "height": 809
    },
    "id": "4HHL4CQZurRT",
    "outputId": "c7c131e7-1eaa-48ed-989a-48d239462b26"
   },
   "execution_count": 13,
   "outputs": [
    {
     "output_type": "display_data",
     "data": {
      "text/plain": [
       "<Figure size 432x288 with 1 Axes>"
      ],
      "image/png": "[encoded data removed]"
     },
     "metadata": {
      "needs_background": "light"
     }
    },
    {
     "output_type": "display_data",
     "data": {
      "text/plain": [
       "<Figure size 432x288 with 1 Axes>"
      ],
      "image/png": "[encoded data removed]"
     },
     "metadata": {
      "needs_background": "light"
     }
    },
    {
     "output_type": "display_data",
     "data": {
      "text/plain": [
       "<Figure size 432x288 with 1 Axes>"
      ],
      "image/png": "[encoded data removed]"
     },
     "metadata": {
      "needs_background": "light"
     }
    }
   ]
  },
  {
   "cell_type": "markdown",
   "source": [
    "Metoda może być użyta dla czasu trwania i ocen jednak rozkład liczby głosów  dalej posiada wartości odstające. Prawdopodonie, aby dostać jendorodny rozkład, należałoby podzielić ten zbiór na grupy w zależności od np. regionu lub budżetu filmu."
   ],
   "metadata": {
    "id": "2uGfm0FNvgyw"
   }
  },
  {
   "cell_type": "markdown",
   "source": [
    "# Analiza korelacji"
   ],
   "metadata": {
    "id": "h3JxIPYbWmie"
   }
  },
  {
   "cell_type": "code",
   "source": [
    "data = title_basics.join(title_ratings, \n",
    "                         how='inner', \n",
    "                         on='tconst').select(['averageRating', \n",
    "                                              'numVotes', \n",
    "                                              'runtimeMinutes'])\n",
    "data = data.filter(~data.runtimeMinutes.isin(to_filter))\n",
    "data = data.distinct().toPandas()\n",
    "data = data.apply(pd.to_numeric)"
   ],
   "metadata": {
    "id": "eQ-l77epW5GD"
   },
   "execution_count": 14,
   "outputs": []
  },
  {
   "cell_type": "code",
   "source": [
    "print(data.corr())"
   ],
   "metadata": {
    "id": "6hCO-mZHc1Ph",
    "colab": {
     "base_uri": "https://localhost:8080/"
    },
    "outputId": "ef376f48-8524-4ba0-f556-c7149a4b8c32"
   },
   "execution_count": 15,
   "outputs": [
    {
     "output_type": "stream",
     "name": "stdout",
     "text": [
      "                averageRating  numVotes  runtimeMinutes\n",
      "averageRating        1.000000  0.031923       -0.054165\n",
      "numVotes             0.031923  1.000000        0.027252\n",
      "runtimeMinutes      -0.054165  0.027252        1.000000\n"
     ]
    }
   ]
  },
  {
   "cell_type": "code",
   "source": [
    "pearson_corr_test(data.loc[:, 'numVotes'], data.loc[:, 'averageRating'])\n",
    "pearson_corr_test(data.loc[:, 'numVotes'], data.loc[:, 'runtimeMinutes'])\n",
    "pearson_corr_test(data.loc[:, 'runtimeMinutes'], data.loc[:, 'averageRating'])"
   ],
   "metadata": {
    "id": "0zzqzdUrWptY",
    "colab": {
     "base_uri": "https://localhost:8080/"
    },
    "outputId": "884c3cb0-2d38-40df-9cf9-11de37fcf131"
   },
   "execution_count": 16,
   "outputs": [
    {
     "output_type": "stream",
     "name": "stdout",
     "text": [
      "Statistic: 0.031922764782960286, p-value: 4.45857511691228e-114\n",
      "Statistic: 0.027252006062312508, p-value: 1.1950491399249539e-83\n",
      "Statistic: -0.054164799011934425, p-value: 0.0\n"
     ]
    }
   ]
  },
  {
   "cell_type": "markdown",
   "source": [
    "Macierz korelacji oraz przeprwoadzone testy sugerują brak korelacji między liczbą głosów, średnią oceną i czasem trwania."
   ],
   "metadata": {
    "id": "Nwihhlc8xKRr"
   }
  },
  {
   "cell_type": "markdown",
   "source": [
    "# Testy jednorodności"
   ],
   "metadata": {
    "id": "-qDDPrdajss1"
   }
  },
  {
   "cell_type": "code",
   "source": [
    "chisquare(data.loc[:, 'numVotes'], data.loc[:, 'averageRating'])"
   ],
   "metadata": {
    "colab": {
     "base_uri": "https://localhost:8080/",
     "height": 328
    },
    "id": "-B6P1SESjzG_",
    "outputId": "f7c3f38b-8bfe-4ccb-c3ae-4311057f790c"
   },
   "execution_count": 17,
   "outputs": [
    {
     "output_type": "error",
     "ename": "ValueError",
     "evalue": "ignored",
     "traceback": [
      "\u001B[0;31m---------------------------------------------------------------------------\u001B[0m",
      "\u001B[0;31mValueError\u001B[0m                                Traceback (most recent call last)",
      "\u001B[0;32m<ipython-input-17-c5e0732e045d>\u001B[0m in \u001B[0;36m<module>\u001B[0;34m\u001B[0m\n\u001B[0;32m----> 1\u001B[0;31m \u001B[0mchisquare\u001B[0m\u001B[0;34m(\u001B[0m\u001B[0mdata\u001B[0m\u001B[0;34m.\u001B[0m\u001B[0mloc\u001B[0m\u001B[0;34m[\u001B[0m\u001B[0;34m:\u001B[0m\u001B[0;34m,\u001B[0m \u001B[0;34m'numVotes'\u001B[0m\u001B[0;34m]\u001B[0m\u001B[0;34m,\u001B[0m \u001B[0mdata\u001B[0m\u001B[0;34m.\u001B[0m\u001B[0mloc\u001B[0m\u001B[0;34m[\u001B[0m\u001B[0;34m:\u001B[0m\u001B[0;34m,\u001B[0m \u001B[0;34m'averageRating'\u001B[0m\u001B[0;34m]\u001B[0m\u001B[0;34m)\u001B[0m\u001B[0;34m\u001B[0m\u001B[0;34m\u001B[0m\u001B[0m\n\u001B[0m",
      "\u001B[0;32m/usr/local/lib/python3.7/dist-packages/scipy/stats/stats.py\u001B[0m in \u001B[0;36mchisquare\u001B[0;34m(f_obs, f_exp, ddof, axis)\u001B[0m\n\u001B[1;32m   6851\u001B[0m     \"\"\"\n\u001B[1;32m   6852\u001B[0m     return power_divergence(f_obs, f_exp=f_exp, ddof=ddof, axis=axis,\n\u001B[0;32m-> 6853\u001B[0;31m                             lambda_=\"pearson\")\n\u001B[0m\u001B[1;32m   6854\u001B[0m \u001B[0;34m\u001B[0m\u001B[0m\n\u001B[1;32m   6855\u001B[0m \u001B[0;34m\u001B[0m\u001B[0m\n",
      "\u001B[0;32m/usr/local/lib/python3.7/dist-packages/scipy/stats/stats.py\u001B[0m in \u001B[0;36mpower_divergence\u001B[0;34m(f_obs, f_exp, ddof, axis, lambda_)\u001B[0m\n\u001B[1;32m   6692\u001B[0m                    \u001B[0;34mf\"of {rtol}, but the percent differences are:\\n\"\u001B[0m\u001B[0;34m\u001B[0m\u001B[0;34m\u001B[0m\u001B[0m\n\u001B[1;32m   6693\u001B[0m                    f\"{relative_diff}\")\n\u001B[0;32m-> 6694\u001B[0;31m             \u001B[0;32mraise\u001B[0m \u001B[0mValueError\u001B[0m\u001B[0;34m(\u001B[0m\u001B[0mmsg\u001B[0m\u001B[0;34m)\u001B[0m\u001B[0;34m\u001B[0m\u001B[0;34m\u001B[0m\u001B[0m\n\u001B[0m\u001B[1;32m   6695\u001B[0m \u001B[0;34m\u001B[0m\u001B[0m\n\u001B[1;32m   6696\u001B[0m     \u001B[0;32melse\u001B[0m\u001B[0;34m:\u001B[0m\u001B[0;34m\u001B[0m\u001B[0;34m\u001B[0m\u001B[0m\n",
      "\u001B[0;31mValueError\u001B[0m: For each axis slice, the sum of the observed frequencies must agree with the sum of the expected frequencies to a relative tolerance of 1e-08, but the percent differences are:\n373.29410345217013"
     ]
    }
   ]
  }
 ]
}