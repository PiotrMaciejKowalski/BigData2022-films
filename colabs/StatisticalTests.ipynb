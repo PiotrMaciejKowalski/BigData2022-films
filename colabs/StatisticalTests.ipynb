{
  "nbformat": 4,
  "nbformat_minor": 0,
  "metadata": {
    "colab": {
      "provenance": []
    },
    "kernelspec": {
      "name": "python3",
      "display_name": "Python 3"
    },
    "language_info": {
      "name": "python"
    }
  },
  "cells": [
    {
      "cell_type": "markdown",
      "source": [
        "Load Data"
      ],
      "metadata": {
        "id": "ZQYFoZhzXDJ2"
      }
    },
    {
      "cell_type": "code",
      "execution_count": 1,
      "metadata": {
        "colab": {
          "base_uri": "https://localhost:8080/"
        },
        "id": "YXJPQNA9W2CI",
        "outputId": "d43fc466-5355-4df5-9fb2-e006f6bf4dd8"
      },
      "outputs": [
        {
          "output_type": "stream",
          "name": "stdout",
          "text": [
            "default-java\t\t   java-11-openjdk-amd64     java-8-openjdk-amd64\n",
            "java-1.11.0-openjdk-amd64  java-1.8.0-openjdk-amd64\n",
            "Looking in indexes: https://pypi.org/simple, https://us-python.pkg.dev/colab-wheels/public/simple/\n",
            "Requirement already satisfied: pyarrow in /usr/local/lib/python3.7/dist-packages (6.0.1)\n",
            "Collecting pyarrow\n",
            "  Downloading pyarrow-10.0.0-cp37-cp37m-manylinux_2_17_x86_64.manylinux2014_x86_64.whl (35.4 MB)\n",
            "\u001b[K     |████████████████████████████████| 35.4 MB 247 kB/s \n",
            "\u001b[?25hRequirement already satisfied: numpy>=1.16.6 in /usr/local/lib/python3.7/dist-packages (from pyarrow) (1.21.6)\n",
            "Installing collected packages: pyarrow\n",
            "  Attempting uninstall: pyarrow\n",
            "    Found existing installation: pyarrow 6.0.1\n",
            "    Uninstalling pyarrow-6.0.1:\n",
            "      Successfully uninstalled pyarrow-6.0.1\n",
            "Successfully installed pyarrow-10.0.0\n"
          ]
        }
      ],
      "source": [
        "# install Java8\n",
        "!apt-get install openjdk-8-jdk-headless -qq > /dev/null\n",
        "# download spark2.4.5\n",
        "!wget -q https://archive.apache.org/dist/spark/spark-2.4.5/spark-2.4.5-bin-hadoop2.7.tgz\n",
        "# unzip it\n",
        "!tar xf spark-2.4.5-bin-hadoop2.7.tgz\n",
        "# install findspark\n",
        "!pip install -q findspark\n",
        "# Google Colab has Java 11 available, test it using below command -\n",
        "!ls /usr/lib/jvm\n",
        "#install pyarrow\n",
        "!pip install -U pyarrow"
      ]
    },
    {
      "cell_type": "code",
      "source": [
        "import os\n",
        "import findspark\n",
        "\n",
        "os.environ[\"JAVA_HOME\"] = \"/usr/lib/jvm/java-8-openjdk-amd64\"\n",
        "os.environ[\"SPARK_HOME\"] = \"/content/spark-2.4.5-bin-hadoop2.7\"\n",
        "\n",
        "findspark.init()\n",
        "from pyspark.sql import SparkSession\n",
        "\n",
        "spark = SparkSession.builder.master(\"local[*]\").getOrCreate()\n",
        "spark_params = {\n",
        "\"spark.executor.memory\" : \"4g\",\n",
        "\"spark.driver.memory\": \"4g\",\n",
        "\"spark.memory.fraction\": \"0.9\"}\n",
        "for param, value in spark_params.items():\n",
        "  spark.conf.set(param, value)\n",
        "\n",
        "!wget \"https://datasets.imdbws.com/name.basics.tsv.gz\"\n",
        "!wget \"https://datasets.imdbws.com/title.akas.tsv.gz\"\n",
        "!wget \"https://datasets.imdbws.com/title.basics.tsv.gz\"\n",
        "!wget \"https://datasets.imdbws.com/title.crew.tsv.gz\"\n",
        "!wget \"https://datasets.imdbws.com/title.episode.tsv.gz\"\n",
        "!wget \"https://datasets.imdbws.com/title.principals.tsv.gz\"\n",
        "!wget \"https://datasets.imdbws.com/title.ratings.tsv.gz\"\n",
        "\n",
        "title_ratings = spark.read.csv(\"title.ratings.tsv.gz\", sep='\\t', header=True)\n",
        "title_basics = spark.read.csv(\"title.basics.tsv.gz\", sep='\\t', header=True)"
      ],
      "metadata": {
        "colab": {
          "base_uri": "https://localhost:8080/"
        },
        "id": "SqWCiLz4W_9R",
        "outputId": "3a8f8762-d73a-4350-967d-28f6e47f693f"
      },
      "execution_count": 2,
      "outputs": [
        {
          "output_type": "stream",
          "name": "stdout",
          "text": [
            "--2022-11-07 15:17:49--  https://datasets.imdbws.com/name.basics.tsv.gz\n",
            "Resolving datasets.imdbws.com (datasets.imdbws.com)... 13.224.167.91, 13.224.167.31, 13.224.167.100, ...\n",
            "Connecting to datasets.imdbws.com (datasets.imdbws.com)|13.224.167.91|:443... connected.\n",
            "HTTP request sent, awaiting response... 200 OK\n",
            "Length: 236081246 (225M) [binary/octet-stream]\n",
            "Saving to: ‘name.basics.tsv.gz’\n",
            "\n",
            "name.basics.tsv.gz  100%[===================>] 225.14M  19.2MB/s    in 13s     \n",
            "\n",
            "2022-11-07 15:18:03 (17.1 MB/s) - ‘name.basics.tsv.gz’ saved [236081246/236081246]\n",
            "\n",
            "--2022-11-07 15:18:03--  https://datasets.imdbws.com/title.akas.tsv.gz\n",
            "Resolving datasets.imdbws.com (datasets.imdbws.com)... 13.224.167.91, 13.224.167.31, 13.224.167.100, ...\n",
            "Connecting to datasets.imdbws.com (datasets.imdbws.com)|13.224.167.91|:443... connected.\n",
            "HTTP request sent, awaiting response... 200 OK\n",
            "Length: 286770276 (273M) [binary/octet-stream]\n",
            "Saving to: ‘title.akas.tsv.gz’\n",
            "\n",
            "title.akas.tsv.gz   100%[===================>] 273.49M  24.3MB/s    in 12s     \n",
            "\n",
            "2022-11-07 15:18:15 (23.1 MB/s) - ‘title.akas.tsv.gz’ saved [286770276/286770276]\n",
            "\n",
            "--2022-11-07 15:18:15--  https://datasets.imdbws.com/title.basics.tsv.gz\n",
            "Resolving datasets.imdbws.com (datasets.imdbws.com)... 13.224.167.91, 13.224.167.31, 13.224.167.100, ...\n",
            "Connecting to datasets.imdbws.com (datasets.imdbws.com)|13.224.167.91|:443... connected.\n",
            "HTTP request sent, awaiting response... 200 OK\n",
            "Length: 163502553 (156M) [binary/octet-stream]\n",
            "Saving to: ‘title.basics.tsv.gz’\n",
            "\n",
            "title.basics.tsv.gz 100%[===================>] 155.93M  18.8MB/s    in 7.8s    \n",
            "\n",
            "2022-11-07 15:18:23 (19.9 MB/s) - ‘title.basics.tsv.gz’ saved [163502553/163502553]\n",
            "\n",
            "--2022-11-07 15:18:23--  https://datasets.imdbws.com/title.crew.tsv.gz\n",
            "Resolving datasets.imdbws.com (datasets.imdbws.com)... 13.224.167.100, 13.224.167.31, 13.224.167.126, ...\n",
            "Connecting to datasets.imdbws.com (datasets.imdbws.com)|13.224.167.100|:443... connected.\n",
            "HTTP request sent, awaiting response... 200 OK\n",
            "Length: 62766217 (60M) [binary/octet-stream]\n",
            "Saving to: ‘title.crew.tsv.gz’\n",
            "\n",
            "title.crew.tsv.gz   100%[===================>]  59.86M  14.7MB/s    in 4.6s    \n",
            "\n",
            "2022-11-07 15:18:29 (12.9 MB/s) - ‘title.crew.tsv.gz’ saved [62766217/62766217]\n",
            "\n",
            "--2022-11-07 15:18:29--  https://datasets.imdbws.com/title.episode.tsv.gz\n",
            "Resolving datasets.imdbws.com (datasets.imdbws.com)... 13.224.167.100, 13.224.167.31, 13.224.167.126, ...\n",
            "Connecting to datasets.imdbws.com (datasets.imdbws.com)|13.224.167.100|:443... connected.\n",
            "HTTP request sent, awaiting response... 200 OK\n",
            "Length: 38444787 (37M) [binary/octet-stream]\n",
            "Saving to: ‘title.episode.tsv.gz’\n",
            "\n",
            "title.episode.tsv.g 100%[===================>]  36.66M  11.4MB/s    in 3.2s    \n",
            "\n",
            "2022-11-07 15:18:33 (11.4 MB/s) - ‘title.episode.tsv.gz’ saved [38444787/38444787]\n",
            "\n",
            "--2022-11-07 15:18:33--  https://datasets.imdbws.com/title.principals.tsv.gz\n",
            "Resolving datasets.imdbws.com (datasets.imdbws.com)... 13.224.167.100, 13.224.167.31, 13.224.167.126, ...\n",
            "Connecting to datasets.imdbws.com (datasets.imdbws.com)|13.224.167.100|:443... connected.\n",
            "HTTP request sent, awaiting response... 200 OK\n",
            "Length: 416281027 (397M) [binary/octet-stream]\n",
            "Saving to: ‘title.principals.tsv.gz’\n",
            "\n",
            "title.principals.ts 100%[===================>] 397.00M  25.9MB/s    in 17s     \n",
            "\n",
            "2022-11-07 15:18:51 (22.8 MB/s) - ‘title.principals.tsv.gz’ saved [416281027/416281027]\n",
            "\n",
            "--2022-11-07 15:18:51--  https://datasets.imdbws.com/title.ratings.tsv.gz\n",
            "Resolving datasets.imdbws.com (datasets.imdbws.com)... 13.224.167.100, 13.224.167.31, 13.224.167.126, ...\n",
            "Connecting to datasets.imdbws.com (datasets.imdbws.com)|13.224.167.100|:443... connected.\n",
            "HTTP request sent, awaiting response... 200 OK\n",
            "Length: 6253717 (6.0M) [binary/octet-stream]\n",
            "Saving to: ‘title.ratings.tsv.gz’\n",
            "\n",
            "title.ratings.tsv.g 100%[===================>]   5.96M  3.76MB/s    in 1.6s    \n",
            "\n",
            "2022-11-07 15:18:54 (3.76 MB/s) - ‘title.ratings.tsv.gz’ saved [6253717/6253717]\n",
            "\n"
          ]
        }
      ]
    },
    {
      "cell_type": "code",
      "source": [
        "print(title_basics.show(5))\n",
        "print(title_ratings.show(5))"
      ],
      "metadata": {
        "colab": {
          "base_uri": "https://localhost:8080/"
        },
        "id": "hILS08jNrYpQ",
        "outputId": "35af515e-652a-40b6-fb99-ef0410c56d8f"
      },
      "execution_count": 3,
      "outputs": [
        {
          "output_type": "stream",
          "name": "stdout",
          "text": [
            "+---------+---------+--------------------+--------------------+-------+---------+-------+--------------+--------------------+\n",
            "|   tconst|titleType|        primaryTitle|       originalTitle|isAdult|startYear|endYear|runtimeMinutes|              genres|\n",
            "+---------+---------+--------------------+--------------------+-------+---------+-------+--------------+--------------------+\n",
            "|tt0000001|    short|          Carmencita|          Carmencita|      0|     1894|     \\N|             1|   Documentary,Short|\n",
            "|tt0000002|    short|Le clown et ses c...|Le clown et ses c...|      0|     1892|     \\N|             5|     Animation,Short|\n",
            "|tt0000003|    short|      Pauvre Pierrot|      Pauvre Pierrot|      0|     1892|     \\N|             4|Animation,Comedy,...|\n",
            "|tt0000004|    short|         Un bon bock|         Un bon bock|      0|     1892|     \\N|            12|     Animation,Short|\n",
            "|tt0000005|    short|    Blacksmith Scene|    Blacksmith Scene|      0|     1893|     \\N|             1|        Comedy,Short|\n",
            "+---------+---------+--------------------+--------------------+-------+---------+-------+--------------+--------------------+\n",
            "only showing top 5 rows\n",
            "\n",
            "None\n",
            "+---------+-------------+--------+\n",
            "|   tconst|averageRating|numVotes|\n",
            "+---------+-------------+--------+\n",
            "|tt0000001|          5.7|    1922|\n",
            "|tt0000002|          5.8|     259|\n",
            "|tt0000003|          6.5|    1733|\n",
            "|tt0000004|          5.6|     174|\n",
            "|tt0000005|          6.2|    2544|\n",
            "+---------+-------------+--------+\n",
            "only showing top 5 rows\n",
            "\n",
            "None\n"
          ]
        }
      ]
    },
    {
      "cell_type": "markdown",
      "source": [
        "Normality Tests"
      ],
      "metadata": {
        "id": "LNUS5-iYXTY0"
      }
    },
    {
      "cell_type": "code",
      "source": [
        "from scipy import stats"
      ],
      "metadata": {
        "id": "ZKn6uACwcaBS"
      },
      "execution_count": 4,
      "outputs": []
    }
  ]
}