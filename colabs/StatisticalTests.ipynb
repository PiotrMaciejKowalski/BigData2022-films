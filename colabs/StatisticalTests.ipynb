{
 "nbformat": 4,
 "nbformat_minor": 0,
 "metadata": {
  "colab": {
   "provenance": [],
   "collapsed_sections": [],
   "toc_visible": true
  },
  "kernelspec": {
   "name": "python3",
   "display_name": "Python 3"
  },
  "language_info": {
   "name": "python"
  }
 },
 "cells": [
  {
   "cell_type": "markdown",
   "source": [
    "# Przygotowanie danych i środowiska"
   ],
   "metadata": {
    "id": "ZQYFoZhzXDJ2"
   }
  },
  {
   "cell_type": "code",
   "execution_count": 1,
   "metadata": {
    "colab": {
     "base_uri": "https://localhost:8080/"
    },
    "id": "YXJPQNA9W2CI",
    "outputId": "9f43b0bc-6ffe-4501-82ad-12d1c3e7795f"
   },
   "outputs": [
    {
     "output_type": "stream",
     "name": "stdout",
     "text": [
      "default-java\t\t   java-11-openjdk-amd64     java-8-openjdk-amd64\n",
      "java-1.11.0-openjdk-amd64  java-1.8.0-openjdk-amd64\n",
      "Looking in indexes: https://pypi.org/simple, https://us-python.pkg.dev/colab-wheels/public/simple/\n",
      "Requirement already satisfied: pyarrow in /usr/local/lib/python3.7/dist-packages (6.0.1)\n",
      "Collecting pyarrow\n",
      "  Downloading pyarrow-10.0.0-cp37-cp37m-manylinux_2_17_x86_64.manylinux2014_x86_64.whl (35.4 MB)\n",
      "\u001B[K     |████████████████████████████████| 35.4 MB 381 kB/s \n",
      "\u001B[?25hRequirement already satisfied: numpy>=1.16.6 in /usr/local/lib/python3.7/dist-packages (from pyarrow) (1.21.6)\n",
      "Installing collected packages: pyarrow\n",
      "  Attempting uninstall: pyarrow\n",
      "    Found existing installation: pyarrow 6.0.1\n",
      "    Uninstalling pyarrow-6.0.1:\n",
      "      Successfully uninstalled pyarrow-6.0.1\n",
      "\u001B[31mERROR: pip's dependency resolver does not currently take into account all the packages that are installed. This behaviour is the source of the following dependency conflicts.\n",
      "pandas-gbq 0.17.9 requires pyarrow<10.0dev,>=3.0.0, but you have pyarrow 10.0.0 which is incompatible.\n",
      "db-dtypes 1.0.4 requires pyarrow<10.0dev,>=3.0.0, but you have pyarrow 10.0.0 which is incompatible.\u001B[0m\n",
      "Successfully installed pyarrow-10.0.0\n",
      "Looking in indexes: https://pypi.org/simple, https://us-python.pkg.dev/colab-wheels/public/simple/\n",
      "Collecting scikit_posthocs\n",
      "  Downloading scikit_posthocs-0.7.0-py3-none-any.whl (38 kB)\n",
      "Requirement already satisfied: matplotlib in /usr/local/lib/python3.7/dist-packages (from scikit_posthocs) (3.2.2)\n",
      "Requirement already satisfied: pandas>=0.20.0 in /usr/local/lib/python3.7/dist-packages (from scikit_posthocs) (1.3.5)\n",
      "Requirement already satisfied: numpy in /usr/local/lib/python3.7/dist-packages (from scikit_posthocs) (1.21.6)\n",
      "Requirement already satisfied: seaborn in /usr/local/lib/python3.7/dist-packages (from scikit_posthocs) (0.11.2)\n",
      "Requirement already satisfied: scipy in /usr/local/lib/python3.7/dist-packages (from scikit_posthocs) (1.7.3)\n",
      "Requirement already satisfied: statsmodels in /usr/local/lib/python3.7/dist-packages (from scikit_posthocs) (0.12.2)\n",
      "Requirement already satisfied: python-dateutil>=2.7.3 in /usr/local/lib/python3.7/dist-packages (from pandas>=0.20.0->scikit_posthocs) (2.8.2)\n",
      "Requirement already satisfied: pytz>=2017.3 in /usr/local/lib/python3.7/dist-packages (from pandas>=0.20.0->scikit_posthocs) (2022.6)\n",
      "Requirement already satisfied: six>=1.5 in /usr/local/lib/python3.7/dist-packages (from python-dateutil>=2.7.3->pandas>=0.20.0->scikit_posthocs) (1.15.0)\n",
      "Requirement already satisfied: cycler>=0.10 in /usr/local/lib/python3.7/dist-packages (from matplotlib->scikit_posthocs) (0.11.0)\n",
      "Requirement already satisfied: pyparsing!=2.0.4,!=2.1.2,!=2.1.6,>=2.0.1 in /usr/local/lib/python3.7/dist-packages (from matplotlib->scikit_posthocs) (3.0.9)\n",
      "Requirement already satisfied: kiwisolver>=1.0.1 in /usr/local/lib/python3.7/dist-packages (from matplotlib->scikit_posthocs) (1.4.4)\n",
      "Requirement already satisfied: typing-extensions in /usr/local/lib/python3.7/dist-packages (from kiwisolver>=1.0.1->matplotlib->scikit_posthocs) (4.1.1)\n",
      "Requirement already satisfied: patsy>=0.5 in /usr/local/lib/python3.7/dist-packages (from statsmodels->scikit_posthocs) (0.5.3)\n",
      "Installing collected packages: scikit-posthocs\n",
      "Successfully installed scikit-posthocs-0.7.0\n"
     ]
    }
   ],
   "source": [
    "# install Java8\n",
    "!apt-get install openjdk-8-jdk-headless -qq > /dev/null\n",
    "# download spark2.4.5\n",
    "!wget -q https://archive.apache.org/dist/spark/spark-2.4.5/spark-2.4.5-bin-hadoop2.7.tgz\n",
    "# unzip it\n",
    "!tar xf spark-2.4.5-bin-hadoop2.7.tgz\n",
    "# install findspark\n",
    "!pip install -q findspark\n",
    "# Google Colab has Java 11 available, test it using below command -\n",
    "!ls /usr/lib/jvm\n",
    "#install pyarrow\n",
    "!pip install -U pyarrow\n",
    "# Tietjen-Moore test package\n",
    "!pip install scikit_posthocs"
   ]
  },
  {
   "cell_type": "code",
   "source": [
    "import os\n",
    "import findspark\n",
    "\n",
    "os.environ[\"JAVA_HOME\"] = \"/usr/lib/jvm/java-8-openjdk-amd64\"\n",
    "os.environ[\"SPARK_HOME\"] = \"/content/spark-2.4.5-bin-hadoop2.7\"\n",
    "\n",
    "findspark.init()\n",
    "from pyspark.sql import SparkSession\n",
    "\n",
    "spark = SparkSession.builder.master(\"local[*]\").getOrCreate()\n",
    "spark_params = {\n",
    "\"spark.executor.memory\" : \"4g\",\n",
    "\"spark.driver.memory\": \"4g\",\n",
    "\"spark.memory.fraction\": \"0.9\"}\n",
    "for param, value in spark_params.items():\n",
    "  spark.conf.set(param, value)\n",
    "\n",
    "!wget \"https://datasets.imdbws.com/title.basics.tsv.gz\"\n",
    "!wget \"https://datasets.imdbws.com/title.ratings.tsv.gz\"\n",
    "\n",
    "title_ratings = spark.read.csv(\"title.ratings.tsv.gz\", sep='\\t', header=True)\n",
    "title_basics = spark.read.csv(\"title.basics.tsv.gz\", sep='\\t', header=True)"
   ],
   "metadata": {
    "colab": {
     "base_uri": "https://localhost:8080/"
    },
    "id": "SqWCiLz4W_9R",
    "outputId": "ca29a514-42eb-4027-c187-2c50a3c99937"
   },
   "execution_count": 2,
   "outputs": [
    {
     "output_type": "stream",
     "name": "stdout",
     "text": [
      "--2022-11-12 17:00:35--  https://datasets.imdbws.com/title.basics.tsv.gz\n",
      "Resolving datasets.imdbws.com (datasets.imdbws.com)... 54.230.18.35, 54.230.18.84, 54.230.18.48, ...\n",
      "Connecting to datasets.imdbws.com (datasets.imdbws.com)|54.230.18.35|:443... connected.\n",
      "HTTP request sent, awaiting response... 200 OK\n",
      "Length: 163698858 (156M) [binary/octet-stream]\n",
      "Saving to: ‘title.basics.tsv.gz’\n",
      "\n",
      "title.basics.tsv.gz 100%[===================>] 156.12M   104MB/s    in 1.5s    \n",
      "\n",
      "2022-11-12 17:00:36 (104 MB/s) - ‘title.basics.tsv.gz’ saved [163698858/163698858]\n",
      "\n",
      "--2022-11-12 17:00:37--  https://datasets.imdbws.com/title.ratings.tsv.gz\n",
      "Resolving datasets.imdbws.com (datasets.imdbws.com)... 54.230.18.35, 54.230.18.84, 54.230.18.48, ...\n",
      "Connecting to datasets.imdbws.com (datasets.imdbws.com)|54.230.18.35|:443... connected.\n",
      "HTTP request sent, awaiting response... 200 OK\n",
      "Length: 6261134 (6.0M) [binary/octet-stream]\n",
      "Saving to: ‘title.ratings.tsv.gz’\n",
      "\n",
      "title.ratings.tsv.g 100%[===================>]   5.97M  --.-KB/s    in 0.1s    \n",
      "\n",
      "2022-11-12 17:00:37 (41.3 MB/s) - ‘title.ratings.tsv.gz’ saved [6261134/6261134]\n",
      "\n"
     ]
    }
   ]
  },
  {
   "cell_type": "code",
   "source": [
    "print(title_basics.show(5))\n",
    "print(title_ratings.show(5))"
   ],
   "metadata": {
    "id": "hILS08jNrYpQ",
    "colab": {
     "base_uri": "https://localhost:8080/"
    },
    "outputId": "6bb919e2-23b7-414b-93a3-28daa843cbc3"
   },
   "execution_count": 3,
   "outputs": [
    {
     "output_type": "stream",
     "name": "stdout",
     "text": [
      "+---------+---------+--------------------+--------------------+-------+---------+-------+--------------+--------------------+\n",
      "|   tconst|titleType|        primaryTitle|       originalTitle|isAdult|startYear|endYear|runtimeMinutes|              genres|\n",
      "+---------+---------+--------------------+--------------------+-------+---------+-------+--------------+--------------------+\n",
      "|tt0000001|    short|          Carmencita|          Carmencita|      0|     1894|     \\N|             1|   Documentary,Short|\n",
      "|tt0000002|    short|Le clown et ses c...|Le clown et ses c...|      0|     1892|     \\N|             5|     Animation,Short|\n",
      "|tt0000003|    short|      Pauvre Pierrot|      Pauvre Pierrot|      0|     1892|     \\N|             4|Animation,Comedy,...|\n",
      "|tt0000004|    short|         Un bon bock|         Un bon bock|      0|     1892|     \\N|            12|     Animation,Short|\n",
      "|tt0000005|    short|    Blacksmith Scene|    Blacksmith Scene|      0|     1893|     \\N|             1|        Comedy,Short|\n",
      "+---------+---------+--------------------+--------------------+-------+---------+-------+--------------+--------------------+\n",
      "only showing top 5 rows\n",
      "\n",
      "None\n",
      "+---------+-------------+--------+\n",
      "|   tconst|averageRating|numVotes|\n",
      "+---------+-------------+--------+\n",
      "|tt0000001|          5.7|    1922|\n",
      "|tt0000002|          5.8|     259|\n",
      "|tt0000003|          6.5|    1734|\n",
      "|tt0000004|          5.6|     174|\n",
      "|tt0000005|          6.2|    2546|\n",
      "+---------+-------------+--------+\n",
      "only showing top 5 rows\n",
      "\n",
      "None\n"
     ]
    }
   ]
  },
  {
   "cell_type": "code",
   "source": [
    "import pandas as pd\n",
    "import numpy as np\n",
    "import matplotlib.pyplot as plt\n",
    "\n",
    "from statistics import mean, stdev\n",
    "\n",
    "from scipy.stats import kstest, pearsonr, chi2_contingency\n",
    "from scipy.stats.mstats import winsorize"
   ],
   "metadata": {
    "id": "ObfX0WPjt6Vp"
   },
   "execution_count": 4,
   "outputs": []
  },
  {
   "cell_type": "code",
   "source": [
    "def compare_with_normal_dist(sample):\n",
    "  # Create a gaussian distribution\n",
    "  m = mean(sample)\n",
    "  sd = stdev(sample)\n",
    "  x = np.random.normal(loc = m, scale = sd, size = len(sample))\n",
    "\n",
    "  # Binning\n",
    "  n_x, bins_x = np.histogram(x, bins = int(np.ceil(np.sqrt(x.size))))\n",
    "  n_y, bins_y = np.histogram(sample, bins = int(np.ceil(np.sqrt(len(sample)))))\n",
    "\n",
    "  # Normalizings\n",
    "  n_x = n_x / len(x) / len(bins_y)\n",
    "  n_y = n_y / len(sample) / len(bins_x)\n",
    "\n",
    "  # Plotting\n",
    "  plt.plot(bins_x[:-1], n_x)\n",
    "  plt.plot(bins_y[:-1], n_y)\n",
    "  plt.show()  \n",
    "\n",
    "def histogram(sample, title_lab=None):\n",
    "  plt.hist(sample)\n",
    "  plt.title(title_lab)\n",
    "  plt.show() \n",
    "\n",
    "def pearson_corr_test(vec1, vec2):\n",
    "  stat, p = pearsonr(vec1, vec2)\n",
    "  print(f'Statistic: {stat}, p-value: {p}')\n",
    "\n",
    "def chi2_test(data_interim, alpha = 0.05):\n",
    "  data_cont = pd.crosstab(data_interim.iloc[:, 0], data_interim.iloc[:, 1])\n",
    "  stat, p, dof, expected = chi2_contingency(data_cont)\n",
    "\n",
    "  print(\"p value jest równa \" + str(p))\n",
    "  if p <= alpha:\n",
    "      print('Odrzucamy hipoteze H0 o niezależności zmiennych')\n",
    "  else:\n",
    "      print('Brak podstaw do odrzucenia hipotezy H0 o niezależności zmiennych')"
   ],
   "metadata": {
    "id": "hrZ4DoAByj2q"
   },
   "execution_count": 5,
   "outputs": []
  },
  {
   "cell_type": "markdown",
   "source": [
    "# Testy normalności "
   ],
   "metadata": {
    "id": "LNUS5-iYXTY0"
   }
  },
  {
   "cell_type": "markdown",
   "source": [
    "Przygotwanie odpowiednich wartości liczbowych"
   ],
   "metadata": {
    "id": "ZZXi3-Iksux1"
   }
  },
  {
   "cell_type": "code",
   "source": [
    "to_filter = ['\\\\N', 'Reality-TV', 'Talk-Show', 'Documentary', \n",
    "             'Animation,Comedy,Family', 'Game-Show', 'Game-Show,Reality-TV']\n",
    "\n",
    "runtime = (title_basics.select('runtimeMinutes').\n",
    "           filter(~title_basics.runtimeMinutes.isin(to_filter)))\n",
    "runtime = list(runtime.toPandas()['runtimeMinutes'])\n",
    "runtime = [float(x) for x in runtime]\n",
    "\n",
    "ratings = list(title_ratings.select('averageRating').toPandas()['averageRating'])\n",
    "ratings = [float(x) for x in ratings]\n",
    "\n",
    "votes = list(title_ratings.select('numVotes').toPandas()['numVotes'])\n",
    "votes = [float(x) for x in votes]"
   ],
   "metadata": {
    "id": "j_pHG1qBsreD"
   },
   "execution_count": 6,
   "outputs": []
  },
  {
   "cell_type": "markdown",
   "source": [
    "Rozkład ocen filmów"
   ],
   "metadata": {
    "id": "TeCJtagrJ5zO"
   }
  },
  {
   "cell_type": "code",
   "source": [
    "m_r = mean(ratings)\n",
    "sd_r = stdev(ratings)\n",
    "\n",
    "print(kstest([(x - m_r) / sd_r for x in ratings], \"norm\"))\n",
    "print(f\"mean: {m_r}, standard deviation: {sd_r}\")\n",
    "\n",
    "histogram(ratings, 'Oceny')\n",
    "compare_with_normal_dist(ratings)"
   ],
   "metadata": {
    "id": "ZKn6uACwcaBS",
    "colab": {
     "base_uri": "https://localhost:8080/",
     "height": 575
    },
    "outputId": "6206a91b-4f23-445f-c4c4-84424de25a22"
   },
   "execution_count": 7,
   "outputs": [
    {
     "output_type": "stream",
     "name": "stdout",
     "text": [
      "KstestResult(statistic=0.07653943909030553, pvalue=0.0)\n",
      "mean: 6.950151884035657, standard deviation: 1.389991324477065\n"
     ]
    },
    {
     "output_type": "display_data",
     "data": {
      "text/plain": [
       "<Figure size 432x288 with 1 Axes>"
      ],
      "image/png": "[encoded data removed]"
     },
     "metadata": {
      "needs_background": "light"
     }
    },
    {
     "output_type": "display_data",
     "data": {
      "text/plain": [
       "<Figure size 432x288 with 1 Axes>"
      ],
      "image/png": "[encoded data removed]"
     },
     "metadata": {
      "needs_background": "light"
     }
    }
   ]
  },
  {
   "cell_type": "markdown",
   "source": [
    "Rozkład liczby ocen"
   ],
   "metadata": {
    "id": "aS2tdZhsJ_P2"
   }
  },
  {
   "cell_type": "code",
   "source": [
    "m_v = mean(votes)\n",
    "sd_v = stdev(votes)\n",
    "\n",
    "print(kstest([(x - m_v) / sd_v for x in votes], \"norm\"))\n",
    "print(f\"mean: {m_v}, standard deviation: {sd_v}\")\n",
    "\n",
    "histogram(votes, 'Liczba głosów')\n",
    "compare_with_normal_dist(votes)"
   ],
   "metadata": {
    "id": "-7GwYZtPywik",
    "colab": {
     "base_uri": "https://localhost:8080/",
     "height": 590
    },
    "outputId": "c4f12c66-bd54-4982-c8de-a5add233c5e4"
   },
   "execution_count": 8,
   "outputs": [
    {
     "output_type": "stream",
     "name": "stdout",
     "text": [
      "KstestResult(statistic=0.47607383305744866, pvalue=0.0)\n",
      "mean: 1041.980380977126, standard deviation: 17280.124852483874\n"
     ]
    },
    {
     "output_type": "display_data",
     "data": {
      "text/plain": [
       "<Figure size 432x288 with 1 Axes>"
      ],
      "image/png": "[encoded data removed]"
     },
     "metadata": {
      "needs_background": "light"
     }
    },
    {
     "output_type": "display_data",
     "data": {
      "text/plain": [
       "<Figure size 432x288 with 1 Axes>"
      ],
      "image/png": "[encoded data removed]"
     },
     "metadata": {
      "needs_background": "light"
     }
    }
   ]
  },
  {
   "cell_type": "markdown",
   "source": [
    "Rozkład czasu trwania"
   ],
   "metadata": {
    "id": "ARbVnzCdKDZN"
   }
  },
  {
   "cell_type": "code",
   "source": [
    "m_t = mean(runtime)\n",
    "sd_t = stdev(runtime)\n",
    "\n",
    "print(kstest([(x - m_t) / sd_t for x in runtime], \"norm\"))\n",
    "print(f\"mean: {m_t}, standard deviation: {sd_t}\")\n",
    "\n",
    "histogram(runtime, 'Czas trwania')\n",
    "compare_with_normal_dist(runtime)"
   ],
   "metadata": {
    "id": "CAmn5MnRJe8N",
    "colab": {
     "base_uri": "https://localhost:8080/",
     "height": 566
    },
    "outputId": "b732ed7d-5339-4258-d04f-de5affbd8196"
   },
   "execution_count": 9,
   "outputs": [
    {
     "output_type": "stream",
     "name": "stdout",
     "text": [
      "KstestResult(statistic=0.29272176230689456, pvalue=0.0)\n",
      "mean: 43.84709350208891, standard deviation: 78.55501256122933\n"
     ]
    },
    {
     "output_type": "display_data",
     "data": {
      "text/plain": [
       "<Figure size 432x288 with 1 Axes>"
      ],
      "image/png": "[encoded data removed]"
     },
     "metadata": {
      "needs_background": "light"
     }
    },
    {
     "output_type": "display_data",
     "data": {
      "text/plain": [
       "<Figure size 432x288 with 1 Axes>"
      ],
      "image/png": "[encoded data removed]"
     },
     "metadata": {
      "needs_background": "light"
     }
    }
   ]
  },
  {
   "cell_type": "markdown",
   "source": [
    "Histogramy oraz przeprowadzone testy statystyczne sugerują, że dane nie pochodzą z rozkładu normlanego. Dla liczby ocen oraz czasu trwania wystepują obserwacje które skrajnie różnią się od średniej w danej próbce. Obserwacje te powodują, że p-value dla testów Kolomogorowa-Smirnova jest bliskie zeru."
   ],
   "metadata": {
    "id": "V16h_X4Yx7Nr"
   }
  },
  {
   "cell_type": "markdown",
   "source": [
    "# Analiza wartości odstających"
   ],
   "metadata": {
    "id": "EcQfsdWAU9Tq"
   }
  },
  {
   "cell_type": "markdown",
   "source": [
    "Usuwamy obserwacje które leża dalej niż 3*odchylenie standardowe od średniej"
   ],
   "metadata": {
    "id": "_HrD2P86sWtW"
   }
  },
  {
   "cell_type": "code",
   "source": [
    "ratings_cut = [x for x in ratings if (x > m_r - 3 * sd_r) and (x < m_r + 3 * sd_r)]\n",
    "votes_cut = [x for x in votes if (x > m_v - 3 * sd_v) and (x < m_v + 3 * sd_v)]\n",
    "runtime_cut = [x for x in runtime if (x > m_t - 3 * sd_t) and (x < m_t + 3 * sd_t)]"
   ],
   "metadata": {
    "id": "TWNCXsCbVJJD"
   },
   "execution_count": 10,
   "outputs": []
  },
  {
   "cell_type": "code",
   "source": [
    "histogram(ratings_cut, 'Oceny')\n",
    "histogram(votes_cut, 'Liczba głosów')\n",
    "histogram(runtime_cut, 'Czas trwania')"
   ],
   "metadata": {
    "colab": {
     "base_uri": "https://localhost:8080/",
     "height": 809
    },
    "id": "rrPAmLKJrIvY",
    "outputId": "e03734b1-19dc-43e5-adf1-c1ea45a5a0d8"
   },
   "execution_count": 11,
   "outputs": [
    {
     "output_type": "display_data",
     "data": {
      "text/plain": [
       "<Figure size 432x288 with 1 Axes>"
      ],
      "image/png": "[encoded data removed]"
     },
     "metadata": {
      "needs_background": "light"
     }
    },
    {
     "output_type": "display_data",
     "data": {
      "text/plain": [
       "<Figure size 432x288 with 1 Axes>"
      ],
      "image/png": "[encoded data removed]"
     },
     "metadata": {
      "needs_background": "light"
     }
    },
    {
     "output_type": "display_data",
     "data": {
      "text/plain": [
       "<Figure size 432x288 with 1 Axes>"
      ],
      "image/png": "[encoded data removed]"
     },
     "metadata": {
      "needs_background": "light"
     }
    }
   ]
  },
  {
   "cell_type": "markdown",
   "source": [
    "Widzimy, że dla liczby głosów taka korekta nie jest wystarczająca. Nadal istnieją filmy które posiadają kilka tysięcy ocen, podczas gdy większość filmów ma mnije niż 2500 ocen."
   ],
   "metadata": {
    "id": "2RBVYcfYtjs5"
   }
  },
  {
   "cell_type": "markdown",
   "source": [
    "W tej metodzie nie usuwamy wartości skrajnych lecz mapujemy je na wartości kwantyla 1% i 99%."
   ],
   "metadata": {
    "id": "7WX-v_w8uQlq"
   }
  },
  {
   "cell_type": "code",
   "source": [
    "ratings_win = winsorize(ratings, limits=[0.01, 0.01])\n",
    "votes_win = winsorize(votes, limits=[0.01, 0.01])\n",
    "runtime_win = winsorize(runtime, limits=[0.01, 0.01])"
   ],
   "metadata": {
    "id": "Fam1MLdwudxT"
   },
   "execution_count": 12,
   "outputs": []
  },
  {
   "cell_type": "code",
   "source": [
    "histogram(ratings_win, 'Oceny')\n",
    "histogram(votes_win, 'Liczba głosów')\n",
    "histogram(runtime_win, 'Czas trwania')"
   ],
   "metadata": {
    "colab": {
     "base_uri": "https://localhost:8080/",
     "height": 809
    },
    "id": "4HHL4CQZurRT",
    "outputId": "3c33404c-b686-4edc-e4aa-92feac78c112"
   },
   "execution_count": 13,
   "outputs": [
    {
     "output_type": "display_data",
     "data": {
      "text/plain": [
       "<Figure size 432x288 with 1 Axes>"
      ],
      "image/png": "[encoded data removed]"
     },
     "metadata": {
      "needs_background": "light"
     }
    },
    {
     "output_type": "display_data",
     "data": {
      "text/plain": [
       "<Figure size 432x288 with 1 Axes>"
      ],
      "image/png": "[encoded data removed]"
     },
     "metadata": {
      "needs_background": "light"
     }
    },
    {
     "output_type": "display_data",
     "data": {
      "text/plain": [
       "<Figure size 432x288 with 1 Axes>"
      ],
      "image/png": "[encoded data removed]"
     },
     "metadata": {
      "needs_background": "light"
     }
    }
   ]
  },
  {
   "cell_type": "markdown",
   "source": [
    "Metoda może być użyta dla czasu trwania i ocen jednak rozkład liczby głosów  dalej posiada wartości odstające. Prawdopodonie, aby dostać jendorodny rozkład, należałoby podzielić ten zbiór na grupy w zależności od np. regionu lub budżetu filmu."
   ],
   "metadata": {
    "id": "2uGfm0FNvgyw"
   }
  },
  {
   "cell_type": "markdown",
   "source": [
    "# Analiza korelacji"
   ],
   "metadata": {
    "id": "h3JxIPYbWmie"
   }
  },
  {
   "cell_type": "code",
   "source": [
    "data_joined = title_basics.join(title_ratings, \n",
    "                                how='inner', \n",
    "                                on='tconst')\n",
    "\n",
    "data = data_joined.select(['averageRating', 'numVotes', 'runtimeMinutes'])\n",
    "data = data.filter(~data.runtimeMinutes.isin(to_filter))\n",
    "data = data.distinct().toPandas()\n",
    "data = data.apply(pd.to_numeric)"
   ],
   "metadata": {
    "id": "eQ-l77epW5GD"
   },
   "execution_count": 14,
   "outputs": []
  },
  {
   "cell_type": "markdown",
   "source": [
    "Macierz korelacji"
   ],
   "metadata": {
    "id": "XMzI9o03j-lU"
   }
  },
  {
   "cell_type": "code",
   "source": [
    "print(data.corr())"
   ],
   "metadata": {
    "id": "6hCO-mZHc1Ph",
    "colab": {
     "base_uri": "https://localhost:8080/"
    },
    "outputId": "22d9e929-8edb-4a1c-8ad1-c2fda484fb63"
   },
   "execution_count": 15,
   "outputs": [
    {
     "output_type": "stream",
     "name": "stdout",
     "text": [
      "                averageRating  numVotes  runtimeMinutes\n",
      "averageRating        1.000000  0.031920       -0.054221\n",
      "numVotes             0.031920  1.000000        0.027255\n",
      "runtimeMinutes      -0.054221  0.027255        1.000000\n"
     ]
    }
   ]
  },
  {
   "cell_type": "markdown",
   "source": [
    "Testy istotności dla korelacji"
   ],
   "metadata": {
    "id": "rryAYuTRkAuR"
   }
  },
  {
   "cell_type": "code",
   "source": [
    "pearson_corr_test(data.loc[:, 'numVotes'], data.loc[:, 'averageRating'])\n",
    "pearson_corr_test(data.loc[:, 'numVotes'], data.loc[:, 'runtimeMinutes'])\n",
    "pearson_corr_test(data.loc[:, 'runtimeMinutes'], data.loc[:, 'averageRating'])"
   ],
   "metadata": {
    "id": "0zzqzdUrWptY",
    "colab": {
     "base_uri": "https://localhost:8080/"
    },
    "outputId": "35cb9a8e-af41-47da-ec7a-c77fc236a887"
   },
   "execution_count": 16,
   "outputs": [
    {
     "output_type": "stream",
     "name": "stdout",
     "text": [
      "Statistic: 0.03192031743092155, p-value: 4.0370719727672595e-114\n",
      "Statistic: 0.027254981448298368, p-value: 1.0363808684681717e-83\n",
      "Statistic: -0.05422083786890347, p-value: 0.0\n"
     ]
    }
   ]
  },
  {
   "cell_type": "markdown",
   "source": [
    "Macierz korelacji oraz przeprwoadzone testy sugerują brak korelacji między liczbą głosów, średnią oceną i czasem trwania."
   ],
   "metadata": {
    "id": "Nwihhlc8xKRr"
   }
  },
  {
   "cell_type": "markdown",
   "source": [
    "# Testy jednorodności"
   ],
   "metadata": {
    "id": "-qDDPrdajss1"
   }
  },
  {
   "cell_type": "markdown",
   "source": [
    "Przegląd danych"
   ],
   "metadata": {
    "id": "IGWY-8QYldny"
   }
  },
  {
   "cell_type": "code",
   "source": [
    "data_joined.show(10)"
   ],
   "metadata": {
    "colab": {
     "base_uri": "https://localhost:8080/"
    },
    "id": "14tpSLC-li2a",
    "outputId": "bd91e206-b021-4095-fd63-7e407d119e68"
   },
   "execution_count": 17,
   "outputs": [
    {
     "output_type": "stream",
     "name": "stdout",
     "text": [
      "+---------+---------+--------------------+--------------------+-------+---------+-------+--------------+--------------------+-------------+--------+\n",
      "|   tconst|titleType|        primaryTitle|       originalTitle|isAdult|startYear|endYear|runtimeMinutes|              genres|averageRating|numVotes|\n",
      "+---------+---------+--------------------+--------------------+-------+---------+-------+--------------+--------------------+-------------+--------+\n",
      "|tt0000001|    short|          Carmencita|          Carmencita|      0|     1894|     \\N|             1|   Documentary,Short|          5.7|    1922|\n",
      "|tt0000002|    short|Le clown et ses c...|Le clown et ses c...|      0|     1892|     \\N|             5|     Animation,Short|          5.8|     259|\n",
      "|tt0000003|    short|      Pauvre Pierrot|      Pauvre Pierrot|      0|     1892|     \\N|             4|Animation,Comedy,...|          6.5|    1734|\n",
      "|tt0000004|    short|         Un bon bock|         Un bon bock|      0|     1892|     \\N|            12|     Animation,Short|          5.6|     174|\n",
      "|tt0000005|    short|    Blacksmith Scene|    Blacksmith Scene|      0|     1893|     \\N|             1|        Comedy,Short|          6.2|    2546|\n",
      "|tt0000006|    short|   Chinese Opium Den|   Chinese Opium Den|      0|     1894|     \\N|             1|               Short|          5.1|     175|\n",
      "|tt0000007|    short|Corbett and Court...|Corbett and Court...|      0|     1894|     \\N|             1|         Short,Sport|          5.4|     797|\n",
      "|tt0000008|    short|Edison Kinetoscop...|Edison Kinetoscop...|      0|     1894|     \\N|             1|   Documentary,Short|          5.4|    2064|\n",
      "|tt0000009|    movie|          Miss Jerry|          Miss Jerry|      0|     1894|     \\N|            45|             Romance|          5.2|     200|\n",
      "|tt0000010|    short| Leaving the Factory|La sortie de l'us...|      0|     1895|     \\N|             1|   Documentary,Short|          6.9|    6967|\n",
      "+---------+---------+--------------------+--------------------+-------+---------+-------+--------------+--------------------+-------------+--------+\n",
      "only showing top 10 rows\n",
      "\n"
     ]
    }
   ]
  },
  {
   "cell_type": "code",
   "source": [
    "data = data_joined.select(['tconst', 'titleType', 'isAdult', 'runtimeMinutes', \n",
    "                           'averageRating', 'numVotes'])\n",
    "isadult_count = data.groupBy(\"isAdult\").count()\n",
    "titletype_count = data.groupBy(\"titleType\").count()\n",
    "\n",
    "isadult_count.show()\n",
    "titletype_count.show()\n",
    "\n",
    "df = data.filter(data.isAdult.isin(['0', '1'])).toPandas()"
   ],
   "metadata": {
    "colab": {
     "base_uri": "https://localhost:8080/"
    },
    "id": "MFYVUrkPkiAZ",
    "outputId": "1e65db2a-d71d-4e82-bd3d-88dbdc2f0c07"
   },
   "execution_count": 18,
   "outputs": [
    {
     "output_type": "stream",
     "name": "stdout",
     "text": [
      "+-------+-------+\n",
      "|isAdult|  count|\n",
      "+-------+-------+\n",
      "|   2020|      1|\n",
      "|   2014|      1|\n",
      "|      0|1227716|\n",
      "|      1|  19281|\n",
      "+-------+-------+\n",
      "\n",
      "+------------+------+\n",
      "|   titleType| count|\n",
      "+------------+------+\n",
      "|    tvSeries| 83517|\n",
      "|tvMiniSeries| 13976|\n",
      "|     tvMovie| 48818|\n",
      "|   tvEpisode|601191|\n",
      "|       movie|282822|\n",
      "|   tvSpecial| 10520|\n",
      "|       video| 47600|\n",
      "|   videoGame| 13792|\n",
      "|     tvShort|  2462|\n",
      "|       short|142301|\n",
      "+------------+------+\n",
      "\n"
     ]
    }
   ]
  },
  {
   "cell_type": "markdown",
   "source": [
    "Testy niezależności zmiennych"
   ],
   "metadata": {
    "id": "FgGbuBvoumyj"
   }
  },
  {
   "cell_type": "code",
   "source": [
    "print('isAdult względem averageRating')\n",
    "chi2_test(df[['isAdult', 'averageRating']])\n",
    "print('\\nisAdult względem runtimeMinutes')\n",
    "chi2_test(df[['isAdult', 'runtimeMinutes']])\n",
    "print('\\nisAdult względem numVotes')\n",
    "chi2_test(df[['isAdult', 'numVotes']])\n",
    "\n",
    "print('\\ntitleType względem averageRating')\n",
    "chi2_test(df[['titleType', 'averageRating']])\n",
    "print('\\ntitleType względem runtimeMinutes')\n",
    "chi2_test(df[['titleType', 'runtimeMinutes']])\n",
    "print('\\ntitleType względem numVotes')\n",
    "chi2_test(df[['titleType', 'numVotes']])"
   ],
   "metadata": {
    "colab": {
     "base_uri": "https://localhost:8080/"
    },
    "id": "4W01JTW2Qjru",
    "outputId": "1e751adb-1c20-430e-d6fc-14cb0b374165"
   },
   "execution_count": 19,
   "outputs": [
    {
     "output_type": "stream",
     "name": "stdout",
     "text": [
      "isAdult względem averageRating\n",
      "p value jest równa 0.0\n",
      "Odrzucamy hipoteze H0 o niezależności zmiennych\n",
      "\n",
      "isAdult względem runtimeMinutes\n",
      "p value jest równa 0.0\n",
      "Odrzucamy hipoteze H0 o niezależności zmiennych\n",
      "\n",
      "isAdult względem numVotes\n",
      "p value jest równa 1.0\n",
      "Brak podstaw do odrzucenia hipotezy H0 o niezależności zmiennych\n",
      "\n",
      "titleType względem averageRating\n",
      "p value jest równa 0.0\n",
      "Odrzucamy hipoteze H0 o niezależności zmiennych\n",
      "\n",
      "titleType względem runtimeMinutes\n",
      "p value jest równa 0.0\n",
      "Odrzucamy hipoteze H0 o niezależności zmiennych\n",
      "\n",
      "titleType względem numVotes\n",
      "p value jest równa 0.0\n",
      "Odrzucamy hipoteze H0 o niezależności zmiennych\n"
     ]
    }
   ]
  },
  {
   "cell_type": "markdown",
   "source": [
    "Z wyników testów niezależności Chi^2 możemy wywnioskować, że tylko columny isAdult i numVotes są ze sobą niezależne. W pozostałych przypadkach widzimy zależność statystyczną między wartościamy z kolumn titleType, isAdult z wartościami liczbowymi z kolumn averageRatings, numVotes i runtimeMinutes. "
   ],
   "metadata": {
    "id": "Yy7Tnba0wJAf"
   }
  }
 ]
}