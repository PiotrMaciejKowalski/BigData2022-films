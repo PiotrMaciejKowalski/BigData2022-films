{
  "nbformat": 4,
  "nbformat_minor": 0,
  "metadata": {
    "colab": {
      "provenance": [],
      "collapsed_sections": [],
      "toc_visible": true
    },
    "kernelspec": {
      "name": "python3",
      "display_name": "Python 3"
    },
    "language_info": {
      "name": "python"
    }
  },
  "cells": [
    {
      "cell_type": "markdown",
      "source": [
        "# Przygotowanie danych i środowiska"
      ],
      "metadata": {
        "id": "ZQYFoZhzXDJ2"
      }
    },
    {
      "cell_type": "code",
      "execution_count": 1,
      "metadata": {
        "colab": {
          "base_uri": "https://localhost:8080/"
        },
        "id": "YXJPQNA9W2CI",
        "outputId": "4ab7f5f6-bc29-4919-b6cd-1cd2727e5fd4"
      },
      "outputs": [
        {
          "output_type": "stream",
          "name": "stdout",
          "text": [
            "default-java\t\t   java-11-openjdk-amd64     java-8-openjdk-amd64\n",
            "java-1.11.0-openjdk-amd64  java-1.8.0-openjdk-amd64\n",
            "Looking in indexes: https://pypi.org/simple, https://us-python.pkg.dev/colab-wheels/public/simple/\n",
            "Requirement already satisfied: pyarrow in /usr/local/lib/python3.7/dist-packages (6.0.1)\n",
            "Collecting pyarrow\n",
            "  Downloading pyarrow-10.0.0-cp37-cp37m-manylinux_2_17_x86_64.manylinux2014_x86_64.whl (35.4 MB)\n",
            "\u001b[K     |████████████████████████████████| 35.4 MB 200 kB/s \n",
            "\u001b[?25hRequirement already satisfied: numpy>=1.16.6 in /usr/local/lib/python3.7/dist-packages (from pyarrow) (1.21.6)\n",
            "Installing collected packages: pyarrow\n",
            "  Attempting uninstall: pyarrow\n",
            "    Found existing installation: pyarrow 6.0.1\n",
            "    Uninstalling pyarrow-6.0.1:\n",
            "      Successfully uninstalled pyarrow-6.0.1\n",
            "\u001b[31mERROR: pip's dependency resolver does not currently take into account all the packages that are installed. This behaviour is the source of the following dependency conflicts.\n",
            "pandas-gbq 0.17.9 requires pyarrow<10.0dev,>=3.0.0, but you have pyarrow 10.0.0 which is incompatible.\n",
            "db-dtypes 1.0.4 requires pyarrow<10.0dev,>=3.0.0, but you have pyarrow 10.0.0 which is incompatible.\u001b[0m\n",
            "Successfully installed pyarrow-10.0.0\n"
          ]
        }
      ],
      "source": [
        "# install Java8\n",
        "!apt-get install openjdk-8-jdk-headless -qq > /dev/null\n",
        "# download spark2.4.5\n",
        "!wget -q https://archive.apache.org/dist/spark/spark-2.4.5/spark-2.4.5-bin-hadoop2.7.tgz\n",
        "# unzip it\n",
        "!tar xf spark-2.4.5-bin-hadoop2.7.tgz\n",
        "# install findspark\n",
        "!pip install -q findspark\n",
        "# Google Colab has Java 11 available, test it using below command -\n",
        "!ls /usr/lib/jvm\n",
        "#install pyarrow\n",
        "!pip install -U pyarrow"
      ]
    },
    {
      "cell_type": "code",
      "source": [
        "import os\n",
        "import findspark\n",
        "\n",
        "os.environ[\"JAVA_HOME\"] = \"/usr/lib/jvm/java-8-openjdk-amd64\"\n",
        "os.environ[\"SPARK_HOME\"] = \"/content/spark-2.4.5-bin-hadoop2.7\"\n",
        "\n",
        "findspark.init()\n",
        "from pyspark.sql import SparkSession\n",
        "\n",
        "spark = SparkSession.builder.master(\"local[*]\").getOrCreate()\n",
        "spark_params = {\n",
        "\"spark.executor.memory\" : \"4g\",\n",
        "\"spark.driver.memory\": \"4g\",\n",
        "\"spark.memory.fraction\": \"0.9\"}\n",
        "for param, value in spark_params.items():\n",
        "  spark.conf.set(param, value)\n",
        "\n",
        "!wget \"https://datasets.imdbws.com/title.basics.tsv.gz\"\n",
        "!wget \"https://datasets.imdbws.com/title.ratings.tsv.gz\"\n",
        "\n",
        "title_ratings = spark.read.csv(\"title.ratings.tsv.gz\", sep='\\t', header=True)\n",
        "title_basics = spark.read.csv(\"title.basics.tsv.gz\", sep='\\t', header=True)"
      ],
      "metadata": {
        "colab": {
          "base_uri": "https://localhost:8080/"
        },
        "id": "SqWCiLz4W_9R",
        "outputId": "0d77bb8e-8bef-4b0c-d979-a8154c8bb27b"
      },
      "execution_count": 2,
      "outputs": [
        {
          "output_type": "stream",
          "name": "stdout",
          "text": [
            "--2022-11-14 20:18:56--  https://datasets.imdbws.com/title.basics.tsv.gz\n",
            "Resolving datasets.imdbws.com (datasets.imdbws.com)... 99.84.160.48, 99.84.160.94, 99.84.160.101, ...\n",
            "Connecting to datasets.imdbws.com (datasets.imdbws.com)|99.84.160.48|:443... connected.\n",
            "HTTP request sent, awaiting response... 200 OK\n",
            "Length: 163785676 (156M) [binary/octet-stream]\n",
            "Saving to: ‘title.basics.tsv.gz’\n",
            "\n",
            "title.basics.tsv.gz 100%[===================>] 156.20M  46.5MB/s    in 3.4s    \n",
            "\n",
            "2022-11-14 20:18:59 (45.5 MB/s) - ‘title.basics.tsv.gz’ saved [163785676/163785676]\n",
            "\n",
            "--2022-11-14 20:19:00--  https://datasets.imdbws.com/title.ratings.tsv.gz\n",
            "Resolving datasets.imdbws.com (datasets.imdbws.com)... 99.84.160.48, 99.84.160.94, 99.84.160.101, ...\n",
            "Connecting to datasets.imdbws.com (datasets.imdbws.com)|99.84.160.48|:443... connected.\n",
            "HTTP request sent, awaiting response... 200 OK\n",
            "Length: 6265151 (6.0M) [binary/octet-stream]\n",
            "Saving to: ‘title.ratings.tsv.gz’\n",
            "\n",
            "title.ratings.tsv.g 100%[===================>]   5.97M  35.7MB/s    in 0.2s    \n",
            "\n",
            "2022-11-14 20:19:00 (35.7 MB/s) - ‘title.ratings.tsv.gz’ saved [6265151/6265151]\n",
            "\n"
          ]
        }
      ]
    },
    {
      "cell_type": "code",
      "source": [
        "print(title_basics.show(5))\n",
        "print(title_ratings.show(5))"
      ],
      "metadata": {
        "id": "hILS08jNrYpQ",
        "colab": {
          "base_uri": "https://localhost:8080/"
        },
        "outputId": "a1ea7a42-d06b-4411-9f80-6216893b0197"
      },
      "execution_count": 3,
      "outputs": [
        {
          "output_type": "stream",
          "name": "stdout",
          "text": [
            "+---------+---------+--------------------+--------------------+-------+---------+-------+--------------+--------------------+\n",
            "|   tconst|titleType|        primaryTitle|       originalTitle|isAdult|startYear|endYear|runtimeMinutes|              genres|\n",
            "+---------+---------+--------------------+--------------------+-------+---------+-------+--------------+--------------------+\n",
            "|tt0000001|    short|          Carmencita|          Carmencita|      0|     1894|     \\N|             1|   Documentary,Short|\n",
            "|tt0000002|    short|Le clown et ses c...|Le clown et ses c...|      0|     1892|     \\N|             5|     Animation,Short|\n",
            "|tt0000003|    short|      Pauvre Pierrot|      Pauvre Pierrot|      0|     1892|     \\N|             4|Animation,Comedy,...|\n",
            "|tt0000004|    short|         Un bon bock|         Un bon bock|      0|     1892|     \\N|            12|     Animation,Short|\n",
            "|tt0000005|    short|    Blacksmith Scene|    Blacksmith Scene|      0|     1893|     \\N|             1|        Comedy,Short|\n",
            "+---------+---------+--------------------+--------------------+-------+---------+-------+--------------+--------------------+\n",
            "only showing top 5 rows\n",
            "\n",
            "None\n",
            "+---------+-------------+--------+\n",
            "|   tconst|averageRating|numVotes|\n",
            "+---------+-------------+--------+\n",
            "|tt0000001|          5.7|    1922|\n",
            "|tt0000002|          5.8|     259|\n",
            "|tt0000003|          6.5|    1735|\n",
            "|tt0000004|          5.6|     174|\n",
            "|tt0000005|          6.2|    2548|\n",
            "+---------+-------------+--------+\n",
            "only showing top 5 rows\n",
            "\n",
            "None\n"
          ]
        }
      ]
    },
    {
      "cell_type": "code",
      "source": [
        "import pandas as pd\n",
        "import numpy as np\n",
        "import matplotlib.pyplot as plt\n",
        "\n",
        "from typing import List, Union\n",
        "\n",
        "from scipy.stats import norm\n",
        "from pyspark.sql.functions import mean, stddev\n",
        "from pyspark.ml.stat import KolmogorovSmirnovTest\n",
        "\n",
        "from scipy.stats import pearsonr, chi2_contingency\n",
        "from scipy.stats.mstats import winsorize"
      ],
      "metadata": {
        "id": "ObfX0WPjt6Vp"
      },
      "execution_count": 4,
      "outputs": []
    },
    {
      "cell_type": "code",
      "source": [
        "def plot_hist_norm_dist(sample: List[float], m: float, sd: float, \n",
        "                        title_lab: Union[str, None], ylim: Union[None, float]):\n",
        "\n",
        "  x_norm = np.linspace(min(sample), max(sample), 1000)\n",
        "  y_norm = norm.pdf(x_norm, m, sd)\n",
        "\n",
        "  plt.plot(x_norm, y_norm, color='red')\n",
        "  plt.hist(ratings, density=True, bins=50, color='green')\n",
        "  if ylim is not None:\n",
        "    plt.ylim(top=ylim)\n",
        "  plt.title(title_lab)\n",
        "  plt.show()  \n",
        "\n",
        "def histogram(sample: List[float], title_lab: Union[str, None]):\n",
        "  plt.hist(sample, bins=50, color='green')\n",
        "  plt.title(title_lab)\n",
        "  plt.show() \n",
        "\n",
        "def chi2_test(data_interim: pd.DataFrame, alpha: float = 0.05):\n",
        "  data_cont = pd.crosstab(data_interim.iloc[:, 0], data_interim.iloc[:, 1])\n",
        "  stat, p, dof, expected = chi2_contingency(data_cont)\n",
        "\n",
        "  print(\"p value jest równa \" + str(p))\n",
        "  if p <= alpha:\n",
        "      print('Odrzucamy hipoteze H0 o niezależności zmiennych')\n",
        "  else:\n",
        "      print('Brak podstaw do odrzucenia hipotezy H0 o niezależności zmiennych')"
      ],
      "metadata": {
        "id": "hrZ4DoAByj2q"
      },
      "execution_count": 5,
      "outputs": []
    },
    {
      "cell_type": "markdown",
      "source": [
        "# Testy normalności "
      ],
      "metadata": {
        "id": "LNUS5-iYXTY0"
      }
    },
    {
      "cell_type": "markdown",
      "source": [
        "Przygotwanie odpowiednich wartości liczbowych"
      ],
      "metadata": {
        "id": "ZZXi3-Iksux1"
      }
    },
    {
      "cell_type": "code",
      "source": [
        "excluded_categories = ['\\\\N', 'Reality-TV', 'Talk-Show', 'Documentary', \n",
        "                       'Animation,Comedy,Family', 'Game-Show', 'Game-Show,Reality-TV']\n",
        "\n",
        "runtime = (title_basics.select('runtimeMinutes').\n",
        "           filter(~title_basics.runtimeMinutes.isin(excluded_categories)))\n",
        "runtime = runtime.toPandas()['runtimeMinutes'].astype(float).tolist()\n",
        "\n",
        "ratings = title_ratings.select('averageRating').toPandas()['averageRating'].astype(float).tolist()\n",
        "\n",
        "votes = title_ratings.select('numVotes').toPandas()['numVotes'].astype(float).tolist()"
      ],
      "metadata": {
        "id": "j_pHG1qBsreD"
      },
      "execution_count": 6,
      "outputs": []
    },
    {
      "cell_type": "code",
      "source": [
        "ratings_pysp = title_ratings.withColumn(\"averageRating\", \n",
        "                                        title_ratings.averageRating.cast('double'))\n",
        "ratings_pysp = ratings_pysp.withColumn(\"numVotes\", \n",
        "                                       ratings_pysp.numVotes.cast('double'))\n",
        "basic_pysp = title_basics.filter(\n",
        "    ~title_basics.runtimeMinutes.isin(excluded_categories)\n",
        "    ).withColumn(\"runtimeMinutes\", title_basics.runtimeMinutes.cast('double'))"
      ],
      "metadata": {
        "id": "Y3VvSd6faB50"
      },
      "execution_count": 7,
      "outputs": []
    },
    {
      "cell_type": "markdown",
      "source": [
        "Rozkład ocen filmów"
      ],
      "metadata": {
        "id": "TeCJtagrJ5zO"
      }
    },
    {
      "cell_type": "code",
      "source": [
        "m_r = ratings_pysp.select(mean('averageRating')).collect()[0][0]\n",
        "sd_r = ratings_pysp.select(stddev('averageRating')).collect()[0][0]\n",
        "\n",
        "ksResult1 = KolmogorovSmirnovTest.test(ratings_pysp, 'averageRating', \n",
        "                                       'norm', m_r, sd_r).first()\n",
        "p = ksResult1['pValue']\n",
        "stat = ksResult1['statistic']\n",
        "\n",
        "print(f'Statistic: {stat}, p-value: {p}')\n",
        "print(f\"mean: {m_r}, standard deviation: {sd_r}\")\n",
        "\n",
        "plot_hist_norm_dist(ratings, m_r, sd_r, 'Oceny', None)"
      ],
      "metadata": {
        "id": "ZKn6uACwcaBS",
        "colab": {
          "base_uri": "https://localhost:8080/",
          "height": 316
        },
        "outputId": "f02802f4-880b-4455-cd90-7edf0091d975"
      },
      "execution_count": 8,
      "outputs": [
        {
          "output_type": "stream",
          "name": "stdout",
          "text": [
            "Statistic: 0.07652316916295887, p-value: 3.278260995998039e-10\n",
            "mean: 6.950228122773844, standard deviation: 1.3898674067736088\n"
          ]
        },
        {
          "output_type": "display_data",
          "data": {
            "text/plain": [
              "<Figure size 432x288 with 1 Axes>"
            ],
            "image/png": "[encoded data removed]"
          },
          "metadata": {
            "needs_background": "light"
          }
        }
      ]
    },
    {
      "cell_type": "markdown",
      "source": [
        "Rozkład liczby ocen"
      ],
      "metadata": {
        "id": "aS2tdZhsJ_P2"
      }
    },
    {
      "cell_type": "code",
      "source": [
        "m_v = ratings_pysp.select(mean('numVotes')).collect()[0][0]\n",
        "sd_v = ratings_pysp.select(stddev('numVotes')).collect()[0][0]\n",
        "\n",
        "ksResult2 = KolmogorovSmirnovTest.test(ratings_pysp, 'numVotes', \n",
        "                                       'norm', m_v, sd_v).first()\n",
        "p = ksResult2['pValue']\n",
        "stat = ksResult2['statistic']\n",
        "\n",
        "print(f'Statistic: {stat}, p-value: {p}')\n",
        "print(f\"mean: {m_v}, standard deviation: {sd_v}\")\n",
        "\n",
        "plot_hist_norm_dist(votes, m_v, sd_v, 'Liczba głosów', 0.00005)"
      ],
      "metadata": {
        "id": "-7GwYZtPywik",
        "colab": {
          "base_uri": "https://localhost:8080/",
          "height": 329
        },
        "outputId": "1cc51e15-ff26-4766-8b0d-0120ebc0301e"
      },
      "execution_count": 9,
      "outputs": [
        {
          "output_type": "stream",
          "name": "stdout",
          "text": [
            "Statistic: 0.4760767950209997, p-value: 2.700628498608637e-09\n",
            "mean: 1041.8950474958588, standard deviation: 17280.844733605103\n"
          ]
        },
        {
          "output_type": "display_data",
          "data": {
            "text/plain": [
              "<Figure size 432x288 with 1 Axes>"
            ],
            "image/png": "[encoded data removed]"
          },
          "metadata": {
            "needs_background": "light"
          }
        }
      ]
    },
    {
      "cell_type": "markdown",
      "source": [
        "Rozkład czasu trwania"
      ],
      "metadata": {
        "id": "ARbVnzCdKDZN"
      }
    },
    {
      "cell_type": "code",
      "source": [
        "m_t = basic_pysp.select(mean('runtimeMinutes')).collect()[0][0]\n",
        "sd_t = basic_pysp.select(stddev('runtimeMinutes')).collect()[0][0]\n",
        "\n",
        "ksResult3 = KolmogorovSmirnovTest.test(basic_pysp, 'runtimeMinutes', \n",
        "                                       'norm', m_t, sd_t).first()\n",
        "p = ksResult3['pValue']\n",
        "stat = ksResult3['statistic']\n",
        "\n",
        "print(f'Statistic: {stat}, p-value: {p}')\n",
        "print(f\"mean: {m_t}, standard deviation: {sd_t}\")\n",
        "\n",
        "plot_hist_norm_dist(runtime, m_t, sd_t, 'Czas trwania', 0.01)"
      ],
      "metadata": {
        "id": "CAmn5MnRJe8N",
        "colab": {
          "base_uri": "https://localhost:8080/",
          "height": 316
        },
        "outputId": "c2e79555-eebc-4b52-c995-93234e66c94a"
      },
      "execution_count": 10,
      "outputs": [
        {
          "output_type": "stream",
          "name": "stdout",
          "text": [
            "Statistic: 0.29264622160446657, p-value: 2.3206804256048486e-09\n",
            "mean: 43.79929845930692, standard deviation: 78.43578288580565\n"
          ]
        },
        {
          "output_type": "display_data",
          "data": {
            "text/plain": [
              "<Figure size 432x288 with 1 Axes>"
            ],
            "image/png": "[encoded data removed]"
          },
          "metadata": {
            "needs_background": "light"
          }
        }
      ]
    },
    {
      "cell_type": "markdown",
      "source": [
        "Histogramy oraz przeprowadzone testy statystyczne sugerują, że dane nie pochodzą z rozkładu normlanego. Dla liczby ocen oraz czasu trwania wystepują obserwacje które skrajnie różnią się od średniej w danej próbce. Obserwacje te powodują, że p-value dla testów Kolomogorowa-Smirnova jest bliskie zeru."
      ],
      "metadata": {
        "id": "V16h_X4Yx7Nr"
      }
    },
    {
      "cell_type": "markdown",
      "source": [
        "# Analiza wartości odstających"
      ],
      "metadata": {
        "id": "EcQfsdWAU9Tq"
      }
    },
    {
      "cell_type": "markdown",
      "source": [
        "Usuwamy obserwacje które leża dalej niż 3*odchylenie standardowe od średniej"
      ],
      "metadata": {
        "id": "_HrD2P86sWtW"
      }
    },
    {
      "cell_type": "code",
      "source": [
        "ratings_cut = [x for x in ratings if (x > m_r - 3 * sd_r) and (x < m_r + 3 * sd_r)]\n",
        "votes_cut = [x for x in votes if (x > m_v - 3 * sd_v) and (x < m_v + 3 * sd_v)]\n",
        "runtime_cut = [x for x in runtime if (x > m_t - 3 * sd_t) and (x < m_t + 3 * sd_t)]"
      ],
      "metadata": {
        "id": "TWNCXsCbVJJD"
      },
      "execution_count": 11,
      "outputs": []
    },
    {
      "cell_type": "code",
      "source": [
        "print('Liczba outlierów: \\n')\n",
        "print(f'averageRating: {len(ratings) - len(ratings_cut)}\\n')\n",
        "print(f'numVotes: {len(votes) - len(votes_cut)}\\n')\n",
        "print(f'runtimeMinutes: {len(runtime) - len(runtime_cut)}\\n')"
      ],
      "metadata": {
        "colab": {
          "base_uri": "https://localhost:8080/"
        },
        "id": "S4sVraN8g1g2",
        "outputId": "d798fea5-2327-43d4-c258-699cdd1f194a"
      },
      "execution_count": 12,
      "outputs": [
        {
          "output_type": "stream",
          "name": "stdout",
          "text": [
            "Liczba outlierów: \n",
            "\n",
            "averageRating: 12382\n",
            "\n",
            "numVotes: 4198\n",
            "\n",
            "runtimeMinutes: 5020\n",
            "\n"
          ]
        }
      ]
    },
    {
      "cell_type": "code",
      "source": [
        "histogram(ratings_cut, 'Oceny')\n",
        "histogram(votes_cut, 'Liczba głosów')\n",
        "histogram(runtime_cut, 'Czas trwania')"
      ],
      "metadata": {
        "colab": {
          "base_uri": "https://localhost:8080/",
          "height": 809
        },
        "id": "rrPAmLKJrIvY",
        "outputId": "c748dc63-85aa-420b-c9d7-cce6bb741531"
      },
      "execution_count": 13,
      "outputs": [
        {
          "output_type": "display_data",
          "data": {
            "text/plain": [
              "<Figure size 432x288 with 1 Axes>"
            ],
            "image/png": "[encoded data removed]"
          },
          "metadata": {
            "needs_background": "light"
          }
        },
        {
          "output_type": "display_data",
          "data": {
            "text/plain": [
              "<Figure size 432x288 with 1 Axes>"
            ],
            "image/png": "[encoded data removed]"
          },
          "metadata": {
            "needs_background": "light"
          }
        },
        {
          "output_type": "display_data",
          "data": {
            "text/plain": [
              "<Figure size 432x288 with 1 Axes>"
            ],
            "image/png": "[encoded data removed]"
          },
          "metadata": {
            "needs_background": "light"
          }
        }
      ]
    },
    {
      "cell_type": "markdown",
      "source": [
        "Widzimy, że dla liczby głosów taka korekta nie jest wystarczająca. Nadal istnieją filmy które posiadają kilka tysięcy ocen, podczas gdy większość filmów ma mnije niż 2500 ocen."
      ],
      "metadata": {
        "id": "2RBVYcfYtjs5"
      }
    },
    {
      "cell_type": "markdown",
      "source": [
        "W tej metodzie nie usuwamy wartości skrajnych lecz mapujemy je na wartości kwantyla 1% i 99%."
      ],
      "metadata": {
        "id": "7WX-v_w8uQlq"
      }
    },
    {
      "cell_type": "code",
      "source": [
        "ratings_win = winsorize(ratings, limits=[0.01, 0.01])\n",
        "votes_win = winsorize(votes, limits=[0.01, 0.01])\n",
        "runtime_win = winsorize(runtime, limits=[0.01, 0.01])"
      ],
      "metadata": {
        "id": "Fam1MLdwudxT"
      },
      "execution_count": 14,
      "outputs": []
    },
    {
      "cell_type": "code",
      "source": [
        "print('Liczba outlierów: \\n')\n",
        "print(f'averageRating: {int(0.02 * len(ratings))}\\n')\n",
        "print(f'numVotes: {int(0.02 * len(votes))}\\n')\n",
        "print(f'runtimeMinutes: {int(0.02 * len(runtime))}\\n')"
      ],
      "metadata": {
        "colab": {
          "base_uri": "https://localhost:8080/"
        },
        "id": "E3jkjRqLhoQ_",
        "outputId": "0d544ef0-86f5-4808-db96-c68637f7ad6a"
      },
      "execution_count": 15,
      "outputs": [
        {
          "output_type": "stream",
          "name": "stdout",
          "text": [
            "Liczba outlierów: \n",
            "\n",
            "averageRating: 24955\n",
            "\n",
            "numVotes: 24955\n",
            "\n",
            "runtimeMinutes: 51623\n",
            "\n"
          ]
        }
      ]
    },
    {
      "cell_type": "code",
      "source": [
        "histogram(ratings_win, 'Oceny')\n",
        "histogram(votes_win, 'Liczba głosów')\n",
        "histogram(runtime_win, 'Czas trwania')"
      ],
      "metadata": {
        "colab": {
          "base_uri": "https://localhost:8080/",
          "height": 809
        },
        "id": "4HHL4CQZurRT",
        "outputId": "6650633c-ad59-4ded-9261-69136aac7528"
      },
      "execution_count": 16,
      "outputs": [
        {
          "output_type": "display_data",
          "data": {
            "text/plain": [
              "<Figure size 432x288 with 1 Axes>"
            ],
            "image/png": "[encoded data removed]"
          },
          "metadata": {
            "needs_background": "light"
          }
        },
        {
          "output_type": "display_data",
          "data": {
            "text/plain": [
              "<Figure size 432x288 with 1 Axes>"
            ],
            "image/png": "[encoded data removed]"
          },
          "metadata": {
            "needs_background": "light"
          }
        },
        {
          "output_type": "display_data",
          "data": {
            "text/plain": [
              "<Figure size 432x288 with 1 Axes>"
            ],
            "image/png": "[encoded data removed]"
          },
          "metadata": {
            "needs_background": "light"
          }
        }
      ]
    },
    {
      "cell_type": "markdown",
      "source": [
        "Metoda może być użyta dla czasu trwania i ocen jednak rozkład liczby głosów  dalej posiada wartości odstające. Prawdopodonie, aby dostać jendorodny rozkład, należałoby podzielić ten zbiór na grupy w zależności od np. regionu lub budżetu filmu."
      ],
      "metadata": {
        "id": "2uGfm0FNvgyw"
      }
    },
    {
      "cell_type": "markdown",
      "source": [
        "# Analiza korelacji"
      ],
      "metadata": {
        "id": "h3JxIPYbWmie"
      }
    },
    {
      "cell_type": "code",
      "source": [
        "data_joined = title_basics.join(title_ratings, \n",
        "                                how='inner', \n",
        "                                on='tconst')\n",
        "\n",
        "data = data_joined.select(['averageRating', 'numVotes', 'runtimeMinutes'])\n",
        "data = data.filter(~data.runtimeMinutes.isin(excluded_categories))\n",
        "data = data.distinct().toPandas()\n",
        "data = data.apply(pd.to_numeric)"
      ],
      "metadata": {
        "id": "eQ-l77epW5GD"
      },
      "execution_count": 17,
      "outputs": []
    },
    {
      "cell_type": "markdown",
      "source": [
        "Macierz korelacji"
      ],
      "metadata": {
        "id": "XMzI9o03j-lU"
      }
    },
    {
      "cell_type": "code",
      "source": [
        "print(data.corr())"
      ],
      "metadata": {
        "id": "6hCO-mZHc1Ph",
        "colab": {
          "base_uri": "https://localhost:8080/"
        },
        "outputId": "2bd7c551-9d7f-47df-b4cb-4ed53bf567e6"
      },
      "execution_count": 18,
      "outputs": [
        {
          "output_type": "stream",
          "name": "stdout",
          "text": [
            "                averageRating  numVotes  runtimeMinutes\n",
            "averageRating        1.000000  0.031938       -0.054197\n",
            "numVotes             0.031938  1.000000        0.027261\n",
            "runtimeMinutes      -0.054197  0.027261        1.000000\n"
          ]
        }
      ]
    },
    {
      "cell_type": "markdown",
      "source": [
        "Testy istotności dla korelacji"
      ],
      "metadata": {
        "id": "rryAYuTRkAuR"
      }
    },
    {
      "cell_type": "code",
      "source": [
        "stat1, p1 = pearsonr(data.loc[:, 'numVotes'], data.loc[:, 'averageRating'])\n",
        "print(f'Statistic: {stat1}, p-value: {p1}')\n",
        "\n",
        "stat2, p2 = pearsonr(data.loc[:, 'numVotes'], data.loc[:, 'runtimeMinutes'])\n",
        "print(f'Statistic: {stat2}, p-value: {p2}')\n",
        "\n",
        "stat3, p3 = pearsonr(data.loc[:, 'runtimeMinutes'], data.loc[:, 'averageRating'])\n",
        "print(f'Statistic: {stat3}, p-value: {p3}')"
      ],
      "metadata": {
        "colab": {
          "base_uri": "https://localhost:8080/"
        },
        "id": "Td2dyk1QDfWr",
        "outputId": "083a5d7d-14a1-485d-cb73-1b74397df84c"
      },
      "execution_count": 19,
      "outputs": [
        {
          "output_type": "stream",
          "name": "stdout",
          "text": [
            "Statistic: 0.03193756486552792, p-value: 2.871619456138887e-114\n",
            "Statistic: 0.027260955910651488, p-value: 9.124529403276511e-84\n",
            "Statistic: -0.05419695109141859, p-value: 0.0\n"
          ]
        }
      ]
    },
    {
      "cell_type": "markdown",
      "source": [
        "Macierz korelacji oraz przeprwoadzone testy sugerują brak korelacji między liczbą głosów, średnią oceną i czasem trwania."
      ],
      "metadata": {
        "id": "Nwihhlc8xKRr"
      }
    },
    {
      "cell_type": "markdown",
      "source": [
        "# Testy jednorodności"
      ],
      "metadata": {
        "id": "-qDDPrdajss1"
      }
    },
    {
      "cell_type": "markdown",
      "source": [
        "Przegląd danych"
      ],
      "metadata": {
        "id": "IGWY-8QYldny"
      }
    },
    {
      "cell_type": "code",
      "source": [
        "data_joined.show(10)"
      ],
      "metadata": {
        "colab": {
          "base_uri": "https://localhost:8080/"
        },
        "id": "14tpSLC-li2a",
        "outputId": "fe32c048-d73b-4c53-be5f-1f384276c8a5"
      },
      "execution_count": 20,
      "outputs": [
        {
          "output_type": "stream",
          "name": "stdout",
          "text": [
            "+---------+---------+--------------------+--------------------+-------+---------+-------+--------------+--------------------+-------------+--------+\n",
            "|   tconst|titleType|        primaryTitle|       originalTitle|isAdult|startYear|endYear|runtimeMinutes|              genres|averageRating|numVotes|\n",
            "+---------+---------+--------------------+--------------------+-------+---------+-------+--------------+--------------------+-------------+--------+\n",
            "|tt0000001|    short|          Carmencita|          Carmencita|      0|     1894|     \\N|             1|   Documentary,Short|          5.7|    1922|\n",
            "|tt0000002|    short|Le clown et ses c...|Le clown et ses c...|      0|     1892|     \\N|             5|     Animation,Short|          5.8|     259|\n",
            "|tt0000003|    short|      Pauvre Pierrot|      Pauvre Pierrot|      0|     1892|     \\N|             4|Animation,Comedy,...|          6.5|    1735|\n",
            "|tt0000004|    short|         Un bon bock|         Un bon bock|      0|     1892|     \\N|            12|     Animation,Short|          5.6|     174|\n",
            "|tt0000005|    short|    Blacksmith Scene|    Blacksmith Scene|      0|     1893|     \\N|             1|        Comedy,Short|          6.2|    2548|\n",
            "|tt0000006|    short|   Chinese Opium Den|   Chinese Opium Den|      0|     1894|     \\N|             1|               Short|          5.1|     175|\n",
            "|tt0000007|    short|Corbett and Court...|Corbett and Court...|      0|     1894|     \\N|             1|         Short,Sport|          5.4|     797|\n",
            "|tt0000008|    short|Edison Kinetoscop...|Edison Kinetoscop...|      0|     1894|     \\N|             1|   Documentary,Short|          5.4|    2064|\n",
            "|tt0000009|    movie|          Miss Jerry|          Miss Jerry|      0|     1894|     \\N|            45|             Romance|          5.3|     200|\n",
            "|tt0000010|    short| Leaving the Factory|La sortie de l'us...|      0|     1895|     \\N|             1|   Documentary,Short|          6.9|    6970|\n",
            "+---------+---------+--------------------+--------------------+-------+---------+-------+--------------+--------------------+-------------+--------+\n",
            "only showing top 10 rows\n",
            "\n"
          ]
        }
      ]
    },
    {
      "cell_type": "code",
      "source": [
        "data = data_joined.select(['tconst', 'titleType', 'isAdult', 'runtimeMinutes', \n",
        "                           'averageRating', 'numVotes'])\n",
        "isadult_count = data.groupBy(\"isAdult\").count()\n",
        "titletype_count = data.groupBy(\"titleType\").count()\n",
        "\n",
        "isadult_count.show()\n",
        "titletype_count.show()\n",
        "\n",
        "df = data.filter(data.isAdult.isin(['0', '1'])).toPandas()"
      ],
      "metadata": {
        "colab": {
          "base_uri": "https://localhost:8080/"
        },
        "id": "MFYVUrkPkiAZ",
        "outputId": "eabe7a47-204d-4b8c-9f63-8a82b0103d7d"
      },
      "execution_count": 21,
      "outputs": [
        {
          "output_type": "stream",
          "name": "stdout",
          "text": [
            "+-------+-------+\n",
            "|isAdult|  count|\n",
            "+-------+-------+\n",
            "|   2020|      1|\n",
            "|   2014|      1|\n",
            "|      0|1228504|\n",
            "|      1|  19284|\n",
            "+-------+-------+\n",
            "\n",
            "+------------+------+\n",
            "|   titleType| count|\n",
            "+------------+------+\n",
            "|    tvSeries| 83555|\n",
            "|tvMiniSeries| 13986|\n",
            "|     tvMovie| 48840|\n",
            "|   tvEpisode|601733|\n",
            "|       movie|282917|\n",
            "|   tvSpecial| 10527|\n",
            "|       video| 47614|\n",
            "|   videoGame| 13799|\n",
            "|     tvShort|  2463|\n",
            "|       short|142356|\n",
            "+------------+------+\n",
            "\n"
          ]
        }
      ]
    },
    {
      "cell_type": "markdown",
      "source": [
        "Testy niezależności zmiennych"
      ],
      "metadata": {
        "id": "FgGbuBvoumyj"
      }
    },
    {
      "cell_type": "code",
      "source": [
        "col1 = ['isAdult', 'titleType']\n",
        "col2 = ['averageRating', 'runtimeMinutes', 'numVotes']\n",
        "\n",
        "for c1 in col1:\n",
        "  for c2 in col2:\n",
        "    print(f'\\n{c1} względem {c2}')\n",
        "    chi2_test(df[[c1, c2]])"
      ],
      "metadata": {
        "colab": {
          "base_uri": "https://localhost:8080/"
        },
        "id": "4W01JTW2Qjru",
        "outputId": "35102558-aad4-4ce1-fb77-f7f34b47b74c"
      },
      "execution_count": 22,
      "outputs": [
        {
          "output_type": "stream",
          "name": "stdout",
          "text": [
            "\n",
            "isAdult względem averageRating\n",
            "p value jest równa 0.0\n",
            "Odrzucamy hipoteze H0 o niezależności zmiennych\n",
            "\n",
            "isAdult względem runtimeMinutes\n",
            "p value jest równa 0.0\n",
            "Odrzucamy hipoteze H0 o niezależności zmiennych\n",
            "\n",
            "isAdult względem numVotes\n",
            "p value jest równa 1.0\n",
            "Brak podstaw do odrzucenia hipotezy H0 o niezależności zmiennych\n",
            "\n",
            "titleType względem averageRating\n",
            "p value jest równa 0.0\n",
            "Odrzucamy hipoteze H0 o niezależności zmiennych\n",
            "\n",
            "titleType względem runtimeMinutes\n",
            "p value jest równa 0.0\n",
            "Odrzucamy hipoteze H0 o niezależności zmiennych\n",
            "\n",
            "titleType względem numVotes\n",
            "p value jest równa 0.0\n",
            "Odrzucamy hipoteze H0 o niezależności zmiennych\n"
          ]
        }
      ]
    },
    {
      "cell_type": "markdown",
      "source": [
        "Z wyników testów niezależności Chi^2 możemy wywnioskować, że tylko columny isAdult i numVotes są ze sobą niezależne. W pozostałych przypadkach widzimy zależność statystyczną między wartościamy z kolumn titleType, isAdult z wartościami liczbowymi z kolumn averageRatings, numVotes i runtimeMinutes. "
      ],
      "metadata": {
        "id": "Yy7Tnba0wJAf"
      }
    }
  ]
}