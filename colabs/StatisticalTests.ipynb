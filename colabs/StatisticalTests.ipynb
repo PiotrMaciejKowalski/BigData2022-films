{
  "nbformat": 4,
  "nbformat_minor": 0,
  "metadata": {
    "colab": {
      "provenance": [],
      "collapsed_sections": [],
      "toc_visible": true
    },
    "kernelspec": {
      "name": "python3",
      "display_name": "Python 3"
    },
    "language_info": {
      "name": "python"
    }
  },
  "cells": [
    {
      "cell_type": "markdown",
      "source": [
        "# Load Data"
      ],
      "metadata": {
        "id": "ZQYFoZhzXDJ2"
      }
    },
    {
      "cell_type": "code",
      "execution_count": 1,
      "metadata": {
        "colab": {
          "base_uri": "https://localhost:8080/"
        },
        "id": "YXJPQNA9W2CI",
        "outputId": "5f203b30-e926-469a-d424-feab4e6dc498"
      },
      "outputs": [
        {
          "output_type": "stream",
          "name": "stdout",
          "text": [
            "default-java\t\t   java-11-openjdk-amd64     java-8-openjdk-amd64\n",
            "java-1.11.0-openjdk-amd64  java-1.8.0-openjdk-amd64\n",
            "Looking in indexes: https://pypi.org/simple, https://us-python.pkg.dev/colab-wheels/public/simple/\n",
            "Requirement already satisfied: pyarrow in /usr/local/lib/python3.7/dist-packages (10.0.0)\n",
            "Requirement already satisfied: numpy>=1.16.6 in /usr/local/lib/python3.7/dist-packages (from pyarrow) (1.21.6)\n",
            "Looking in indexes: https://pypi.org/simple, https://us-python.pkg.dev/colab-wheels/public/simple/\n",
            "Requirement already satisfied: scikit_posthocs in /usr/local/lib/python3.7/dist-packages (0.7.0)\n",
            "Requirement already satisfied: numpy in /usr/local/lib/python3.7/dist-packages (from scikit_posthocs) (1.21.6)\n",
            "Requirement already satisfied: pandas>=0.20.0 in /usr/local/lib/python3.7/dist-packages (from scikit_posthocs) (1.3.5)\n",
            "Requirement already satisfied: statsmodels in /usr/local/lib/python3.7/dist-packages (from scikit_posthocs) (0.12.2)\n",
            "Requirement already satisfied: seaborn in /usr/local/lib/python3.7/dist-packages (from scikit_posthocs) (0.11.2)\n",
            "Requirement already satisfied: matplotlib in /usr/local/lib/python3.7/dist-packages (from scikit_posthocs) (3.2.2)\n",
            "Requirement already satisfied: scipy in /usr/local/lib/python3.7/dist-packages (from scikit_posthocs) (1.7.3)\n",
            "Requirement already satisfied: python-dateutil>=2.7.3 in /usr/local/lib/python3.7/dist-packages (from pandas>=0.20.0->scikit_posthocs) (2.8.2)\n",
            "Requirement already satisfied: pytz>=2017.3 in /usr/local/lib/python3.7/dist-packages (from pandas>=0.20.0->scikit_posthocs) (2022.6)\n",
            "Requirement already satisfied: six>=1.5 in /usr/local/lib/python3.7/dist-packages (from python-dateutil>=2.7.3->pandas>=0.20.0->scikit_posthocs) (1.15.0)\n",
            "Requirement already satisfied: kiwisolver>=1.0.1 in /usr/local/lib/python3.7/dist-packages (from matplotlib->scikit_posthocs) (1.4.4)\n",
            "Requirement already satisfied: cycler>=0.10 in /usr/local/lib/python3.7/dist-packages (from matplotlib->scikit_posthocs) (0.11.0)\n",
            "Requirement already satisfied: pyparsing!=2.0.4,!=2.1.2,!=2.1.6,>=2.0.1 in /usr/local/lib/python3.7/dist-packages (from matplotlib->scikit_posthocs) (3.0.9)\n",
            "Requirement already satisfied: typing-extensions in /usr/local/lib/python3.7/dist-packages (from kiwisolver>=1.0.1->matplotlib->scikit_posthocs) (4.1.1)\n",
            "Requirement already satisfied: patsy>=0.5 in /usr/local/lib/python3.7/dist-packages (from statsmodels->scikit_posthocs) (0.5.3)\n"
          ]
        }
      ],
      "source": [
        "# install Java8\n",
        "!apt-get install openjdk-8-jdk-headless -qq > /dev/null\n",
        "# download spark2.4.5\n",
        "!wget -q https://archive.apache.org/dist/spark/spark-2.4.5/spark-2.4.5-bin-hadoop2.7.tgz\n",
        "# unzip it\n",
        "!tar xf spark-2.4.5-bin-hadoop2.7.tgz\n",
        "# install findspark\n",
        "!pip install -q findspark\n",
        "# Google Colab has Java 11 available, test it using below command -\n",
        "!ls /usr/lib/jvm\n",
        "#install pyarrow\n",
        "!pip install -U pyarrow\n",
        "# Tietjen-Moore test package\n",
        "!pip install scikit_posthocs"
      ]
    },
    {
      "cell_type": "code",
      "source": [
        "import os\n",
        "import findspark\n",
        "\n",
        "os.environ[\"JAVA_HOME\"] = \"/usr/lib/jvm/java-8-openjdk-amd64\"\n",
        "os.environ[\"SPARK_HOME\"] = \"/content/spark-2.4.5-bin-hadoop2.7\"\n",
        "\n",
        "findspark.init()\n",
        "from pyspark.sql import SparkSession\n",
        "\n",
        "spark = SparkSession.builder.master(\"local[*]\").getOrCreate()\n",
        "spark_params = {\n",
        "\"spark.executor.memory\" : \"4g\",\n",
        "\"spark.driver.memory\": \"4g\",\n",
        "\"spark.memory.fraction\": \"0.9\"}\n",
        "for param, value in spark_params.items():\n",
        "  spark.conf.set(param, value)\n",
        "\n",
        "!wget \"https://datasets.imdbws.com/name.basics.tsv.gz\"\n",
        "!wget \"https://datasets.imdbws.com/title.akas.tsv.gz\"\n",
        "!wget \"https://datasets.imdbws.com/title.basics.tsv.gz\"\n",
        "!wget \"https://datasets.imdbws.com/title.crew.tsv.gz\"\n",
        "!wget \"https://datasets.imdbws.com/title.episode.tsv.gz\"\n",
        "!wget \"https://datasets.imdbws.com/title.principals.tsv.gz\"\n",
        "!wget \"https://datasets.imdbws.com/title.ratings.tsv.gz\"\n",
        "\n",
        "title_ratings = spark.read.csv(\"title.ratings.tsv.gz\", sep='\\t', header=True)\n",
        "title_basics = spark.read.csv(\"title.basics.tsv.gz\", sep='\\t', header=True)"
      ],
      "metadata": {
        "colab": {
          "base_uri": "https://localhost:8080/"
        },
        "id": "SqWCiLz4W_9R",
        "outputId": "02f0ffe6-58db-4aa5-8970-fdc094275ed7"
      },
      "execution_count": 2,
      "outputs": [
        {
          "output_type": "stream",
          "name": "stdout",
          "text": [
            "--2022-11-08 18:31:31--  https://datasets.imdbws.com/name.basics.tsv.gz\n",
            "Resolving datasets.imdbws.com (datasets.imdbws.com)... 18.160.46.123, 18.160.46.72, 18.160.46.19, ...\n",
            "Connecting to datasets.imdbws.com (datasets.imdbws.com)|18.160.46.123|:443... connected.\n",
            "HTTP request sent, awaiting response... 200 OK\n",
            "Length: 236081246 (225M) [binary/octet-stream]\n",
            "Saving to: ‘name.basics.tsv.gz.1’\n",
            "\n",
            "name.basics.tsv.gz. 100%[===================>] 225.14M  95.4MB/s    in 2.4s    \n",
            "\n",
            "2022-11-08 18:31:34 (95.4 MB/s) - ‘name.basics.tsv.gz.1’ saved [236081246/236081246]\n",
            "\n",
            "--2022-11-08 18:31:34--  https://datasets.imdbws.com/title.akas.tsv.gz\n",
            "Resolving datasets.imdbws.com (datasets.imdbws.com)... 18.160.46.123, 18.160.46.72, 18.160.46.19, ...\n",
            "Connecting to datasets.imdbws.com (datasets.imdbws.com)|18.160.46.123|:443... connected.\n",
            "HTTP request sent, awaiting response... 200 OK\n",
            "Length: 286852961 (274M) [binary/octet-stream]\n",
            "Saving to: ‘title.akas.tsv.gz.1’\n",
            "\n",
            "title.akas.tsv.gz.1 100%[===================>] 273.56M  89.6MB/s    in 3.1s    \n",
            "\n",
            "2022-11-08 18:31:37 (89.6 MB/s) - ‘title.akas.tsv.gz.1’ saved [286852961/286852961]\n",
            "\n",
            "--2022-11-08 18:31:37--  https://datasets.imdbws.com/title.basics.tsv.gz\n",
            "Resolving datasets.imdbws.com (datasets.imdbws.com)... 18.160.46.123, 18.160.46.72, 18.160.46.19, ...\n",
            "Connecting to datasets.imdbws.com (datasets.imdbws.com)|18.160.46.123|:443... connected.\n",
            "HTTP request sent, awaiting response... 200 OK\n",
            "Length: 163602877 (156M) [binary/octet-stream]\n",
            "Saving to: ‘title.basics.tsv.gz.1’\n",
            "\n",
            "title.basics.tsv.gz 100%[===================>] 156.02M  80.5MB/s    in 1.9s    \n",
            "\n",
            "2022-11-08 18:31:39 (80.5 MB/s) - ‘title.basics.tsv.gz.1’ saved [163602877/163602877]\n",
            "\n",
            "--2022-11-08 18:31:39--  https://datasets.imdbws.com/title.crew.tsv.gz\n",
            "Resolving datasets.imdbws.com (datasets.imdbws.com)... 18.160.46.123, 18.160.46.72, 18.160.46.19, ...\n",
            "Connecting to datasets.imdbws.com (datasets.imdbws.com)|18.160.46.123|:443... connected.\n",
            "HTTP request sent, awaiting response... 200 OK\n",
            "Length: 62766217 (60M) [binary/octet-stream]\n",
            "Saving to: ‘title.crew.tsv.gz.1’\n",
            "\n",
            "title.crew.tsv.gz.1 100%[===================>]  59.86M  86.7MB/s    in 0.7s    \n",
            "\n",
            "2022-11-08 18:31:40 (86.7 MB/s) - ‘title.crew.tsv.gz.1’ saved [62766217/62766217]\n",
            "\n",
            "--2022-11-08 18:31:40--  https://datasets.imdbws.com/title.episode.tsv.gz\n",
            "Resolving datasets.imdbws.com (datasets.imdbws.com)... 18.160.46.123, 18.160.46.72, 18.160.46.19, ...\n",
            "Connecting to datasets.imdbws.com (datasets.imdbws.com)|18.160.46.123|:443... connected.\n",
            "HTTP request sent, awaiting response... 200 OK\n",
            "Length: 38444787 (37M) [binary/octet-stream]\n",
            "Saving to: ‘title.episode.tsv.gz.1’\n",
            "\n",
            "title.episode.tsv.g 100%[===================>]  36.66M  72.5MB/s    in 0.5s    \n",
            "\n",
            "2022-11-08 18:31:41 (72.5 MB/s) - ‘title.episode.tsv.gz.1’ saved [38444787/38444787]\n",
            "\n",
            "--2022-11-08 18:31:41--  https://datasets.imdbws.com/title.principals.tsv.gz\n",
            "Resolving datasets.imdbws.com (datasets.imdbws.com)... 18.160.46.123, 18.160.46.72, 18.160.46.19, ...\n",
            "Connecting to datasets.imdbws.com (datasets.imdbws.com)|18.160.46.123|:443... connected.\n",
            "HTTP request sent, awaiting response... 200 OK\n",
            "Length: 416387132 (397M) [binary/octet-stream]\n",
            "Saving to: ‘title.principals.tsv.gz.1’\n",
            "\n",
            "title.principals.ts 100%[===================>] 397.10M  97.6MB/s    in 4.0s    \n",
            "\n",
            "2022-11-08 18:31:45 (99.7 MB/s) - ‘title.principals.tsv.gz.1’ saved [416387132/416387132]\n",
            "\n",
            "--2022-11-08 18:31:45--  https://datasets.imdbws.com/title.ratings.tsv.gz\n",
            "Resolving datasets.imdbws.com (datasets.imdbws.com)... 18.160.46.123, 18.160.46.72, 18.160.46.19, ...\n",
            "Connecting to datasets.imdbws.com (datasets.imdbws.com)|18.160.46.123|:443... connected.\n",
            "HTTP request sent, awaiting response... 200 OK\n",
            "Length: 6253717 (6.0M) [binary/octet-stream]\n",
            "Saving to: ‘title.ratings.tsv.gz.1’\n",
            "\n",
            "title.ratings.tsv.g 100%[===================>]   5.96M  --.-KB/s    in 0.08s   \n",
            "\n",
            "2022-11-08 18:31:45 (78.3 MB/s) - ‘title.ratings.tsv.gz.1’ saved [6253717/6253717]\n",
            "\n"
          ]
        }
      ]
    },
    {
      "cell_type": "code",
      "source": [
        "print(title_basics.show(5))\n",
        "print(title_ratings.show(5))"
      ],
      "metadata": {
        "colab": {
          "base_uri": "https://localhost:8080/"
        },
        "id": "hILS08jNrYpQ",
        "outputId": "d2cda4dc-c20a-4ceb-ba4c-7500522738c9"
      },
      "execution_count": 3,
      "outputs": [
        {
          "output_type": "stream",
          "name": "stdout",
          "text": [
            "+---------+---------+--------------------+--------------------+-------+---------+-------+--------------+--------------------+\n",
            "|   tconst|titleType|        primaryTitle|       originalTitle|isAdult|startYear|endYear|runtimeMinutes|              genres|\n",
            "+---------+---------+--------------------+--------------------+-------+---------+-------+--------------+--------------------+\n",
            "|tt0000001|    short|          Carmencita|          Carmencita|      0|     1894|     \\N|             1|   Documentary,Short|\n",
            "|tt0000002|    short|Le clown et ses c...|Le clown et ses c...|      0|     1892|     \\N|             5|     Animation,Short|\n",
            "|tt0000003|    short|      Pauvre Pierrot|      Pauvre Pierrot|      0|     1892|     \\N|             4|Animation,Comedy,...|\n",
            "|tt0000004|    short|         Un bon bock|         Un bon bock|      0|     1892|     \\N|            12|     Animation,Short|\n",
            "|tt0000005|    short|    Blacksmith Scene|    Blacksmith Scene|      0|     1893|     \\N|             1|        Comedy,Short|\n",
            "+---------+---------+--------------------+--------------------+-------+---------+-------+--------------+--------------------+\n",
            "only showing top 5 rows\n",
            "\n",
            "None\n",
            "+---------+-------------+--------+\n",
            "|   tconst|averageRating|numVotes|\n",
            "+---------+-------------+--------+\n",
            "|tt0000001|          5.7|    1922|\n",
            "|tt0000002|          5.8|     259|\n",
            "|tt0000003|          6.5|    1733|\n",
            "|tt0000004|          5.6|     174|\n",
            "|tt0000005|          6.2|    2544|\n",
            "+---------+-------------+--------+\n",
            "only showing top 5 rows\n",
            "\n",
            "None\n"
          ]
        }
      ]
    },
    {
      "cell_type": "code",
      "source": [
        "import pandas as pd\n",
        "from scipy import stats\n",
        "from statistics import mean, stdev\n",
        "\n",
        "import numpy as np\n",
        "import matplotlib.pyplot as plt\n",
        "import seaborn as sns\n",
        "\n",
        "from scipy.stats import t\n",
        "\n",
        "import scikit_posthocs\n",
        "\n",
        "from scipy.stats import pearsonr"
      ],
      "metadata": {
        "id": "ObfX0WPjt6Vp"
      },
      "execution_count": 4,
      "outputs": []
    },
    {
      "cell_type": "markdown",
      "source": [
        "# Normality Tests"
      ],
      "metadata": {
        "id": "LNUS5-iYXTY0"
      }
    },
    {
      "cell_type": "code",
      "source": [
        "def compare_with_normal_dist(sample):\n",
        "  # Create a gaussian distribution\n",
        "  m = mean(sample)\n",
        "  sd = stdev(sample)\n",
        "  x = np.random.normal(loc = m, scale = sd, size = len(sample))\n",
        "\n",
        "  # Binning\n",
        "  n_x, bins_x = np.histogram(x, bins = int(np.ceil(np.sqrt(x.size))))\n",
        "  n_y, bins_y = np.histogram(sample, bins = int(np.ceil(np.sqrt(len(sample)))))\n",
        "\n",
        "  # Normalizings\n",
        "  n_x = n_x / len(x) / len(bins_y)\n",
        "  n_y = n_y / len(sample) / len(bins_x)\n",
        "\n",
        "  # Plotting\n",
        "  plt.plot(bins_x[:-1], n_x)\n",
        "  plt.plot(bins_y[:-1], n_y)\n",
        "  plt.show()  \n",
        "\n",
        "def histogram(sample):\n",
        "  plt.hist(sample)\n",
        "  plt.show() "
      ],
      "metadata": {
        "id": "hrZ4DoAByj2q"
      },
      "execution_count": 5,
      "outputs": []
    },
    {
      "cell_type": "markdown",
      "source": [
        "Get necessery values"
      ],
      "metadata": {
        "id": "ZZXi3-Iksux1"
      }
    },
    {
      "cell_type": "code",
      "source": [
        "to_filter = ['\\\\N', 'Reality-TV', 'Talk-Show', 'Documentary', \n",
        "             'Animation,Comedy,Family', 'Game-Show', 'Game-Show,Reality-TV']\n",
        "\n",
        "runtime = (title_basics.select('runtimeMinutes').\n",
        "           filter(~title_basics.runtimeMinutes.isin(to_filter)))\n",
        "runtime = list(runtime.toPandas()['runtimeMinutes'])\n",
        "runtime = [float(x) for x in runtime]\n",
        "\n",
        "ratings = list(title_ratings.select('averageRating').toPandas()['averageRating'])\n",
        "ratings = [float(x) for x in ratings]\n",
        "\n",
        "votes = list(title_ratings.select('numVotes').toPandas()['numVotes'])\n",
        "votes = [float(x) for x in votes]"
      ],
      "metadata": {
        "id": "j_pHG1qBsreD"
      },
      "execution_count": 6,
      "outputs": []
    },
    {
      "cell_type": "markdown",
      "source": [
        "Ratings distribution"
      ],
      "metadata": {
        "id": "TeCJtagrJ5zO"
      }
    },
    {
      "cell_type": "code",
      "source": [
        "m = mean(ratings)\n",
        "sd = stdev(ratings)\n",
        "\n",
        "print(stats.kstest([(x - m) / sd for x in ratings], \"norm\"))\n",
        "print(f\"mean: {m}, standard deviation: {sd}\")\n",
        "\n",
        "histogram(ratings)\n",
        "compare_with_normal_dist(ratings)"
      ],
      "metadata": {
        "id": "ZKn6uACwcaBS",
        "colab": {
          "base_uri": "https://localhost:8080/",
          "height": 561
        },
        "outputId": "eb687f80-2d40-4286-bfdb-e9afe37fe0e9"
      },
      "execution_count": 7,
      "outputs": [
        {
          "output_type": "stream",
          "name": "stdout",
          "text": [
            "KstestResult(statistic=0.07666292631247779, pvalue=0.0)\n",
            "mean: 6.949523867635122, standard deviation: 1.3906164850084959\n"
          ]
        },
        {
          "output_type": "display_data",
          "data": {
            "text/plain": [
              "<Figure size 432x288 with 1 Axes>"
            ],
            "image/png": "[encoded data removed]"
          },
          "metadata": {
            "needs_background": "light"
          }
        },
        {
          "output_type": "display_data",
          "data": {
            "text/plain": [
              "<Figure size 432x288 with 1 Axes>"
            ],
            "image/png": "[encoded data removed]"
          },
          "metadata": {
            "needs_background": "light"
          }
        }
      ]
    },
    {
      "cell_type": "markdown",
      "source": [
        "Number of votes distribution"
      ],
      "metadata": {
        "id": "aS2tdZhsJ_P2"
      }
    },
    {
      "cell_type": "code",
      "source": [
        "m = mean(votes)\n",
        "sd = stdev(votes)\n",
        "\n",
        "print(stats.kstest([(x - m) / sd for x in votes], \"norm\"))\n",
        "print(f\"mean: {m}, standard deviation: {sd}\")\n",
        "\n",
        "histogram(votes)\n",
        "compare_with_normal_dist(votes)"
      ],
      "metadata": {
        "colab": {
          "base_uri": "https://localhost:8080/",
          "height": 587
        },
        "id": "-7GwYZtPywik",
        "outputId": "210a0829-a4cf-4cb7-85e2-7aab12834e72"
      },
      "execution_count": 8,
      "outputs": [
        {
          "output_type": "stream",
          "name": "stdout",
          "text": [
            "KstestResult(statistic=0.47606909600802344, pvalue=0.0)\n",
            "mean: 1042.048970862032, standard deviation: 17277.84294273762\n"
          ]
        },
        {
          "output_type": "display_data",
          "data": {
            "text/plain": [
              "<Figure size 432x288 with 1 Axes>"
            ],
            "image/png": "[encoded data removed]"
          },
          "metadata": {
            "needs_background": "light"
          }
        },
        {
          "output_type": "display_data",
          "data": {
            "text/plain": [
              "<Figure size 432x288 with 1 Axes>"
            ],
            "image/png": "[encoded data removed]"
          },
          "metadata": {
            "needs_background": "light"
          }
        }
      ]
    },
    {
      "cell_type": "markdown",
      "source": [
        "Run time distribution"
      ],
      "metadata": {
        "id": "ARbVnzCdKDZN"
      }
    },
    {
      "cell_type": "code",
      "source": [
        "m = mean(runtime)\n",
        "sd = stdev(runtime)\n",
        "\n",
        "print(stats.kstest([(x - m) / sd for x in runtime], \"norm\"))\n",
        "print(f\"mean: {m}, standard deviation: {sd}\")\n",
        "\n",
        "histogram(runtime)\n",
        "compare_with_normal_dist(runtime)"
      ],
      "metadata": {
        "colab": {
          "base_uri": "https://localhost:8080/",
          "height": 564
        },
        "id": "CAmn5MnRJe8N",
        "outputId": "9f5502f1-7f64-4e8c-a10f-a5ca1490d9d8"
      },
      "execution_count": 9,
      "outputs": [
        {
          "output_type": "stream",
          "name": "stdout",
          "text": [
            "KstestResult(statistic=0.292822506957265, pvalue=0.0)\n",
            "mean: 43.93277316178568, standard deviation: 78.75441043182758\n"
          ]
        },
        {
          "output_type": "display_data",
          "data": {
            "text/plain": [
              "<Figure size 432x288 with 1 Axes>"
            ],
            "image/png": "[encoded data removed]"
          },
          "metadata": {
            "needs_background": "light"
          }
        },
        {
          "output_type": "display_data",
          "data": {
            "text/plain": [
              "<Figure size 432x288 with 1 Axes>"
            ],
            "image/png": "[encoded data removed]"
          },
          "metadata": {
            "needs_background": "light"
          }
        }
      ]
    },
    {
      "cell_type": "markdown",
      "source": [
        "# Outlier analysis"
      ],
      "metadata": {
        "id": "EcQfsdWAU9Tq"
      }
    },
    {
      "cell_type": "code",
      "source": [
        "scikit_posthocs.outliers_tietjen(ratings[:1000], 2)"
      ],
      "metadata": {
        "colab": {
          "base_uri": "https://localhost:8080/"
        },
        "id": "TWNCXsCbVJJD",
        "outputId": "b6e459fd-fdc2-4024-b743-c3f3387e6f04"
      },
      "execution_count": 10,
      "outputs": [
        {
          "output_type": "execute_result",
          "data": {
            "text/plain": [
              "array([5.7, 5.8, 6.5, 5.6, 6.2, 5.1, 5.4, 5.4, 5.2, 6.9, 5.3, 7.4, 5.7,\n",
              "       7.1, 6.2, 5.9, 4.6, 5.3, 5.1, 4.8, 5.1, 5.7, 4.2, 3.9, 5.7, 5.6,\n",
              "       5.1, 5.9, 5.2, 5.5, 5. , 5.5, 5. , 5.5, 4.4, 4.4, 4.2, 3.3, 4.1,\n",
              "       6.7, 4.1, 3.2, 3.9, 3.9, 4.1, 3.3, 4.8, 5. , 4. , 3.5, 4.3, 3.1,\n",
              "       4.9, 3.5, 2.8, 4.4, 4.2, 3.2, 7.6, 3.9, 6.3, 3.2, 2.8, 3.1, 3. ,\n",
              "       5.6, 3.6, 4.9, 6.4, 3.2, 3.4, 3.3, 4.5, 6.3, 4.5, 4.4, 3.7, 4.3,\n",
              "       3.9, 4. , 4.8, 4.6, 4.3, 4.7, 4. , 4.7, 4.2, 6.2, 3.8, 6.7, 4.5,\n",
              "       4.7, 4.4, 4.8, 4.3, 4.9, 5.2, 4.6, 4.8, 4.5, 4.6, 5.4, 5.6, 5. ,\n",
              "       4.4, 5.2, 4.4, 4.5, 4.4, 4.4, 4.5, 4.3, 5.1, 4.9, 5.2, 5.2, 5.2,\n",
              "       5.3, 5.3, 4.2, 5.1, 5.7, 5.2, 4.5, 5.8, 4.4, 5.8, 6.6, 5.1, 5.7,\n",
              "       5.1, 6.3, 4.8, 6.5, 4.5, 6.5, 5.3, 4.9, 5.1, 4.5, 4.9, 5.1, 3.2,\n",
              "       5. , 5.2, 3. , 4.6, 5.3, 4.8, 6.2, 5.7, 3.7, 5.2, 3.8, 3.7, 2.8,\n",
              "       5.2, 5.3, 3.3, 5.4, 5. , 5. , 4.6, 3.4, 4.1, 2.8, 3.7, 5.2, 6.1,\n",
              "       4.5, 4.6, 5. , 4.6, 4.6, 5.2, 4.6, 6.8, 4.9, 5.9, 4.9, 3.9, 4.8,\n",
              "       4.8, 4.5, 5.4, 4.9, 4.2, 4.2, 4.8, 4.8, 5.7, 5. , 4.9, 7.4, 4.6,\n",
              "       4.2, 4.1, 5.9, 6.7, 4.6, 5.4, 5. , 4.9, 4.4, 6.5, 2.9, 6.3, 6.3,\n",
              "       5.5, 4.3, 6.4, 6.4, 6.4, 5. , 6.1, 5.3, 4.2, 4.8, 5.5, 5.7, 4.3,\n",
              "       4.8, 6.5, 5.6, 5.5, 5.6, 6.9, 6.2, 4.2, 4.5, 5.9, 5.3, 5.7, 4.9,\n",
              "       5.2, 5.2, 5.8, 5.6, 6.9, 4.4, 5.2, 6.1, 5.3, 5. , 5.4, 6.1, 7.3,\n",
              "       5.8, 5.8, 4.9, 6.3, 6.1, 5. , 4.9, 4.9, 4.8, 4.4, 5.5, 5.8, 5.5,\n",
              "       5.2, 6.2, 5.9, 6.2, 7.1, 7.6, 6.3, 5.6, 6.8, 5.6, 6.3, 6.1, 6.2,\n",
              "       4.2, 6.9, 3.4, 5.8, 5.1, 5.2, 6.1, 5.9, 5.8, 3.6, 5.1, 6.7, 4.2,\n",
              "       5.5, 5.4, 5.4, 8.2, 6.2, 5.5, 4.9, 3.8, 5.9, 5.7, 6.2, 5.2, 7.3,\n",
              "       5.4, 4.6, 4.8, 6.4, 6.6, 4.6, 6.8, 4. , 4.4, 4.8, 7.3, 5.8, 5.1,\n",
              "       6.3, 5.3, 5.1, 6.9, 6.9, 3.6, 4.9, 6. , 5.9, 5.2, 6.7, 7.5, 4.6,\n",
              "       4.2, 6.6, 3.4, 5.8, 6.6, 4.5, 4.8, 6.6, 5.7, 6.4, 5.5, 5.8, 5.4,\n",
              "       4.2, 6.2, 6.7, 6.6, 4.8, 4.4, 4.8, 6.7, 3.6, 5.7, 6.5, 6.3, 4.8,\n",
              "       4.5, 5.1, 6.3, 6.8, 3.9, 6.8, 6. , 5.7, 6.1, 7.4, 4.7, 5.2, 5. ,\n",
              "       5.1, 5.6, 5.3, 5.1, 4.9, 5.1, 3.8, 5.8, 4.6, 6.1, 3.6, 4.5, 4.3,\n",
              "       6.6, 4.3, 4.5, 8.7, 6.5, 5.7, 5.7, 5.6, 2.9, 5.1, 3.5, 5.5, 4.9,\n",
              "       5. , 4.4, 4.7, 5.2, 5.1, 5. , 4.6, 7.6, 4.8, 4.5, 5.1, 6.5, 4.8,\n",
              "       5.4, 7.2, 4.3, 5.1, 5.3, 5.4, 7. , 4.8, 5.7, 5.9, 5.1, 4.6, 4.2,\n",
              "       3.6, 5.2, 5.2, 5.3, 6.9, 5.4, 5.1, 5.5, 6.2, 6.1, 4.8, 5.6, 4. ,\n",
              "       4.7, 5.5, 5.1, 5.4, 4.6, 4.7, 4.3, 5.4, 5.2, 5.3, 6. , 4.7, 5.2,\n",
              "       5.5, 5.9, 5.7, 4.5, 5.9, 3. , 4.9, 7.8, 6.2, 5. , 4.2, 6.2, 7.1,\n",
              "       4.6, 5.4, 5.7, 5.1, 7.3, 5.7, 5.3, 6.1, 7.6, 5.4, 5.6, 6.3, 5.3,\n",
              "       5.4, 5.6, 5.8, 7.5, 5.8, 6. , 5. , 6.3, 8.3, 4.1, 5.3, 4.9, 4.9,\n",
              "       6.2, 4.5, 4.3, 5.3, 4.1, 5.2, 4.9, 6. , 4.4, 6.1, 4.4, 4.6, 4.1,\n",
              "       5.1, 4.7, 4.2, 4.1, 3.9, 5.1, 5.2, 4.1, 5.2, 6.6, 6.4, 4.9, 4.8,\n",
              "       5.1, 5.6, 5.2, 5.2, 6.4, 4.5, 5.6, 5.6, 4.9, 5.7, 5.2, 5.9, 5.2,\n",
              "       4.6, 4.6, 4.6, 4.9, 4.5, 5.6, 5.7, 5.2, 5.7, 5.8, 4.7, 4.3, 4.7,\n",
              "       5. , 5.8, 5.8, 3.5, 4.7, 4.9, 6.9, 5.5, 5.4, 6.3, 5.6, 3.2, 5.5,\n",
              "       5.2, 3.6, 4.5, 4.5, 5.4, 5.2, 4.8, 6. , 4.8, 2.6, 4.2, 6.1, 3.2,\n",
              "       4.2, 5. , 5.5, 6.1, 5.3, 5.3, 4.6, 3.2, 4.9, 4.1, 6.2, 6.7, 4.6,\n",
              "       4.9, 4.5, 6.1, 3.8, 4.6, 4.4, 4. , 5. , 5.6, 6.2, 4.8, 4.7, 8.1,\n",
              "       4.4, 4.5, 5.6, 4.4, 6.4, 5.8, 6.4, 5.8, 5.1, 5.1, 3.9, 4.9, 5.5,\n",
              "       4.4, 5. , 7.8, 4.8, 4.8, 6. , 4.4, 6.6, 6.2, 5.2, 5.3, 5.4, 4.8,\n",
              "       3.6, 5.2, 6.5, 4.2, 4.4, 5.9, 5. , 4.4, 5.2, 4.2, 7.3, 5.3, 4.1,\n",
              "       5. , 6. , 4.6, 4.8, 2.6, 3.4, 3.8, 5.2, 5.5, 5.6, 3.6, 5. , 4.8,\n",
              "       5.4, 5.8, 5. , 6.3, 6.2, 5.2, 4.9, 4.2, 4.8, 5.9, 6. , 5.7, 5.6,\n",
              "       4.4, 5.2, 5. , 5.5, 3.8, 5. , 5.2, 4.8, 5.7, 5.1, 8.2, 6.5, 5.3,\n",
              "       5.7, 3.8, 2.4, 5.9, 5. , 4.8, 5.4, 4.8, 6.4, 5.9, 6.1, 4.5, 3.8,\n",
              "       5.1, 4.6, 4.7, 5.4, 5.5, 5.6, 4.4, 5.5, 4.8, 4.6, 5.5, 4.5, 4.5,\n",
              "       5.8, 5.2, 4. , 5.4, 3.7, 4. , 5.6, 4.2, 4.4, 5.2, 4.2, 3.9, 7. ,\n",
              "       5.4, 4.4, 6.6, 4.4, 4.2, 4.5, 4.6, 6. , 5.6, 5.5, 6.6, 4.6, 5.7,\n",
              "       5.2, 6.4, 5.9, 5. , 5.4, 5.4, 5. , 4.6, 3.9, 4.5, 5.1, 5.5, 5.6,\n",
              "       4.4, 5.9, 5.8, 4.8, 7.1, 6.4, 4.5, 4.9, 6.8, 5.9, 4.8, 5.5, 5. ,\n",
              "       7.2, 3.1, 6. , 4.8, 5.5, 5.5, 5.1, 5.8, 6. , 5.2, 5.5, 5.6, 5.5,\n",
              "       5.6, 6.2, 5.7, 5.3, 5.1, 6. , 4.2, 5.3, 5.9, 4.8, 6. , 3.6, 5.7,\n",
              "       5.3, 4.4, 5.4, 5.6, 3. , 6.4, 5.9, 6.2, 3.9, 6.3, 4.2, 5.1, 6.3,\n",
              "       5.4, 5.9, 4.7, 5.8, 3.2, 5.3, 5.5, 5.6, 8.5, 5.9, 5.3, 2.9, 6. ,\n",
              "       5.7, 5.7, 7.3, 5.8, 4.9, 6.3, 4.8, 4.2, 7.2, 5.7, 5. , 4.8, 5.3,\n",
              "       5.5, 5.9, 5. , 7.7, 4.3, 5.5, 4.6, 5.2, 4. , 6. , 6.1, 5.4, 5.2,\n",
              "       4.8, 4.7, 4.6, 5.8, 4.1, 4.4, 4.4, 4.4, 5.6, 3.8, 4.2, 5.4, 5.6,\n",
              "       5.6, 6.3, 6.4, 5.6, 5.5, 5.3, 6.3, 4.9, 6.3, 4.9, 6.2, 6.4, 5.1,\n",
              "       5.3, 4. , 5.9, 6.6, 5.7, 4.2, 4.8, 5.1, 4.8, 5.4, 7.1, 4.8, 4.2,\n",
              "       4.6, 5.6, 3.1, 3.4, 4.2, 5.8, 7.7, 7.1, 5.2, 7.1, 6.8, 6.5, 4.4,\n",
              "       5.7, 5. , 5.3, 5. , 4.8, 5.4, 5.5, 5.6, 6.6, 5.1, 7. , 8. , 6.3,\n",
              "       6.2, 5.2, 4.8, 3. , 5.6, 6.8, 5.2, 5.8, 5. , 5.1, 4.4, 4.1, 4.6,\n",
              "       5.7, 5.2, 5.9, 5.1, 4.8, 7.4, 7.8, 5.3, 4.5, 4. , 5.9, 5.2, 5.4,\n",
              "       3.7, 5.5, 5.8, 7.3, 5.4, 4.9, 5. , 4.5, 5.1, 5.6, 6.1, 5. , 5.5,\n",
              "       6. , 5.9, 5.4, 6.1, 6. , 6.2, 5. , 4.1, 4.5, 6. , 4.5, 7. , 4.6,\n",
              "       6. , 4.1, 5.4, 5.3, 3.4, 4.3, 3.6, 5.9, 6.7, 4.8, 6.2, 3.8, 4.9,\n",
              "       5.1, 4.1, 5. , 6.1, 6.1, 4.6, 4.9, 3.9, 4.2, 5.9, 5.1, 4.7, 6.9,\n",
              "       4.6, 4.8, 6.2, 5.1, 6.2, 7. , 5.5, 5.7, 5.7, 5.7, 6. , 5.2, 8.9,\n",
              "       5.2, 6. , 4.3, 6.3, 4.6, 4.7, 4.8, 5.9, 5.8, 3.4, 6.2, 6.4, 6.2,\n",
              "       4.5, 5.5, 6.2, 5.8, 6.1, 4.8, 4.7, 5.5, 6.8, 5.2, 6. , 5.3])"
            ]
          },
          "metadata": {},
          "execution_count": 10
        }
      ]
    },
    {
      "cell_type": "code",
      "source": [
        "scikit_posthocs.outliers_tietjen(votes, 2)"
      ],
      "metadata": {
        "colab": {
          "base_uri": "https://localhost:8080/",
          "height": 325
        },
        "id": "hM6eqg1DWHx4",
        "outputId": "0adc2db7-ac0e-4e69-e384-4c89d4ecb6f9"
      },
      "execution_count": 11,
      "outputs": [
        {
          "output_type": "error",
          "ename": "KeyboardInterrupt",
          "evalue": "ignored",
          "traceback": [
            "\u001b[0;31m---------------------------------------------------------------------------\u001b[0m",
            "\u001b[0;31mKeyboardInterrupt\u001b[0m                         Traceback (most recent call last)",
            "\u001b[0;32m<ipython-input-11-5c0d327ecde5>\u001b[0m in \u001b[0;36m<module>\u001b[0;34m\u001b[0m\n\u001b[0;32m----> 1\u001b[0;31m \u001b[0mscikit_posthocs\u001b[0m\u001b[0;34m.\u001b[0m\u001b[0moutliers_tietjen\u001b[0m\u001b[0;34m(\u001b[0m\u001b[0mvotes\u001b[0m\u001b[0;34m,\u001b[0m \u001b[0;36m2\u001b[0m\u001b[0;34m)\u001b[0m\u001b[0;34m\u001b[0m\u001b[0;34m\u001b[0m\u001b[0m\n\u001b[0m",
            "\u001b[0;32m/usr/local/lib/python3.7/dist-packages/scikit_posthocs/_outliers.py\u001b[0m in \u001b[0;36moutliers_tietjen\u001b[0;34m(x, k, hypo, alpha)\u001b[0m\n\u001b[1;32m    198\u001b[0m     \u001b[0;32mfor\u001b[0m \u001b[0mi\u001b[0m \u001b[0;32min\u001b[0m \u001b[0mnp\u001b[0m\u001b[0;34m.\u001b[0m\u001b[0marange\u001b[0m\u001b[0;34m(\u001b[0m\u001b[0;36m10000\u001b[0m\u001b[0;34m)\u001b[0m\u001b[0;34m:\u001b[0m\u001b[0;34m\u001b[0m\u001b[0;34m\u001b[0m\u001b[0m\n\u001b[1;32m    199\u001b[0m         \u001b[0mnorm\u001b[0m \u001b[0;34m=\u001b[0m \u001b[0mnp\u001b[0m\u001b[0;34m.\u001b[0m\u001b[0mrandom\u001b[0m\u001b[0;34m.\u001b[0m\u001b[0mnormal\u001b[0m\u001b[0;34m(\u001b[0m\u001b[0msize\u001b[0m\u001b[0;34m=\u001b[0m\u001b[0mn\u001b[0m\u001b[0;34m)\u001b[0m\u001b[0;34m\u001b[0m\u001b[0;34m\u001b[0m\u001b[0m\n\u001b[0;32m--> 200\u001b[0;31m         \u001b[0me_norm\u001b[0m\u001b[0;34m[\u001b[0m\u001b[0mi\u001b[0m\u001b[0;34m]\u001b[0m \u001b[0;34m=\u001b[0m \u001b[0mtietjen\u001b[0m\u001b[0;34m(\u001b[0m\u001b[0mnorm\u001b[0m\u001b[0;34m,\u001b[0m \u001b[0mk\u001b[0m\u001b[0;34m)\u001b[0m\u001b[0;34m\u001b[0m\u001b[0;34m\u001b[0m\u001b[0m\n\u001b[0m\u001b[1;32m    201\u001b[0m \u001b[0;34m\u001b[0m\u001b[0m\n\u001b[1;32m    202\u001b[0m     \u001b[0mCV\u001b[0m \u001b[0;34m=\u001b[0m \u001b[0mnp\u001b[0m\u001b[0;34m.\u001b[0m\u001b[0mpercentile\u001b[0m\u001b[0;34m(\u001b[0m\u001b[0me_norm\u001b[0m\u001b[0;34m,\u001b[0m \u001b[0malpha\u001b[0m \u001b[0;34m*\u001b[0m \u001b[0;36m100\u001b[0m\u001b[0;34m)\u001b[0m\u001b[0;34m\u001b[0m\u001b[0;34m\u001b[0m\u001b[0m\n",
            "\u001b[0;32m/usr/local/lib/python3.7/dist-packages/scikit_posthocs/_outliers.py\u001b[0m in \u001b[0;36mtietjen\u001b[0;34m(x_, k_)\u001b[0m\n\u001b[1;32m    189\u001b[0m         \u001b[0mx_mean\u001b[0m \u001b[0;34m=\u001b[0m \u001b[0mx_\u001b[0m\u001b[0;34m.\u001b[0m\u001b[0mmean\u001b[0m\u001b[0;34m(\u001b[0m\u001b[0;34m)\u001b[0m\u001b[0;34m\u001b[0m\u001b[0;34m\u001b[0m\u001b[0m\n\u001b[1;32m    190\u001b[0m         \u001b[0mr\u001b[0m \u001b[0;34m=\u001b[0m \u001b[0mnp\u001b[0m\u001b[0;34m.\u001b[0m\u001b[0mabs\u001b[0m\u001b[0;34m(\u001b[0m\u001b[0mx_\u001b[0m \u001b[0;34m-\u001b[0m \u001b[0mx_mean\u001b[0m\u001b[0;34m)\u001b[0m\u001b[0;34m\u001b[0m\u001b[0;34m\u001b[0m\u001b[0m\n\u001b[0;32m--> 191\u001b[0;31m         \u001b[0mz\u001b[0m \u001b[0;34m=\u001b[0m \u001b[0mx_\u001b[0m\u001b[0;34m[\u001b[0m\u001b[0mr\u001b[0m\u001b[0;34m.\u001b[0m\u001b[0margsort\u001b[0m\u001b[0;34m(\u001b[0m\u001b[0;34m)\u001b[0m\u001b[0;34m]\u001b[0m\u001b[0;34m\u001b[0m\u001b[0;34m\u001b[0m\u001b[0m\n\u001b[0m\u001b[1;32m    192\u001b[0m         \u001b[0mE\u001b[0m \u001b[0;34m=\u001b[0m \u001b[0mnp\u001b[0m\u001b[0;34m.\u001b[0m\u001b[0msum\u001b[0m\u001b[0;34m(\u001b[0m\u001b[0;34m(\u001b[0m\u001b[0mz\u001b[0m\u001b[0;34m[\u001b[0m\u001b[0;34m:\u001b[0m\u001b[0;34m-\u001b[0m\u001b[0mk_\u001b[0m\u001b[0;34m]\u001b[0m \u001b[0;34m-\u001b[0m \u001b[0mz\u001b[0m\u001b[0;34m[\u001b[0m\u001b[0;34m:\u001b[0m\u001b[0;34m-\u001b[0m\u001b[0mk_\u001b[0m\u001b[0;34m]\u001b[0m\u001b[0;34m.\u001b[0m\u001b[0mmean\u001b[0m\u001b[0;34m(\u001b[0m\u001b[0;34m)\u001b[0m\u001b[0;34m)\u001b[0m \u001b[0;34m**\u001b[0m \u001b[0;36m2\u001b[0m\u001b[0;34m)\u001b[0m \u001b[0;34m/\u001b[0m \u001b[0mnp\u001b[0m\u001b[0;34m.\u001b[0m\u001b[0msum\u001b[0m\u001b[0;34m(\u001b[0m\u001b[0;34m(\u001b[0m\u001b[0mz\u001b[0m \u001b[0;34m-\u001b[0m \u001b[0mx_mean\u001b[0m\u001b[0;34m)\u001b[0m \u001b[0;34m**\u001b[0m \u001b[0;36m2\u001b[0m\u001b[0;34m)\u001b[0m\u001b[0;34m\u001b[0m\u001b[0;34m\u001b[0m\u001b[0m\n\u001b[1;32m    193\u001b[0m         \u001b[0;32mreturn\u001b[0m \u001b[0mE\u001b[0m\u001b[0;34m\u001b[0m\u001b[0;34m\u001b[0m\u001b[0m\n",
            "\u001b[0;31mKeyboardInterrupt\u001b[0m: "
          ]
        }
      ]
    },
    {
      "cell_type": "code",
      "source": [
        "scikit_posthocs.outliers_tietjen(runtime, 2)"
      ],
      "metadata": {
        "id": "PcS5dFJcWOSk"
      },
      "execution_count": null,
      "outputs": []
    },
    {
      "cell_type": "markdown",
      "source": [
        "# Correlation"
      ],
      "metadata": {
        "id": "h3JxIPYbWmie"
      }
    },
    {
      "cell_type": "code",
      "source": [
        "def pearson_corr_test(vec1, vec2):\n",
        "  stat, p = pearsonr(vec1, vec2)\n",
        "  print(f'Statistic: {stat}, p-value: {p}')"
      ],
      "metadata": {
        "id": "8v8VwA-xfTWs"
      },
      "execution_count": 12,
      "outputs": []
    },
    {
      "cell_type": "code",
      "source": [
        "data = title_basics.join(title_ratings, \n",
        "                         how='inner', \n",
        "                         on='tconst').select(['averageRating', \n",
        "                                              'numVotes', \n",
        "                                              'runtimeMinutes'])\n",
        "data = data.filter(~data.runtimeMinutes.isin(to_filter))\n",
        "data = data.distinct().toPandas()\n",
        "data = data.apply(pd.to_numeric)"
      ],
      "metadata": {
        "id": "eQ-l77epW5GD"
      },
      "execution_count": 13,
      "outputs": []
    },
    {
      "cell_type": "code",
      "source": [
        "print(data.corr())"
      ],
      "metadata": {
        "colab": {
          "base_uri": "https://localhost:8080/"
        },
        "id": "6hCO-mZHc1Ph",
        "outputId": "317eb860-8e55-4e92-833e-d637e46335f6"
      },
      "execution_count": 14,
      "outputs": [
        {
          "output_type": "stream",
          "name": "stdout",
          "text": [
            "                averageRating  numVotes  runtimeMinutes\n",
            "averageRating        1.000000  0.031947       -0.054170\n",
            "numVotes             0.031947  1.000000        0.027248\n",
            "runtimeMinutes      -0.054170  0.027248        1.000000\n"
          ]
        }
      ]
    },
    {
      "cell_type": "code",
      "source": [
        "pearson_corr_test(data.loc[:, 'numVotes'], data.loc[:, 'averageRating'])\n",
        "pearson_corr_test(data.loc[:, 'numVotes'], data.loc[:, 'runtimeMinutes'])\n",
        "pearson_corr_test(data.loc[:, 'runtimeMinutes'], data.loc[:, 'averageRating'])"
      ],
      "metadata": {
        "colab": {
          "base_uri": "https://localhost:8080/"
        },
        "id": "0zzqzdUrWptY",
        "outputId": "56eae4f0-29f8-4d8f-8703-4dc0dbbb82b6"
      },
      "execution_count": 15,
      "outputs": [
        {
          "output_type": "stream",
          "name": "stdout",
          "text": [
            "Statistic: 0.03194730383115843, p-value: 3.50660057244544e-114\n",
            "Statistic: 0.027248361726413067, p-value: 1.4089754294513317e-83\n",
            "Statistic: -0.05417025802967565, p-value: 0.0\n"
          ]
        }
      ]
    }
  ]
}