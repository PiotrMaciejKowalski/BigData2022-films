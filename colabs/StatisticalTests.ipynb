{
  "nbformat": 4,
  "nbformat_minor": 0,
  "metadata": {
    "colab": {
      "provenance": []
    },
    "kernelspec": {
      "name": "python3",
      "display_name": "Python 3"
    },
    "language_info": {
      "name": "python"
    }
  },
  "cells": [
    {
      "cell_type": "markdown",
      "source": [
        "Load Data"
      ],
      "metadata": {
        "id": "ZQYFoZhzXDJ2"
      }
    },
    {
      "cell_type": "code",
      "execution_count": 1,
      "metadata": {
        "colab": {
          "base_uri": "https://localhost:8080/"
        },
        "id": "YXJPQNA9W2CI",
        "outputId": "a4250ae3-58d3-4052-9420-1d85a8d2c718"
      },
      "outputs": [
        {
          "output_type": "stream",
          "name": "stdout",
          "text": [
            "default-java\t\t   java-11-openjdk-amd64     java-8-openjdk-amd64\n",
            "java-1.11.0-openjdk-amd64  java-1.8.0-openjdk-amd64\n",
            "Looking in indexes: https://pypi.org/simple, https://us-python.pkg.dev/colab-wheels/public/simple/\n",
            "Requirement already satisfied: pyarrow in /usr/local/lib/python3.7/dist-packages (10.0.0)\n",
            "Requirement already satisfied: numpy>=1.16.6 in /usr/local/lib/python3.7/dist-packages (from pyarrow) (1.21.6)\n"
          ]
        }
      ],
      "source": [
        "# install Java8\n",
        "!apt-get install openjdk-8-jdk-headless -qq > /dev/null\n",
        "# download spark2.4.5\n",
        "!wget -q https://archive.apache.org/dist/spark/spark-2.4.5/spark-2.4.5-bin-hadoop2.7.tgz\n",
        "# unzip it\n",
        "!tar xf spark-2.4.5-bin-hadoop2.7.tgz\n",
        "# install findspark\n",
        "!pip install -q findspark\n",
        "# Google Colab has Java 11 available, test it using below command -\n",
        "!ls /usr/lib/jvm\n",
        "#install pyarrow\n",
        "!pip install -U pyarrow"
      ]
    },
    {
      "cell_type": "code",
      "source": [
        "import os\n",
        "import findspark\n",
        "\n",
        "os.environ[\"JAVA_HOME\"] = \"/usr/lib/jvm/java-8-openjdk-amd64\"\n",
        "os.environ[\"SPARK_HOME\"] = \"/content/spark-2.4.5-bin-hadoop2.7\"\n",
        "\n",
        "findspark.init()\n",
        "from pyspark.sql import SparkSession\n",
        "\n",
        "spark = SparkSession.builder.master(\"local[*]\").getOrCreate()\n",
        "spark_params = {\n",
        "\"spark.executor.memory\" : \"4g\",\n",
        "\"spark.driver.memory\": \"4g\",\n",
        "\"spark.memory.fraction\": \"0.9\"}\n",
        "for param, value in spark_params.items():\n",
        "  spark.conf.set(param, value)\n",
        "\n",
        "!wget \"https://datasets.imdbws.com/name.basics.tsv.gz\"\n",
        "!wget \"https://datasets.imdbws.com/title.akas.tsv.gz\"\n",
        "!wget \"https://datasets.imdbws.com/title.basics.tsv.gz\"\n",
        "!wget \"https://datasets.imdbws.com/title.crew.tsv.gz\"\n",
        "!wget \"https://datasets.imdbws.com/title.episode.tsv.gz\"\n",
        "!wget \"https://datasets.imdbws.com/title.principals.tsv.gz\"\n",
        "!wget \"https://datasets.imdbws.com/title.ratings.tsv.gz\"\n",
        "\n",
        "title_ratings = spark.read.csv(\"title.ratings.tsv.gz\", sep='\\t', header=True)\n",
        "title_basics = spark.read.csv(\"title.basics.tsv.gz\", sep='\\t', header=True)"
      ],
      "metadata": {
        "colab": {
          "base_uri": "https://localhost:8080/"
        },
        "id": "SqWCiLz4W_9R",
        "outputId": "9a1019c5-572b-4acd-c6d6-4cc50f58d3d4"
      },
      "execution_count": 2,
      "outputs": [
        {
          "output_type": "stream",
          "name": "stdout",
          "text": [
            "--2022-11-07 17:35:23--  https://datasets.imdbws.com/name.basics.tsv.gz\n",
            "Resolving datasets.imdbws.com (datasets.imdbws.com)... 13.224.167.31, 13.224.167.100, 13.224.167.126, ...\n",
            "Connecting to datasets.imdbws.com (datasets.imdbws.com)|13.224.167.31|:443... connected.\n",
            "HTTP request sent, awaiting response... 200 OK\n",
            "Length: 236081246 (225M) [binary/octet-stream]\n",
            "Saving to: ‘name.basics.tsv.gz.1’\n",
            "\n",
            "name.basics.tsv.gz. 100%[===================>] 225.14M  18.0MB/s    in 13s     \n",
            "\n",
            "2022-11-07 17:35:37 (16.9 MB/s) - ‘name.basics.tsv.gz.1’ saved [236081246/236081246]\n",
            "\n",
            "--2022-11-07 17:35:37--  https://datasets.imdbws.com/title.akas.tsv.gz\n",
            "Resolving datasets.imdbws.com (datasets.imdbws.com)... 13.224.167.31, 13.224.167.100, 13.224.167.126, ...\n",
            "Connecting to datasets.imdbws.com (datasets.imdbws.com)|13.224.167.31|:443... connected.\n",
            "HTTP request sent, awaiting response... 200 OK\n",
            "Length: 286770276 (273M) [binary/octet-stream]\n",
            "Saving to: ‘title.akas.tsv.gz.1’\n",
            "\n",
            "title.akas.tsv.gz.1 100%[===================>] 273.49M  43.3MB/s    in 6.5s    \n",
            "\n",
            "2022-11-07 17:35:44 (42.2 MB/s) - ‘title.akas.tsv.gz.1’ saved [286770276/286770276]\n",
            "\n",
            "--2022-11-07 17:35:44--  https://datasets.imdbws.com/title.basics.tsv.gz\n",
            "Resolving datasets.imdbws.com (datasets.imdbws.com)... 13.224.167.31, 13.224.167.100, 13.224.167.126, ...\n",
            "Connecting to datasets.imdbws.com (datasets.imdbws.com)|13.224.167.31|:443... connected.\n",
            "HTTP request sent, awaiting response... 200 OK\n",
            "Length: 163502553 (156M) [binary/octet-stream]\n",
            "Saving to: ‘title.basics.tsv.gz.1’\n",
            "\n",
            "title.basics.tsv.gz 100%[===================>] 155.93M  43.8MB/s    in 3.6s    \n",
            "\n",
            "2022-11-07 17:35:48 (43.3 MB/s) - ‘title.basics.tsv.gz.1’ saved [163502553/163502553]\n",
            "\n",
            "--2022-11-07 17:35:48--  https://datasets.imdbws.com/title.crew.tsv.gz\n",
            "Resolving datasets.imdbws.com (datasets.imdbws.com)... 13.224.167.31, 13.224.167.100, 13.224.167.126, ...\n",
            "Connecting to datasets.imdbws.com (datasets.imdbws.com)|13.224.167.31|:443... connected.\n",
            "HTTP request sent, awaiting response... 200 OK\n",
            "Length: 62766217 (60M) [binary/octet-stream]\n",
            "Saving to: ‘title.crew.tsv.gz.1’\n",
            "\n",
            "title.crew.tsv.gz.1 100%[===================>]  59.86M  15.0MB/s    in 4.6s    \n",
            "\n",
            "2022-11-07 17:35:53 (13.1 MB/s) - ‘title.crew.tsv.gz.1’ saved [62766217/62766217]\n",
            "\n",
            "--2022-11-07 17:35:53--  https://datasets.imdbws.com/title.episode.tsv.gz\n",
            "Resolving datasets.imdbws.com (datasets.imdbws.com)... 13.224.167.100, 13.224.167.31, 13.224.167.126, ...\n",
            "Connecting to datasets.imdbws.com (datasets.imdbws.com)|13.224.167.100|:443... connected.\n",
            "HTTP request sent, awaiting response... 200 OK\n",
            "Length: 38444787 (37M) [binary/octet-stream]\n",
            "Saving to: ‘title.episode.tsv.gz.1’\n",
            "\n",
            "title.episode.tsv.g 100%[===================>]  36.66M  11.0MB/s    in 3.3s    \n",
            "\n",
            "2022-11-07 17:35:58 (11.0 MB/s) - ‘title.episode.tsv.gz.1’ saved [38444787/38444787]\n",
            "\n",
            "--2022-11-07 17:35:58--  https://datasets.imdbws.com/title.principals.tsv.gz\n",
            "Resolving datasets.imdbws.com (datasets.imdbws.com)... 13.224.167.100, 13.224.167.31, 13.224.167.126, ...\n",
            "Connecting to datasets.imdbws.com (datasets.imdbws.com)|13.224.167.100|:443... connected.\n",
            "HTTP request sent, awaiting response... 200 OK\n",
            "Length: 416281027 (397M) [binary/octet-stream]\n",
            "Saving to: ‘title.principals.tsv.gz.1’\n",
            "\n",
            "title.principals.ts 100%[===================>] 397.00M  44.4MB/s    in 8.6s    \n",
            "\n",
            "2022-11-07 17:36:07 (46.0 MB/s) - ‘title.principals.tsv.gz.1’ saved [416281027/416281027]\n",
            "\n",
            "--2022-11-07 17:36:07--  https://datasets.imdbws.com/title.ratings.tsv.gz\n",
            "Resolving datasets.imdbws.com (datasets.imdbws.com)... 13.224.167.100, 13.224.167.31, 13.224.167.126, ...\n",
            "Connecting to datasets.imdbws.com (datasets.imdbws.com)|13.224.167.100|:443... connected.\n",
            "HTTP request sent, awaiting response... 200 OK\n",
            "Length: 6253717 (6.0M) [binary/octet-stream]\n",
            "Saving to: ‘title.ratings.tsv.gz.1’\n",
            "\n",
            "title.ratings.tsv.g 100%[===================>]   5.96M  23.6MB/s    in 0.3s    \n",
            "\n",
            "2022-11-07 17:36:07 (23.6 MB/s) - ‘title.ratings.tsv.gz.1’ saved [6253717/6253717]\n",
            "\n"
          ]
        }
      ]
    },
    {
      "cell_type": "code",
      "source": [
        "print(title_basics.show(5))\n",
        "print(title_ratings.show(5))"
      ],
      "metadata": {
        "colab": {
          "base_uri": "https://localhost:8080/"
        },
        "id": "hILS08jNrYpQ",
        "outputId": "1da5f2cd-953c-4741-9bfa-ff89b691aa2e"
      },
      "execution_count": 3,
      "outputs": [
        {
          "output_type": "stream",
          "name": "stdout",
          "text": [
            "+---------+---------+--------------------+--------------------+-------+---------+-------+--------------+--------------------+\n",
            "|   tconst|titleType|        primaryTitle|       originalTitle|isAdult|startYear|endYear|runtimeMinutes|              genres|\n",
            "+---------+---------+--------------------+--------------------+-------+---------+-------+--------------+--------------------+\n",
            "|tt0000001|    short|          Carmencita|          Carmencita|      0|     1894|     \\N|             1|   Documentary,Short|\n",
            "|tt0000002|    short|Le clown et ses c...|Le clown et ses c...|      0|     1892|     \\N|             5|     Animation,Short|\n",
            "|tt0000003|    short|      Pauvre Pierrot|      Pauvre Pierrot|      0|     1892|     \\N|             4|Animation,Comedy,...|\n",
            "|tt0000004|    short|         Un bon bock|         Un bon bock|      0|     1892|     \\N|            12|     Animation,Short|\n",
            "|tt0000005|    short|    Blacksmith Scene|    Blacksmith Scene|      0|     1893|     \\N|             1|        Comedy,Short|\n",
            "+---------+---------+--------------------+--------------------+-------+---------+-------+--------------+--------------------+\n",
            "only showing top 5 rows\n",
            "\n",
            "None\n",
            "+---------+-------------+--------+\n",
            "|   tconst|averageRating|numVotes|\n",
            "+---------+-------------+--------+\n",
            "|tt0000001|          5.7|    1922|\n",
            "|tt0000002|          5.8|     259|\n",
            "|tt0000003|          6.5|    1733|\n",
            "|tt0000004|          5.6|     174|\n",
            "|tt0000005|          6.2|    2544|\n",
            "+---------+-------------+--------+\n",
            "only showing top 5 rows\n",
            "\n",
            "None\n"
          ]
        }
      ]
    },
    {
      "cell_type": "markdown",
      "source": [
        "Normality Tests"
      ],
      "metadata": {
        "id": "LNUS5-iYXTY0"
      }
    },
    {
      "cell_type": "code",
      "source": [
        "import pandas as pd\n",
        "from scipy import stats\n",
        "from statistics import mean, stdev\n",
        "\n",
        "import numpy as np\n",
        "import matplotlib.pyplot as plt\n",
        "import seaborn as sns\n",
        "\n",
        "from scipy.stats import t"
      ],
      "metadata": {
        "id": "ObfX0WPjt6Vp"
      },
      "execution_count": 4,
      "outputs": []
    },
    {
      "cell_type": "markdown",
      "source": [
        "Get necessery values"
      ],
      "metadata": {
        "id": "ZZXi3-Iksux1"
      }
    },
    {
      "cell_type": "code",
      "source": [
        "runtime = title_basics.select('runtimeMinutes').filter(\n",
        "    ~title_basics.runtimeMinutes.isin(['\\\\N', 'Reality-TV', \n",
        "                                       'Talk-Show', 'Documentary', \n",
        "                                       'Animation,Comedy,Family', 'Game-Show', \n",
        "                                       'Game-Show,Reality-TV']))\n",
        "runtime = list(runtime.toPandas()['runtimeMinutes'])\n",
        "runtime = [float(x) for x in runtime]\n",
        "\n",
        "ratings = list(title_ratings.select('averageRating').toPandas()['averageRating'])\n",
        "ratings = [float(x) for x in ratings]\n",
        "\n",
        "votes = list(title_ratings.select('numVotes').toPandas()['numVotes'])\n",
        "votes = [float(x) for x in votes]"
      ],
      "metadata": {
        "id": "j_pHG1qBsreD"
      },
      "execution_count": 5,
      "outputs": []
    },
    {
      "cell_type": "code",
      "source": [
        "def compare_with_normal_dist(sample):\n",
        "  # Create a gaussian distribution\n",
        "  m = mean(sample)\n",
        "  sd = stdev(sample)\n",
        "  x = np.random.normal(loc = m, scale = sd, size = len(sample))\n",
        "\n",
        "  # Binning\n",
        "  n_x, bins_x = np.histogram(x, bins = int(np.ceil(np.sqrt(x.size))))\n",
        "  n_y, bins_y = np.histogram(sample, bins = int(np.ceil(np.sqrt(len(sample)))))\n",
        "\n",
        "  # Normalizings\n",
        "  n_x = n_x / len(x) / len(bins_y)\n",
        "  n_y = n_y / len(sample) / len(bins_x)\n",
        "\n",
        "  # Plotting\n",
        "  plt.plot(bins_x[:-1], n_x)\n",
        "  plt.plot(bins_y[:-1], n_y)\n",
        "  plt.show()  \n",
        "  "
      ],
      "metadata": {
        "id": "hrZ4DoAByj2q"
      },
      "execution_count": 6,
      "outputs": []
    },
    {
      "cell_type": "markdown",
      "source": [
        "Ratings distribution"
      ],
      "metadata": {
        "id": "TeCJtagrJ5zO"
      }
    },
    {
      "cell_type": "code",
      "source": [
        "m = mean(ratings)\n",
        "sd = stdev(ratings)\n",
        "\n",
        "print(stats.kstest([(x - m) / sd for x in ratings], \"norm\"))\n",
        "print(f\"mean: {m}, standard deviation: {sd}\")\n",
        "\n",
        "compare_with_normal_dist(ratings)"
      ],
      "metadata": {
        "id": "ZKn6uACwcaBS",
        "colab": {
          "base_uri": "https://localhost:8080/",
          "height": 313
        },
        "outputId": "ced953bc-777a-48d0-99b7-a44cc1377e9d"
      },
      "execution_count": 7,
      "outputs": [
        {
          "output_type": "stream",
          "name": "stdout",
          "text": [
            "KstestResult(statistic=0.07666292631247779, pvalue=0.0)\n",
            "mean: 6.949523867635122, standard deviation: 1.3906164850084959\n"
          ]
        },
        {
          "output_type": "display_data",
          "data": {
            "text/plain": [
              "<Figure size 432x288 with 1 Axes>"
            ],
            "image/png": "[encoded data removed]"
          },
          "metadata": {
            "needs_background": "light"
          }
        }
      ]
    },
    {
      "cell_type": "markdown",
      "source": [
        "Number of votes distribution"
      ],
      "metadata": {
        "id": "aS2tdZhsJ_P2"
      }
    },
    {
      "cell_type": "code",
      "source": [
        "m = mean(votes)\n",
        "sd = stdev(votes)\n",
        "\n",
        "print(stats.kstest([(x - m) / sd for x in votes], \"norm\"))\n",
        "print(f\"mean: {m}, standard deviation: {sd}\")\n",
        "\n",
        "compare_with_normal_dist(votes)"
      ],
      "metadata": {
        "colab": {
          "base_uri": "https://localhost:8080/",
          "height": 315
        },
        "id": "-7GwYZtPywik",
        "outputId": "675124b4-56ec-450a-c159-40ac0f15e8ad"
      },
      "execution_count": 8,
      "outputs": [
        {
          "output_type": "stream",
          "name": "stdout",
          "text": [
            "KstestResult(statistic=0.47606909600802344, pvalue=0.0)\n",
            "mean: 1042.048970862032, standard deviation: 17277.84294273762\n"
          ]
        },
        {
          "output_type": "display_data",
          "data": {
            "text/plain": [
              "<Figure size 432x288 with 1 Axes>"
            ],
            "image/png": "[encoded data removed]"
          },
          "metadata": {
            "needs_background": "light"
          }
        }
      ]
    },
    {
      "cell_type": "markdown",
      "source": [
        "Run time distribution"
      ],
      "metadata": {
        "id": "ARbVnzCdKDZN"
      }
    },
    {
      "cell_type": "code",
      "source": [
        "m = mean(runtime)\n",
        "sd = stdev(runtime)\n",
        "\n",
        "print(stats.kstest([(x - m) / sd for x in runtime], \"norm\"))\n",
        "print(f\"mean: {m}, standard deviation: {sd}\")\n",
        "\n",
        "compare_with_normal_dist(runtime)"
      ],
      "metadata": {
        "colab": {
          "base_uri": "https://localhost:8080/",
          "height": 305
        },
        "id": "CAmn5MnRJe8N",
        "outputId": "db587a7f-0280-4421-cb97-39f62ecee0c4"
      },
      "execution_count": 9,
      "outputs": [
        {
          "output_type": "stream",
          "name": "stdout",
          "text": [
            "KstestResult(statistic=0.2728775588112143, pvalue=0.0)\n",
            "mean: 43.92507391062506, standard deviation: 71.05358486665897\n"
          ]
        },
        {
          "output_type": "display_data",
          "data": {
            "text/plain": [
              "<Figure size 432x288 with 1 Axes>"
            ],
            "image/png": "[encoded data removed]"
          },
          "metadata": {
            "needs_background": "light"
          }
        }
      ]
    }
  ]
}