{
 "cells": [
  {
   "cell_type": "markdown",
   "source": [
    "# DEMO"
   ],
   "metadata": {
    "id": "zwoFz5MQfc8Y"
   }
  },
  {
   "cell_type": "markdown",
   "source": [
    "##Spark Set up "
   ],
   "metadata": {
    "id": "0DE6AMYEekMt"
   }
  },
  {
   "cell_type": "code",
   "execution_count": 1,
   "metadata": {
    "colab": {
     "base_uri": "https://localhost:8080/"
    },
    "id": "ezAXyedTV7xb",
    "outputId": "7cc98b8e-a62e-440f-8292-2bd5cd5e59e0"
   },
   "outputs": [
    {
     "output_type": "stream",
     "name": "stdout",
     "text": [
      "Mounted at /content/drive\n"
     ]
    }
   ],
   "source": [
    "from google.colab import drive\n",
    "drive.mount('/content/drive')"
   ]
  },
  {
   "cell_type": "code",
   "execution_count": 2,
   "metadata": {
    "colab": {
     "base_uri": "https://localhost:8080/"
    },
    "id": "wRKDu1B7V9K_",
    "outputId": "f3c51dbe-31fe-44e7-bd4d-e3f79c0fd81e"
   },
   "outputs": [
    {
     "output_type": "stream",
     "name": "stdout",
     "text": [
      "Cloning into 'BigData2022-films'...\n",
      "remote: Enumerating objects: 1248, done.\u001B[K\n",
      "remote: Counting objects: 100% (562/562), done.\u001B[K\n",
      "remote: Compressing objects: 100% (300/300), done.\u001B[K\n",
      "remote: Total 1248 (delta 384), reused 320 (delta 261), pack-reused 686\u001B[K\n",
      "Receiving objects: 100% (1248/1248), 2.74 MiB | 8.29 MiB/s, done.\n",
      "Resolving deltas: 100% (746/746), done.\n",
      "mv: cannot move 'BigData2022-films/.' to './.': Device or resource busy\n",
      "mv: cannot move 'BigData2022-films/..' to './..': Device or resource busy\n"
     ]
    }
   ],
   "source": [
    "# install Java8\n",
    "!apt-get install openjdk-8-jdk-headless -qq > /dev/null\n",
    "# download spark2.4.5\n",
    "!wget -q https://archive.apache.org/dist/spark/spark-3.2.1/spark-3.2.1-bin-hadoop3.2.tgz\n",
    "# unzip it\n",
    "!tar xf spark-3.2.1-bin-hadoop3.2.tgz\n",
    "# install findspark\n",
    "!pip install -q findspark\n",
    "# clone github repo\n",
    "!git clone https://github.com/PiotrMaciejKowalski/BigData2022-films\n",
    "# Przeniesienie plików z BigData2022-films do katalogu nadrzędnego\n",
    "!mv BigData2022-films/* .\n",
    "!mv BigData2022-films/.* .\n",
    "!rmdir BigData2022-films"
   ]
  },
  {
   "cell_type": "code",
   "source": [
    "!git checkout CU-862j3hjza_Trening-modelu"
   ],
   "metadata": {
    "id": "_ZIc9sKUUQNo",
    "outputId": "4134bb8f-9810-4ea9-b7db-450a42b9b5f4",
    "colab": {
     "base_uri": "https://localhost:8080/"
    }
   },
   "execution_count": 3,
   "outputs": [
    {
     "output_type": "stream",
     "name": "stdout",
     "text": [
      "Branch 'CU-862j3hjza_Trening-modelu' set up to track remote branch 'CU-862j3hjza_Trening-modelu' from 'origin'.\n",
      "Switched to a new branch 'CU-862j3hjza_Trening-modelu'\n"
     ]
    }
   ]
  },
  {
   "cell_type": "code",
   "execution_count": 4,
   "metadata": {
    "id": "Gy1Vn78v9m5g"
   },
   "outputs": [],
   "source": [
    "import os\n",
    "\n",
    "# setup environment variables for our Spark Session to work\n",
    "os.environ[\"JAVA_HOME\"] = \"/usr/lib/jvm/java-8-openjdk-amd64\"\n",
    "os.environ[\"SPARK_HOME\"] = '/content/spark-3.2.1-bin-hadoop3.2'\n",
    "\n",
    "from lib.pyspark_startup import init, load"
   ]
  },
  {
   "cell_type": "code",
   "execution_count": 5,
   "metadata": {
    "id": "6gMtlQ2r9upV"
   },
   "outputs": [],
   "source": [
    "spark = init()"
   ]
  },
  {
   "cell_type": "markdown",
   "source": [
    "## Load data"
   ],
   "metadata": {
    "id": "8dbZ-35vftJz"
   }
  },
  {
   "cell_type": "code",
   "execution_count": 6,
   "metadata": {
    "id": "-qqhXPYhYDdA"
   },
   "outputs": [],
   "source": [
    "path = \"/content/drive/.shortcut-targets-by-id/1VcOir9FMG8LzEsUE-Q8YA79c_sV0tJwp/bigdata2022/\""
   ]
  },
  {
   "cell_type": "code",
   "source": [
    "train_df = spark.read.parquet(path + \"train_df.parquet\")"
   ],
   "metadata": {
    "id": "HjkapA0VZOwM"
   },
   "execution_count": 7,
   "outputs": []
  },
  {
   "cell_type": "code",
   "execution_count": 8,
   "metadata": {
    "colab": {
     "base_uri": "https://localhost:8080/"
    },
    "id": "hzTg2qyOV9QL",
    "outputId": "8aec5ecf-6ba6-4dbe-d574-f8b1efb4789a"
   },
   "outputs": [
    {
     "output_type": "stream",
     "name": "stdout",
     "text": [
      "+---------+--------------------+---------------------+-------------------------+-----------------------+--------------+--------------------------+--------------------+--------------------+\n",
      "|       id|               tytul|rok_wydania_produkcji|rok_zakonczenia_produkcji|dlugosc_produkcji_w_min|liczba_sezonow|liczba_wszystkich_odcinkow|        ludzie_filmu|            features|\n",
      "+---------+--------------------+---------------------+-------------------------+-----------------------+--------------+--------------------------+--------------------+--------------------+\n",
      "|tt0000001|          Carmencita|                 1894|                     1894|                      1|             1|                         1|[nm1588970, nm000...|(45,[1,17,19],[1....|\n",
      "|tt0000003|      Pauvre Pierrot|                 1892|                     1892|                      4|             1|                         1|[nm0721526, nm177...|(45,[1,20,22,23],...|\n",
      "|tt0000006|   Chinese Opium Den|                 1894|                     1894|                      1|             1|                         1|[nm0005690, null,...|(45,[1,17],[1.0,1...|\n",
      "|tt0000007|Corbett and Court...|                 1894|                     1894|                      1|             1|                         1|[nm0179163, nm018...|(45,[1,17,37],[1....|\n",
      "|tt0000009|          Miss Jerry|                 1894|                     1894|                     45|             1|                         1|[nm0063086, nm018...|(45,[2,22],[1.0,1...|\n",
      "|tt0000016|Boat Leaving the ...|                 1895|                     1895|                      1|             1|                         1|[nm0525900, nm973...|(45,[1,17,19],[1....|\n",
      "|tt0000018|Das boxende Känguruh|                 1895|                     1895|                      1|             1|                         1|[nm3692071, nm080...|(45,[1,17],[1.0,1...|\n",
      "|tt0000027|Cordeliers' Squar...|                 1895|                     1895|                      1|             1|                         1|[nm0525910, null,...|(45,[1,17,19],[1....|\n",
      "|tt0000029|         Baby's Meal|                 1895|                     1895|                      1|             1|                         1|[nm0525908, nm052...|(45,[1,17,19],[1....|\n",
      "|tt0000033|  Horse Trick Riders|                 1895|                     1895|                      1|             1|                         1|[nm0525910, null,...|(45,[1,17,19,20],...|\n",
      "+---------+--------------------+---------------------+-------------------------+-----------------------+--------------+--------------------------+--------------------+--------------------+\n",
      "only showing top 10 rows\n",
      "\n"
     ]
    }
   ],
   "source": [
    "train_df.show(10)"
   ]
  },
  {
   "cell_type": "markdown",
   "source": [
    "## Prezentacja dla \"Toy Story\". "
   ],
   "metadata": {
    "id": "d4dJdadNtkYw"
   }
  },
  {
   "cell_type": "code",
   "source": [
    "from lib.model import Model"
   ],
   "metadata": {
    "id": "N0AFCixw0QWD"
   },
   "execution_count": 10,
   "outputs": []
  },
  {
   "cell_type": "code",
   "source": [
    "model = Model(train_df)"
   ],
   "metadata": {
    "id": "Fv56Cw3cpfPZ"
   },
   "execution_count": 12,
   "outputs": []
  },
  {
   "cell_type": "code",
   "source": [
    "tytul = \"Toy Story\""
   ],
   "metadata": {
    "id": "yC0LN_MFWSlA"
   },
   "execution_count": 13,
   "outputs": []
  },
  {
   "cell_type": "code",
   "source": [
    "model.train(tytul)"
   ],
   "metadata": {
    "colab": {
     "base_uri": "https://localhost:8080/"
    },
    "id": "t8YwABEMpqt9",
    "outputId": "12a807c0-7a7c-43fc-c4de-41034a200e2f"
   },
   "execution_count": 14,
   "outputs": [
    {
     "output_type": "execute_result",
     "data": {
      "text/plain": [
       "DataFrame[id: string, tytul: string, cos_similarity: float, IOU: float]"
      ]
     },
     "metadata": {},
     "execution_count": 14
    }
   ]
  },
  {
   "cell_type": "code",
   "source": [
    "prediction = model.predict(0.5,False)"
   ],
   "metadata": {
    "id": "bLC2FLotq6TW"
   },
   "execution_count": 15,
   "outputs": []
  },
  {
   "cell_type": "code",
   "source": [
    "prediction.show()"
   ],
   "metadata": {
    "colab": {
     "base_uri": "https://localhost:8080/"
    },
    "id": "yj8jAK31uYoE",
    "outputId": "beb4e5f1-3342-4028-a8f0-8cc4bb5d3e64"
   },
   "execution_count": 16,
   "outputs": [
    {
     "output_type": "stream",
     "name": "stdout",
     "text": [
      "+---------+--------------------+--------------+---+----------+\n",
      "|       id|               tytul|cos_similarity|IOU|prediction|\n",
      "+---------+--------------------+--------------+---+----------+\n",
      "|tt0000001|          Carmencita|    0.57735026|0.0|0.28867513|\n",
      "|tt0000003|      Pauvre Pierrot|          0.25|0.0|     0.125|\n",
      "|tt0000006|   Chinese Opium Den|    0.70710677|0.0|0.35355338|\n",
      "|tt0000007|Corbett and Court...|    0.57735026|0.0|0.28867513|\n",
      "|tt0000009|          Miss Jerry|           0.0|0.0|       0.0|\n",
      "|tt0000016|Boat Leaving the ...|    0.57735026|0.0|0.28867513|\n",
      "|tt0000018|Das boxende Känguruh|    0.70710677|0.0|0.35355338|\n",
      "|tt0000027|Cordeliers' Squar...|    0.57735026|0.0|0.28867513|\n",
      "|tt0000029|         Baby's Meal|    0.57735026|0.0|0.28867513|\n",
      "|tt0000033|  Horse Trick Riders|           0.5|0.0|      0.25|\n",
      "|tt0000034|Arrivée d'un trai...|    0.57735026|0.0|0.28867513|\n",
      "|tt0000035|Watering the Flowers|    0.57735026|0.0|0.28867513|\n",
      "|tt0000036|    Awakening of Rip|     0.8660254|0.0| 0.4330127|\n",
      "|tt0000041|   Bataille de neige|           0.5|0.0|      0.25|\n",
      "|tt0000062|    Danse serpentine|    0.70710677|0.0|0.35355338|\n",
      "|tt0000070|Demolition of a Wall|    0.57735026|0.0|0.28867513|\n",
      "|tt0000075|The Conjuring of ...|    0.57735026|0.0|0.28867513|\n",
      "|tt0000091|The House of the ...|    0.57735026|0.0|0.28867513|\n",
      "|tt0000109|Rip Meeting the D...|    0.57735026|0.0|0.28867513|\n",
      "|tt0000110|Rip Passing Over ...|    0.57735026|0.0|0.28867513|\n",
      "+---------+--------------------+--------------+---+----------+\n",
      "only showing top 20 rows\n",
      "\n"
     ]
    }
   ]
  },
  {
   "cell_type": "markdown",
   "source": [
    "Sortowanie"
   ],
   "metadata": {
    "id": "qDVo6R4o2T2k"
   }
  },
  {
   "cell_type": "code",
   "source": [
    "prediction = model.predict(0.5,True)"
   ],
   "metadata": {
    "id": "gNE_16gHuqk8"
   },
   "execution_count": 23,
   "outputs": []
  },
  {
   "cell_type": "code",
   "source": [
    "prediction.show(10)"
   ],
   "metadata": {
    "colab": {
     "base_uri": "https://localhost:8080/"
    },
    "id": "BHRqrDD22j85",
    "outputId": "c53cafed-9bb8-4549-f2a6-72ef801f2aa0"
   },
   "execution_count": 22,
   "outputs": [
    {
     "output_type": "stream",
     "name": "stdout",
     "text": [
      "+---------+--------------------+--------------+---+----------+\n",
      "|       id|               tytul|cos_similarity|IOU|prediction|\n",
      "+---------+--------------------+--------------+---+----------+\n",
      "|tt0000001|          Carmencita|    0.57735026|0.0|0.28867513|\n",
      "|tt0000003|      Pauvre Pierrot|          0.25|0.0|     0.125|\n",
      "|tt0000006|   Chinese Opium Den|    0.70710677|0.0|0.35355338|\n",
      "|tt0000007|Corbett and Court...|    0.57735026|0.0|0.28867513|\n",
      "|tt0000009|          Miss Jerry|           0.0|0.0|       0.0|\n",
      "|tt0000016|Boat Leaving the ...|    0.57735026|0.0|0.28867513|\n",
      "|tt0000018|Das boxende Känguruh|    0.70710677|0.0|0.35355338|\n",
      "|tt0000027|Cordeliers' Squar...|    0.57735026|0.0|0.28867513|\n",
      "|tt0000029|         Baby's Meal|    0.57735026|0.0|0.28867513|\n",
      "|tt0000033|  Horse Trick Riders|           0.5|0.0|      0.25|\n",
      "+---------+--------------------+--------------+---+----------+\n",
      "only showing top 10 rows\n",
      "\n"
     ]
    }
   ]
  }
 ],
 "metadata": {
  "colab": {
   "provenance": [],
   "collapsed_sections": [
    "8dbZ-35vftJz"
   ]
  },
  "kernelspec": {
   "display_name": "Python 3",
   "name": "python3"
  },
  "language_info": {
   "name": "python"
  },
  "gpuClass": "premium"
 },
 "nbformat": 4,
 "nbformat_minor": 0
}
