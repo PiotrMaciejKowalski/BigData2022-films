{
  "cells": [
    {
      "cell_type": "markdown",
      "metadata": {
        "id": "view-in-github",
        "colab_type": "text"
      },
      "source": [
        "<a href=\"https://colab.research.google.com/github/PiotrMaciejKowalski/BigData2022-films/blob/analiza_b%C5%82%C4%99d%C3%B3w/colabs/analiza_b%C5%82%C4%99d%C3%B3w.ipynb\" target=\"_parent\"><img src=\"https://colab.research.google.com/assets/colab-badge.svg\" alt=\"Open In Colab\"/></a>"
      ]
    },
    {
      "cell_type": "markdown",
      "source": [
        "## Wczytywanie danych, ustawienia początkowe"
      ],
      "metadata": {
        "id": "sKbK9JhhKDUN"
      }
    },
    {
      "cell_type": "code",
      "execution_count": 1,
      "metadata": {
        "id": "ezAXyedTV7xb",
        "colab": {
          "base_uri": "https://localhost:8080/"
        },
        "outputId": "8353add9-ac7d-463e-8940-aca787a6d2c3"
      },
      "outputs": [
        {
          "output_type": "stream",
          "name": "stdout",
          "text": [
            "Mounted at /content/drive\n"
          ]
        }
      ],
      "source": [
        "from google.colab import drive\n",
        "drive.mount('/content/drive')"
      ]
    },
    {
      "cell_type": "code",
      "execution_count": 2,
      "metadata": {
        "id": "wRKDu1B7V9K_",
        "colab": {
          "base_uri": "https://localhost:8080/"
        },
        "outputId": "e2aa4128-c51e-444b-dc76-4c982bdf0794"
      },
      "outputs": [
        {
          "output_type": "stream",
          "name": "stdout",
          "text": [
            "Cloning into 'BigData2022-films'...\n",
            "remote: Enumerating objects: 1258, done.\u001b[K\n",
            "remote: Counting objects: 100% (572/572), done.\u001b[K\n",
            "remote: Compressing objects: 100% (304/304), done.\u001b[K\n",
            "remote: Total 1258 (delta 392), reused 328 (delta 267), pack-reused 686\u001b[K\n",
            "Receiving objects: 100% (1258/1258), 2.74 MiB | 12.64 MiB/s, done.\n",
            "Resolving deltas: 100% (754/754), done.\n",
            "mv: cannot move 'BigData2022-films/.' to './.': Device or resource busy\n",
            "mv: cannot move 'BigData2022-films/..' to './..': Device or resource busy\n"
          ]
        }
      ],
      "source": [
        "# install Java8\n",
        "!apt-get install openjdk-8-jdk-headless -qq > /dev/null\n",
        "# download spark2.4.5\n",
        "!wget -q https://archive.apache.org/dist/spark/spark-3.2.1/spark-3.2.1-bin-hadoop3.2.tgz\n",
        "# unzip it\n",
        "!tar xf spark-3.2.1-bin-hadoop3.2.tgz\n",
        "# install findspark\n",
        "!pip install -q findspark\n",
        "# clone github repo\n",
        "!git clone https://github.com/PiotrMaciejKowalski/BigData2022-films\n",
        "# Przeniesienie plików z BigData2022-films do katalogu nadrzędnego\n",
        "!mv BigData2022-films/* .\n",
        "!mv BigData2022-films/.* .\n",
        "!rmdir BigData2022-films"
      ]
    },
    {
      "cell_type": "code",
      "execution_count": 3,
      "metadata": {
        "id": "Gy1Vn78v9m5g"
      },
      "outputs": [],
      "source": [
        "import os\n",
        "\n",
        "# setup environment variables for our Spark Session to work\n",
        "os.environ[\"JAVA_HOME\"] = \"/usr/lib/jvm/java-8-openjdk-amd64\"\n",
        "os.environ[\"SPARK_HOME\"] = '/content/spark-3.2.1-bin-hadoop3.2'\n",
        "\n",
        "from lib.pyspark_startup import init, load"
      ]
    },
    {
      "cell_type": "code",
      "execution_count": 4,
      "metadata": {
        "id": "6gMtlQ2r9upV"
      },
      "outputs": [],
      "source": [
        "spark = init()"
      ]
    },
    {
      "cell_type": "code",
      "execution_count": 5,
      "metadata": {
        "id": "-qqhXPYhYDdA"
      },
      "outputs": [],
      "source": [
        "path = \"/content/drive/.shortcut-targets-by-id/1VcOir9FMG8LzEsUE-Q8YA79c_sV0tJwp/bigdata2022/\""
      ]
    },
    {
      "cell_type": "code",
      "source": [
        "test = spark.read.parquet(path + \"test_df.parquet\")\n",
        "train = spark.read.parquet(path + \"train_df.parquet\")\n",
        "valid = spark.read.parquet(path + \"valid_df.parquet\")"
      ],
      "metadata": {
        "id": "asW5xw8U1Fu3"
      },
      "execution_count": 26,
      "outputs": []
    },
    {
      "cell_type": "code",
      "source": [
        "df_temp = test.union(train)\n",
        "df_clean = df_temp.union(valid)"
      ],
      "metadata": {
        "id": "FxpfqGqhpsnl"
      },
      "execution_count": 38,
      "outputs": []
    },
    {
      "cell_type": "code",
      "execution_count": 8,
      "metadata": {
        "id": "dodBMXZZ9u3q"
      },
      "outputs": [],
      "source": [
        "import pyspark.sql.functions as f\n",
        "from pyspark.sql.types import FloatType \n",
        "import random\n",
        "from pyspark.sql import DataFrame"
      ]
    },
    {
      "cell_type": "markdown",
      "source": [
        "## Funkcje"
      ],
      "metadata": {
        "id": "JMkv3xj7KOx0"
      }
    },
    {
      "cell_type": "markdown",
      "source": [
        "COS_SIM"
      ],
      "metadata": {
        "id": "fLDBz6cBUfBj"
      }
    },
    {
      "cell_type": "code",
      "execution_count": 10,
      "metadata": {
        "id": "ZUZnBwXh9u5w"
      },
      "outputs": [],
      "source": [
        "# Define a function that takes two vectors as input and returns their cosine similarity\n",
        "def cosine_similarity(vec1, vec2):\n",
        "    return float(vec1.dot(vec2) / (vec1.norm(2) * vec2.norm(2)))"
      ]
    },
    {
      "cell_type": "markdown",
      "source": [
        "IoU\n"
      ],
      "metadata": {
        "id": "RYul6ae6V7Uc"
      }
    },
    {
      "cell_type": "code",
      "source": [
        "from typing import List, Any\n",
        "\n",
        "\n",
        "def intersection_over_union(list_1: List[Any], list_2: List[Any]) -> float:\n",
        "\n",
        "    if None in list_1:\n",
        "      list_1 = list(filter(None, list_1))\n",
        "\n",
        "    if None in list_2:\n",
        "      list_2 = list(filter(None, list_2))\n",
        "\n",
        "    if len(list_1) == 0 or len(list_2) == 0:\n",
        "        return 0.0\n",
        "\n",
        "    return len(set(list_1) & set(list_2)) / len(set(list_1 + list_2))"
      ],
      "metadata": {
        "id": "GYJtlbxLklc1"
      },
      "execution_count": 11,
      "outputs": []
    },
    {
      "cell_type": "markdown",
      "source": [
        "Funkcja łącząca IOU i cos_sim"
      ],
      "metadata": {
        "id": "MP8Rh13m_89f"
      }
    },
    {
      "cell_type": "code",
      "source": [
        "def cos_sim_and_iou_for_row(\n",
        "    df: DataFrame,\n",
        "    movie_id: str,\n",
        "    cos_sim_col_name: str = \"features\",\n",
        "    iou_col_name: str = \"ludzie_filmu\",\n",
        ") -> DataFrame:\n",
        "    \"\"\"This function returns a DataFrame that contains cosinus similarity and \n",
        "    intersection_over_union calculations for the given movie_id.\n",
        "\n",
        "\n",
        "\n",
        "    :param df:              pyspark.sql.DataFrame\n",
        "    :param movie_id:        String\n",
        "    :return:                pyspark.sql.DataFrame\"\"\"\n",
        "\n",
        "  #  if not(cos_sim_col_name in df.columns and iou_col_name in df.columns):\n",
        "    #  raise AssertionError(\"input dataframe does not have the required columns\")\n",
        "\n",
        "    vec_cos_sim =  df.filter(df.id == movie_id).select(cos_sim_col_name).collect()[0][0]\n",
        "    vec_iou = df.filter(df.id == movie_id).select(iou_col_name).collect()[0][0]\n",
        "\n",
        "    def cos(x):\n",
        "        return cosine_similarity(vec_cos_sim, x)\n",
        "\n",
        "    cos_udf = f.udf(cos, FloatType())\n",
        "\n",
        "    def iou(x):\n",
        "      return intersection_over_union(vec_iou, x)\n",
        "\n",
        "    iou_udf = f.udf(iou, FloatType())\n",
        "\n",
        "\n",
        "    df = df.withColumn(\"cos_similarity\", cos_udf(f.col(cos_sim_col_name)))\n",
        "    df = df.withColumn('IOU', iou_udf(f.col(iou_col_name)))\n",
        "\n",
        "    return df.select([\"id\",\"tytul\", \"cos_similarity\",\"IOU\"])"
      ],
      "metadata": {
        "id": "fF1DKoHm_-j3"
      },
      "execution_count": 12,
      "outputs": []
    },
    {
      "cell_type": "markdown",
      "source": [
        "Rank_function"
      ],
      "metadata": {
        "id": "TiM8th_bKU6V"
      }
    },
    {
      "cell_type": "code",
      "source": [
        "from lib.ranking_function import ranking_list"
      ],
      "metadata": {
        "id": "z3Unbc8rKWYV"
      },
      "execution_count": 13,
      "outputs": []
    },
    {
      "cell_type": "markdown",
      "source": [
        "Połączone cos_sim i Iou"
      ],
      "metadata": {
        "id": "KycmPKaqKhDU"
      }
    },
    {
      "cell_type": "code",
      "source": [
        "def testujemy(df,a_param:float):\n",
        "\n",
        "\n",
        "    add_udf = f.udf(lambda x, y: a_param* x + (1- a_param) * y, FloatType())\n",
        "\n",
        "    df = df.withColumn(\"prediction\", add_udf(df[\"cos_similarity\"], df[\"IOU\"]))\n",
        "\n",
        "\n",
        "    return df"
      ],
      "metadata": {
        "id": "eoobMClqKhRc"
      },
      "execution_count": 14,
      "outputs": []
    },
    {
      "cell_type": "code",
      "source": [
        "from pyspark.sql.functions import desc\n",
        "\n",
        "def najbardziej_podobne (id, ile, df1):\n",
        "  #wyrzuca najlepsze wartości prediction\n",
        "    df = cos_sim_and_iou_for_row(df1,id)\n",
        "    df_prediction= testujemy(df, 0.5)\n",
        "    df_prediction = df_prediction.sort(desc(\"prediction\"))\n",
        "    df_prediction.show(ile)\n"
      ],
      "metadata": {
        "id": "af_MKAcgNKny"
      },
      "execution_count": 66,
      "outputs": []
    },
    {
      "cell_type": "markdown",
      "source": [
        "## Testowanie"
      ],
      "metadata": {
        "id": "d4dJdadNtkYw"
      }
    },
    {
      "cell_type": "code",
      "source": [
        "def porownanie(id,liczba,df1):\n",
        "  # porównanie funkcji rankującej i prediction z cos i iou\n",
        "  najbardziej_podobne(id,liczba,df1)\n",
        "  a = ranking_list(df1,id).sort_values(by='score', ascending=False).head(liczba)\n",
        "  print(a)"
      ],
      "metadata": {
        "id": "bZikPgvTjTMw"
      },
      "execution_count": 67,
      "outputs": []
    },
    {
      "cell_type": "code",
      "source": [
        "porownanie(\"tt0068646\",10,df_clean)"
      ],
      "metadata": {
        "colab": {
          "base_uri": "https://localhost:8080/"
        },
        "id": "zPGVrnAmo20k",
        "outputId": "95411111-e4d9-4603-ac1d-cc8da6044fb5"
      },
      "execution_count": 42,
      "outputs": [
        {
          "output_type": "stream",
          "name": "stdout",
          "text": [
            "+---------+--------------------+--------------+----------+----------+\n",
            "|       id|               tytul|cos_similarity|       IOU|prediction|\n",
            "+---------+--------------------+--------------+----------+----------+\n",
            "|tt0068646|       The Godfather|           1.0|       1.0|       1.0|\n",
            "|tt0071562|The Godfather: Pa...|           1.0|0.42857143|0.71428573|\n",
            "|tt0099674|The Godfather: Pa...|          0.75|0.33333334| 0.5416667|\n",
            "|tt0086442|       A Time to Die|           1.0|0.05263158| 0.5263158|\n",
            "|tt0086250|            Scarface|           1.0|0.05263158| 0.5263158|\n",
            "|tt0086066|       The Outsiders|           1.0|0.05263158| 0.5263158|\n",
            "|tt0071532|         The Gambler|           1.0|0.05263158| 0.5263158|\n",
            "|tt0087089|     The Cotton Club|     0.8944272|0.11111111| 0.5027692|\n",
            "|tt0073845|L'uomo che sfidò ...|           1.0|       0.0|       0.5|\n",
            "|tt0068526|       Les ebranlées|           1.0|       0.0|       0.5|\n",
            "+---------+--------------------+--------------+----------+----------+\n",
            "only showing top 10 rows\n",
            "\n",
            "                id  score\n",
            "608655   tt0068646   17.0\n",
            "1169455  tt0071562   12.0\n",
            "629655   tt0150742   11.0\n",
            "617489   tt0099674   11.0\n",
            "696191   tt0809488    9.0\n",
            "153994   tt0087089    8.0\n",
            "613682   tt0086250    8.0\n",
            "326336   tt1445071    7.0\n",
            "201089   tt0314859    7.0\n",
            "611519   tt0078788    7.0\n"
          ]
        }
      ]
    },
    {
      "cell_type": "code",
      "source": [
        "porownanie(\"tt0111161\",10,df_clean)"
      ],
      "metadata": {
        "colab": {
          "base_uri": "https://localhost:8080/"
        },
        "id": "UE48QNugso75",
        "outputId": "9bf94a2f-5681-4d3e-a75d-08529e293054"
      },
      "execution_count": 52,
      "outputs": [
        {
          "output_type": "stream",
          "name": "stdout",
          "text": [
            "+---------+--------------------+--------------+-----------+----------+\n",
            "|       id|               tytul|cos_similarity|        IOU|prediction|\n",
            "+---------+--------------------+--------------+-----------+----------+\n",
            "|tt0111161|The Shawshank Red...|           1.0|        1.0|       1.0|\n",
            "|tt0093354|    The Kitchen Toto|           1.0|0.055555556| 0.5277778|\n",
            "|tt0095827|    Pascali's Island|           1.0| 0.05263158| 0.5263158|\n",
            "|tt0105323|    Scent of a Woman|           1.0| 0.05263158| 0.5263158|\n",
            "|tt0101921|Fried Green Tomatoes|           1.0| 0.05263158| 0.5263158|\n",
            "|tt0111667|             The War|           1.0| 0.05263158| 0.5263158|\n",
            "|tt0105107|        Passion Fish|           1.0| 0.05263158| 0.5263158|\n",
            "|tt0106464|              Bopha!|           1.0| 0.05263158| 0.5263158|\n",
            "|tt0094884|     Clean and Sober|           1.0| 0.05263158| 0.5263158|\n",
            "|tt0097722|          Lean on Me|           1.0| 0.05263158| 0.5263158|\n",
            "+---------+--------------------+--------------+-----------+----------+\n",
            "only showing top 10 rows\n",
            "\n",
            "                id  score\n",
            "160805   tt0111161   16.0\n",
            "163428   tt0120689    8.0\n",
            "4197     tt0102798    7.0\n",
            "159166   tt0105323    7.0\n",
            "508572   tt5443390    7.0\n",
            "618093   tt0101921    7.0\n",
            "4090     tt0100196    7.0\n",
            "159121   tt0105151    7.0\n",
            "1172103  tt0104756    7.0\n",
            "4303     tt0105695    7.0\n"
          ]
        }
      ]
    },
    {
      "cell_type": "code",
      "source": [
        "porownanie(\"tt1645170\",10,df_clean)"
      ],
      "metadata": {
        "colab": {
          "base_uri": "https://localhost:8080/"
        },
        "id": "g4lTkRa8381C",
        "outputId": "a1a45f3a-5e44-41ad-81b8-ef8ec0e4e9a9"
      },
      "execution_count": 53,
      "outputs": [
        {
          "output_type": "stream",
          "name": "stdout",
          "text": [
            "+----------+--------------------+--------------+----------+----------+\n",
            "|        id|               tytul|cos_similarity|       IOU|prediction|\n",
            "+----------+--------------------+--------------+----------+----------+\n",
            "| tt1645170|        The Dictator|           1.0|       1.0|       1.0|\n",
            "|tt13143964|Borat Subsequent ...|           1.0|0.11111111| 0.5555556|\n",
            "| tt1477837|        Cedar Rapids|           1.0|0.05263158| 0.5263158|\n",
            "|tt16302202|          The Estate|           1.0|0.05263158| 0.5263158|\n",
            "|tt10519662|       Futro z misia|           1.0|       0.0|       0.5|\n",
            "|tt10143114|Premier de la classe|           1.0|       0.0|       0.5|\n",
            "|tt10940736|15 Ways to Kill Y...|           1.0|       0.0|       0.5|\n",
            "| tt0475360|   Persona Au Gratin|           1.0|       0.0|       0.5|\n",
            "|tt10472102|Karakomik Filmler...|           1.0|       0.0|       0.5|\n",
            "|tt10081172|  15 Lakh Kado Aauga|           1.0|       0.0|       0.5|\n",
            "+----------+--------------------+--------------+----------+----------+\n",
            "only showing top 10 rows\n",
            "\n",
            "                 id  score\n",
            "1097603   tt1645170   16.0\n",
            "1064939   tt0889583    9.0\n",
            "682478    tt0443453    8.0\n",
            "666089    tt0356150    8.0\n",
            "455343    tt3381008    8.0\n",
            "301303   tt13143964    8.0\n",
            "659029    tt0312528    8.0\n",
            "494597    tt4877122    7.0\n",
            "305352    tt1336617    7.0\n",
            "52063     tt4762824    7.0\n"
          ]
        }
      ]
    },
    {
      "cell_type": "code",
      "source": [
        "porownanie(\"tt4154756\",10,df_clean)"
      ],
      "metadata": {
        "colab": {
          "base_uri": "https://localhost:8080/"
        },
        "id": "dIH-7cUhtsLz",
        "outputId": "b82c0dfc-8309-4f75-9c24-93cbbd2ff9c0"
      },
      "execution_count": 44,
      "outputs": [
        {
          "output_type": "stream",
          "name": "stdout",
          "text": [
            "+---------+--------------------+--------------+----------+----------+\n",
            "|       id|               tytul|cos_similarity|       IOU|prediction|\n",
            "+---------+--------------------+--------------+----------+----------+\n",
            "|tt4154756|Avengers: Infinit...|           1.0|       1.0|       1.0|\n",
            "|tt4154796|   Avengers: Endgame|           0.8|       1.0|       0.9|\n",
            "|tt3498820|Captain America: ...|           1.0|0.53846157| 0.7692308|\n",
            "|tt2395427|Avengers: Age of ...|           1.0|0.42857143|0.71428573|\n",
            "|tt1843866|Captain America: ...|           1.0|0.42857143|0.71428573|\n",
            "|tt0458339|Captain America: ...|           1.0|      0.25|     0.625|\n",
            "|tt1300854|          Iron Man 3|           1.0| 0.1764706| 0.5882353|\n",
            "|tt1228705|          Iron Man 2|           1.0| 0.1764706| 0.5882353|\n",
            "|tt1502712|      Fantastic Four|           1.0|0.11111111| 0.5555556|\n",
            "|tt0848228|        The Avengers|           1.0|0.11111111| 0.5555556|\n",
            "+---------+--------------------+--------------+----------+----------+\n",
            "only showing top 10 rows\n",
            "\n",
            "                id  score\n",
            "477365   tt4154756   18.0\n",
            "477366   tt4154796   16.0\n",
            "906241   tt3498820   15.0\n",
            "100209   tt1843866   14.0\n",
            "425038   tt2395427   14.0\n",
            "79699    tt0458339   11.0\n",
            "1207266  tt1228705   10.0\n",
            "699006   tt0848228   10.0\n",
            "1080660  tt1300854   10.0\n",
            "455470   tt3385516   10.0\n"
          ]
        }
      ]
    },
    {
      "cell_type": "code",
      "source": [
        "porownanie(\"tt0137523\",10,df_clean)"
      ],
      "metadata": {
        "colab": {
          "base_uri": "https://localhost:8080/"
        },
        "id": "6TWx8o2DubAr",
        "outputId": "af06ec98-100c-4e89-bf07-907605fa7770"
      },
      "execution_count": 45,
      "outputs": [
        {
          "output_type": "stream",
          "name": "stdout",
          "text": [
            "+---------+------------------+--------------+-----------+----------+\n",
            "|       id|             tytul|cos_similarity|        IOU|prediction|\n",
            "+---------+------------------+--------------+-----------+----------+\n",
            "|tt0137523|        Fight Club|           1.0|        1.0|       1.0|\n",
            "|tt0114782|  Under the Bridge|           1.0|0.055555556| 0.5277778|\n",
            "|tt0449467|             Babel|           1.0| 0.05263158| 0.5263158|\n",
            "|tt0307901|         25th Hour|           1.0| 0.05263158| 0.5263158|\n",
            "|tt0332452|              Troy|           1.0| 0.05263158| 0.5263158|\n",
            "|tt0115468|          Adosados|           1.0|        0.0|       0.5|\n",
            "|tt0114642|El techo del mundo|           1.0|        0.0|       0.5|\n",
            "|tt0114612| The Night Is Dark|           1.0|        0.0|       0.5|\n",
            "|tt0116720|   Joyeux Calvaire|           1.0|        0.0|       0.5|\n",
            "|tt0112941|          Eldorado|           1.0|        0.0|       0.5|\n",
            "+---------+------------------+--------------+-----------+----------+\n",
            "only showing top 10 rows\n",
            "\n",
            "                id  score\n",
            "167099   tt0137523   16.0\n",
            "161705   tt0114369    8.0\n",
            "622808   tt0119174    8.0\n",
            "678133   tt0421715    8.0\n",
            "715457  tt10618286    7.0\n",
            "622318   tt0117381    7.0\n",
            "162614   tt0117665    7.0\n",
            "163266   tt0120102    7.0\n",
            "622300   tt0117318    7.0\n",
            "683611   tt0449467    7.0\n"
          ]
        }
      ]
    },
    {
      "cell_type": "code",
      "source": [
        "porownanie(\"tt0088247\",30,df_clean)"
      ],
      "metadata": {
        "colab": {
          "base_uri": "https://localhost:8080/"
        },
        "id": "HkLu2Lqy5ynd",
        "outputId": "419161a3-6d65-4e95-90a5-96049a7cc4b8"
      },
      "execution_count": 55,
      "outputs": [
        {
          "output_type": "stream",
          "name": "stdout",
          "text": [
            "+----------+--------------------+--------------+----------+----------+\n",
            "|        id|               tytul|cos_similarity|       IOU|prediction|\n",
            "+----------+--------------------+--------------+----------+----------+\n",
            "| tt0088247|      The Terminator|           1.0|       1.0|       1.0|\n",
            "| tt0103064|Terminator 2: Jud...|          0.75|0.42857143|0.58928573|\n",
            "|tt15739442|The Terminator: '...|     0.4472136| 0.6666667|0.55694014|\n",
            "| tt0077479|    Dynamite Johnson|           1.0|       0.0|       0.5|\n",
            "| tt0310293|Çilgin kiz ve üç ...|           1.0|       0.0|       0.5|\n",
            "| tt0237923|Wild Sex of the C...|           1.0|       0.0|       0.5|\n",
            "| tt0185027| The Deathless Devil|           1.0|       0.0|       0.5|\n",
            "| tt0184983|            Uçan Kiz|           1.0|       0.0|       0.5|\n",
            "| tt0091110|       Ghost Warrior|           1.0|       0.0|       0.5|\n",
            "| tt0085125|2019: After the F...|           1.0|       0.0|       0.5|\n",
            "| tt0087130|            DEFCON-4|           1.0|       0.0|       0.5|\n",
            "| tt0068408|Conquest of the P...|           1.0|       0.0|       0.5|\n",
            "| tt0081019|  Crazy Thunder Road|           1.0|       0.0|       0.5|\n",
            "| tt0084056|      Health Warning|           1.0|       0.0|       0.5|\n",
            "| tt0085540|The Final Executi...|           1.0|       0.0|       0.5|\n",
            "| tt0067065|Escape from the P...|           1.0|       0.0|       0.5|\n",
            "| tt0069768|Battle for the Pl...|           1.0|       0.0|       0.5|\n",
            "| tt0090296|Warriors of the A...|           1.0|       0.0|       0.5|\n",
            "| tt0077408|     Death Dimension|           1.0|       0.0|       0.5|\n",
            "| tt0086381|             Stryker|           1.0|       0.0|       0.5|\n",
            "| tt0090192|            Trancers|           1.0|       0.0|       0.5|\n",
            "| tt3263152|Hanuman and the 5...|           1.0|       0.0|       0.5|\n",
            "| tt0084316|           Megaforce|           1.0|       0.0|       0.5|\n",
            "| tt0078869|      The Black Hole|           1.0|       0.0|       0.5|\n",
            "| tt0071923|Prophecies of Nos...|           1.0|       0.0|       0.5|\n",
            "| tt0086135|Atlantis Intercep...|           1.0|       0.0|       0.5|\n",
            "| tt0334278|  Three Robot Heroes|           1.0|       0.0|       0.5|\n",
            "| tt0073835|The Ultimate Warrior|           1.0|       0.0|       0.5|\n",
            "| tt0085514|The Exterminators...|           1.0|       0.0|       0.5|\n",
            "| tt0071336|          The Clones|           1.0|       0.0|       0.5|\n",
            "+----------+--------------------+--------------+----------+----------+\n",
            "only showing top 30 rows\n",
            "\n",
            "                 id  score\n",
            "614274    tt0088247   17.0\n",
            "802311   tt15739442   12.0\n",
            "158543    tt0103064   11.0\n",
            "651359    tt0271049    9.0\n",
            "802291   tt15738638    9.0\n",
            "667735    tt0365601    9.0\n",
            "1082762   tt1340138    8.0\n",
            "58102     tt6450804    8.0\n",
            "180900    tt0204667    8.0\n",
            "1170977   tt0090605    8.0\n",
            "613196    tt0084540    7.0\n",
            "69232     tt0078435    7.0\n",
            "612554    tt0082381    7.0\n",
            "608347    tt0067525    7.0\n",
            "614254    tt0088170    7.0\n",
            "274774   tt11562864    7.0\n",
            "4486      tt0110216    7.0\n",
            "623531    tt0122116    7.0\n",
            "610369    tt0074812    7.0\n",
            "163365    tt0120458    7.0\n",
            "153992    tt0087078    7.0\n",
            "612539    tt0082340    7.0\n",
            "160908    tt0111503    7.0\n",
            "613252    tt0084726    7.0\n",
            "900089    tt3263152    7.0\n",
            "900090    tt3263160    7.0\n",
            "612152    tt0081019    7.0\n",
            "622738    tt0118928    7.0\n",
            "149383    tt0071336    7.0\n",
            "153013    tt0083658    7.0\n"
          ]
        }
      ]
    },
    {
      "cell_type": "code",
      "source": [
        "porownanie(\"tt0031381\",10,df_clean)"
      ],
      "metadata": {
        "colab": {
          "base_uri": "https://localhost:8080/"
        },
        "id": "5qllxg_wvTiu",
        "outputId": "8947a584-89ee-4a37-c9eb-812ab862096c"
      },
      "execution_count": 46,
      "outputs": [
        {
          "output_type": "stream",
          "name": "stdout",
          "text": [
            "+---------+--------------------+--------------+----------+----------+\n",
            "|       id|               tytul|cos_similarity|       IOU|prediction|\n",
            "+---------+--------------------+--------------+----------+----------+\n",
            "|tt0031381|  Gone with the Wind|           1.0|       1.0|       1.0|\n",
            "|tt0023185|The Man from Yest...|           1.0|0.05263158| 0.5263158|\n",
            "|tt0018666|       The Awakening|           1.0|0.05263158| 0.5263158|\n",
            "|tt0022879|  A Farewell to Arms|           1.0|0.05263158| 0.5263158|\n",
            "|tt0021525|    The Virtuous Sin|           1.0|0.05263158| 0.5263158|\n",
            "|tt0024770|    The White Sister|     0.8944272|0.11111111| 0.5027692|\n",
            "|tt0030848|          Test Pilot|     0.8944272|0.11111111| 0.5027692|\n",
            "|tt0028944|      The Good Earth|     0.8944272|0.11111111| 0.5027692|\n",
            "|tt0030099|     Eli Sjursdotter|           1.0|       0.0|       0.5|\n",
            "|tt0026095|          La bandera|           1.0|       0.0|       0.5|\n",
            "+---------+--------------------+--------------+----------+----------+\n",
            "only showing top 10 rows\n",
            "\n",
            "                id  score\n",
            "597306   tt0031381   18.0\n",
            "135115   tt0025464    9.0\n",
            "594787   tt0023185    8.0\n",
            "136795   tt0030848    8.0\n",
            "134884   tt0024770    8.0\n",
            "1165158  tt0021525    8.0\n",
            "134453   tt0023382    8.0\n",
            "593504   tt0018666    8.0\n",
            "1165790  tt0028944    8.0\n",
            "134309   tt0022879    8.0\n"
          ]
        }
      ]
    },
    {
      "cell_type": "code",
      "source": [
        "porownanie(\"tt0114709\",10,df_clean)"
      ],
      "metadata": {
        "colab": {
          "base_uri": "https://localhost:8080/"
        },
        "id": "VOd0ha_uwu1T",
        "outputId": "02989cd3-4d4c-42f2-d2f3-ab37e608d307"
      },
      "execution_count": 47,
      "outputs": [
        {
          "output_type": "stream",
          "name": "stdout",
          "text": [
            "+---------+--------------------+--------------+----------+----------+\n",
            "|       id|               tytul|cos_similarity|       IOU|prediction|\n",
            "+---------+--------------------+--------------+----------+----------+\n",
            "|tt0114709|           Toy Story|           1.0|       1.0|       1.0|\n",
            "|tt0120363|         Toy Story 2|           1.0|0.33333334| 0.6666667|\n",
            "|tt0120623|        A Bug's Life|           1.0| 0.1764706| 0.5882353|\n",
            "|tt0317219|                Cars|           1.0|0.11111111| 0.5555556|\n",
            "|tt0198781|      Monsters, Inc.|           1.0|0.05263158| 0.5263158|\n",
            "|tt0356634|            Garfield|           1.0|0.05263158| 0.5263158|\n",
            "|tt0455499|Garfield: A Tail ...|           1.0|0.05263158| 0.5263158|\n",
            "|tt0338348|   The Polar Express|           1.0|0.05263158| 0.5263158|\n",
            "|tt0429589|       The Ant Bully|           1.0|0.05263158| 0.5263158|\n",
            "|tt1049413|                  Up|           1.0|0.05263158| 0.5263158|\n",
            "+---------+--------------------+--------------+----------+----------+\n",
            "only showing top 10 rows\n",
            "\n",
            "                id  score\n",
            "161790   tt0114709   18.0\n",
            "163342   tt0120363   13.0\n",
            "623219   tt0120623   11.0\n",
            "681047   tt0435761   10.0\n",
            "839037   tt1979376   10.0\n",
            "106929   tt2446040    9.0\n",
            "221827   tt0429589    9.0\n",
            "1046692  tt0198781    9.0\n",
            "659889   tt0317219    9.0\n",
            "666156   tt0356634    9.0\n"
          ]
        }
      ]
    },
    {
      "cell_type": "code",
      "source": [
        "porownanie(\"tt0081505\",10,df_clean)"
      ],
      "metadata": {
        "colab": {
          "base_uri": "https://localhost:8080/"
        },
        "id": "bII-a5C7xxu1",
        "outputId": "c29b787c-a02f-42fa-f313-89b1d57c2b47"
      },
      "execution_count": 48,
      "outputs": [
        {
          "output_type": "stream",
          "name": "stdout",
          "text": [
            "+----------+--------------------+--------------+---+----------+\n",
            "|        id|               tytul|cos_similarity|IOU|prediction|\n",
            "+----------+--------------------+--------------+---+----------+\n",
            "| tt0081505|         The Shining|           1.0|1.0|       1.0|\n",
            "| tt0084899|           White Dog|           1.0|0.0|       0.5|\n",
            "| tt0070396|Al otro lado del ...|           1.0|0.0|       0.5|\n",
            "| tt0067178|They Have Changed...|           1.0|0.0|       0.5|\n",
            "| tt9619984|             Bonikka|           1.0|0.0|       0.5|\n",
            "| tt0095012|           The Devil|           1.0|0.0|       0.5|\n",
            "|tt11383980|House of Seven Be...|           1.0|0.0|       0.5|\n",
            "| tt0071872|The Dead, the Dev...|           1.0|0.0|       0.5|\n",
            "| tt0078132|The Night Before ...|           1.0|0.0|       0.5|\n",
            "| tt0085185|Atrapados en el m...|           1.0|0.0|       0.5|\n",
            "+----------+--------------------+--------------+---+----------+\n",
            "only showing top 10 rows\n",
            "\n",
            "                id  score\n",
            "69365    tt0081505   17.0\n",
            "195397   tt0285531    7.0\n",
            "1269089  tt5606664    7.0\n",
            "8589     tt0253514    7.0\n",
            "613432   tt0085407    7.0\n",
            "651356   tt0271040    7.0\n",
            "190449   tt0259322    7.0\n",
            "1169553  tt0072684    7.0\n",
            "173054   tt0165473    7.0\n",
            "209789   tt0367595    7.0\n"
          ]
        }
      ]
    },
    {
      "cell_type": "code",
      "source": [
        "porownanie(\"tt0111161\",10,df_clean)"
      ],
      "metadata": {
        "colab": {
          "base_uri": "https://localhost:8080/"
        },
        "id": "XRKKx1-oze7v",
        "outputId": "49945b04-dddf-421f-9c02-779c884d38cc"
      },
      "execution_count": 49,
      "outputs": [
        {
          "output_type": "stream",
          "name": "stdout",
          "text": [
            "+---------+--------------------+--------------+-----------+----------+\n",
            "|       id|               tytul|cos_similarity|        IOU|prediction|\n",
            "+---------+--------------------+--------------+-----------+----------+\n",
            "|tt0111161|The Shawshank Red...|           1.0|        1.0|       1.0|\n",
            "|tt0093354|    The Kitchen Toto|           1.0|0.055555556| 0.5277778|\n",
            "|tt0095827|    Pascali's Island|           1.0| 0.05263158| 0.5263158|\n",
            "|tt0105323|    Scent of a Woman|           1.0| 0.05263158| 0.5263158|\n",
            "|tt0101921|Fried Green Tomatoes|           1.0| 0.05263158| 0.5263158|\n",
            "|tt0111667|             The War|           1.0| 0.05263158| 0.5263158|\n",
            "|tt0105107|        Passion Fish|           1.0| 0.05263158| 0.5263158|\n",
            "|tt0106464|              Bopha!|           1.0| 0.05263158| 0.5263158|\n",
            "|tt0094884|     Clean and Sober|           1.0| 0.05263158| 0.5263158|\n",
            "|tt0097722|          Lean on Me|           1.0| 0.05263158| 0.5263158|\n",
            "+---------+--------------------+--------------+-----------+----------+\n",
            "only showing top 10 rows\n",
            "\n",
            "                id  score\n",
            "160805   tt0111161   16.0\n",
            "163428   tt0120689    8.0\n",
            "4197     tt0102798    7.0\n",
            "159166   tt0105323    7.0\n",
            "508572   tt5443390    7.0\n",
            "618093   tt0101921    7.0\n",
            "4090     tt0100196    7.0\n",
            "159121   tt0105151    7.0\n",
            "1172103  tt0104756    7.0\n",
            "4303     tt0105695    7.0\n"
          ]
        }
      ]
    },
    {
      "cell_type": "code",
      "source": [
        "porownanie(\"tt0468569\",10,df_clean)"
      ],
      "metadata": {
        "colab": {
          "base_uri": "https://localhost:8080/"
        },
        "id": "TM-Qz86tzmWm",
        "outputId": "df4707d2-4b10-4673-afb8-433fc3ce0a4a"
      },
      "execution_count": 50,
      "outputs": [
        {
          "output_type": "stream",
          "name": "stdout",
          "text": [
            "+---------+--------------------+--------------+----------+----------+\n",
            "|       id|               tytul|cos_similarity|       IOU|prediction|\n",
            "+---------+--------------------+--------------+----------+----------+\n",
            "|tt0468569|     The Dark Knight|           1.0|       1.0|       1.0|\n",
            "|tt0372784|       Batman Begins|           1.0|0.53846157| 0.7692308|\n",
            "|tt1345836|The Dark Knight R...|     0.6708204|0.42857143| 0.5496959|\n",
            "|tt0963178|   The International|           1.0|0.05263158| 0.5263158|\n",
            "|tt0433387|         Harsh Times|           1.0|0.05263158| 0.5263158|\n",
            "|tt0119099|              Fallen|           1.0|0.05263158| 0.5263158|\n",
            "|tt1289406|         Harry Brown|           1.0|0.05263158| 0.5263158|\n",
            "|tt0381849|        3:10 to Yuma|           1.0|0.05263158| 0.5263158|\n",
            "|tt0367878|         Os Imortais|           1.0|       0.0|       0.5|\n",
            "|tt0214555| Bullets Over Summer|           1.0|       0.0|       0.5|\n",
            "+---------+--------------------+--------------+----------+----------+\n",
            "only showing top 10 rows\n",
            "\n",
            "                 id  score\n",
            "1060807   tt0468569   18.0\n",
            "668921    tt0372784   15.0\n",
            "761523    tt1345836   12.0\n",
            "1061664   tt0482571    9.0\n",
            "361298   tt16700424    8.0\n",
            "118729    tt5644750    8.0\n",
            "647607    tt0250122    8.0\n",
            "300008    tt1306975    8.0\n",
            "1008877   tt8220504    8.0\n",
            "679991    tt0430381    8.0\n"
          ]
        }
      ]
    },
    {
      "cell_type": "code",
      "source": [
        "porownanie(\"tt0167260\",10,df_clean)"
      ],
      "metadata": {
        "colab": {
          "base_uri": "https://localhost:8080/"
        },
        "id": "ZEQgvp901mHT",
        "outputId": "aaed8d51-cfe0-4981-da78-95edbf91e3cf"
      },
      "execution_count": 51,
      "outputs": [
        {
          "output_type": "stream",
          "name": "stdout",
          "text": [
            "+----------+--------------------+--------------+----------+----------+\n",
            "|        id|               tytul|cos_similarity|       IOU|prediction|\n",
            "+----------+--------------------+--------------+----------+----------+\n",
            "| tt0167260|The Lord of the R...|           1.0|       1.0|       1.0|\n",
            "| tt0167261|The Lord of the R...|           1.0| 0.8181818| 0.9090909|\n",
            "| tt0120737|The Lord of the R...|           1.0| 0.6666667| 0.8333334|\n",
            "|tt21811588|The Lord of the R...|           0.8|0.54545456| 0.6727273|\n",
            "|tt21811606|The Lord of the R...|           0.8|       0.5|      0.65|\n",
            "|tt21811594|The Lord of the R...|           0.8|0.45454547| 0.6272727|\n",
            "| tt0360717|           King Kong|           1.0| 0.1764706| 0.5882353|\n",
            "| tt0320661|   Kingdom of Heaven|           1.0|0.05263158| 0.5263158|\n",
            "| tt0116040|            Daylight|           1.0|0.05263158| 0.5263158|\n",
            "| tt1320185|          Chandrahas|           1.0|       0.0|       0.5|\n",
            "+----------+--------------------+--------------+----------+----------+\n",
            "only showing top 10 rows\n",
            "\n",
            "                 id  score\n",
            "173426    tt0167260   18.0\n",
            "633043    tt0167261   16.0\n",
            "1042045   tt0120737   15.0\n",
            "406687   tt21811588   12.0\n",
            "856702   tt21811594   11.0\n",
            "406688   tt21811606   11.0\n",
            "666882    tt0360717   11.0\n",
            "406903   tt21824192   10.0\n",
            "856961   tt21832076   10.0\n",
            "732218    tt1170358    9.0\n"
          ]
        }
      ]
    },
    {
      "cell_type": "markdown",
      "source": [
        "Inne próby"
      ],
      "metadata": {
        "id": "SnY_3m9swFu9"
      }
    },
    {
      "cell_type": "code",
      "source": [
        "porownanie(\"tt0000005\",10,test) #jakiś random"
      ],
      "metadata": {
        "colab": {
          "base_uri": "https://localhost:8080/"
        },
        "id": "tiQaQvLyjdhR",
        "outputId": "14d57100-42e8-413a-8e2d-d4efe6653772"
      },
      "execution_count": 56,
      "outputs": [
        {
          "output_type": "stream",
          "name": "stdout",
          "text": [
            "+---------+--------------------+--------------+----------+----------+\n",
            "|       id|               tytul|cos_similarity|       IOU|prediction|\n",
            "+---------+--------------------+--------------+----------+----------+\n",
            "|tt0000005|    Blacksmith Scene|           1.0|       1.0|       1.0|\n",
            "|tt0312728|Glenroy Bros., No. 2|           1.0|     0.125|    0.5625|\n",
            "|tt0219560|The Boxing Cats (...|     0.8660254|0.16666667|0.51634604|\n",
            "|tt0241524|        A Hand Shake|     0.8164966|       0.2| 0.5082483|\n",
            "|tt0295663|Tommy Atkins in t...|           1.0|       0.0|       0.5|\n",
            "|tt0227175|Off to Bloomingda...|           1.0|       0.0|       0.5|\n",
            "|tt0258104|     Rêve et réalité|           1.0|       0.0|       0.5|\n",
            "|tt0230510|Maude's Naughty L...|           1.0|       0.0|       0.5|\n",
            "|tt0203653|      Lone Fisherman|           1.0|       0.0|       0.5|\n",
            "|tt0312017|What Happened on ...|           1.0|       0.0|       0.5|\n",
            "+---------+--------------------+--------------+----------+----------+\n",
            "only showing top 10 rows\n",
            "\n",
            "               id  score\n",
            "0       tt0000005   11.0\n",
            "73562   tt0219560    8.0\n",
            "75938   tt0312728    8.0\n",
            "119953  tt5991598    8.0\n",
            "50910   tt4430952    7.0\n",
            "105812  tt2321319    7.0\n",
            "50878   tt4423134    7.0\n",
            "50891   tt4425018    7.0\n",
            "105793  tt2319801    7.0\n",
            "50900   tt4427582    7.0\n"
          ]
        }
      ]
    },
    {
      "cell_type": "code",
      "source": [
        "porownanie(\"tt0054215\",10,test) #psychoza"
      ],
      "metadata": {
        "colab": {
          "base_uri": "https://localhost:8080/"
        },
        "id": "Tg8DpeOvjQUy",
        "outputId": "be5ee8dd-12c0-45e9-9a34-6f1b83cb08aa"
      },
      "execution_count": 57,
      "outputs": [
        {
          "output_type": "stream",
          "name": "stdout",
          "text": [
            "+---------+--------------------+--------------+-----------+----------+\n",
            "|       id|               tytul|cos_similarity|        IOU|prediction|\n",
            "+---------+--------------------+--------------+-----------+----------+\n",
            "|tt0054215|              Psycho|           1.0|        1.0|       1.0|\n",
            "|tt0058403|    The Night Walker|           1.0|0.055555556| 0.5277778|\n",
            "|tt0064904|Hatchet for the H...|           1.0|        0.0|       0.5|\n",
            "|tt0064888|The House That Sc...|           1.0|        0.0|       0.5|\n",
            "|tt0063330|  Muñecos infernales|           1.0|        0.0|       0.5|\n",
            "|tt0214860| Klokker i måneskinn|           1.0|        0.0|       0.5|\n",
            "|tt0055106|Werewolf in a Gir...|     0.8944272|        0.0| 0.4472136|\n",
            "|tt0061005|           She Beast|     0.8944272|        0.0| 0.4472136|\n",
            "|tt0373080|          Last Night|     0.8944272|        0.0| 0.4472136|\n",
            "|tt0061036|           The Witch|     0.8944272|        0.0| 0.4472136|\n",
            "+---------+--------------------+--------------+-----------+----------+\n",
            "only showing top 10 rows\n",
            "\n",
            "               id  score\n",
            "2168    tt0054215   18.0\n",
            "2032    tt0051207    9.0\n",
            "68683   tt0064888    8.0\n",
            "2358    tt0058403    8.0\n",
            "2559    tt0063330    7.0\n",
            "82195   tt0938330    7.0\n",
            "31135  tt15474916    7.0\n",
            "62501   tt8150814    7.0\n",
            "64445   tt9000546    7.0\n",
            "89163   tt1288645    7.0\n"
          ]
        }
      ]
    },
    {
      "cell_type": "code",
      "source": [
        "porownanie(\"tt0081505\",10,test) #lśnienie"
      ],
      "metadata": {
        "colab": {
          "base_uri": "https://localhost:8080/"
        },
        "id": "sUyA-VkgkoYN",
        "outputId": "bff282ac-f2a8-4031-d3f8-41aaa2aafa45"
      },
      "execution_count": 58,
      "outputs": [
        {
          "output_type": "stream",
          "name": "stdout",
          "text": [
            "+----------+--------------------+--------------+---+----------+\n",
            "|        id|               tytul|cos_similarity|IOU|prediction|\n",
            "+----------+--------------------+--------------+---+----------+\n",
            "| tt0081505|         The Shining|           1.0|1.0|       1.0|\n",
            "| tt0078132|The Night Before ...|           1.0|0.0|       0.5|\n",
            "|tt11383980|House of Seven Be...|           1.0|0.0|       0.5|\n",
            "| tt0071872|The Dead, the Dev...|           1.0|0.0|       0.5|\n",
            "| tt9619984|             Bonikka|           1.0|0.0|       0.5|\n",
            "| tt0095012|           The Devil|           1.0|0.0|       0.5|\n",
            "| tt0067178|They Have Changed...|           1.0|0.0|       0.5|\n",
            "| tt0085185|Atrapados en el m...|           1.0|0.0|       0.5|\n",
            "| tt0434915|           Ek Paheli|     0.8944272|0.0| 0.4472136|\n",
            "| tt0123796|   Desolation Angels|     0.8944272|0.0| 0.4472136|\n",
            "+----------+--------------------+--------------+---+----------+\n",
            "only showing top 10 rows\n",
            "\n",
            "              id  score\n",
            "69365  tt0081505   17.0\n",
            "8589   tt0253514    7.0\n",
            "72225  tt0165793    6.0\n",
            "13495  tt0434915    6.0\n",
            "3251   tt0080091    6.0\n",
            "53827  tt5215952    6.0\n",
            "6607   tt0177473    6.0\n",
            "10085  tt0308513    6.0\n",
            "6608   tt0177490    6.0\n",
            "14128  tt0456892    6.0\n"
          ]
        }
      ]
    },
    {
      "cell_type": "code",
      "source": [
        "porownanie(\"tt3850590\",10,test) #krampus"
      ],
      "metadata": {
        "colab": {
          "base_uri": "https://localhost:8080/"
        },
        "id": "6TqtSDFFk66Z",
        "outputId": "05fe2298-f8a6-4139-8ebd-b2cb699ac9bb"
      },
      "execution_count": 59,
      "outputs": [
        {
          "output_type": "stream",
          "name": "stdout",
          "text": [
            "+----------+--------------------+--------------+---+----------+\n",
            "|        id|               tytul|cos_similarity|IOU|prediction|\n",
            "+----------+--------------------+--------------+---+----------+\n",
            "| tt3850590|             Krampus|           1.0|1.0|       1.0|\n",
            "| tt2952044|A Villa in Los An...|           1.0|0.0|       0.5|\n",
            "| tt2182256|           Premature|           1.0|0.0|       0.5|\n",
            "| tt2185022|     Love on a Leash|           1.0|0.0|       0.5|\n",
            "|tt10509128|               Bekçi|           1.0|0.0|       0.5|\n",
            "|tt14331014|    Control the Hunt|           1.0|0.0|       0.5|\n",
            "| tt5688932| Sorry to Bother You|           1.0|0.0|       0.5|\n",
            "| tt7447510|       Io resto qua!|           1.0|0.0|       0.5|\n",
            "| tt2659706|        Doce Amianto|           1.0|0.0|       0.5|\n",
            "|tt11646756|    30 Chua Phai Tet|           1.0|0.0|       0.5|\n",
            "+----------+--------------------+--------------+---+----------+\n",
            "only showing top 10 rows\n",
            "\n",
            "                id  score\n",
            "48936    tt3850590   18.0\n",
            "111006   tt3460062    8.0\n",
            "104195   tt2185022    8.0\n",
            "58135    tt6461514    8.0\n",
            "50029    tt4174526    8.0\n",
            "48758    tt3814870    8.0\n",
            "83777   tt10509128    8.0\n",
            "40283   tt22054008    8.0\n",
            "39842    tt2182256    8.0\n",
            "33312    tt1670352    8.0\n"
          ]
        }
      ]
    },
    {
      "cell_type": "code",
      "source": [
        "porownanie(\"tt4963900\",10,test) #cold war secrets"
      ],
      "metadata": {
        "colab": {
          "base_uri": "https://localhost:8080/"
        },
        "id": "vRNzqG79oj2b",
        "outputId": "e91e46ad-d968-4264-e99a-36bbf5d95b33"
      },
      "execution_count": 60,
      "outputs": [
        {
          "output_type": "stream",
          "name": "stdout",
          "text": [
            "+----------+--------------------+--------------+---+----------+\n",
            "|        id|               tytul|cos_similarity|IOU|prediction|\n",
            "+----------+--------------------+--------------+---+----------+\n",
            "| tt4963900|Cold War Secrets:...|           1.0|1.0|       1.0|\n",
            "|tt10075830|      M for Malaysia|           1.0|0.0|       0.5|\n",
            "|tt10081252|Stalins Rache: Di...|           1.0|0.0|       0.5|\n",
            "|tt10164744|  Spreeland. Fontane|           1.0|0.0|       0.5|\n",
            "|tt10081632|Christa de Caroug...|           1.0|0.0|       0.5|\n",
            "|tt10011682|  Assholes: A Theory|           1.0|0.0|       0.5|\n",
            "|tt10081592|Vietnam's Subsidy...|           1.0|0.0|       0.5|\n",
            "|tt10049110|           Die Wiese|           1.0|0.0|       0.5|\n",
            "|tt10130954|   Riders of Destiny|           1.0|0.0|       0.5|\n",
            "|tt10137106|    Brothers in Arms|           1.0|0.0|       0.5|\n",
            "+----------+--------------------+--------------+---+----------+\n",
            "only showing top 10 rows\n",
            "\n",
            "                id  score\n",
            "116358   tt4963900   16.0\n",
            "90489   tt13449438    6.0\n",
            "23757    tt1276121    6.0\n",
            "47354    tt3504810    6.0\n",
            "23736   tt12752748    6.0\n",
            "47378    tt3509522    6.0\n",
            "89021   tt12827672    6.0\n",
            "23724   tt12745142    6.0\n",
            "88960   tt12803808    6.0\n",
            "122116   tt6722402    6.0\n"
          ]
        }
      ]
    },
    {
      "cell_type": "code",
      "source": [
        " porownanie(\"tt3486354\",10,test) #star wars: the last jedi"
      ],
      "metadata": {
        "colab": {
          "base_uri": "https://localhost:8080/"
        },
        "id": "4q4KPT8UpIB9",
        "outputId": "fc01e5ac-20a3-45c0-e87e-55596609a024"
      },
      "execution_count": 61,
      "outputs": [
        {
          "output_type": "stream",
          "name": "stdout",
          "text": [
            "+----------+--------------------+--------------+---+----------+\n",
            "|        id|               tytul|cos_similarity|IOU|prediction|\n",
            "+----------+--------------------+--------------+---+----------+\n",
            "| tt3486354|Star Wars: The La...|           1.0|1.0|       1.0|\n",
            "|tt10540158|          05.12.2020|           0.8|0.0|       0.4|\n",
            "| tt1496814|    Nevous Guard 2.0|           0.8|0.0|       0.4|\n",
            "| tt0430399|        Neverthought|           0.8|0.0|       0.4|\n",
            "| tt1057489|The Book of Tomorrow|           0.8|0.0|       0.4|\n",
            "|tt10757744|              Eshana|           0.8|0.0|       0.4|\n",
            "| tt0120198|Star Trek: The Ex...|           0.8|0.0|       0.4|\n",
            "|tt12486004|  Marcel and Ardvark|           0.8|0.0|       0.4|\n",
            "| tt0892866|         Bottle Neck|           0.8|0.0|       0.4|\n",
            "| tt1453958|             Soulbot|           0.8|0.0|       0.4|\n",
            "+----------+--------------------+--------------+---+----------+\n",
            "only showing top 10 rows\n",
            "\n",
            "               id  score\n",
            "47289   tt3486354   10.0\n",
            "26292   tt1365484    8.0\n",
            "108212  tt2725222    8.0\n",
            "78934   tt0430399    8.0\n",
            "23458   tt1262920    8.0\n",
            "27603   tt1413836    8.0\n",
            "96782   tt1598069    8.0\n",
            "12717   tt0409955    8.0\n",
            "25400   tt1337026    8.0\n",
            "39960   tt2190066    8.0\n"
          ]
        }
      ]
    },
    {
      "cell_type": "code",
      "source": [
        " porownanie(\"tt15677078\",10,test) #godzilla vs king kong"
      ],
      "metadata": {
        "colab": {
          "base_uri": "https://localhost:8080/"
        },
        "id": "eCV58HJ0ppIl",
        "outputId": "052dfd2c-d2c8-494a-ad98-e7768ca522b9"
      },
      "execution_count": 62,
      "outputs": [
        {
          "output_type": "stream",
          "name": "stdout",
          "text": [
            "+----------+--------------------+--------------+----------+----------+\n",
            "|        id|               tytul|cos_similarity|       IOU|prediction|\n",
            "+----------+--------------------+--------------+----------+----------+\n",
            "|tt15677078|Godzilla vs. Kong...|           1.0|       1.0|       1.0|\n",
            "|tt15677080|Godzilla vs. Kong...|           1.0|0.45454547|0.72727275|\n",
            "|tt15677020|Godzilla vs. Kong...|           1.0| 0.2857143|0.64285713|\n",
            "|tt10873794|Godzilla King of ...|           1.0|0.18181819| 0.5909091|\n",
            "|tt10873836|Godzilla: King of...|           1.0|0.18181819| 0.5909091|\n",
            "| tt8565252|The 15:17 To Pari...|           1.0|0.15384616| 0.5769231|\n",
            "|tt15677046|Godzilla vs. Kong...|           1.0|0.14285715| 0.5714286|\n",
            "|tt10229142|         High Octane|           1.0|       0.0|       0.5|\n",
            "|tt10283468|City of Imaginati...|           1.0|       0.0|       0.5|\n",
            "|tt10202426|     I want to dance|           1.0|       0.0|       0.5|\n",
            "+----------+--------------------+--------------+----------+----------+\n",
            "only showing top 10 rows\n",
            "\n",
            "                id  score\n",
            "31592   tt15677078   16.0\n",
            "31593   tt15677080   13.0\n",
            "31590   tt15677020   11.0\n",
            "19359   tt10873794   10.0\n",
            "63430    tt8565252   10.0\n",
            "31591   tt15677046   10.0\n",
            "84605   tt10873836   10.0\n",
            "127978   tt9108980    9.0\n",
            "31488   tt15620192    8.0\n",
            "59417    tt6932164    8.0\n"
          ]
        }
      ]
    },
    {
      "cell_type": "code",
      "source": [
        " porownanie(\"tt1468843\",10,test) #jakieś pokemony"
      ],
      "metadata": {
        "colab": {
          "base_uri": "https://localhost:8080/"
        },
        "id": "1ZUtkl9fqZ7f",
        "outputId": "8ddbc5a9-a88e-40ac-cb57-8223c600c589"
      },
      "execution_count": 125,
      "outputs": [
        {
          "output_type": "stream",
          "name": "stdout",
          "text": [
            "+----------+--------------------+--------------+----------+----------+\n",
            "|        id|               tytul|cos_similarity|       IOU|prediction|\n",
            "+----------+--------------------+--------------+----------+----------+\n",
            "| tt1468843|Pokémon: Arceus a...|           1.0|       1.0|       1.0|\n",
            "| tt0287635|Pokemon 4Ever: Ce...|           1.0|      0.25|     0.625|\n",
            "| tt0874648|Pokémon Mystery D...|           0.8|0.33333334|0.56666666|\n",
            "| tt1059944|             Minushi|           1.0|       0.0|       0.5|\n",
            "| tt0306741|Doraemon: Nobita ...|           1.0|       0.0|       0.5|\n",
            "| tt0170180|Lupin III: Dead o...|           1.0|       0.0|       0.5|\n",
            "| tt0173840|Final Fantasy: Th...|           1.0|       0.0|       0.5|\n",
            "| tt0406672|Kureyon Shin-chan...|           1.0|       0.0|       0.5|\n",
            "|tt14142856|Bakuso Kyodai Let...|           1.0|       0.0|       0.5|\n",
            "| tt0259974|  Digimon: The Movie|           1.0|       0.0|       0.5|\n",
            "+----------+--------------------+--------------+----------+----------+\n",
            "only showing top 10 rows\n",
            "\n",
            "               id  score\n",
            "29065   tt1468843   18.0\n",
            "9519    tt0287635   11.0\n",
            "16490   tt0874648   11.0\n",
            "121799  tt6595896   10.0\n",
            "57557   tt6277156    8.0\n",
            "74562   tt0259974    8.0\n",
            "72434   tt0173840    8.0\n",
            "18717   tt1059944    8.0\n",
            "12600   tt0406672    8.0\n",
            "75765   tt0306741    8.0\n"
          ]
        }
      ]
    },
    {
      "cell_type": "code",
      "source": [
        "porownanie(\"tt0281471\",10,test) #the mummy kreskówka"
      ],
      "metadata": {
        "colab": {
          "base_uri": "https://localhost:8080/"
        },
        "id": "qBIvDdP3sIME",
        "outputId": "e801d61c-d264-4fb5-976c-770699baef0a"
      },
      "execution_count": 63,
      "outputs": [
        {
          "output_type": "stream",
          "name": "stdout",
          "text": [
            "+---------+--------------------+--------------+----------+----------+\n",
            "|       id|               tytul|cos_similarity|       IOU|prediction|\n",
            "+---------+--------------------+--------------+----------+----------+\n",
            "|tt0281471|           The Mummy|           1.0|       1.0|       1.0|\n",
            "|tt0976192|The Spectacular S...|           1.0|0.05263158| 0.5263158|\n",
            "|tt0472252|Transformers: Cyb...|           1.0|       0.0|       0.5|\n",
            "|tt0230804|   Sonic Underground|           1.0|       0.0|       0.5|\n",
            "|tt0251439|              Trigun|           1.0|       0.0|       0.5|\n",
            "|tt0421480|  Virus Buster Serge|           1.0|       0.0|       0.5|\n",
            "|tt0211606|Saber Marionette ...|           1.0|       0.0|       0.5|\n",
            "|tt0414763|         Rave Master|           1.0|       0.0|       0.5|\n",
            "|tt0147746|       Batman Beyond|           1.0|       0.0|       0.5|\n",
            "|tt0437711|         Dark Oracle|           1.0|       0.0|       0.5|\n",
            "+---------+--------------------+--------------+----------+----------+\n",
            "only showing top 10 rows\n",
            "\n",
            "               id  score\n",
            "75114   tt0281471   18.0\n",
            "82417   tt0976192    9.0\n",
            "108411  tt2782214    8.0\n",
            "4318    tt0106140    8.0\n",
            "75385   tt0291672    8.0\n",
            "14425   tt0466200    8.0\n",
            "81121   tt0796142    8.0\n",
            "80868   tt0756486    8.0\n",
            "71920   tt0154061    8.0\n",
            "74348   tt0251439    8.0\n"
          ]
        }
      ]
    },
    {
      "cell_type": "code",
      "source": [
        "porownanie(\"tt0834001\",10,test) #underworld "
      ],
      "metadata": {
        "colab": {
          "base_uri": "https://localhost:8080/"
        },
        "id": "BO2z6xYjtFhK",
        "outputId": "9b50aafe-427f-417c-8050-ad340f6e2065"
      },
      "execution_count": 64,
      "outputs": [
        {
          "output_type": "stream",
          "name": "stdout",
          "text": [
            "+---------+--------------------+--------------+---+----------+\n",
            "|       id|               tytul|cos_similarity|IOU|prediction|\n",
            "+---------+--------------------+--------------+---+----------+\n",
            "|tt0834001|Underworld: Rise ...|           1.0|1.0|       1.0|\n",
            "|tt0482930|   Dragon Tiger Gate|           1.0|0.0|       0.5|\n",
            "|tt0212311|Los lobos de Wash...|     0.8944272|0.0| 0.4472136|\n",
            "|tt0338960|         Ek Tha Raja|     0.8944272|0.0| 0.4472136|\n",
            "|tt0340068|De la mano de un ...|     0.8944272|0.0| 0.4472136|\n",
            "|tt0495626|In the Name of th...|     0.8944272|0.0| 0.4472136|\n",
            "|tt0349592|        Huli sa akto|     0.8944272|0.0| 0.4472136|\n",
            "|tt0275611|   Witness to a Kill|     0.8944272|0.0| 0.4472136|\n",
            "|tt0404826|           Bob Steel|     0.8944272|0.0| 0.4472136|\n",
            "|tt1330525|       Beast Stalker|     0.8944272|0.0| 0.4472136|\n",
            "+---------+--------------------+--------------+---+----------+\n",
            "only showing top 10 rows\n",
            "\n",
            "              id  score\n",
            "81549  tt0834001   18.0\n",
            "14907  tt0482930    8.0\n",
            "5225   tt0130827    7.0\n",
            "82419  tt0977203    7.0\n",
            "4755   tt0116426    7.0\n",
            "59733  tt7039004    7.0\n",
            "73298  tt0207501    7.0\n",
            "5673   tt0145571    7.0\n",
            "77341  tt0371163    7.0\n",
            "94965  tt1519634    7.0\n"
          ]
        }
      ]
    },
    {
      "cell_type": "code",
      "source": [
        "porownanie(\"tt7424200\",10,test) #młodzi tytani"
      ],
      "metadata": {
        "colab": {
          "base_uri": "https://localhost:8080/"
        },
        "id": "kWB_D0NQtf3M",
        "outputId": "59989156-2a77-4b0e-939b-97a1a93807df"
      },
      "execution_count": 65,
      "outputs": [
        {
          "output_type": "stream",
          "name": "stdout",
          "text": [
            "+----------+--------------------+--------------+----------+----------+\n",
            "|        id|               tytul|cos_similarity|       IOU|prediction|\n",
            "+----------+--------------------+--------------+----------+----------+\n",
            "| tt7424200|Teen Titans GO! T...|           1.0|       1.0|       1.0|\n",
            "| tt3513498|The Lego Movie 2:...|           1.0|0.11111111| 0.5555556|\n",
            "|tt11177804|Legend of Deifica...|           1.0|       0.0|       0.5|\n",
            "|tt14901058|Mortal Kombat Leg...|           1.0|       0.0|       0.5|\n",
            "|tt12862032|Scrolls of Auristria|           1.0|       0.0|       0.5|\n",
            "|tt13516524|    The Poor Hoodman|           1.0|       0.0|       0.5|\n",
            "|tt12042710|Enchantimals: Spr...|           1.0|       0.0|       0.5|\n",
            "|tt12876132|Deathstroke: Knig...|           1.0|       0.0|       0.5|\n",
            "|tt13898164|Gekijouban Macros...|           1.0|       0.0|       0.5|\n",
            "| tt1446192|Rise of the Guard...|           1.0|       0.0|       0.5|\n",
            "+----------+--------------------+--------------+----------+----------+\n",
            "only showing top 10 rows\n",
            "\n",
            "               id  score\n",
            "124057  tt7424200   18.0\n",
            "15937   tt0816671   10.0\n",
            "126452  tt8421602    9.0\n",
            "111262  tt3513498    9.0\n",
            "115428  tt4668834    8.0\n",
            "124885  tt7745068    8.0\n",
            "93122   tt1446192    8.0\n",
            "124034  tt7415466    8.0\n",
            "58861   tt6733874    8.0\n",
            "40967   tt2263944    8.0\n"
          ]
        }
      ]
    },
    {
      "cell_type": "code",
      "source": [
        "porownanie(\"tt0816671\",10,test) # tu też młodzi tytani, a nie wyskoczyli w cos i iou"
      ],
      "metadata": {
        "colab": {
          "base_uri": "https://localhost:8080/"
        },
        "id": "z1o-FOwNtswe",
        "outputId": "319ee79c-8787-442b-a619-1366041295b2"
      },
      "execution_count": 68,
      "outputs": [
        {
          "output_type": "stream",
          "name": "stdout",
          "text": [
            "+----------+--------------------+--------------+---+----------+\n",
            "|        id|               tytul|cos_similarity|IOU|prediction|\n",
            "+----------+--------------------+--------------+---+----------+\n",
            "| tt0816671|Teen Titans: Trou...|           1.0|1.0|       1.0|\n",
            "| tt0874648|Pokémon Mystery D...|           1.0|0.0|       0.5|\n",
            "| tt1314193|The Grim Adventur...|           1.0|0.0|       0.5|\n",
            "| tt0468445|The Amazing Screw...|           1.0|0.0|       0.5|\n",
            "| tt0461571|Lupin III: Da Cap...|           1.0|0.0|       0.5|\n",
            "|tt22753230|      Kingdom Hearts|           1.0|0.0|       0.5|\n",
            "| tt0312250|Welcome to Elting...|           1.0|0.0|       0.5|\n",
            "| tt0142232|Dragon Ball GT: A...|           1.0|0.0|       0.5|\n",
            "| tt0189974|Lupin III: Island...|           1.0|0.0|       0.5|\n",
            "| tt1543920|     Turtles Forever|           1.0|0.0|       0.5|\n",
            "+----------+--------------------+--------------+---+----------+\n",
            "only showing top 10 rows\n",
            "\n",
            "                id  score\n",
            "15937    tt0816671   18.0\n",
            "124057   tt7424200   10.0\n",
            "5570     tt0142232    8.0\n",
            "20032    tt1114698    7.0\n",
            "77268    tt0368305    7.0\n",
            "105279  tt22753230    7.0\n",
            "8073     tt0233298    7.0\n",
            "10191    tt0312250    7.0\n",
            "24795    tt1314193    7.0\n",
            "83863    tt1054486    7.0\n"
          ]
        }
      ]
    },
    {
      "cell_type": "code",
      "source": [
        "porownanie(\"tt3213366\",10,test) #seven, ale nie TO seven"
      ],
      "metadata": {
        "colab": {
          "base_uri": "https://localhost:8080/"
        },
        "id": "XdoD1J7BuCZY",
        "outputId": "9c4b8e2e-2afb-41ba-bf67-08bd0e021d0e"
      },
      "execution_count": 70,
      "outputs": [
        {
          "output_type": "stream",
          "name": "stdout",
          "text": [
            "+----------+-------------+--------------+-----------+----------+\n",
            "|        id|        tytul|cos_similarity|        IOU|prediction|\n",
            "+----------+-------------+--------------+-----------+----------+\n",
            "| tt3213366|        Seven|           1.0|        1.0|       1.0|\n",
            "| tt8194358|       Dodger|           1.0|0.071428575|0.53571427|\n",
            "| tt4468148|The Hypnotist|     0.8944272| 0.14285715| 0.5186422|\n",
            "|tt10010034|      Anxiety|           1.0|        0.0|       0.5|\n",
            "|tt10010330|         Akif|           1.0|        0.0|       0.5|\n",
            "|tt10010626|   Bellingham|           1.0|        0.0|       0.5|\n",
            "|tt10120498|        Jakab|           1.0|        0.0|       0.5|\n",
            "|tt10019100|         Pick|           1.0|        0.0|       0.5|\n",
            "|tt10011248|        Lilac|           1.0|        0.0|       0.5|\n",
            "|tt10016554|        Tesfa|           1.0|        0.0|       0.5|\n",
            "+----------+-------------+--------------+-----------+----------+\n",
            "only showing top 10 rows\n",
            "\n",
            "                id  score\n",
            "46201    tt3213366   17.0\n",
            "51037    tt4468148   10.0\n",
            "127183   tt8746362    9.0\n",
            "62589    tt8194358    9.0\n",
            "91611   tt13846932    8.0\n",
            "29040   tt14677788    8.0\n",
            "113875   tt4205116    8.0\n",
            "113874   tt4204430    8.0\n",
            "113870   tt4203524    8.0\n",
            "57728    tt6329922    8.0\n"
          ]
        }
      ]
    }
  ],
  "metadata": {
    "colab": {
      "provenance": [],
      "collapsed_sections": [
        "sKbK9JhhKDUN"
      ],
      "include_colab_link": true
    },
    "kernelspec": {
      "display_name": "Python 3",
      "name": "python3"
    },
    "language_info": {
      "name": "python"
    }
  },
  "nbformat": 4,
  "nbformat_minor": 0
}