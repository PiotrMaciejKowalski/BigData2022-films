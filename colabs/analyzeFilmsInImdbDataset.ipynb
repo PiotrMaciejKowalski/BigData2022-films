{
  "cells": [
    {
      "cell_type": "markdown",
      "metadata": {
        "id": "5Agowe5uPVKS"
      },
      "source": [
        "# Spark Setup and Data Load"
      ]
    },
    {
      "cell_type": "markdown",
      "metadata": {
        "id": "nqkAJzxlWyMS"
      },
      "source": [
        "##Installation of Spark"
      ]
    },
    {
      "cell_type": "code",
      "execution_count": 1,
      "metadata": {
        "colab": {
          "base_uri": "https://localhost:8080/"
        },
        "id": "W8My8u33PYJt",
        "outputId": "206f7273-0ff7-4f33-ee28-574dedf4bc0e"
      },
      "outputs": [
        {
          "output_type": "stream",
          "name": "stdout",
          "text": [
            "Cloning into 'BigData2022-films'...\n",
            "remote: Enumerating objects: 374, done.\u001b[K\n",
            "remote: Counting objects: 100% (201/201), done.\u001b[K\n",
            "remote: Compressing objects: 100% (132/132), done.\u001b[K\n",
            "remote: Total 374 (delta 129), reused 102 (delta 69), pack-reused 173\u001b[K\n",
            "Receiving objects: 100% (374/374), 2.51 MiB | 5.45 MiB/s, done.\n",
            "Resolving deltas: 100% (172/172), done.\n",
            "mv: cannot move 'BigData2022-films/.' to './.': Device or resource busy\n",
            "mv: cannot move 'BigData2022-films/..' to './..': Device or resource busy\n"
          ]
        }
      ],
      "source": [
        "# install Java8\n",
        "!apt-get install openjdk-8-jdk-headless -qq > /dev/null\n",
        "# download spark2.4.5\n",
        "!wget -q https://archive.apache.org/dist/spark/spark-3.2.1/spark-3.2.1-bin-hadoop3.2.tgz\n",
        "# unzip it\n",
        "!tar xf spark-3.2.1-bin-hadoop3.2.tgz\n",
        "# install findspark\n",
        "!pip install -q findspark\n",
        "# clone github repo\n",
        "!git clone https://github.com/PiotrMaciejKowalski/BigData2022-films\n",
        "# Przeniesienie plików z BigData2022-films do katalogu nadrzędnego\n",
        "!mv BigData2022-films/* .\n",
        "!mv BigData2022-films/.* .\n",
        "!rmdir BigData2022-films"
      ]
    },
    {
      "cell_type": "code",
      "execution_count": 3,
      "metadata": {
        "id": "fG3Xpjc4MvYY"
      },
      "outputs": [],
      "source": [
        "import os\n",
        "\n",
        "# setup environment variables for our Spark Session to work\n",
        "os.environ[\"JAVA_HOME\"] = \"/usr/lib/jvm/java-8-openjdk-amd64\"\n",
        "os.environ[\"SPARK_HOME\"] = '/content/spark-3.2.1-bin-hadoop3.2'\n",
        "\n",
        "from lib.pyspark_startup import init, load"
      ]
    },
    {
      "cell_type": "code",
      "source": [
        "spark = init()"
      ],
      "metadata": {
        "id": "lIJChpFeBN-U"
      },
      "execution_count": 4,
      "outputs": []
    },
    {
      "cell_type": "code",
      "source": [
        "!chmod +x data_source.sh\n",
        "!./data_source.sh"
      ],
      "metadata": {
        "id": "xvL69RsNBd5s",
        "outputId": "85b2abf9-5355-4b7b-ccff-7d2a7ed08e33",
        "colab": {
          "base_uri": "https://localhost:8080/"
        }
      },
      "execution_count": 5,
      "outputs": [
        {
          "output_type": "stream",
          "name": "stdout",
          "text": [
            "--2022-12-07 18:36:32--  https://datasets.imdbws.com/name.basics.tsv.gz\n",
            "Resolving datasets.imdbws.com (datasets.imdbws.com)... 18.154.144.13, 18.154.144.39, 18.154.144.94, ...\n",
            "Connecting to datasets.imdbws.com (datasets.imdbws.com)|18.154.144.13|:443... connected.\n",
            "HTTP request sent, awaiting response... 200 OK\n",
            "Length: 237410314 (226M) [binary/octet-stream]\n",
            "Saving to: ‘name.basics.tsv.gz’\n",
            "\n",
            "name.basics.tsv.gz  100%[===================>] 226.41M   198MB/s    in 1.1s    \n",
            "\n",
            "2022-12-07 18:36:33 (198 MB/s) - ‘name.basics.tsv.gz’ saved [237410314/237410314]\n",
            "\n",
            "--2022-12-07 18:36:33--  https://datasets.imdbws.com/title.akas.tsv.gz\n",
            "Resolving datasets.imdbws.com (datasets.imdbws.com)... 18.154.144.13, 18.154.144.39, 18.154.144.94, ...\n",
            "Connecting to datasets.imdbws.com (datasets.imdbws.com)|18.154.144.13|:443... connected.\n",
            "HTTP request sent, awaiting response... 200 OK\n",
            "Length: 289723255 (276M) [binary/octet-stream]\n",
            "Saving to: ‘title.akas.tsv.gz’\n",
            "\n",
            "title.akas.tsv.gz   100%[===================>] 276.30M   200MB/s    in 1.4s    \n",
            "\n",
            "2022-12-07 18:36:35 (200 MB/s) - ‘title.akas.tsv.gz’ saved [289723255/289723255]\n",
            "\n",
            "--2022-12-07 18:36:35--  https://datasets.imdbws.com/title.basics.tsv.gz\n",
            "Resolving datasets.imdbws.com (datasets.imdbws.com)... 18.154.144.13, 18.154.144.39, 18.154.144.94, ...\n",
            "Connecting to datasets.imdbws.com (datasets.imdbws.com)|18.154.144.13|:443... connected.\n",
            "HTTP request sent, awaiting response... 200 OK\n",
            "Length: 164683075 (157M) [binary/octet-stream]\n",
            "Saving to: ‘title.basics.tsv.gz’\n",
            "\n",
            "title.basics.tsv.gz 100%[===================>] 157.05M   120MB/s    in 1.3s    \n",
            "\n",
            "2022-12-07 18:36:36 (120 MB/s) - ‘title.basics.tsv.gz’ saved [164683075/164683075]\n",
            "\n",
            "--2022-12-07 18:36:36--  https://datasets.imdbws.com/title.crew.tsv.gz\n",
            "Resolving datasets.imdbws.com (datasets.imdbws.com)... 18.154.144.13, 18.154.144.39, 18.154.144.94, ...\n",
            "Connecting to datasets.imdbws.com (datasets.imdbws.com)|18.154.144.13|:443... connected.\n",
            "HTTP request sent, awaiting response... 200 OK\n",
            "Length: 63239898 (60M) [binary/octet-stream]\n",
            "Saving to: ‘title.crew.tsv.gz’\n",
            "\n",
            "title.crew.tsv.gz   100%[===================>]  60.31M  31.8MB/s    in 1.9s    \n",
            "\n",
            "2022-12-07 18:36:38 (31.8 MB/s) - ‘title.crew.tsv.gz’ saved [63239898/63239898]\n",
            "\n",
            "--2022-12-07 18:36:38--  https://datasets.imdbws.com/title.episode.tsv.gz\n",
            "Resolving datasets.imdbws.com (datasets.imdbws.com)... 18.154.144.13, 18.154.144.39, 18.154.144.94, ...\n",
            "Connecting to datasets.imdbws.com (datasets.imdbws.com)|18.154.144.13|:443... connected.\n",
            "HTTP request sent, awaiting response... 200 OK\n",
            "Length: 38796687 (37M) [binary/octet-stream]\n",
            "Saving to: ‘title.episode.tsv.gz’\n",
            "\n",
            "title.episode.tsv.g 100%[===================>]  37.00M  51.8MB/s    in 0.7s    \n",
            "\n",
            "2022-12-07 18:36:39 (51.8 MB/s) - ‘title.episode.tsv.gz’ saved [38796687/38796687]\n",
            "\n",
            "--2022-12-07 18:36:39--  https://datasets.imdbws.com/title.principals.tsv.gz\n",
            "Resolving datasets.imdbws.com (datasets.imdbws.com)... 18.154.144.13, 18.154.144.39, 18.154.144.94, ...\n",
            "Connecting to datasets.imdbws.com (datasets.imdbws.com)|18.154.144.13|:443... connected.\n",
            "HTTP request sent, awaiting response... 200 OK\n",
            "Length: 419768238 (400M) [binary/octet-stream]\n",
            "Saving to: ‘title.principals.tsv.gz’\n",
            "\n",
            "title.principals.ts 100%[===================>] 400.32M  37.7MB/s    in 12s     \n",
            "\n",
            "2022-12-07 18:36:52 (32.6 MB/s) - ‘title.principals.tsv.gz’ saved [419768238/419768238]\n",
            "\n",
            "--2022-12-07 18:36:52--  https://datasets.imdbws.com/title.ratings.tsv.gz\n",
            "Resolving datasets.imdbws.com (datasets.imdbws.com)... 18.154.144.13, 18.154.144.39, 18.154.144.94, ...\n",
            "Connecting to datasets.imdbws.com (datasets.imdbws.com)|18.154.144.13|:443... connected.\n",
            "HTTP request sent, awaiting response... 200 OK\n",
            "Length: 6299113 (6.0M) [binary/octet-stream]\n",
            "Saving to: ‘title.ratings.tsv.gz’\n",
            "\n",
            "title.ratings.tsv.g 100%[===================>]   6.01M  --.-KB/s    in 0.1s    \n",
            "\n",
            "2022-12-07 18:36:52 (42.0 MB/s) - ‘title.ratings.tsv.gz’ saved [6299113/6299113]\n",
            "\n"
          ]
        }
      ]
    },
    {
      "cell_type": "code",
      "source": [
        "df = load(spark)"
      ],
      "metadata": {
        "id": "fOLm43gvBWNM"
      },
      "execution_count": 6,
      "outputs": []
    }
  ],
  "metadata": {
    "colab": {
      "provenance": []
    },
    "kernelspec": {
      "display_name": "Python 3.10.6 ('bigdata2022_env')",
      "language": "python",
      "name": "python3"
    },
    "language_info": {
      "name": "python",
      "version": "3.10.6"
    },
    "vscode": {
      "interpreter": {
        "hash": "d3bd7558b382e9dfedbadb497b519832d5eeed5cdea53be5faf7c2ce6e68cd89"
      }
    },
    "gpuClass": "standard"
  },
  "nbformat": 4,
  "nbformat_minor": 0
}