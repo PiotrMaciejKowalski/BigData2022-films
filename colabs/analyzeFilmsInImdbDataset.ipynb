{
 "cells": [
  {
   "cell_type": "markdown",
   "metadata": {
    "id": "5Agowe5uPVKS"
   },
   "source": [
    "# Spark Setup and Data Load"
   ]
  },
  {
   "cell_type": "markdown",
   "metadata": {
    "id": "nqkAJzxlWyMS"
   },
   "source": [
    "##Installation of Spark"
   ]
  },
  {
   "cell_type": "code",
   "execution_count": null,
   "metadata": {
    "colab": {
     "base_uri": "https://localhost:8080/"
    },
    "id": "W8My8u33PYJt",
    "outputId": "94729e76-b0b6-4aa4-881c-46b78e0faf35"
   },
   "outputs": [],
   "source": [
    "# install Java8\n",
    "!apt-get install openjdk-8-jdk-headless -qq > /dev/null\n",
    "# download spark2.4.5\n",
    "!wget -q https://archive.apache.org/dist/spark/spark-2.4.5/spark-2.4.5-bin-hadoop2.7.tgz\n",
    "# unzip it\n",
    "!tar xf spark-2.4.5-bin-hadoop2.7.tgz\n",
    "# install findspark\n",
    "!pip install -q findspark\n",
    "# Google Colab has Java 11 available, test it using below command -\n",
    "!ls /usr/lib/jvm\n",
    "#install pyarrow\n",
    "!pip install -U pyarrow"
   ]
  },
  {
   "cell_type": "code",
   "execution_count": null,
   "metadata": {
    "id": "fG3Xpjc4MvYY"
   },
   "outputs": [],
   "source": [
    "import os\n",
    "import findspark"
   ]
  },
  {
   "cell_type": "markdown",
   "metadata": {
    "id": "PAKJHNl6OKLC"
   },
   "source": [
    "Now we need to setup environment variables for our Spark Session to work"
   ]
  },
  {
   "cell_type": "code",
   "execution_count": null,
   "metadata": {
    "id": "XNbU1S0a0AV3"
   },
   "outputs": [],
   "source": [
    "os.environ[\"JAVA_HOME\"] = \"/usr/lib/jvm/java-8-openjdk-amd64\"\n",
    "os.environ[\"SPARK_HOME\"] = \"/content/spark-2.4.5-bin-hadoop2.7\""
   ]
  },
  {
   "cell_type": "markdown",
   "metadata": {
    "id": "2r09yiFWP8t7"
   },
   "source": [
    "To verify the automatically detected location we use findspark.init()"
   ]
  },
  {
   "cell_type": "code",
   "execution_count": null,
   "metadata": {
    "id": "6DPiYwX-P9Bt"
   },
   "outputs": [],
   "source": [
    "findspark.init()\n",
    "from pyspark.sql import SparkSession"
   ]
  },
  {
   "cell_type": "markdown",
   "metadata": {
    "id": "NLrLCmKSORAh"
   },
   "source": [
    "Time to initiate a Spark Session"
   ]
  },
  {
   "cell_type": "code",
   "execution_count": null,
   "metadata": {
    "id": "CWj2K7iV1jOH"
   },
   "outputs": [],
   "source": [
    "spark = SparkSession.builder.master(\"local[*]\").getOrCreate()\n",
    "spark_params = {\n",
    "\"spark.executor.memory\" : \"4g\",\n",
    "\"spark.driver.memory\": \"4g\",\n",
    "\"spark.memory.fraction\": \"0.9\"}\n",
    "for param, value in spark_params.items():\n",
    "  spark.conf.set(param, value)"
   ]
  },
  {
   "cell_type": "code",
   "execution_count": null,
   "metadata": {
    "colab": {
     "base_uri": "https://localhost:8080/",
     "height": 219
    },
    "id": "ULG8Yq-uNfoU",
    "outputId": "12d91ef6-4955-4c41-e0b9-1e2d19f033b6"
   },
   "outputs": [],
   "source": [
    "spark"
   ]
  },
  {
   "cell_type": "markdown",
   "metadata": {
    "id": "QuCk3TWWWkux"
   },
   "source": [
    "## Load dataset"
   ]
  },
  {
   "cell_type": "code",
   "execution_count": null,
   "metadata": {
    "colab": {
     "base_uri": "https://localhost:8080/"
    },
    "id": "HxGYOk2QxfwY",
    "outputId": "de894e4d-8533-4b3e-a2ba-718e1fb3c101"
   },
   "outputs": [],
   "source": [
    "!wget \"https://datasets.imdbws.com/name.basics.tsv.gz\"\n",
    "!wget \"https://datasets.imdbws.com/title.akas.tsv.gz\"\n",
    "!wget \"https://datasets.imdbws.com/title.basics.tsv.gz\"\n",
    "!wget \"https://datasets.imdbws.com/title.crew.tsv.gz\"\n",
    "!wget \"https://datasets.imdbws.com/title.episode.tsv.gz\"\n",
    "!wget \"https://datasets.imdbws.com/title.principals.tsv.gz\"\n",
    "!wget \"https://datasets.imdbws.com/title.ratings.tsv.gz\""
   ]
  },
  {
   "cell_type": "code",
   "execution_count": null,
   "metadata": {
    "id": "z99UzaQfyBSd"
   },
   "outputs": [],
   "source": [
    "title_ratings = spark.read.csv(\"title.ratings.tsv.gz\", sep='\\t', header=True)\n",
    "title_principals = spark.read.csv(\"title.principals.tsv.gz\", sep='\\t',header=True)\n",
    "title_episode = spark.read.csv(\"title.episode.tsv.gz\", sep='\\t', header=True)\n",
    "title_crew = spark.read.csv(\"title.crew.tsv.gz\", sep='\\t', header=True)\n",
    "title_basics = spark.read.csv(\"title.basics.tsv.gz\", sep='\\t', header=True)\n",
    "title_akas = spark.read.csv(\"title.akas.tsv.gz\", sep='\\t', header=True)\n",
    "name_basics = spark.read.csv(\"name.basics.tsv.gz\", sep='\\t', header=True)"
   ]
  },
  {
   "cell_type": "code",
   "execution_count": null,
   "metadata": {
    "colab": {
     "base_uri": "https://localhost:8080/"
    },
    "id": "pLa_a7E30bgz",
    "outputId": "212d57de-fe86-4d29-a0a6-8e8a60f8cfc8"
   },
   "outputs": [],
   "source": [
    "title_ratings.show(5)"
   ]
  },
  {
   "cell_type": "markdown",
   "metadata": {
    "id": "z2J-veu7FN6R"
   },
   "source": [
    "# Prepare Data"
   ]
  },
  {
   "cell_type": "markdown",
   "metadata": {
    "id": "5SNMKMfGFZrT"
   },
   "source": [
    "Data overview"
   ]
  },
  {
   "cell_type": "code",
   "execution_count": null,
   "metadata": {
    "colab": {
     "base_uri": "https://localhost:8080/"
    },
    "id": "U6F9fHg_FU1v",
    "outputId": "aeddf462-449c-4cc8-9683-bc3bb5b86493"
   },
   "outputs": [],
   "source": [
    "print(\"title_ratings\")\n",
    "title_ratings.show(2)\n",
    "print(\"title_principals\")\n",
    "title_principals.show(2)\n",
    "print(\"title_episode\")\n",
    "title_episode.show(2)\n",
    "print(\"title_crew\")\n",
    "title_crew.show(2)\n",
    "print(\"title_basics\")\n",
    "title_basics.show(2)\n",
    "print(\"title_akas\")\n",
    "title_akas.show(2)\n",
    "print(\"name_basics\")\n",
    "name_basics.show(2)"
   ]
  },
  {
   "cell_type": "markdown",
   "metadata": {
    "id": "6GrUl6ygFe-O"
   },
   "source": [
    "Join tables"
   ]
  },
  {
   "cell_type": "code",
   "execution_count": null,
   "metadata": {
    "colab": {
     "base_uri": "https://localhost:8080/"
    },
    "id": "nhRN6HtkFdmw",
    "outputId": "0c31056b-6d74-427e-d117-37e97d611676"
   },
   "outputs": [],
   "source": [
    "temp_akas = title_akas.filter(title_akas.isOriginalTitle == 1)\n",
    "temp_akas = temp_akas.select([\"titleId\", \"region\", \"language\"]).distinct()\n",
    "temp_akas = temp_akas.withColumnRenamed(\"titleId\", \"tconst\")\n",
    "\n",
    "to_print = [\"title_basics\", \"title_ratings\", \"title_principals\", \n",
    "            \"title_episode\", \"name_basics\", \"temp_akas\"]\n",
    "\n",
    "for p in to_print:\n",
    "  print(f\"Dimension {p}: ({eval(p).count()}, {len(eval(p).columns)})\")\n",
    "\n",
    "data = title_basics.join(title_ratings, how=\"left\", on=\"tconst\")\n",
    "print(f\"\\nJoined title_principals to title_basics\\n\" + \n",
    "      f\"Dimension: ({data.count()}, {len(data.columns)})\")\n",
    "\n",
    "data = data.join(title_principals, how=\"left\", on=\"tconst\")\n",
    "print(f\"Joined title_principals\\n\" + \n",
    "      f\"Dimension: ({data.count()}, {len(data.columns)})\")\n",
    "\n",
    "data = data.join(title_episode, how=\"left\", on=\"tconst\")\n",
    "print(f\"Joined title_episode\\n\" + \n",
    "      f\"Dimension: ({data.count()}, {len(data.columns)})\")\n",
    "\n",
    "data = data.join(name_basics, how=\"left\", on=\"nconst\")\n",
    "print(f\"Joined name_basics\\n\" + \n",
    "      f\"Dimension: ({data.count()}, {len(data.columns)})\")\n",
    "\n",
    "data = data.join(temp_akas, how=\"left\", on=\"tconst\")\n",
    "print(f\"Joined temp_akas\\n\" + \n",
    "      f\"Dimension: ({data.count()}, {len(data.columns)})\")\n"
   ]
  },
  {
   "cell_type": "markdown",
   "metadata": {
    "id": "RUGK_5oftLsl"
   },
   "source": [
    "Show sample rows"
   ]
  },
  {
   "cell_type": "code",
   "execution_count": null,
   "metadata": {
    "id": "xZ8hPwhwFjwl"
   },
   "outputs": [],
   "source": [
    "sample = data.rdd.takeSample(False, 10)"
   ]
  },
  {
   "cell_type": "code",
   "execution_count": null,
   "metadata": {
    "colab": {
     "base_uri": "https://localhost:8080/",
     "height": 601
    },
    "id": "tgSukr0KoBe0",
    "outputId": "153667c2-ffee-49b6-bb3a-a75a5d1e4edb"
   },
   "outputs": [],
   "source": [
    "import pandas as pd\n",
    "\n",
    "pd.set_option('display.max_columns', None)\n",
    "pd.DataFrame(sample, columns =  data.columns)"
   ]
  }
 ],
 "metadata": {
  "colab": {
   "collapsed_sections": [],
   "provenance": [],
   "toc_visible": true
  },
  "kernelspec": {
   "display_name": "Python 3.10.6 ('bigdata2022_env')",
   "language": "python",
   "name": "python3"
  },
  "language_info": {
   "name": "python",
   "version": "3.10.6"
  },
  "vscode": {
   "interpreter": {
    "hash": "d3bd7558b382e9dfedbadb497b519832d5eeed5cdea53be5faf7c2ce6e68cd89"
   }
  }
 },
 "nbformat": 4,
 "nbformat_minor": 0
}
