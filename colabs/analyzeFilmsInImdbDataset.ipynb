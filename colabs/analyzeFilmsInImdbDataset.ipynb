{
  "cells": [
    {
      "cell_type": "markdown",
      "metadata": {
        "id": "5Agowe5uPVKS"
      },
      "source": [
        "# Spark Setup and Data Load"
      ]
    },
    {
      "cell_type": "markdown",
      "metadata": {
        "id": "nqkAJzxlWyMS"
      },
      "source": [
        "##Installation of Spark"
      ]
    },
    {
      "cell_type": "code",
      "execution_count": 1,
      "metadata": {
        "colab": {
          "base_uri": "https://localhost:8080/"
        },
        "id": "W8My8u33PYJt",
        "outputId": "530af88e-bb3c-428a-b5d1-815efac1d0e3"
      },
      "outputs": [
        {
          "output_type": "stream",
          "name": "stdout",
          "text": [
            "Cloning into 'BigData2022-films'...\n",
            "remote: Enumerating objects: 364, done.\u001b[K\n",
            "remote: Counting objects: 100% (191/191), done.\u001b[K\n",
            "remote: Compressing objects: 100% (123/123), done.\u001b[K\n",
            "remote: Total 364 (delta 123), reused 98 (delta 68), pack-reused 173\u001b[K\n",
            "Receiving objects: 100% (364/364), 2.50 MiB | 7.07 MiB/s, done.\n",
            "Resolving deltas: 100% (166/166), done.\n",
            "mv: cannot move 'BigData2022-films/.' to './.': Device or resource busy\n",
            "mv: cannot move 'BigData2022-films/..' to './..': Device or resource busy\n"
          ]
        }
      ],
      "source": [
        "# install Java8\n",
        "!apt-get install openjdk-8-jdk-headless -qq > /dev/null\n",
        "# download spark2.4.5\n",
        "!wget -q https://archive.apache.org/dist/spark/spark-3.2.1/spark-3.2.1-bin-hadoop3.2.tgz\n",
        "# unzip it\n",
        "!tar xf spark-3.2.1-bin-hadoop3.2.tgz\n",
        "# install findspark\n",
        "!pip install -q findspark\n",
        "# clone github repo\n",
        "!git clone https://github.com/PiotrMaciejKowalski/BigData2022-films\n",
        "# Przeniesienie plików z BigData2022-films do katalogu nadrzędnego\n",
        "!mv BigData2022-films/* .\n",
        "!mv BigData2022-films/.* .\n",
        "!rmdir BigData2022-films"
      ]
    },
    {
      "cell_type": "code",
      "execution_count": 3,
      "metadata": {
        "id": "fG3Xpjc4MvYY"
      },
      "outputs": [],
      "source": [
        "import os\n",
        "\n",
        "# setup environment variables for our Spark Session to work\n",
        "os.environ[\"JAVA_HOME\"] = \"/usr/lib/jvm/java-8-openjdk-amd64\"\n",
        "os.environ[\"SPARK_HOME\"] = '/content/spark-3.2.1-bin-hadoop3.2'\n",
        "\n",
        "from lib.pyspark_startup import init, load"
      ]
    },
    {
      "cell_type": "code",
      "source": [
        "spark = init()"
      ],
      "metadata": {
        "id": "lIJChpFeBN-U"
      },
      "execution_count": 4,
      "outputs": []
    },
    {
      "cell_type": "code",
      "source": [
        "!chmod +x data_source.sh\n",
        "!./data_source.sh"
      ],
      "metadata": {
        "id": "xvL69RsNBd5s",
        "outputId": "e5f20742-334a-4a56-e680-953ab1b05448",
        "colab": {
          "base_uri": "https://localhost:8080/"
        }
      },
      "execution_count": 5,
      "outputs": [
        {
          "output_type": "stream",
          "name": "stdout",
          "text": [
            "--2022-12-07 10:44:24--  https://datasets.imdbws.com/name.basics.tsv.gz\n",
            "Resolving datasets.imdbws.com (datasets.imdbws.com)... 108.139.29.105, 108.139.29.58, 108.139.29.7, ...\n",
            "Connecting to datasets.imdbws.com (datasets.imdbws.com)|108.139.29.105|:443... connected.\n",
            "HTTP request sent, awaiting response... 200 OK\n",
            "Length: 237410314 (226M) [binary/octet-stream]\n",
            "Saving to: ‘name.basics.tsv.gz’\n",
            "\n",
            "name.basics.tsv.gz  100%[===================>] 226.41M   206MB/s    in 1.1s    \n",
            "\n",
            "2022-12-07 10:44:25 (206 MB/s) - ‘name.basics.tsv.gz’ saved [237410314/237410314]\n",
            "\n",
            "--2022-12-07 10:44:25--  https://datasets.imdbws.com/title.akas.tsv.gz\n",
            "Resolving datasets.imdbws.com (datasets.imdbws.com)... 108.139.29.105, 108.139.29.58, 108.139.29.7, ...\n",
            "Connecting to datasets.imdbws.com (datasets.imdbws.com)|108.139.29.105|:443... connected.\n",
            "HTTP request sent, awaiting response... 200 OK\n",
            "Length: 289723255 (276M) [binary/octet-stream]\n",
            "Saving to: ‘title.akas.tsv.gz’\n",
            "\n",
            "title.akas.tsv.gz   100%[===================>] 276.30M   244MB/s    in 1.1s    \n",
            "\n",
            "2022-12-07 10:44:26 (244 MB/s) - ‘title.akas.tsv.gz’ saved [289723255/289723255]\n",
            "\n",
            "--2022-12-07 10:44:26--  https://datasets.imdbws.com/title.basics.tsv.gz\n",
            "Resolving datasets.imdbws.com (datasets.imdbws.com)... 108.139.29.105, 108.139.29.58, 108.139.29.7, ...\n",
            "Connecting to datasets.imdbws.com (datasets.imdbws.com)|108.139.29.105|:443... connected.\n",
            "HTTP request sent, awaiting response... 200 OK\n",
            "Length: 164683075 (157M) [binary/octet-stream]\n",
            "Saving to: ‘title.basics.tsv.gz’\n",
            "\n",
            "title.basics.tsv.gz 100%[===================>] 157.05M   171MB/s    in 0.9s    \n",
            "\n",
            "2022-12-07 10:44:27 (171 MB/s) - ‘title.basics.tsv.gz’ saved [164683075/164683075]\n",
            "\n",
            "--2022-12-07 10:44:27--  https://datasets.imdbws.com/title.crew.tsv.gz\n",
            "Resolving datasets.imdbws.com (datasets.imdbws.com)... 108.139.29.105, 108.139.29.58, 108.139.29.7, ...\n",
            "Connecting to datasets.imdbws.com (datasets.imdbws.com)|108.139.29.105|:443... connected.\n",
            "HTTP request sent, awaiting response... 200 OK\n",
            "Length: 63196435 (60M) [binary/octet-stream]\n",
            "Saving to: ‘title.crew.tsv.gz’\n",
            "\n",
            "title.crew.tsv.gz   100%[===================>]  60.27M   131MB/s    in 0.5s    \n",
            "\n",
            "2022-12-07 10:44:28 (131 MB/s) - ‘title.crew.tsv.gz’ saved [63196435/63196435]\n",
            "\n",
            "--2022-12-07 10:44:28--  https://datasets.imdbws.com/title.episode.tsv.gz\n",
            "Resolving datasets.imdbws.com (datasets.imdbws.com)... 108.139.29.105, 108.139.29.58, 108.139.29.7, ...\n",
            "Connecting to datasets.imdbws.com (datasets.imdbws.com)|108.139.29.105|:443... connected.\n",
            "HTTP request sent, awaiting response... 200 OK\n",
            "Length: 38755751 (37M) [binary/octet-stream]\n",
            "Saving to: ‘title.episode.tsv.gz’\n",
            "\n",
            "title.episode.tsv.g 100%[===================>]  36.96M  35.3MB/s    in 1.0s    \n",
            "\n",
            "2022-12-07 10:44:29 (35.3 MB/s) - ‘title.episode.tsv.gz’ saved [38755751/38755751]\n",
            "\n",
            "--2022-12-07 10:44:29--  https://datasets.imdbws.com/title.principals.tsv.gz\n",
            "Resolving datasets.imdbws.com (datasets.imdbws.com)... 108.139.29.105, 108.139.29.58, 108.139.29.7, ...\n",
            "Connecting to datasets.imdbws.com (datasets.imdbws.com)|108.139.29.105|:443... connected.\n",
            "HTTP request sent, awaiting response... 200 OK\n",
            "Length: 419541315 (400M) [binary/octet-stream]\n",
            "Saving to: ‘title.principals.tsv.gz’\n",
            "\n",
            "title.principals.ts 100%[===================>] 400.11M   231MB/s    in 1.7s    \n",
            "\n",
            "2022-12-07 10:44:31 (231 MB/s) - ‘title.principals.tsv.gz’ saved [419541315/419541315]\n",
            "\n",
            "--2022-12-07 10:44:31--  https://datasets.imdbws.com/title.ratings.tsv.gz\n",
            "Resolving datasets.imdbws.com (datasets.imdbws.com)... 108.139.29.105, 108.139.29.58, 108.139.29.7, ...\n",
            "Connecting to datasets.imdbws.com (datasets.imdbws.com)|108.139.29.105|:443... connected.\n",
            "HTTP request sent, awaiting response... 200 OK\n",
            "Length: 6296025 (6.0M) [binary/octet-stream]\n",
            "Saving to: ‘title.ratings.tsv.gz’\n",
            "\n",
            "title.ratings.tsv.g 100%[===================>]   6.00M  --.-KB/s    in 0.1s    \n",
            "\n",
            "2022-12-07 10:44:31 (40.8 MB/s) - ‘title.ratings.tsv.gz’ saved [6296025/6296025]\n",
            "\n"
          ]
        }
      ]
    },
    {
      "cell_type": "code",
      "source": [
        "df = load(spark)"
      ],
      "metadata": {
        "id": "fOLm43gvBWNM",
        "outputId": "95ab9746-8752-4892-a8ca-59413d68eb41",
        "colab": {
          "base_uri": "https://localhost:8080/"
        }
      },
      "execution_count": 6,
      "outputs": [
        {
          "output_type": "stream",
          "name": "stdout",
          "text": [
            "Dimension title_basics: (9419965, 9)\n",
            "Dimension title_ratings: (1253772, 3)\n",
            "Dimension title_principals: (53394422, 6)\n",
            "Dimension title_episode: (7116802, 4)\n",
            "Dimension name_basics: (12126677, 6)\n",
            "Dimension temp_akas: (1798917, 3)\n",
            "\n",
            "Joined title_principals to title_basics\n",
            "Dimension: (9419965, 11)\n",
            "Joined title_principals\n",
            "Dimension: (54317161, 16)\n",
            "Joined title_episode\n",
            "Dimension: (54317161, 19)\n",
            "Joined name_basics\n",
            "Dimension: (54317161, 24)\n",
            "Joined temp_akas\n",
            "Dimension: (54317343, 26)\n"
          ]
        }
      ]
    },
    {
      "cell_type": "code",
      "source": [
        "df.show(5)"
      ],
      "metadata": {
        "id": "9fvszGk1BxP7",
        "outputId": "a3c529ab-be63-4870-ec1b-ca264d15c14c",
        "colab": {
          "base_uri": "https://localhost:8080/"
        }
      },
      "execution_count": 7,
      "outputs": [
        {
          "output_type": "stream",
          "name": "stdout",
          "text": [
            "+---------+---------+---------+--------------------+--------------------+-------+---------+-------+--------------+-----------------+-------------+--------+--------+--------+---+----------+------------+------------+-------------+--------------------+---------+---------+--------------------+--------------------+------+--------+\n",
            "|   tconst|   nconst|titleType|        primaryTitle|       originalTitle|isAdult|startYear|endYear|runtimeMinutes|           genres|averageRating|numVotes|ordering|category|job|characters|parentTconst|seasonNumber|episodeNumber|         primaryName|birthYear|deathYear|   primaryProfession|      knownForTitles|region|language|\n",
            "+---------+---------+---------+--------------------+--------------------+-------+---------+-------+--------------+-----------------+-------------+--------+--------+--------+---+----------+------------+------------+-------------+--------------------+---------+---------+--------------------+--------------------+------+--------+\n",
            "|tt0000002|nm0721526|    short|Le clown et ses c...|Le clown et ses c...|      0|     1892|     \\N|             5|  Animation,Short|          5.8|     260|       1|director| \\N|        \\N|        null|        null|         null|       Émile Reynaud|     1844|     1918|director,animatio...|tt16763740,tt1312...|    \\N|      \\N|\n",
            "|tt0000002|nm1335271|    short|Le clown et ses c...|Le clown et ses c...|      0|     1892|     \\N|             5|  Animation,Short|          5.8|     260|       2|composer| \\N|        \\N|        null|        null|         null|       Gaston Paulin|       \\N|     1921|            composer|tt0000004,tt21842...|    \\N|      \\N|\n",
            "|tt0000004|nm0721526|    short|         Un bon bock|         Un bon bock|      0|     1892|     \\N|            12|  Animation,Short|          5.6|     175|       1|director| \\N|        \\N|        null|        null|         null|       Émile Reynaud|     1844|     1918|director,animatio...|tt16763740,tt1312...|    \\N|      \\N|\n",
            "|tt0000004|nm1335271|    short|         Un bon bock|         Un bon bock|      0|     1892|     \\N|            12|  Animation,Short|          5.6|     175|       2|composer| \\N|        \\N|        null|        null|         null|       Gaston Paulin|       \\N|     1921|            composer|tt0000004,tt21842...|    \\N|      \\N|\n",
            "|tt0000001|nm0005690|    short|          Carmencita|          Carmencita|      0|     1894|     \\N|             1|Documentary,Short|          5.7|    1923|       2|director| \\N|        \\N|        null|        null|         null|William K.L. Dickson|     1860|     1935|cinematographer,d...|tt1428455,tt03082...|    \\N|      \\N|\n",
            "+---------+---------+---------+--------------------+--------------------+-------+---------+-------+--------------+-----------------+-------------+--------+--------+--------+---+----------+------------+------------+-------------+--------------------+---------+---------+--------------------+--------------------+------+--------+\n",
            "only showing top 5 rows\n",
            "\n"
          ]
        }
      ]
    }
  ],
  "metadata": {
    "colab": {
      "provenance": []
    },
    "kernelspec": {
      "display_name": "Python 3.10.6 ('bigdata2022_env')",
      "language": "python",
      "name": "python3"
    },
    "language_info": {
      "name": "python",
      "version": "3.10.6"
    },
    "vscode": {
      "interpreter": {
        "hash": "d3bd7558b382e9dfedbadb497b519832d5eeed5cdea53be5faf7c2ce6e68cd89"
      }
    },
    "gpuClass": "standard"
  },
  "nbformat": 4,
  "nbformat_minor": 0
}