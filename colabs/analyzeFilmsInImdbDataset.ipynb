{
  "nbformat": 4,
  "nbformat_minor": 0,
  "metadata": {
    "colab": {
      "provenance": [],
      "collapsed_sections": [],
      "toc_visible": true
    },
    "kernelspec": {
      "name": "python3",
      "display_name": "Python 3"
    },
    "language_info": {
      "name": "python"
    }
  },
  "cells": [
    {
      "cell_type": "markdown",
      "source": [
        "# Spark Setup and Data Load"
      ],
      "metadata": {
        "id": "5Agowe5uPVKS"
      }
    },
    {
      "cell_type": "markdown",
      "source": [
        "##Installation of Spark"
      ],
      "metadata": {
        "id": "nqkAJzxlWyMS"
      }
    },
    {
      "cell_type": "code",
      "source": [
        "# install Java8\n",
        "!apt-get install openjdk-8-jdk-headless -qq > /dev/null\n",
        "# download spark2.4.5\n",
        "!wget -q https://archive.apache.org/dist/spark/spark-2.4.5/spark-2.4.5-bin-hadoop2.7.tgz\n",
        "# unzip it\n",
        "!tar xf spark-2.4.5-bin-hadoop2.7.tgz\n",
        "# install findspark\n",
        "!pip install -q findspark\n",
        "# Google Colab has Java 11 available, test it using below command -\n",
        "!ls /usr/lib/jvm\n",
        "#install pyarrow\n",
        "!pip install -U pyarrow"
      ],
      "metadata": {
        "id": "W8My8u33PYJt",
        "outputId": "5ae48eb2-92dc-4d15-8f99-9b2a91406529",
        "colab": {
          "base_uri": "https://localhost:8080/"
        }
      },
      "execution_count": 1,
      "outputs": [
        {
          "output_type": "stream",
          "name": "stdout",
          "text": [
            "default-java\t\t   java-11-openjdk-amd64     java-8-openjdk-amd64\n",
            "java-1.11.0-openjdk-amd64  java-1.8.0-openjdk-amd64\n",
            "Looking in indexes: https://pypi.org/simple, https://us-python.pkg.dev/colab-wheels/public/simple/\n",
            "Requirement already satisfied: pyarrow in /usr/local/lib/python3.7/dist-packages (6.0.1)\n",
            "Collecting pyarrow\n",
            "  Downloading pyarrow-10.0.0-cp37-cp37m-manylinux_2_17_x86_64.manylinux2014_x86_64.whl (35.4 MB)\n",
            "\u001b[K     |████████████████████████████████| 35.4 MB 400 kB/s \n",
            "\u001b[?25hRequirement already satisfied: numpy>=1.16.6 in /usr/local/lib/python3.7/dist-packages (from pyarrow) (1.21.6)\n",
            "Installing collected packages: pyarrow\n",
            "  Attempting uninstall: pyarrow\n",
            "    Found existing installation: pyarrow 6.0.1\n",
            "    Uninstalling pyarrow-6.0.1:\n",
            "      Successfully uninstalled pyarrow-6.0.1\n",
            "Successfully installed pyarrow-10.0.0\n"
          ]
        }
      ]
    },
    {
      "cell_type": "code",
      "source": [
        "import os\n",
        "import findspark"
      ],
      "metadata": {
        "id": "fG3Xpjc4MvYY"
      },
      "execution_count": 2,
      "outputs": []
    },
    {
      "cell_type": "markdown",
      "source": [
        "Now we need to setup environment variables for our Spark Session to work"
      ],
      "metadata": {
        "id": "PAKJHNl6OKLC"
      }
    },
    {
      "cell_type": "code",
      "source": [
        "os.environ[\"JAVA_HOME\"] = \"/usr/lib/jvm/java-8-openjdk-amd64\"\n",
        "os.environ[\"SPARK_HOME\"] = \"/content/spark-2.4.5-bin-hadoop2.7\""
      ],
      "metadata": {
        "id": "XNbU1S0a0AV3"
      },
      "execution_count": 3,
      "outputs": []
    },
    {
      "cell_type": "markdown",
      "source": [
        "To verify the automatically detected location we use findspark.init()"
      ],
      "metadata": {
        "id": "2r09yiFWP8t7"
      }
    },
    {
      "cell_type": "code",
      "source": [
        "findspark.init()\n",
        "from pyspark.sql import SparkSession"
      ],
      "metadata": {
        "id": "6DPiYwX-P9Bt"
      },
      "execution_count": 4,
      "outputs": []
    },
    {
      "cell_type": "markdown",
      "source": [
        "Time to initiate a Spark Session"
      ],
      "metadata": {
        "id": "NLrLCmKSORAh"
      }
    },
    {
      "cell_type": "code",
      "source": [
        "spark = SparkSession.builder.master(\"local[*]\").getOrCreate()\n",
        "spark_params = {\n",
        "\"spark.executor.memory\" : \"4g\",\n",
        "\"spark.driver.memory\": \"4g\",\n",
        "\"spark.memory.fraction\": \"0.9\"}\n",
        "for param, value in spark_params.items():\n",
        "  spark.conf.set(param, value)"
      ],
      "metadata": {
        "id": "CWj2K7iV1jOH"
      },
      "execution_count": 5,
      "outputs": []
    },
    {
      "cell_type": "code",
      "source": [
        "spark"
      ],
      "metadata": {
        "colab": {
          "base_uri": "https://localhost:8080/",
          "height": 219
        },
        "id": "ULG8Yq-uNfoU",
        "outputId": "4e66e188-d393-4499-ae0b-3902e4dbade5"
      },
      "execution_count": 6,
      "outputs": [
        {
          "output_type": "execute_result",
          "data": {
            "text/plain": [
              "<pyspark.sql.session.SparkSession at 0x7f2ab0623810>"
            ],
            "text/html": [
              "\n",
              "            <div>\n",
              "                <p><b>SparkSession - in-memory</b></p>\n",
              "                \n",
              "        <div>\n",
              "            <p><b>SparkContext</b></p>\n",
              "\n",
              "            <p><a href=\"http://480ec2dadb6f:4040\">Spark UI</a></p>\n",
              "\n",
              "            <dl>\n",
              "              <dt>Version</dt>\n",
              "                <dd><code>v2.4.5</code></dd>\n",
              "              <dt>Master</dt>\n",
              "                <dd><code>local[*]</code></dd>\n",
              "              <dt>AppName</dt>\n",
              "                <dd><code>pyspark-shell</code></dd>\n",
              "            </dl>\n",
              "        </div>\n",
              "        \n",
              "            </div>\n",
              "        "
            ]
          },
          "metadata": {},
          "execution_count": 6
        }
      ]
    },
    {
      "cell_type": "markdown",
      "source": [
        "## Load dataset"
      ],
      "metadata": {
        "id": "QuCk3TWWWkux"
      }
    },
    {
      "cell_type": "code",
      "source": [
        "!wget \"https://datasets.imdbws.com/name.basics.tsv.gz\"\n",
        "!wget \"https://datasets.imdbws.com/title.akas.tsv.gz\"\n",
        "!wget \"https://datasets.imdbws.com/title.basics.tsv.gz\"\n",
        "!wget \"https://datasets.imdbws.com/title.crew.tsv.gz\"\n",
        "!wget \"https://datasets.imdbws.com/title.episode.tsv.gz\"\n",
        "!wget \"https://datasets.imdbws.com/title.principals.tsv.gz\"\n",
        "!wget \"https://datasets.imdbws.com/title.ratings.tsv.gz\""
      ],
      "metadata": {
        "id": "HxGYOk2QxfwY",
        "colab": {
          "base_uri": "https://localhost:8080/"
        },
        "outputId": "757dd7a7-2412-431b-a041-571301a1942a"
      },
      "execution_count": 7,
      "outputs": [
        {
          "output_type": "stream",
          "name": "stdout",
          "text": [
            "--2022-10-31 19:02:29--  https://datasets.imdbws.com/name.basics.tsv.gz\n",
            "Resolving datasets.imdbws.com (datasets.imdbws.com)... 13.226.210.25, 13.226.210.101, 13.226.210.114, ...\n",
            "Connecting to datasets.imdbws.com (datasets.imdbws.com)|13.226.210.25|:443... connected.\n",
            "HTTP request sent, awaiting response... 200 OK\n",
            "Length: 235710020 (225M) [binary/octet-stream]\n",
            "Saving to: ‘name.basics.tsv.gz’\n",
            "\n",
            "name.basics.tsv.gz  100%[===================>] 224.79M  17.2MB/s    in 16s     \n",
            "\n",
            "2022-10-31 19:02:45 (14.1 MB/s) - ‘name.basics.tsv.gz’ saved [235710020/235710020]\n",
            "\n",
            "--2022-10-31 19:02:45--  https://datasets.imdbws.com/title.akas.tsv.gz\n",
            "Resolving datasets.imdbws.com (datasets.imdbws.com)... 13.226.210.25, 13.226.210.101, 13.226.210.114, ...\n",
            "Connecting to datasets.imdbws.com (datasets.imdbws.com)|13.226.210.25|:443... connected.\n",
            "HTTP request sent, awaiting response... 200 OK\n",
            "Length: 286163343 (273M) [binary/octet-stream]\n",
            "Saving to: ‘title.akas.tsv.gz’\n",
            "\n",
            "title.akas.tsv.gz   100%[===================>] 272.91M  14.9MB/s    in 18s     \n",
            "\n",
            "2022-10-31 19:03:03 (15.5 MB/s) - ‘title.akas.tsv.gz’ saved [286163343/286163343]\n",
            "\n",
            "--2022-10-31 19:03:03--  https://datasets.imdbws.com/title.basics.tsv.gz\n",
            "Resolving datasets.imdbws.com (datasets.imdbws.com)... 13.226.210.101, 13.226.210.114, 13.226.210.25, ...\n",
            "Connecting to datasets.imdbws.com (datasets.imdbws.com)|13.226.210.101|:443... connected.\n",
            "HTTP request sent, awaiting response... 200 OK\n",
            "Length: 163228851 (156M) [binary/octet-stream]\n",
            "Saving to: ‘title.basics.tsv.gz’\n",
            "\n",
            "title.basics.tsv.gz 100%[===================>] 155.67M  17.4MB/s    in 8.4s    \n",
            "\n",
            "2022-10-31 19:03:12 (18.6 MB/s) - ‘title.basics.tsv.gz’ saved [163228851/163228851]\n",
            "\n",
            "--2022-10-31 19:03:12--  https://datasets.imdbws.com/title.crew.tsv.gz\n",
            "Resolving datasets.imdbws.com (datasets.imdbws.com)... 13.226.210.101, 13.226.210.114, 13.226.210.25, ...\n",
            "Connecting to datasets.imdbws.com (datasets.imdbws.com)|13.226.210.101|:443... connected.\n",
            "HTTP request sent, awaiting response... 200 OK\n",
            "Length: 62645639 (60M) [binary/octet-stream]\n",
            "Saving to: ‘title.crew.tsv.gz’\n",
            "\n",
            "title.crew.tsv.gz   100%[===================>]  59.74M  43.5MB/s    in 1.4s    \n",
            "\n",
            "2022-10-31 19:03:13 (43.5 MB/s) - ‘title.crew.tsv.gz’ saved [62645639/62645639]\n",
            "\n",
            "--2022-10-31 19:03:13--  https://datasets.imdbws.com/title.episode.tsv.gz\n",
            "Resolving datasets.imdbws.com (datasets.imdbws.com)... 13.226.210.101, 13.226.210.114, 13.226.210.25, ...\n",
            "Connecting to datasets.imdbws.com (datasets.imdbws.com)|13.226.210.101|:443... connected.\n",
            "HTTP request sent, awaiting response... 200 OK\n",
            "Length: 38356452 (37M) [binary/octet-stream]\n",
            "Saving to: ‘title.episode.tsv.gz’\n",
            "\n",
            "title.episode.tsv.g 100%[===================>]  36.58M  54.2MB/s    in 0.7s    \n",
            "\n",
            "2022-10-31 19:03:14 (54.2 MB/s) - ‘title.episode.tsv.gz’ saved [38356452/38356452]\n",
            "\n",
            "--2022-10-31 19:03:14--  https://datasets.imdbws.com/title.principals.tsv.gz\n",
            "Resolving datasets.imdbws.com (datasets.imdbws.com)... 13.226.210.101, 13.226.210.114, 13.226.210.25, ...\n",
            "Connecting to datasets.imdbws.com (datasets.imdbws.com)|13.226.210.101|:443... connected.\n",
            "HTTP request sent, awaiting response... 200 OK\n",
            "Length: 415508368 (396M) [binary/octet-stream]\n",
            "Saving to: ‘title.principals.tsv.gz’\n",
            "\n",
            "title.principals.ts 100%[===================>] 396.26M  39.4MB/s    in 11s     \n",
            "\n",
            "2022-10-31 19:03:25 (35.7 MB/s) - ‘title.principals.tsv.gz’ saved [415508368/415508368]\n",
            "\n",
            "--2022-10-31 19:03:25--  https://datasets.imdbws.com/title.ratings.tsv.gz\n",
            "Resolving datasets.imdbws.com (datasets.imdbws.com)... 13.226.210.101, 13.226.210.114, 13.226.210.25, ...\n",
            "Connecting to datasets.imdbws.com (datasets.imdbws.com)|13.226.210.101|:443... connected.\n",
            "HTTP request sent, awaiting response... 200 OK\n",
            "Length: 6241516 (6.0M) [binary/octet-stream]\n",
            "Saving to: ‘title.ratings.tsv.gz’\n",
            "\n",
            "title.ratings.tsv.g 100%[===================>]   5.95M  18.5MB/s    in 0.3s    \n",
            "\n",
            "2022-10-31 19:03:26 (18.5 MB/s) - ‘title.ratings.tsv.gz’ saved [6241516/6241516]\n",
            "\n"
          ]
        }
      ]
    },
    {
      "cell_type": "code",
      "source": [
        "title_ratings = spark.read.csv(\"title.ratings.tsv.gz\", sep='\\t', header=True)\n",
        "title_principals = spark.read.csv(\"title.principals.tsv.gz\", sep='\\t',header=True)\n",
        "title_episode = spark.read.csv(\"title.episode.tsv.gz\", sep='\\t', header=True)\n",
        "title_crew = spark.read.csv(\"title.crew.tsv.gz\", sep='\\t', header=True)\n",
        "title_basics = spark.read.csv(\"title.basics.tsv.gz\", sep='\\t', header=True)\n",
        "title_akas = spark.read.csv(\"title.akas.tsv.gz\", sep='\\t', header=True)\n",
        "name_basics = spark.read.csv(\"name.basics.tsv.gz\", sep='\\t', header=True)"
      ],
      "metadata": {
        "id": "z99UzaQfyBSd"
      },
      "execution_count": 8,
      "outputs": []
    },
    {
      "cell_type": "code",
      "source": [
        "title_ratings.show(5)"
      ],
      "metadata": {
        "colab": {
          "base_uri": "https://localhost:8080/"
        },
        "id": "pLa_a7E30bgz",
        "outputId": "2cdb7604-3bee-4817-cf1c-18623237efa6"
      },
      "execution_count": 9,
      "outputs": [
        {
          "output_type": "stream",
          "name": "stdout",
          "text": [
            "+---------+-------------+--------+\n",
            "|   tconst|averageRating|numVotes|\n",
            "+---------+-------------+--------+\n",
            "|tt0000001|          5.7|    1921|\n",
            "|tt0000002|          5.8|     260|\n",
            "|tt0000003|          6.5|    1729|\n",
            "|tt0000004|          5.6|     174|\n",
            "|tt0000005|          6.2|    2543|\n",
            "+---------+-------------+--------+\n",
            "only showing top 5 rows\n",
            "\n"
          ]
        }
      ]
    }
  ]
}