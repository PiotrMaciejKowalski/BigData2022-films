{
 "cells": [
  {
   "cell_type": "markdown",
   "metadata": {
    "id": "5Agowe5uPVKS"
   },
   "source": [
    "# Spark Setup and Data Load\n",
    "## (with joining tables)"
   ]
  },
  {
   "cell_type": "code",
   "execution_count": null,
   "metadata": {
    "id": "W8My8u33PYJt"
   },
   "outputs": [],
   "source": [
    "# install Java8\n",
    "!apt-get install openjdk-8-jdk-headless -qq > /dev/null\n",
    "# download spark2.4.5\n",
    "!wget -q https://archive.apache.org/dist/spark/spark-3.2.1/spark-3.2.1-bin-hadoop3.2.tgz\n",
    "# unzip it\n",
    "!tar xf spark-3.2.1-bin-hadoop3.2.tgz\n",
    "# install findspark\n",
    "!pip install -q findspark\n",
    "# clone github repo\n",
    "!git clone https://github.com/PiotrMaciejKowalski/BigData2022-films\n",
    "# Przeniesienie plików z BigData2022-films do katalogu nadrzędnego\n",
    "!mv BigData2022-films/* .\n",
    "!mv BigData2022-films/.* .\n",
    "!rmdir BigData2022-films"
   ]
  },
  {
   "cell_type": "code",
   "execution_count": null,
   "metadata": {
    "id": "fG3Xpjc4MvYY"
   },
   "outputs": [],
   "source": [
    "import os\n",
    "\n",
    "# setup environment variables for our Spark Session to work\n",
    "os.environ[\"JAVA_HOME\"] = \"/usr/lib/jvm/java-8-openjdk-amd64\"\n",
    "os.environ[\"SPARK_HOME\"] = '/content/spark-3.2.1-bin-hadoop3.2'\n",
    "\n",
    "from lib.pyspark_startup import init, load\n",
    "from lib.pyspark_preprocesing import one_hot_encoding"
   ]
  },
  {
   "cell_type": "code",
   "source": [
    "spark = init()"
   ],
   "metadata": {
    "id": "lIJChpFeBN-U"
   },
   "execution_count": null,
   "outputs": []
  },
  {
   "cell_type": "code",
   "source": [
    "!chmod +x data_source.sh\n",
    "!./data_source.sh"
   ],
   "metadata": {
    "id": "xvL69RsNBd5s"
   },
   "execution_count": null,
   "outputs": []
  },
  {
   "cell_type": "code",
   "source": [
    "df = load(spark)\n",
    "df = one_hot_encoding(df, ['rodzaj_produkcji'])"
   ],
   "metadata": {
    "id": "fOLm43gvBWNM"
   },
   "execution_count": null,
   "outputs": []
  }
 ],
 "metadata": {
  "colab": {
   "provenance": []
  },
  "kernelspec": {
   "display_name": "Python 3.10.6 ('bigdata2022_env')",
   "language": "python",
   "name": "python3"
  },
  "language_info": {
   "name": "python",
   "version": "3.10.6"
  },
  "vscode": {
   "interpreter": {
    "hash": "d3bd7558b382e9dfedbadb497b519832d5eeed5cdea53be5faf7c2ce6e68cd89"
   }
  },
  "gpuClass": "standard"
 },
 "nbformat": 4,
 "nbformat_minor": 0
}