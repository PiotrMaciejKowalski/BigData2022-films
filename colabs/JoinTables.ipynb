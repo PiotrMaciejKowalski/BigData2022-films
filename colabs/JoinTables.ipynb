{
  "nbformat": 4,
  "nbformat_minor": 0,
  "metadata": {
    "colab": {
      "provenance": [],
      "toc_visible": true,
      "authorship_tag": "ABX9TyOF5XPk5a1HdpDe8XA7AmSU"
    },
    "kernelspec": {
      "name": "python3",
      "display_name": "Python 3"
    },
    "language_info": {
      "name": "python"
    }
  },
  "cells": [
    {
      "cell_type": "markdown",
      "source": [
        "# Load Data"
      ],
      "metadata": {
        "id": "HlzHnTrqyQ4b"
      }
    },
    {
      "cell_type": "code",
      "execution_count": 1,
      "metadata": {
        "colab": {
          "base_uri": "https://localhost:8080/"
        },
        "id": "wrOzDZdVwP7r",
        "outputId": "cbaf4285-7519-4837-f794-1f69f5f6b9c3"
      },
      "outputs": [
        {
          "output_type": "stream",
          "name": "stdout",
          "text": [
            "default-java\t\t   java-11-openjdk-amd64     java-8-openjdk-amd64\n",
            "java-1.11.0-openjdk-amd64  java-1.8.0-openjdk-amd64\n",
            "Looking in indexes: https://pypi.org/simple, https://us-python.pkg.dev/colab-wheels/public/simple/\n",
            "Requirement already satisfied: pyarrow in /usr/local/lib/python3.7/dist-packages (10.0.0)\n",
            "Requirement already satisfied: numpy>=1.16.6 in /usr/local/lib/python3.7/dist-packages (from pyarrow) (1.21.6)\n"
          ]
        }
      ],
      "source": [
        "# install Java8\n",
        "!apt-get install openjdk-8-jdk-headless -qq > /dev/null\n",
        "# download spark2.4.5\n",
        "!wget -q https://archive.apache.org/dist/spark/spark-2.4.5/spark-2.4.5-bin-hadoop2.7.tgz\n",
        "# unzip it\n",
        "!tar xf spark-2.4.5-bin-hadoop2.7.tgz\n",
        "# install findspark\n",
        "!pip install -q findspark\n",
        "# Google Colab has Java 11 available, test it using below command -\n",
        "!ls /usr/lib/jvm\n",
        "#install pyarrow\n",
        "!pip install -U pyarrow"
      ]
    },
    {
      "cell_type": "code",
      "source": [
        "import os\n",
        "import findspark\n",
        "\n",
        "os.environ[\"JAVA_HOME\"] = \"/usr/lib/jvm/java-8-openjdk-amd64\"\n",
        "os.environ[\"SPARK_HOME\"] = \"/content/spark-2.4.5-bin-hadoop2.7\"\n",
        "\n",
        "findspark.init()\n",
        "from pyspark.sql import SparkSession\n",
        "\n",
        "spark = SparkSession.builder.master(\"local[*]\").getOrCreate()\n",
        "spark_params = {\n",
        "\"spark.executor.memory\" : \"4g\",\n",
        "\"spark.driver.memory\": \"4g\",\n",
        "\"spark.memory.fraction\": \"0.9\"}\n",
        "for param, value in spark_params.items():\n",
        "  spark.conf.set(param, value)\n",
        "\n",
        "!wget \"https://datasets.imdbws.com/name.basics.tsv.gz\"\n",
        "!wget \"https://datasets.imdbws.com/title.akas.tsv.gz\"\n",
        "!wget \"https://datasets.imdbws.com/title.basics.tsv.gz\"\n",
        "!wget \"https://datasets.imdbws.com/title.crew.tsv.gz\"\n",
        "!wget \"https://datasets.imdbws.com/title.episode.tsv.gz\"\n",
        "!wget \"https://datasets.imdbws.com/title.principals.tsv.gz\"\n",
        "!wget \"https://datasets.imdbws.com/title.ratings.tsv.gz\"\n",
        "\n",
        "title_ratings = spark.read.csv(\"title.ratings.tsv.gz\", sep='\\t', header=True)\n",
        "title_principals = spark.read.csv(\"title.principals.tsv.gz\", sep='\\t',header=True)\n",
        "title_episode = spark.read.csv(\"title.episode.tsv.gz\", sep='\\t', header=True)\n",
        "title_crew = spark.read.csv(\"title.crew.tsv.gz\", sep='\\t', header=True)\n",
        "title_basics = spark.read.csv(\"title.basics.tsv.gz\", sep='\\t', header=True)\n",
        "title_akas = spark.read.csv(\"title.akas.tsv.gz\", sep='\\t', header=True)\n",
        "name_basics = spark.read.csv(\"name.basics.tsv.gz\", sep='\\t', header=True)"
      ],
      "metadata": {
        "colab": {
          "base_uri": "https://localhost:8080/"
        },
        "id": "-YgtfYg42VMB",
        "outputId": "836d5387-b6e9-44c1-ce08-323407cf794c"
      },
      "execution_count": 2,
      "outputs": [
        {
          "output_type": "stream",
          "name": "stdout",
          "text": [
            "--2022-10-31 18:56:23--  https://datasets.imdbws.com/name.basics.tsv.gz\n",
            "Resolving datasets.imdbws.com (datasets.imdbws.com)... 65.9.86.67, 65.9.86.16, 65.9.86.88, ...\n",
            "Connecting to datasets.imdbws.com (datasets.imdbws.com)|65.9.86.67|:443... connected.\n",
            "HTTP request sent, awaiting response... 200 OK\n",
            "Length: 235710020 (225M) [binary/octet-stream]\n",
            "Saving to: ‘name.basics.tsv.gz.1’\n",
            "\n",
            "name.basics.tsv.gz. 100%[===================>] 224.79M   102MB/s    in 2.2s    \n",
            "\n",
            "2022-10-31 18:56:25 (102 MB/s) - ‘name.basics.tsv.gz.1’ saved [235710020/235710020]\n",
            "\n",
            "--2022-10-31 18:56:25--  https://datasets.imdbws.com/title.akas.tsv.gz\n",
            "Resolving datasets.imdbws.com (datasets.imdbws.com)... 65.9.86.67, 65.9.86.16, 65.9.86.88, ...\n",
            "Connecting to datasets.imdbws.com (datasets.imdbws.com)|65.9.86.67|:443... connected.\n",
            "HTTP request sent, awaiting response... 200 OK\n",
            "Length: 286163343 (273M) [binary/octet-stream]\n",
            "Saving to: ‘title.akas.tsv.gz.1’\n",
            "\n",
            "title.akas.tsv.gz.1 100%[===================>] 272.91M   123MB/s    in 2.2s    \n",
            "\n",
            "2022-10-31 18:56:27 (123 MB/s) - ‘title.akas.tsv.gz.1’ saved [286163343/286163343]\n",
            "\n",
            "--2022-10-31 18:56:27--  https://datasets.imdbws.com/title.basics.tsv.gz\n",
            "Resolving datasets.imdbws.com (datasets.imdbws.com)... 65.9.86.67, 65.9.86.16, 65.9.86.88, ...\n",
            "Connecting to datasets.imdbws.com (datasets.imdbws.com)|65.9.86.67|:443... connected.\n",
            "HTTP request sent, awaiting response... 200 OK\n",
            "Length: 163190173 (156M) [binary/octet-stream]\n",
            "Saving to: ‘title.basics.tsv.gz.1’\n",
            "\n",
            "title.basics.tsv.gz 100%[===================>] 155.63M   143MB/s    in 1.1s    \n",
            "\n",
            "2022-10-31 18:56:29 (143 MB/s) - ‘title.basics.tsv.gz.1’ saved [163190173/163190173]\n",
            "\n",
            "--2022-10-31 18:56:29--  https://datasets.imdbws.com/title.crew.tsv.gz\n",
            "Resolving datasets.imdbws.com (datasets.imdbws.com)... 65.9.86.67, 65.9.86.16, 65.9.86.88, ...\n",
            "Connecting to datasets.imdbws.com (datasets.imdbws.com)|65.9.86.67|:443... connected.\n",
            "HTTP request sent, awaiting response... 200 OK\n",
            "Length: 62633113 (60M) [binary/octet-stream]\n",
            "Saving to: ‘title.crew.tsv.gz.1’\n",
            "\n",
            "title.crew.tsv.gz.1 100%[===================>]  59.73M   123MB/s    in 0.5s    \n",
            "\n",
            "2022-10-31 18:56:29 (123 MB/s) - ‘title.crew.tsv.gz.1’ saved [62633113/62633113]\n",
            "\n",
            "--2022-10-31 18:56:29--  https://datasets.imdbws.com/title.episode.tsv.gz\n",
            "Resolving datasets.imdbws.com (datasets.imdbws.com)... 65.9.86.67, 65.9.86.16, 65.9.86.88, ...\n",
            "Connecting to datasets.imdbws.com (datasets.imdbws.com)|65.9.86.67|:443... connected.\n",
            "HTTP request sent, awaiting response... 200 OK\n",
            "Length: 38346041 (37M) [binary/octet-stream]\n",
            "Saving to: ‘title.episode.tsv.gz.1’\n",
            "\n",
            "title.episode.tsv.g 100%[===================>]  36.57M   118MB/s    in 0.3s    \n",
            "\n",
            "2022-10-31 18:56:30 (118 MB/s) - ‘title.episode.tsv.gz.1’ saved [38346041/38346041]\n",
            "\n",
            "--2022-10-31 18:56:30--  https://datasets.imdbws.com/title.principals.tsv.gz\n",
            "Resolving datasets.imdbws.com (datasets.imdbws.com)... 65.9.86.67, 65.9.86.16, 65.9.86.88, ...\n",
            "Connecting to datasets.imdbws.com (datasets.imdbws.com)|65.9.86.67|:443... connected.\n",
            "HTTP request sent, awaiting response... 200 OK\n",
            "Length: 415508368 (396M) [binary/octet-stream]\n",
            "Saving to: ‘title.principals.tsv.gz.1’\n",
            "\n",
            "title.principals.ts 100%[===================>] 396.26M  65.0MB/s    in 5.9s    \n",
            "\n",
            "2022-10-31 18:56:36 (66.8 MB/s) - ‘title.principals.tsv.gz.1’ saved [415508368/415508368]\n",
            "\n",
            "--2022-10-31 18:56:36--  https://datasets.imdbws.com/title.ratings.tsv.gz\n",
            "Resolving datasets.imdbws.com (datasets.imdbws.com)... 65.9.86.67, 65.9.86.16, 65.9.86.88, ...\n",
            "Connecting to datasets.imdbws.com (datasets.imdbws.com)|65.9.86.67|:443... connected.\n",
            "HTTP request sent, awaiting response... 200 OK\n",
            "Length: 6240150 (6.0M) [binary/octet-stream]\n",
            "Saving to: ‘title.ratings.tsv.gz.1’\n",
            "\n",
            "title.ratings.tsv.g 100%[===================>]   5.95M  --.-KB/s    in 0.08s   \n",
            "\n",
            "2022-10-31 18:56:36 (70.6 MB/s) - ‘title.ratings.tsv.gz.1’ saved [6240150/6240150]\n",
            "\n"
          ]
        }
      ]
    },
    {
      "cell_type": "markdown",
      "source": [
        "# Prepare Data"
      ],
      "metadata": {
        "id": "BrCUQ_n23W5B"
      }
    },
    {
      "cell_type": "markdown",
      "source": [
        "Data overview"
      ],
      "metadata": {
        "id": "jrzmuY2kVDQk"
      }
    },
    {
      "cell_type": "code",
      "source": [
        "print(\"title_ratings\")\n",
        "title_ratings.show(2)\n",
        "print(\"title_principals\")\n",
        "title_principals.show(2)\n",
        "print(\"title_episode\")\n",
        "title_episode.show(2)\n",
        "print(\"title_crew\")\n",
        "title_crew.show(2)\n",
        "print(\"title_basics\")\n",
        "title_basics.show(2)\n",
        "print(\"title_akas\")\n",
        "title_akas.show(2)\n",
        "print(\"name_basics\")\n",
        "name_basics.show(2)"
      ],
      "metadata": {
        "colab": {
          "base_uri": "https://localhost:8080/"
        },
        "id": "zfVZhNVF3xqk",
        "outputId": "9b1d569c-2738-405a-9a32-dd94a7fa80bd"
      },
      "execution_count": 3,
      "outputs": [
        {
          "output_type": "stream",
          "name": "stdout",
          "text": [
            "title_ratings\n",
            "+---------+-------------+--------+\n",
            "|   tconst|averageRating|numVotes|\n",
            "+---------+-------------+--------+\n",
            "|tt0000001|          5.7|    1921|\n",
            "|tt0000002|          5.8|     260|\n",
            "+---------+-------------+--------+\n",
            "only showing top 2 rows\n",
            "\n",
            "title_principals\n",
            "+---------+--------+---------+--------+---+----------+\n",
            "|   tconst|ordering|   nconst|category|job|characters|\n",
            "+---------+--------+---------+--------+---+----------+\n",
            "|tt0000001|       1|nm1588970|    self| \\N|  [\"Self\"]|\n",
            "|tt0000001|       2|nm0005690|director| \\N|        \\N|\n",
            "+---------+--------+---------+--------+---+----------+\n",
            "only showing top 2 rows\n",
            "\n",
            "title_episode\n",
            "+---------+------------+------------+-------------+\n",
            "|   tconst|parentTconst|seasonNumber|episodeNumber|\n",
            "+---------+------------+------------+-------------+\n",
            "|tt0041951|   tt0041038|           1|            9|\n",
            "|tt0042816|   tt0989125|           1|           17|\n",
            "+---------+------------+------------+-------------+\n",
            "only showing top 2 rows\n",
            "\n",
            "title_crew\n",
            "+---------+---------+-------+\n",
            "|   tconst|directors|writers|\n",
            "+---------+---------+-------+\n",
            "|tt0000001|nm0005690|     \\N|\n",
            "|tt0000002|nm0721526|     \\N|\n",
            "+---------+---------+-------+\n",
            "only showing top 2 rows\n",
            "\n",
            "title_basics\n",
            "+---------+---------+--------------------+--------------------+-------+---------+-------+--------------+-----------------+\n",
            "|   tconst|titleType|        primaryTitle|       originalTitle|isAdult|startYear|endYear|runtimeMinutes|           genres|\n",
            "+---------+---------+--------------------+--------------------+-------+---------+-------+--------------+-----------------+\n",
            "|tt0000001|    short|          Carmencita|          Carmencita|      0|     1894|     \\N|             1|Documentary,Short|\n",
            "|tt0000002|    short|Le clown et ses c...|Le clown et ses c...|      0|     1892|     \\N|             5|  Animation,Short|\n",
            "+---------+---------+--------------------+--------------------+-------+---------+-------+--------------+-----------------+\n",
            "only showing top 2 rows\n",
            "\n",
            "title_akas\n",
            "+---------+--------+----------+------+--------+-----------+-------------+---------------+\n",
            "|  titleId|ordering|     title|region|language|      types|   attributes|isOriginalTitle|\n",
            "+---------+--------+----------+------+--------+-----------+-------------+---------------+\n",
            "|tt0000001|       1|Карменсіта|    UA|      \\N|imdbDisplay|           \\N|              0|\n",
            "|tt0000001|       2|Carmencita|    DE|      \\N|         \\N|literal title|              0|\n",
            "+---------+--------+----------+------+--------+-----------+-------------+---------------+\n",
            "only showing top 2 rows\n",
            "\n",
            "name_basics\n",
            "+---------+-------------+---------+---------+--------------------+--------------------+\n",
            "|   nconst|  primaryName|birthYear|deathYear|   primaryProfession|      knownForTitles|\n",
            "+---------+-------------+---------+---------+--------------------+--------------------+\n",
            "|nm0000001| Fred Astaire|     1899|     1987|soundtrack,actor,...|tt0072308,tt00319...|\n",
            "|nm0000002|Lauren Bacall|     1924|     2014|  actress,soundtrack|tt0071877,tt01170...|\n",
            "+---------+-------------+---------+---------+--------------------+--------------------+\n",
            "only showing top 2 rows\n",
            "\n"
          ]
        }
      ]
    },
    {
      "cell_type": "markdown",
      "source": [
        "Join data"
      ],
      "metadata": {
        "id": "PG2BEgFuWGrB"
      }
    },
    {
      "cell_type": "code",
      "source": [
        "data = title_basics.join(title_ratings, how=\"left\", on=\"tconst\")\n",
        "data = data.join(title_crew, how=\"left\", on=\"tconst\")\n",
        "data = data.join(title_principals, how=\"left\", on=\"tconst\")\n",
        "data = data.join(title_episode, how=\"left\", on=\"tconst\")"
      ],
      "metadata": {
        "id": "0DPpgpGc-YBm"
      },
      "execution_count": 4,
      "outputs": []
    },
    {
      "cell_type": "markdown",
      "source": [
        "Select relevant columns"
      ],
      "metadata": {
        "id": "5iBdMeHNWylV"
      }
    },
    {
      "cell_type": "code",
      "source": [
        "data = data.select(\"tconst\", \"parentTconst\", \"primaryTitle\", \"isAdult\", \n",
        "                   \"startYear\", \"endYear\", \"runtimeMinutes\", \"genres\", \n",
        "                   \"averageRating\", \"numVotes\", \"nconst\", \"category\", \n",
        "                   \"job\", \"directors\", \"writers\")\n",
        "data.show(10)"
      ],
      "metadata": {
        "colab": {
          "base_uri": "https://localhost:8080/"
        },
        "id": "Y0pArKGGMqhF",
        "outputId": "61d0b7a4-d92e-4278-b2fe-8a32b58e2dab"
      },
      "execution_count": 5,
      "outputs": [
        {
          "output_type": "stream",
          "name": "stdout",
          "text": [
            "+---------+------------+--------------------+-------+---------+-------+--------------+---------------+-------------+--------+---------+--------+--------+---------+---------+\n",
            "|   tconst|parentTconst|        primaryTitle|isAdult|startYear|endYear|runtimeMinutes|         genres|averageRating|numVotes|   nconst|category|     job|directors|  writers|\n",
            "+---------+------------+--------------------+-------+---------+-------+--------------+---------------+-------------+--------+---------+--------+--------+---------+---------+\n",
            "|tt0000658|        null|The Puppet's Nigh...|      0|     1908|     \\N|             2|Animation,Short|          6.5|     235|nm0169871|director|      \\N|nm0169871|       \\N|\n",
            "|tt0000839|        null|  The Curse of Money|      0|     1909|     \\N|            \\N|    Drama,Short|         null|    null|nm0294276|director|      \\N|nm0294276|       \\N|\n",
            "|tt0000839|        null|  The Curse of Money|      0|     1909|     \\N|            \\N|    Drama,Short|         null|    null|nm0378408|producer|producer|nm0294276|       \\N|\n",
            "|tt0001170|        null|A Cowboy's Vindic...|      0|     1910|     \\N|            \\N|  Short,Western|         null|    null|nm0607104|   actor|      \\N|nm0001908|nm0001908|\n",
            "|tt0001170|        null|A Cowboy's Vindic...|      0|     1910|     \\N|            \\N|  Short,Western|         null|    null|nm0001908|   actor|      \\N|nm0001908|nm0001908|\n",
            "|tt0001170|        null|A Cowboy's Vindic...|      0|     1910|     \\N|            \\N|  Short,Western|         null|    null|nm0930290| actress|      \\N|nm0001908|nm0001908|\n",
            "|tt0001170|        null|A Cowboy's Vindic...|      0|     1910|     \\N|            \\N|  Short,Western|         null|    null|nm0789632|   actor|      \\N|nm0001908|nm0001908|\n",
            "|tt0001170|        null|A Cowboy's Vindic...|      0|     1910|     \\N|            \\N|  Short,Western|         null|    null|nm0355582|   actor|      \\N|nm0001908|nm0001908|\n",
            "|tt0001170|        null|A Cowboy's Vindic...|      0|     1910|     \\N|            \\N|  Short,Western|         null|    null|nm0865178|   actor|      \\N|nm0001908|nm0001908|\n",
            "|tt0001170|        null|A Cowboy's Vindic...|      0|     1910|     \\N|            \\N|  Short,Western|         null|    null|nm1400009|   actor|      \\N|nm0001908|nm0001908|\n",
            "+---------+------------+--------------------+-------+---------+-------+--------------+---------------+-------------+--------+---------+--------+--------+---------+---------+\n",
            "only showing top 10 rows\n",
            "\n"
          ]
        }
      ]
    },
    {
      "cell_type": "markdown",
      "source": [
        "Data dimension"
      ],
      "metadata": {
        "id": "Qy_yIHceWS-g"
      }
    },
    {
      "cell_type": "code",
      "source": [
        "print(f\"(length, width) = ({data.count()}, {len(data.columns)})\")"
      ],
      "metadata": {
        "colab": {
          "base_uri": "https://localhost:8080/"
        },
        "id": "i8XNH2qMWRHh",
        "outputId": "c25bc359-cfa8-4527-88f0-cd5728ee7276"
      },
      "execution_count": 6,
      "outputs": [
        {
          "output_type": "stream",
          "name": "stdout",
          "text": [
            "(length, width) = (53740449, 15)\n"
          ]
        }
      ]
    }
  ]
}