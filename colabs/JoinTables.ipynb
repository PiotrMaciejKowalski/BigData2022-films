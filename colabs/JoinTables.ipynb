{
 "nbformat": 4,
 "nbformat_minor": 0,
 "metadata": {
  "colab": {
   "provenance": [],
   "toc_visible": true
  },
  "kernelspec": {
   "name": "python3",
   "display_name": "Python 3"
  },
  "language_info": {
   "name": "python"
  }
 },
 "cells": [
  {
   "cell_type": "markdown",
   "source": [
    "# Load Data"
   ],
   "metadata": {
    "id": "HlzHnTrqyQ4b"
   }
  },
  {
   "cell_type": "code",
   "execution_count": 1,
   "metadata": {
    "colab": {
     "base_uri": "https://localhost:8080/"
    },
    "id": "wrOzDZdVwP7r",
    "outputId": "29b0d97e-816c-45bb-a454-16a26495d479"
   },
   "outputs": [
    {
     "output_type": "stream",
     "name": "stdout",
     "text": [
      "default-java\t\t   java-11-openjdk-amd64     java-8-openjdk-amd64\n",
      "java-1.11.0-openjdk-amd64  java-1.8.0-openjdk-amd64\n",
      "Looking in indexes: https://pypi.org/simple, https://us-python.pkg.dev/colab-wheels/public/simple/\n",
      "Requirement already satisfied: pyarrow in /usr/local/lib/python3.7/dist-packages (10.0.0)\n",
      "Requirement already satisfied: numpy>=1.16.6 in /usr/local/lib/python3.7/dist-packages (from pyarrow) (1.21.6)\n"
     ]
    }
   ],
   "source": [
    "# install Java8\n",
    "!apt-get install openjdk-8-jdk-headless -qq > /dev/null\n",
    "# download spark2.4.5\n",
    "!wget -q https://archive.apache.org/dist/spark/spark-2.4.5/spark-2.4.5-bin-hadoop2.7.tgz\n",
    "# unzip it\n",
    "!tar xf spark-2.4.5-bin-hadoop2.7.tgz\n",
    "# install findspark\n",
    "!pip install -q findspark\n",
    "# Google Colab has Java 11 available, test it using below command -\n",
    "!ls /usr/lib/jvm\n",
    "#install pyarrow\n",
    "!pip install -U pyarrow"
   ]
  },
  {
   "cell_type": "code",
   "source": [
    "import os\n",
    "import findspark\n",
    "\n",
    "os.environ[\"JAVA_HOME\"] = \"/usr/lib/jvm/java-8-openjdk-amd64\"\n",
    "os.environ[\"SPARK_HOME\"] = \"/content/spark-2.4.5-bin-hadoop2.7\"\n",
    "\n",
    "findspark.init()\n",
    "from pyspark.sql import SparkSession\n",
    "\n",
    "spark = SparkSession.builder.master(\"local[*]\").getOrCreate()\n",
    "spark_params = {\n",
    "\"spark.executor.memory\" : \"4g\",\n",
    "\"spark.driver.memory\": \"4g\",\n",
    "\"spark.memory.fraction\": \"0.9\"}\n",
    "for param, value in spark_params.items():\n",
    "  spark.conf.set(param, value)\n",
    "\n",
    "!wget \"https://datasets.imdbws.com/name.basics.tsv.gz\"\n",
    "!wget \"https://datasets.imdbws.com/title.akas.tsv.gz\"\n",
    "!wget \"https://datasets.imdbws.com/title.basics.tsv.gz\"\n",
    "!wget \"https://datasets.imdbws.com/title.crew.tsv.gz\"\n",
    "!wget \"https://datasets.imdbws.com/title.episode.tsv.gz\"\n",
    "!wget \"https://datasets.imdbws.com/title.principals.tsv.gz\"\n",
    "!wget \"https://datasets.imdbws.com/title.ratings.tsv.gz\"\n",
    "\n",
    "title_ratings = spark.read.csv(\"title.ratings.tsv.gz\", sep='\\t', header=True)\n",
    "title_principals = spark.read.csv(\"title.principals.tsv.gz\", sep='\\t',header=True)\n",
    "title_episode = spark.read.csv(\"title.episode.tsv.gz\", sep='\\t', header=True)\n",
    "title_crew = spark.read.csv(\"title.crew.tsv.gz\", sep='\\t', header=True)\n",
    "title_basics = spark.read.csv(\"title.basics.tsv.gz\", sep='\\t', header=True)\n",
    "title_akas = spark.read.csv(\"title.akas.tsv.gz\", sep='\\t', header=True)\n",
    "name_basics = spark.read.csv(\"name.basics.tsv.gz\", sep='\\t', header=True)"
   ],
   "metadata": {
    "colab": {
     "base_uri": "https://localhost:8080/"
    },
    "id": "-YgtfYg42VMB",
    "outputId": "a2176464-b29d-412f-bc93-e51f65e94461"
   },
   "execution_count": 2,
   "outputs": [
    {
     "output_type": "stream",
     "name": "stdout",
     "text": [
      "--2022-11-04 16:48:17--  https://datasets.imdbws.com/name.basics.tsv.gz\n",
      "Resolving datasets.imdbws.com (datasets.imdbws.com)... 65.9.86.67, 65.9.86.88, 65.9.86.82, ...\n",
      "Connecting to datasets.imdbws.com (datasets.imdbws.com)|65.9.86.67|:443... connected.\n",
      "HTTP request sent, awaiting response... 200 OK\n",
      "Length: 235890561 (225M) [binary/octet-stream]\n",
      "Saving to: ‘name.basics.tsv.gz.1’\n",
      "\n",
      "name.basics.tsv.gz. 100%[===================>] 224.96M  77.4MB/s    in 2.9s    \n",
      "\n",
      "2022-11-04 16:48:20 (77.4 MB/s) - ‘name.basics.tsv.gz.1’ saved [235890561/235890561]\n",
      "\n",
      "--2022-11-04 16:48:20--  https://datasets.imdbws.com/title.akas.tsv.gz\n",
      "Resolving datasets.imdbws.com (datasets.imdbws.com)... 65.9.86.67, 65.9.86.88, 65.9.86.82, ...\n",
      "Connecting to datasets.imdbws.com (datasets.imdbws.com)|65.9.86.67|:443... connected.\n",
      "HTTP request sent, awaiting response... 200 OK\n",
      "Length: 286499313 (273M) [binary/octet-stream]\n",
      "Saving to: ‘title.akas.tsv.gz.1’\n",
      "\n",
      "title.akas.tsv.gz.1 100%[===================>] 273.23M  71.0MB/s    in 3.8s    \n",
      "\n",
      "2022-11-04 16:48:24 (71.2 MB/s) - ‘title.akas.tsv.gz.1’ saved [286499313/286499313]\n",
      "\n",
      "--2022-11-04 16:48:24--  https://datasets.imdbws.com/title.basics.tsv.gz\n",
      "Resolving datasets.imdbws.com (datasets.imdbws.com)... 65.9.86.67, 65.9.86.88, 65.9.86.82, ...\n",
      "Connecting to datasets.imdbws.com (datasets.imdbws.com)|65.9.86.67|:443... connected.\n",
      "HTTP request sent, awaiting response... 200 OK\n",
      "Length: 163362307 (156M) [binary/octet-stream]\n",
      "Saving to: ‘title.basics.tsv.gz.1’\n",
      "\n",
      "title.basics.tsv.gz 100%[===================>] 155.79M  76.9MB/s    in 2.0s    \n",
      "\n",
      "2022-11-04 16:48:26 (76.9 MB/s) - ‘title.basics.tsv.gz.1’ saved [163362307/163362307]\n",
      "\n",
      "--2022-11-04 16:48:26--  https://datasets.imdbws.com/title.crew.tsv.gz\n",
      "Resolving datasets.imdbws.com (datasets.imdbws.com)... 65.9.86.67, 65.9.86.88, 65.9.86.82, ...\n",
      "Connecting to datasets.imdbws.com (datasets.imdbws.com)|65.9.86.67|:443... connected.\n",
      "HTTP request sent, awaiting response... 200 OK\n",
      "Length: 62697646 (60M) [binary/octet-stream]\n",
      "Saving to: ‘title.crew.tsv.gz.1’\n",
      "\n",
      "title.crew.tsv.gz.1 100%[===================>]  59.79M  77.9MB/s    in 0.8s    \n",
      "\n",
      "2022-11-04 16:48:27 (77.9 MB/s) - ‘title.crew.tsv.gz.1’ saved [62697646/62697646]\n",
      "\n",
      "--2022-11-04 16:48:27--  https://datasets.imdbws.com/title.episode.tsv.gz\n",
      "Resolving datasets.imdbws.com (datasets.imdbws.com)... 65.9.86.67, 65.9.86.88, 65.9.86.82, ...\n",
      "Connecting to datasets.imdbws.com (datasets.imdbws.com)|65.9.86.67|:443... connected.\n",
      "HTTP request sent, awaiting response... 200 OK\n",
      "Length: 38389135 (37M) [binary/octet-stream]\n",
      "Saving to: ‘title.episode.tsv.gz.1’\n",
      "\n",
      "title.episode.tsv.g 100%[===================>]  36.61M  80.7MB/s    in 0.5s    \n",
      "\n",
      "2022-11-04 16:48:27 (80.7 MB/s) - ‘title.episode.tsv.gz.1’ saved [38389135/38389135]\n",
      "\n",
      "--2022-11-04 16:48:27--  https://datasets.imdbws.com/title.principals.tsv.gz\n",
      "Resolving datasets.imdbws.com (datasets.imdbws.com)... 65.9.86.67, 65.9.86.88, 65.9.86.82, ...\n",
      "Connecting to datasets.imdbws.com (datasets.imdbws.com)|65.9.86.67|:443... connected.\n",
      "HTTP request sent, awaiting response... 200 OK\n",
      "Length: 415936744 (397M) [binary/octet-stream]\n",
      "Saving to: ‘title.principals.tsv.gz.1’\n",
      "\n",
      "title.principals.ts 100%[===================>] 396.67M  76.5MB/s    in 5.2s    \n",
      "\n",
      "2022-11-04 16:48:33 (76.3 MB/s) - ‘title.principals.tsv.gz.1’ saved [415936744/415936744]\n",
      "\n",
      "--2022-11-04 16:48:33--  https://datasets.imdbws.com/title.ratings.tsv.gz\n",
      "Resolving datasets.imdbws.com (datasets.imdbws.com)... 65.9.86.67, 65.9.86.88, 65.9.86.82, ...\n",
      "Connecting to datasets.imdbws.com (datasets.imdbws.com)|65.9.86.67|:443... connected.\n",
      "HTTP request sent, awaiting response... 200 OK\n",
      "Length: 6246142 (6.0M) [binary/octet-stream]\n",
      "Saving to: ‘title.ratings.tsv.gz.1’\n",
      "\n",
      "title.ratings.tsv.g 100%[===================>]   5.96M  --.-KB/s    in 0.07s   \n",
      "\n",
      "2022-11-04 16:48:33 (80.2 MB/s) - ‘title.ratings.tsv.gz.1’ saved [6246142/6246142]\n",
      "\n"
     ]
    }
   ]
  },
  {
   "cell_type": "markdown",
   "source": [
    "# Prepare Data"
   ],
   "metadata": {
    "id": "BrCUQ_n23W5B"
   }
  },
  {
   "cell_type": "markdown",
   "source": [
    "Data overview"
   ],
   "metadata": {
    "id": "jrzmuY2kVDQk"
   }
  },
  {
   "cell_type": "code",
   "source": [
    "print(\"title_ratings\")\n",
    "title_ratings.show(2)\n",
    "print(\"title_principals\")\n",
    "title_principals.show(2)\n",
    "print(\"title_episode\")\n",
    "title_episode.show(2)\n",
    "print(\"title_crew\")\n",
    "title_crew.show(2)\n",
    "print(\"title_basics\")\n",
    "title_basics.show(2)\n",
    "print(\"title_akas\")\n",
    "title_akas.show(2)\n",
    "print(\"name_basics\")\n",
    "name_basics.show(2)"
   ],
   "metadata": {
    "colab": {
     "base_uri": "https://localhost:8080/"
    },
    "id": "zfVZhNVF3xqk",
    "outputId": "0eba3dd8-ec3b-4f53-8363-6c4677596a50"
   },
   "execution_count": 3,
   "outputs": [
    {
     "output_type": "stream",
     "name": "stdout",
     "text": [
      "title_ratings\n",
      "+---------+-------------+--------+\n",
      "|   tconst|averageRating|numVotes|\n",
      "+---------+-------------+--------+\n",
      "|tt0000001|          5.7|    1923|\n",
      "|tt0000002|          5.8|     260|\n",
      "+---------+-------------+--------+\n",
      "only showing top 2 rows\n",
      "\n",
      "title_principals\n",
      "+---------+--------+---------+--------+---+----------+\n",
      "|   tconst|ordering|   nconst|category|job|characters|\n",
      "+---------+--------+---------+--------+---+----------+\n",
      "|tt0000001|       1|nm1588970|    self| \\N|  [\"Self\"]|\n",
      "|tt0000001|       2|nm0005690|director| \\N|        \\N|\n",
      "+---------+--------+---------+--------+---+----------+\n",
      "only showing top 2 rows\n",
      "\n",
      "title_episode\n",
      "+---------+------------+------------+-------------+\n",
      "|   tconst|parentTconst|seasonNumber|episodeNumber|\n",
      "+---------+------------+------------+-------------+\n",
      "|tt0041951|   tt0041038|           1|            9|\n",
      "|tt0042816|   tt0989125|           1|           17|\n",
      "+---------+------------+------------+-------------+\n",
      "only showing top 2 rows\n",
      "\n",
      "title_crew\n",
      "+---------+---------+-------+\n",
      "|   tconst|directors|writers|\n",
      "+---------+---------+-------+\n",
      "|tt0000001|nm0005690|     \\N|\n",
      "|tt0000002|nm0721526|     \\N|\n",
      "+---------+---------+-------+\n",
      "only showing top 2 rows\n",
      "\n",
      "title_basics\n",
      "+---------+---------+--------------------+--------------------+-------+---------+-------+--------------+-----------------+\n",
      "|   tconst|titleType|        primaryTitle|       originalTitle|isAdult|startYear|endYear|runtimeMinutes|           genres|\n",
      "+---------+---------+--------------------+--------------------+-------+---------+-------+--------------+-----------------+\n",
      "|tt0000001|    short|          Carmencita|          Carmencita|      0|     1894|     \\N|             1|Documentary,Short|\n",
      "|tt0000002|    short|Le clown et ses c...|Le clown et ses c...|      0|     1892|     \\N|             5|  Animation,Short|\n",
      "+---------+---------+--------------------+--------------------+-------+---------+-------+--------------+-----------------+\n",
      "only showing top 2 rows\n",
      "\n",
      "title_akas\n",
      "+---------+--------+----------+------+--------+-----------+-------------+---------------+\n",
      "|  titleId|ordering|     title|region|language|      types|   attributes|isOriginalTitle|\n",
      "+---------+--------+----------+------+--------+-----------+-------------+---------------+\n",
      "|tt0000001|       1|Карменсіта|    UA|      \\N|imdbDisplay|           \\N|              0|\n",
      "|tt0000001|       2|Carmencita|    DE|      \\N|         \\N|literal title|              0|\n",
      "+---------+--------+----------+------+--------+-----------+-------------+---------------+\n",
      "only showing top 2 rows\n",
      "\n",
      "name_basics\n",
      "+---------+-------------+---------+---------+--------------------+--------------------+\n",
      "|   nconst|  primaryName|birthYear|deathYear|   primaryProfession|      knownForTitles|\n",
      "+---------+-------------+---------+---------+--------------------+--------------------+\n",
      "|nm0000001| Fred Astaire|     1899|     1987|soundtrack,actor,...|tt0031983,tt00531...|\n",
      "|nm0000002|Lauren Bacall|     1924|     2014|  actress,soundtrack|tt0071877,tt01170...|\n",
      "+---------+-------------+---------+---------+--------------------+--------------------+\n",
      "only showing top 2 rows\n",
      "\n"
     ]
    }
   ]
  },
  {
   "cell_type": "markdown",
   "source": [
    "Join data"
   ],
   "metadata": {
    "id": "PG2BEgFuWGrB"
   }
  },
  {
   "cell_type": "code",
   "source": [
    "to_print = [\"title_basics\", \"title_ratings\", \"title_principals\", \n",
    "            \"title_episode\", \"name_basics\"]\n",
    "\n",
    "for p in to_print:\n",
    "  print(f\"Dimension {p}: ({eval(p).count()}, {len(eval(p).columns)})\")\n",
    "\n",
    "data = title_basics.join(title_ratings, how=\"left\", on=\"tconst\")\n",
    "data = data.join(title_principals, how=\"left\", on=\"tconst\")\n",
    "data = data.join(title_episode, how=\"left\", on=\"tconst\")\n",
    "data = data.join(name_basics, how=\"left\", on=\"nconst\")\n",
    "\n",
    "print(f\"Dimension data = ({data.count()}, {len(data.columns)})\")"
   ],
   "metadata": {
    "id": "0DPpgpGc-YBm",
    "colab": {
     "base_uri": "https://localhost:8080/"
    },
    "outputId": "53fe5f19-fb7a-47b1-d693-d0a35fa977b9"
   },
   "execution_count": 4,
   "outputs": [
    {
     "output_type": "stream",
     "name": "stdout",
     "text": [
      "Dimension title_basics: (9346838, 9)\n",
      "Dimension title_ratings: (1243998, 3)\n",
      "Dimension title_principals: (52877285, 6)\n",
      "Dimension title_episode: (7055394, 4)\n",
      "Dimension name_basics: (12052333, 6)\n",
      "Dimension data = (53798200, 24)\n"
     ]
    }
   ]
  },
  {
   "cell_type": "code",
   "source": [
    "print(data.sample(0.0001).show(10))"
   ],
   "metadata": {
    "colab": {
     "base_uri": "https://localhost:8080/"
    },
    "id": "i8XNH2qMWRHh",
    "outputId": "b23451c3-0e08-4c5e-899a-ab8ed243c9f7"
   },
   "execution_count": 5,
   "outputs": [
    {
     "output_type": "stream",
     "name": "stdout",
     "text": [
      "+---------+----------+---------+--------------------+--------------------+-------+---------+-------+--------------+--------------------+-------------+--------+--------+--------+---+-------------------+------------+------------+-------------+-----------------+---------+---------+--------------------+--------------------+\n",
      "|   nconst|    tconst|titleType|        primaryTitle|       originalTitle|isAdult|startYear|endYear|runtimeMinutes|              genres|averageRating|numVotes|ordering|category|job|         characters|parentTconst|seasonNumber|episodeNumber|      primaryName|birthYear|deathYear|   primaryProfession|      knownForTitles|\n",
      "+---------+----------+---------+--------------------+--------------------+-------+---------+-------+--------------+--------------------+-------------+--------+--------+--------+---+-------------------+------------+------------+-------------+-----------------+---------+---------+--------------------+--------------------+\n",
      "|nm0131254|tt22026256|tvEpisode|       Episode #1.48|       Episode #1.48|      0|     1992|     \\N|            \\N|              Action|         null|    null|       2|   actor| \\N|  [\"Roque Delgado\"]|   tt8861834|           1|           48|    Jairo Camargo|       \\N|       \\N|               actor|tt0365999,tt41624...|\n",
      "|nm0165145| tt8567258|tvEpisode|     Episode #1.1149|     Episode #1.1149|      0|     1991|     \\N|            \\N|       Drama,Romance|         null|    null|       1|   actor| \\N| [\"Pierre Jourdan\"]|   tt0092325|           1|         1149|     Robert Clary|     1926|       \\N|    actor,soundtrack|tt0058812,tt00923...|\n",
      "|nm0286925| tt2947952|tvEpisode|     Sourpuss Morton|     Sourpuss Morton|      0|     1981|     \\N|            \\N|Adventure,Animati...|         null|    null|       2| actress| \\N|          [\"Becca\"]|   tt0168341|           1|           39| Rebecca Forstadt|     1953|       \\N|actress,script_de...|tt0088595,tt00946...|\n",
      "|nm0293255| tt0838792|tvEpisode|Episode dated 18 ...|Episode dated 18 ...|      0|     2005|     \\N|            \\N|       Drama,Romance|         null|    null|       3| actress| \\N|    [\"Mila Duarte\"]|   tt0470975|          \\N|           \\N|  Miriam Freeland|     1978|       \\N|             actress|tt0395415,tt04709...|\n",
      "|nm0314577| tt7856140|tvEpisode|       Episode #1.16|       Episode #1.16|      0|     2006|     \\N|            \\N|Adventure,Drama,F...|         null|    null|       3|   actor| \\N|[\"Marcos Lombardo\"]|   tt0830376|           1|           16|    Omar Germenos|     1968|       \\N|               actor|tt1648934,tt08303...|\n",
      "|nm0354977| tt0038724|    movie|Man from Rainbow ...|Man from Rainbow ...|      0|     1946|     \\N|            56|             Western|          4.2|      12|       1|   actor| \\N|     [\"Monte Hale\"]|        null|        null|         null|       Monte Hale|     1919|     2009|    actor,soundtrack|tt0038612,tt00492...|\n",
      "|nm0356818| tt0011236|    movie|   Die goldene Krone|   Die goldene Krone|      0|     1920|     \\N|            \\N|                  \\N|         null|    null|       5|director| \\N|                 \\N|        null|        null|         null|      Alfred Halm|     1861|     1951|writer,director,p...|tt1019911,tt00095...|\n",
      "|nm0426514| tt3659786|  tvMovie|          Marvellous|          Marvellous|      0|     2014|     \\N|            90|               Drama|          7.8|    6220|       8|composer| \\N|                 \\N|        null|        null|         null|  Adrian Johnston|     1961|       \\N|composer,soundtra...|tt0416508,tt01167...|\n",
      "|nm0536083| tt0916889|tvEpisode|     Episode #1.1096|     Episode #1.1096|      0|     1986|     \\N|            \\N|       Drama,Romance|         null|    null|       4|   actor| \\N|   [\"Amos Brearly\"]|   tt0068069|           1|         1096|    Ronald Magill|     1920|     2007|actor,director,wr...|tt0159858,tt00639...|\n",
      "|nm0666498| tt0679650|tvEpisode|        Blue Highway|        Blue Highway|      0|     1997|     \\N|            47| Crime,Drama,Mystery|          7.3|      75|       5|director| \\N|                 \\N|   tt0115322|           1|           18|Michael Pattinson|     1957|       \\N|director,producer...|tt0093120,tt00859...|\n",
      "+---------+----------+---------+--------------------+--------------------+-------+---------+-------+--------------+--------------------+-------------+--------+--------+--------+---+-------------------+------------+------------+-------------+-----------------+---------+---------+--------------------+--------------------+\n",
      "only showing top 10 rows\n",
      "\n",
      "None\n"
     ]
    }
   ]
  }
 ]
}