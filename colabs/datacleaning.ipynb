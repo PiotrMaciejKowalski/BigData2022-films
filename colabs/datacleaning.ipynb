{
  "cells": [
    {
      "cell_type": "markdown",
      "metadata": {
        "id": "view-in-github",
        "colab_type": "text"
      },
      "source": [
        "<a href=\"https://colab.research.google.com/github/PiotrMaciejKowalski/BigData2022-films/blob/Refactoring-kodu-cleaning-data/colabs/datacleaning.ipynb\" target=\"_parent\"><img src=\"https://colab.research.google.com/assets/colab-badge.svg\" alt=\"Open In Colab\"/></a>"
      ]
    },
    {
      "cell_type": "markdown",
      "metadata": {
        "id": "5Agowe5uPVKS"
      },
      "source": [
        "# Spark Setup and Data Load"
      ]
    },
    {
      "cell_type": "code",
      "source": [
        "from google.colab import drive\n",
        "drive.mount('/content/drive')"
      ],
      "metadata": {
        "id": "xea8rmW1Mtc8",
        "pycharm": {
          "is_executing": true
        }
      },
      "execution_count": null,
      "outputs": []
    },
    {
      "cell_type": "code",
      "execution_count": null,
      "metadata": {
        "id": "W8My8u33PYJt",
        "pycharm": {
          "is_executing": true
        }
      },
      "outputs": [],
      "source": [
        "# install Java8\n",
        "!apt-get install openjdk-8-jdk-headless -qq > /dev/null\n",
        "# download spark2.4.5\n",
        "!wget -q https://archive.apache.org/dist/spark/spark-3.2.1/spark-3.2.1-bin-hadoop3.2.tgz\n",
        "# unzip it\n",
        "!tar xf spark-3.2.1-bin-hadoop3.2.tgz\n",
        "# install findspark\n",
        "!pip install -q findspark\n",
        "# clone github repo\n",
        "!git clone https://github.com/PiotrMaciejKowalski/BigData2022-films\n",
        "# Przeniesienie plików z BigData2022-films do katalogu nadrzędnego\n",
        "!mv BigData2022-films/* .\n",
        "!mv BigData2022-films/.* .\n",
        "!rmdir BigData2022-films"
      ]
    },
    {
      "cell_type": "code",
      "execution_count": 5,
      "metadata": {
        "id": "fG3Xpjc4MvYY"
      },
      "outputs": [],
      "source": [
        "import os\n",
        "\n",
        "# setup environment variables for our Spark Session to work\n",
        "os.environ[\"JAVA_HOME\"] = \"/usr/lib/jvm/java-8-openjdk-amd64\"\n",
        "os.environ[\"SPARK_HOME\"] = '/content/spark-3.2.1-bin-hadoop3.2'\n",
        "\n",
        "from lib.pyspark_startup import init, load"
      ]
    },
    {
      "cell_type": "code",
      "source": [
        "spark = init()"
      ],
      "metadata": {
        "id": "lIJChpFeBN-U"
      },
      "execution_count": 6,
      "outputs": []
    },
    {
      "cell_type": "code",
      "source": [
        "# Ładowanie danych z dysku google\n",
        "path = \"/content/drive/.shortcut-targets-by-id/1VcOir9FMG8LzEsUE-Q8YA79c_sV0tJwp/bigdata2022/\"\n",
        "\n",
        "df = spark.read.parquet(path+\"joined_df.parquet\")"
      ],
      "metadata": {
        "id": "fOLm43gvBWNM"
      },
      "execution_count": 23,
      "outputs": []
    },
    {
      "cell_type": "markdown",
      "source": [
        "# Data cleaning"
      ],
      "metadata": {
        "id": "1ikYahXOI5br"
      }
    },
    {
      "cell_type": "markdown",
      "source": [
        "## Odfiltorwanie odcinków"
      ],
      "metadata": {
        "id": "YwtuyqnrXhj5"
      }
    },
    {
      "cell_type": "code",
      "source": [
        "title_episode = spark.read.csv(\n",
        "    \"/content/drive/.shortcut-targets-by-id/1VcOir9FMG8LzEsUE-Q8YA79c_sV0tJwp/bigdata2022/title.episode.tsv.gz\",\n",
        "    sep=\"\\t\",\n",
        "    header=True,\n",
        ")"
      ],
      "metadata": {
        "id": "ePixRIUMXgp0"
      },
      "execution_count": 24,
      "outputs": []
    },
    {
      "cell_type": "code",
      "source": [
        "df = df.join(title_episode,df.id==title_episode.tconst,\"leftanti\")"
      ],
      "metadata": {
        "id": "mElBks_wqR-H"
      },
      "execution_count": 25,
      "outputs": []
    },
    {
      "cell_type": "markdown",
      "source": [
        "## Konwersja"
      ],
      "metadata": {
        "id": "_WNjSTSoVGEw"
      }
    },
    {
      "cell_type": "code",
      "source": [
        "from lib.pyspark_preprocesing import convert_types\n",
        "\n",
        "cols = [\n",
        "    \"liczba_sezonow\",\n",
        "    \"liczba_wszystkich_odcinkow\",\n",
        "    \"dlugosc_produkcji_w_min\",\n",
        "    \"rok_wydania_produkcji\",\n",
        "    \"rok_zakonczenia_produkcji\",\n",
        "]\n",
        "\n",
        "df = convert_types(df, cols, \"int\")"
      ],
      "metadata": {
        "id": "siPvKQtOJEPm"
      },
      "execution_count": 26,
      "outputs": []
    },
    {
      "cell_type": "markdown",
      "source": [
        "## Uzupełnienie wartości dla filmów"
      ],
      "metadata": {
        "id": "i_7SqK5ximjS"
      }
    },
    {
      "cell_type": "code",
      "source": [
        "from lib.pyspark_preprocesing import value_overwrite\n",
        "\n",
        "df = value_overwrite(\n",
        "    df,\n",
        "    [\"liczba_sezonow\", \"liczba_wszystkich_odcinkow\", \"rok_zakonczenia_produkcji\"],\n",
        "    [1, 1, \"rok_wydania_produkcji\"],\n",
        "    \"rodzaj_produkcji\",\n",
        "    [\"short\", \"movie\", \"video\", \"tvMovie\", \"tvMiniSeries\", \"tvSpecial\", \"tvShort\"],\n",
        ")"
      ],
      "metadata": {
        "id": "fos4mrQrlPwE"
      },
      "execution_count": 27,
      "outputs": []
    },
    {
      "cell_type": "markdown",
      "source": [
        "## Usuniecie nulli"
      ],
      "metadata": {
        "id": "7pGjPhaQmSNa"
      }
    },
    {
      "cell_type": "code",
      "source": [
        "df = df.dropna(subset = df.columns[0:10])"
      ],
      "metadata": {
        "id": "y9Z6xu8fmYR1"
      },
      "execution_count": 28,
      "outputs": []
    },
    {
      "cell_type": "markdown",
      "source": [
        "## Odfiltrowanie niechcianych rodzajów produkcji"
      ],
      "metadata": {
        "id": "uL-gfQ5RYQtf"
      }
    },
    {
      "cell_type": "code",
      "source": [
        "df = df.filter(\n",
        "    (df.rodzaj_produkcji != \"videoGame\")\n",
        "    & (df.rodzaj_produkcji != \"tvEpisode\")\n",
        "    & (df.rodzaj_produkcji != \"tvPilot\")\n",
        ")"
      ],
      "metadata": {
        "id": "ot7o-cQTYVKy"
      },
      "execution_count": 29,
      "outputs": []
    },
    {
      "cell_type": "markdown",
      "source": [
        "## Usunięcie produkcji z błędnymi typami\n"
      ],
      "metadata": {
        "id": "AKePscaPj-RS"
      }
    },
    {
      "cell_type": "code",
      "execution_count": 30,
      "outputs": [],
      "source": [
        "title_basics = spark.read.csv(\n",
        "    \"/content/drive/.shortcut-targets-by-id/1VcOir9FMG8LzEsUE-Q8YA79c_sV0tJwp/bigdata2022/title.basics.tsv.gz\",\n",
        "    sep=\"\\t\",\n",
        "    header=True,\n",
        ")"
      ],
      "metadata": {
        "id": "eC8wB3h5D55Q"
      }
    },
    {
      "cell_type": "code",
      "execution_count": 31,
      "outputs": [],
      "source": [
        "df1 = title_episode.join(title_basics, title_episode.parentTconst == title_basics.tconst)"
      ],
      "metadata": {
        "id": "h2jf22DHD55Q"
      }
    },
    {
      "cell_type": "code",
      "execution_count": 32,
      "outputs": [],
      "source": [
        "df1 = df1.filter(\n",
        "    (df1.titleType != \"tvSeries\")\n",
        "    & (df1.titleType != \"tvMiniSeries\"))"
      ],
      "metadata": {
        "id": "6iNkbJ2qD55Q"
      }
    },
    {
      "cell_type": "code",
      "execution_count": 33,
      "outputs": [],
      "source": [
        "distinct_ids = [x.parentTconst for x in df1.select('parentTconst').distinct().collect()]"
      ],
      "metadata": {
        "id": "jPijBRGMD55R"
      }
    },
    {
      "cell_type": "code",
      "execution_count": 34,
      "outputs": [],
      "source": [
        "with open('docs/black_list.txt', 'r') as f:\n",
        "    wrong_titleType = f.readlines()\n",
        "    wrong_titleType = [line.rstrip() for line in wrong_titleType]"
      ],
      "metadata": {
        "pycharm": {
          "is_executing": true
        },
        "id": "OrC2-SjGD55R"
      }
    },
    {
      "cell_type": "code",
      "execution_count": 35,
      "outputs": [],
      "source": [
        "podejrzane_zle = []\n",
        "for element in distinct_ids:\n",
        "  if element in wrong_titleType:\n",
        "    df = df.filter(~df['id'].isin(element))\n",
        "  else:\n",
        "    podejrzane_zle.append(element)"
      ],
      "metadata": {
        "id": "By6GxBBXD55R"
      }
    },
    {
      "cell_type": "markdown",
      "source": [
        "## Zapis na dysku"
      ],
      "metadata": {
        "id": "3naR3zhLJDPH"
      }
    },
    {
      "cell_type": "code",
      "source": [
        "df.write.mode(\"overwrite\").parquet(path+\"clean_df.parquet\")"
      ],
      "metadata": {
        "id": "hL93JLOGJF0Y"
      },
      "execution_count": 36,
      "outputs": []
    }
  ],
  "metadata": {
    "colab": {
      "provenance": [],
      "include_colab_link": true
    },
    "kernelspec": {
      "display_name": "Python 3.10.6 ('bigdata2022_env')",
      "language": "python",
      "name": "python3"
    },
    "language_info": {
      "name": "python",
      "version": "3.10.6"
    },
    "vscode": {
      "interpreter": {
        "hash": "d3bd7558b382e9dfedbadb497b519832d5eeed5cdea53be5faf7c2ce6e68cd89"
      }
    },
    "gpuClass": "standard"
  },
  "nbformat": 4,
  "nbformat_minor": 0
}