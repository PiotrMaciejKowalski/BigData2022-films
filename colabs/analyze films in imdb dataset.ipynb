{
  "nbformat": 4,
  "nbformat_minor": 0,
  "metadata": {
    "colab": {
      "provenance": [],
      "collapsed_sections": [],
      "toc_visible": true,
      "authorship_tag": "ABX9TyOFJeGx+97gcgcugrtwU1Kw",
      "include_colab_link": true
    },
    "kernelspec": {
      "name": "python3",
      "display_name": "Python 3"
    },
    "language_info": {
      "name": "python"
    }
  },
  "cells": [
    {
      "cell_type": "markdown",
      "metadata": {
        "id": "view-in-github",
        "colab_type": "text"
      },
      "source": [
        "<a href=\"https://colab.research.google.com/github/PiotrMaciejKowalski/BigData2022-films/blob/load-data/colabs/analyze films in imdb dataset.ipynb\" target=\"_parent\"><img src=\"https://colab.research.google.com/assets/colab-badge.svg\" alt=\"Open In Colab\"/></a>"
      ]
    },
    {
      "cell_type": "markdown",
      "source": [
        "# Spark Setup and Data Load"
      ],
      "metadata": {
        "id": "5Agowe5uPVKS"
      }
    },
    {
      "cell_type": "markdown",
      "source": [
        "##Installation of Spark"
      ],
      "metadata": {
        "id": "nqkAJzxlWyMS"
      }
    },
    {
      "cell_type": "code",
      "source": [
        "# install Java8\n",
        "!apt-get install openjdk-8-jdk-headless -qq > /dev/null\n",
        "# download spark2.4.5\n",
        "!wget -q https://archive.apache.org/dist/spark/spark-2.4.5/spark-2.4.5-bin-hadoop2.7.tgz\n",
        "# unzip it\n",
        "!tar xf spark-2.4.5-bin-hadoop2.7.tgz\n",
        "# install findspark\n",
        "!pip install -q findspark\n",
        "# Google Colab has Java 11 available, test it using below command -\n",
        "!ls /usr/lib/jvm\n",
        "#install pyarrow\n",
        "!pip install -U pyarrow"
      ],
      "metadata": {
        "id": "W8My8u33PYJt"
      },
      "execution_count": null,
      "outputs": []
    },
    {
      "cell_type": "code",
      "source": [
        "import os\n",
        "import findspark\n",
        "from pyspark.sql import SparkSession"
      ],
      "metadata": {
        "id": "fG3Xpjc4MvYY"
      },
      "execution_count": null,
      "outputs": []
    },
    {
      "cell_type": "markdown",
      "source": [
        "Now we need to setup environment variables for our Spark Session to work"
      ],
      "metadata": {
        "id": "PAKJHNl6OKLC"
      }
    },
    {
      "cell_type": "code",
      "source": [
        "os.environ[\"JAVA_HOME\"] = \"/usr/lib/jvm/java-8-openjdk-amd64\"\n",
        "os.environ[\"SPARK_HOME\"] = \"/content/spark-2.4.5-bin-hadoop2.7\""
      ],
      "metadata": {
        "id": "XNbU1S0a0AV3"
      },
      "execution_count": null,
      "outputs": []
    },
    {
      "cell_type": "markdown",
      "source": [
        "To verify the automatically detected location we use findspark.init()"
      ],
      "metadata": {
        "id": "2r09yiFWP8t7"
      }
    },
    {
      "cell_type": "code",
      "source": [
        "findspark.init()"
      ],
      "metadata": {
        "id": "6DPiYwX-P9Bt"
      },
      "execution_count": null,
      "outputs": []
    },
    {
      "cell_type": "markdown",
      "source": [
        "Time to initiate a Spark Session"
      ],
      "metadata": {
        "id": "NLrLCmKSORAh"
      }
    },
    {
      "cell_type": "code",
      "source": [
        "spark = SparkSession.builder.master(\"local[*]\").getOrCreate()\n",
        "spark_params = {\n",
        "\"spark.executor.memory\" : \"4g\",\n",
        "\"spark.driver.memory\": \"4g\",\n",
        "\"spark.memory.fraction\": \"0.9\"}\n",
        "for param, value in spark_params.items():\n",
        "  spark.conf.set(param, value)"
      ],
      "metadata": {
        "id": "CWj2K7iV1jOH"
      },
      "execution_count": null,
      "outputs": []
    },
    {
      "cell_type": "code",
      "source": [
        "spark"
      ],
      "metadata": {
        "colab": {
          "base_uri": "https://localhost:8080/",
          "height": 237
        },
        "id": "ULG8Yq-uNfoU",
        "outputId": "40af4af7-adfb-427b-d8b8-071f7d8a6a7b"
      },
      "execution_count": null,
      "outputs": [
        {
          "output_type": "stream",
          "name": "stdout",
          "text": [
            "<pyspark.sql.session.SparkSession object at 0x7f19c9b1f210>\n"
          ]
        },
        {
          "output_type": "execute_result",
          "data": {
            "text/plain": [
              "<pyspark.sql.session.SparkSession at 0x7f19c9b1f210>"
            ],
            "text/html": [
              "\n",
              "            <div>\n",
              "                <p><b>SparkSession - in-memory</b></p>\n",
              "                \n",
              "        <div>\n",
              "            <p><b>SparkContext</b></p>\n",
              "\n",
              "            <p><a href=\"http://8b65b255f086:4040\">Spark UI</a></p>\n",
              "\n",
              "            <dl>\n",
              "              <dt>Version</dt>\n",
              "                <dd><code>v2.4.5</code></dd>\n",
              "              <dt>Master</dt>\n",
              "                <dd><code>local[*]</code></dd>\n",
              "              <dt>AppName</dt>\n",
              "                <dd><code>pyspark-shell</code></dd>\n",
              "            </dl>\n",
              "        </div>\n",
              "        \n",
              "            </div>\n",
              "        "
            ]
          },
          "metadata": {},
          "execution_count": 12
        }
      ]
    },
    {
      "cell_type": "markdown",
      "source": [
        "## Load dataset"
      ],
      "metadata": {
        "id": "QuCk3TWWWkux"
      }
    },
    {
      "cell_type": "code",
      "source": [
        "!wget \"https://datasets.imdbws.com/name.basics.tsv.gz\"\n",
        "!wget \"https://datasets.imdbws.com/title.akas.tsv.gz\"\n",
        "!wget \"https://datasets.imdbws.com/title.basics.tsv.gz\"\n",
        "!wget \"https://datasets.imdbws.com/title.crew.tsv.gz\"\n",
        "!wget \"https://datasets.imdbws.com/title.episode.tsv.gz\"\n",
        "!wget \"https://datasets.imdbws.com/title.principals.tsv.gz\"\n",
        "!wget \"https://datasets.imdbws.com/title.ratings.tsv.gz\""
      ],
      "metadata": {
        "id": "HxGYOk2QxfwY",
        "colab": {
          "base_uri": "https://localhost:8080/"
        },
        "outputId": "977dd1e8-fa55-44e0-eeed-46e5f793eb16"
      },
      "execution_count": null,
      "outputs": [
        {
          "output_type": "stream",
          "name": "stdout",
          "text": [
            "--2022-10-30 09:26:08--  https://datasets.imdbws.com/name.basics.tsv.gz\n",
            "Resolving datasets.imdbws.com (datasets.imdbws.com)... 13.249.98.61, 13.249.98.35, 13.249.98.73, ...\n",
            "Connecting to datasets.imdbws.com (datasets.imdbws.com)|13.249.98.61|:443... connected.\n",
            "HTTP request sent, awaiting response... 200 OK\n",
            "Length: 235666360 (225M) [binary/octet-stream]\n",
            "Saving to: ‘name.basics.tsv.gz.1’\n",
            "\n",
            "name.basics.tsv.gz. 100%[===================>] 224.75M  89.8MB/s    in 2.5s    \n",
            "\n",
            "2022-10-30 09:26:11 (89.8 MB/s) - ‘name.basics.tsv.gz.1’ saved [235666360/235666360]\n",
            "\n",
            "--2022-10-30 09:26:11--  https://datasets.imdbws.com/title.akas.tsv.gz\n",
            "Resolving datasets.imdbws.com (datasets.imdbws.com)... 13.249.98.61, 13.249.98.35, 13.249.98.73, ...\n",
            "Connecting to datasets.imdbws.com (datasets.imdbws.com)|13.249.98.61|:443... connected.\n",
            "HTTP request sent, awaiting response... 200 OK\n",
            "Length: 286068857 (273M) [binary/octet-stream]\n",
            "Saving to: ‘title.akas.tsv.gz.1’\n",
            "\n",
            "title.akas.tsv.gz.1 100%[===================>] 272.82M  96.5MB/s    in 2.8s    \n",
            "\n",
            "2022-10-30 09:26:14 (96.5 MB/s) - ‘title.akas.tsv.gz.1’ saved [286068857/286068857]\n",
            "\n",
            "--2022-10-30 09:26:14--  https://datasets.imdbws.com/title.basics.tsv.gz\n",
            "Resolving datasets.imdbws.com (datasets.imdbws.com)... 13.249.98.61, 13.249.98.35, 13.249.98.73, ...\n",
            "Connecting to datasets.imdbws.com (datasets.imdbws.com)|13.249.98.61|:443... connected.\n",
            "HTTP request sent, awaiting response... 200 OK\n",
            "Length: 163149845 (156M) [binary/octet-stream]\n",
            "Saving to: ‘title.basics.tsv.gz.1’\n",
            "\n",
            "title.basics.tsv.gz 100%[===================>] 155.59M  75.8MB/s    in 2.1s    \n",
            "\n",
            "2022-10-30 09:26:16 (75.8 MB/s) - ‘title.basics.tsv.gz.1’ saved [163149845/163149845]\n",
            "\n",
            "--2022-10-30 09:26:16--  https://datasets.imdbws.com/title.crew.tsv.gz\n",
            "Resolving datasets.imdbws.com (datasets.imdbws.com)... 13.249.98.61, 13.249.98.35, 13.249.98.73, ...\n",
            "Connecting to datasets.imdbws.com (datasets.imdbws.com)|13.249.98.61|:443... connected.\n",
            "HTTP request sent, awaiting response... 200 OK\n",
            "Length: 62619811 (60M) [binary/octet-stream]\n",
            "Saving to: ‘title.crew.tsv.gz.1’\n",
            "\n",
            "title.crew.tsv.gz.1 100%[===================>]  59.72M  43.9MB/s    in 1.4s    \n",
            "\n",
            "2022-10-30 09:26:17 (43.9 MB/s) - ‘title.crew.tsv.gz.1’ saved [62619811/62619811]\n",
            "\n",
            "--2022-10-30 09:26:18--  https://datasets.imdbws.com/title.episode.tsv.gz\n",
            "Resolving datasets.imdbws.com (datasets.imdbws.com)... 13.249.98.61, 13.249.98.35, 13.249.98.73, ...\n",
            "Connecting to datasets.imdbws.com (datasets.imdbws.com)|13.249.98.61|:443... connected.\n",
            "HTTP request sent, awaiting response... 200 OK\n",
            "Length: 38330723 (37M) [binary/octet-stream]\n",
            "Saving to: ‘title.episode.tsv.gz.1’\n",
            "\n",
            "title.episode.tsv.g 100%[===================>]  36.55M  31.6MB/s    in 1.2s    \n",
            "\n",
            "2022-10-30 09:26:19 (31.6 MB/s) - ‘title.episode.tsv.gz.1’ saved [38330723/38330723]\n",
            "\n",
            "--2022-10-30 09:26:19--  https://datasets.imdbws.com/title.principals.tsv.gz\n",
            "Resolving datasets.imdbws.com (datasets.imdbws.com)... 13.249.98.61, 13.249.98.35, 13.249.98.73, ...\n",
            "Connecting to datasets.imdbws.com (datasets.imdbws.com)|13.249.98.61|:443... connected.\n",
            "HTTP request sent, awaiting response... 200 OK\n",
            "Length: 415406127 (396M) [binary/octet-stream]\n",
            "Saving to: ‘title.principals.tsv.gz.1’\n",
            "\n",
            "title.principals.ts 100%[===================>] 396.16M   126MB/s    in 3.7s    \n",
            "\n",
            "2022-10-30 09:26:23 (107 MB/s) - ‘title.principals.tsv.gz.1’ saved [415406127/415406127]\n",
            "\n",
            "--2022-10-30 09:26:23--  https://datasets.imdbws.com/title.ratings.tsv.gz\n",
            "Resolving datasets.imdbws.com (datasets.imdbws.com)... 13.249.98.61, 13.249.98.35, 13.249.98.73, ...\n",
            "Connecting to datasets.imdbws.com (datasets.imdbws.com)|13.249.98.61|:443... connected.\n",
            "HTTP request sent, awaiting response... 200 OK\n",
            "Length: 6238103 (5.9M) [binary/octet-stream]\n",
            "Saving to: ‘title.ratings.tsv.gz.1’\n",
            "\n",
            "title.ratings.tsv.g 100%[===================>]   5.95M  11.0MB/s    in 0.5s    \n",
            "\n",
            "2022-10-30 09:26:23 (11.0 MB/s) - ‘title.ratings.tsv.gz.1’ saved [6238103/6238103]\n",
            "\n"
          ]
        }
      ]
    },
    {
      "cell_type": "code",
      "source": [
        "title_ratings = spark.read.csv(\"title.ratings.tsv.gz\", sep='\\t', header=True)\n",
        "title_principals = spark.read.csv(\"title.principals.tsv.gz\", sep='\\t',header=True)\n",
        "title_episode = spark.read.csv(\"title.episode.tsv.gz\", sep='\\t', header=True)\n",
        "title_crew = spark.read.csv(\"title.crew.tsv.gz\", sep='\\t', header=True)\n",
        "title_basics = spark.read.csv(\"title.basics.tsv.gz\", sep='\\t', header=True)\n",
        "title_akas = spark.read.csv(\"title.akas.tsv.gz\", sep='\\t', header=True)\n",
        "name_basics = spark.read.csv(\"name.basics.tsv.gz\", sep='\\t', header=True)"
      ],
      "metadata": {
        "id": "z99UzaQfyBSd"
      },
      "execution_count": null,
      "outputs": []
    },
    {
      "cell_type": "code",
      "source": [
        "title_ratings.show(5)"
      ],
      "metadata": {
        "colab": {
          "base_uri": "https://localhost:8080/"
        },
        "id": "pLa_a7E30bgz",
        "outputId": "a0c13f2a-ae72-404d-e4af-9a845ca463de"
      },
      "execution_count": null,
      "outputs": [
        {
          "output_type": "stream",
          "name": "stdout",
          "text": [
            "+---------+-------------+--------+\n",
            "|   tconst|averageRating|numVotes|\n",
            "+---------+-------------+--------+\n",
            "|tt0000001|          5.7|    1920|\n",
            "|tt0000002|          5.8|     260|\n",
            "|tt0000003|          6.5|    1729|\n",
            "|tt0000004|          5.6|     174|\n",
            "|tt0000005|          6.2|    2542|\n",
            "+---------+-------------+--------+\n",
            "only showing top 5 rows\n",
            "\n"
          ]
        }
      ]
    },
    {
      "cell_type": "code",
      "source": [],
      "metadata": {
        "id": "zsQlUQ_u0b18"
      },
      "execution_count": null,
      "outputs": []
    }
  ]
}
