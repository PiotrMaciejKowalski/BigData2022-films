{
  "nbformat": 4,
  "nbformat_minor": 0,
  "metadata": {
    "colab": {
      "provenance": [],
      "collapsed_sections": [],
      "mount_file_id": "1_4fIlT5IybjCCfHSLYHIEmnNvCUlt9gQ",
      "authorship_tag": "ABX9TyMyqNepX1QTjJzSeV/cYxeE",
      "include_colab_link": true
    },
    "kernelspec": {
      "name": "python3",
      "display_name": "Python 3"
    },
    "language_info": {
      "name": "python"
    }
  },
  "cells": [
    {
      "cell_type": "markdown",
      "metadata": {
        "id": "view-in-github",
        "colab_type": "text"
      },
      "source": [
        "<a href=\"https://colab.research.google.com/github/PiotrMaciejKowalski/BigData2022-films/blob/load-data/Big_data_project.ipynb\" target=\"_parent\"><img src=\"https://colab.research.google.com/assets/colab-badge.svg\" alt=\"Open In Colab\"/></a>"
      ]
    },
    {
      "cell_type": "code",
      "execution_count": 7,
      "metadata": {
        "id": "s5aZbcCkhJpU"
      },
      "outputs": [],
      "source": [
        "!apt-get install openjdk-8-jdk-headless -qq > /dev/null\n",
        "!wget -q https://archive.apache.org/dist/spark/spark-2.4.5/spark-2.4.5-bin-hadoop2.7.tgz\n",
        "!tar xf spark-2.4.5-bin-hadoop2.7.tgz\n",
        "!pip install -q findspark"
      ]
    },
    {
      "cell_type": "code",
      "source": [
        "!ls /usr/lib/jvm"
      ],
      "metadata": {
        "colab": {
          "base_uri": "https://localhost:8080/"
        },
        "id": "2-HkwzLrhz5S",
        "outputId": "a169bc14-557f-4cc9-bb3f-ac27b4ea3940"
      },
      "execution_count": 8,
      "outputs": [
        {
          "output_type": "stream",
          "name": "stdout",
          "text": [
            "default-java\t\t   java-11-openjdk-amd64     java-8-openjdk-amd64\n",
            "java-1.11.0-openjdk-amd64  java-1.8.0-openjdk-amd64\n"
          ]
        }
      ]
    },
    {
      "cell_type": "code",
      "source": [
        "!pip install -U pyarrow"
      ],
      "metadata": {
        "colab": {
          "base_uri": "https://localhost:8080/"
        },
        "id": "Ar7qGQejh6S5",
        "outputId": "2b3408f2-27e0-49b4-c2b9-766ac20d586a"
      },
      "execution_count": 9,
      "outputs": [
        {
          "output_type": "stream",
          "name": "stdout",
          "text": [
            "Looking in indexes: https://pypi.org/simple, https://us-python.pkg.dev/colab-wheels/public/simple/\n",
            "Requirement already satisfied: pyarrow in /usr/local/lib/python3.7/dist-packages (6.0.1)\n",
            "Collecting pyarrow\n",
            "  Downloading pyarrow-10.0.0-cp37-cp37m-manylinux_2_17_x86_64.manylinux2014_x86_64.whl (35.4 MB)\n",
            "\u001b[K     |████████████████████████████████| 35.4 MB 282 kB/s \n",
            "\u001b[?25hRequirement already satisfied: numpy>=1.16.6 in /usr/local/lib/python3.7/dist-packages (from pyarrow) (1.21.6)\n",
            "Installing collected packages: pyarrow\n",
            "  Attempting uninstall: pyarrow\n",
            "    Found existing installation: pyarrow 6.0.1\n",
            "    Uninstalling pyarrow-6.0.1:\n",
            "      Successfully uninstalled pyarrow-6.0.1\n",
            "Successfully installed pyarrow-10.0.0\n"
          ]
        }
      ]
    },
    {
      "cell_type": "code",
      "source": [
        "import os\n",
        "os.environ[\"JAVA_HOME\"] = \"/usr/lib/jvm/java-8-openjdk-amd64\"\n",
        "os.environ[\"SPARK_HOME\"] = \"/content/spark-2.4.5-bin-hadoop2.7\""
      ],
      "metadata": {
        "id": "0My-CAzAh-jB"
      },
      "execution_count": 10,
      "outputs": []
    },
    {
      "cell_type": "code",
      "source": [
        "import findspark\n",
        "findspark.init()\n",
        "from pyspark.sql import SparkSession\n",
        "spark = SparkSession.builder.master(\"local[*]\").getOrCreate()\n",
        "spark.conf.set(\"spark.executor.memory\", \"4g\")\n",
        "spark.conf.set(\"spark.driver.memory\", \"4g\")\n",
        "spark.conf.set(\"spark.memory.fraction\",\"0.9\")\n"
      ],
      "metadata": {
        "id": "BD2CRwIDiMSY"
      },
      "execution_count": 11,
      "outputs": []
    },
    {
      "cell_type": "code",
      "source": [
        "!wget \"https://datasets.imdbws.com/name.basics.tsv.gz\"\n",
        "!wget \"https://datasets.imdbws.com/title.akas.tsv.gz\"\n",
        "!wget \"https://datasets.imdbws.com/title.basics.tsv.gz\"\n",
        "!wget \"https://datasets.imdbws.com/title.crew.tsv.gz\"\n",
        "!wget \"https://datasets.imdbws.com/title.episode.tsv.gz\"\n",
        "!wget \"https://datasets.imdbws.com/title.principals.tsv.gz\"\n",
        "!wget \"https://datasets.imdbws.com/title.ratings.tsv.gz\""
      ],
      "metadata": {
        "colab": {
          "base_uri": "https://localhost:8080/"
        },
        "id": "D8CHnD3u-_Y-",
        "outputId": "11540a63-6845-4505-c94a-d21385889f0b"
      },
      "execution_count": 5,
      "outputs": [
        {
          "output_type": "stream",
          "name": "stdout",
          "text": [
            "--2022-10-29 13:56:04--  https://datasets.imdbws.com/name.basics.tsv.gz\n",
            "Resolving datasets.imdbws.com (datasets.imdbws.com)... 54.230.18.48, 54.230.18.35, 54.230.18.84, ...\n",
            "Connecting to datasets.imdbws.com (datasets.imdbws.com)|54.230.18.48|:443... connected.\n",
            "HTTP request sent, awaiting response... 200 OK\n",
            "Length: 235666360 (225M) [binary/octet-stream]\n",
            "Saving to: ‘name.basics.tsv.gz.1’\n",
            "\n",
            "name.basics.tsv.gz. 100%[===================>] 224.75M   220MB/s    in 1.0s    \n",
            "\n",
            "2022-10-29 13:56:05 (220 MB/s) - ‘name.basics.tsv.gz.1’ saved [235666360/235666360]\n",
            "\n",
            "--2022-10-29 13:56:05--  https://datasets.imdbws.com/title.akas.tsv.gz\n",
            "Resolving datasets.imdbws.com (datasets.imdbws.com)... 54.230.18.48, 54.230.18.35, 54.230.18.84, ...\n",
            "Connecting to datasets.imdbws.com (datasets.imdbws.com)|54.230.18.48|:443... connected.\n",
            "HTTP request sent, awaiting response... 200 OK\n",
            "Length: 285986872 (273M) [binary/octet-stream]\n",
            "Saving to: ‘title.akas.tsv.gz’\n",
            "\n",
            "title.akas.tsv.gz   100%[===================>] 272.74M   153MB/s    in 1.8s    \n",
            "\n",
            "2022-10-29 13:56:07 (153 MB/s) - ‘title.akas.tsv.gz’ saved [285986872/285986872]\n",
            "\n",
            "--2022-10-29 13:56:07--  https://datasets.imdbws.com/title.basics.tsv.gz\n",
            "Resolving datasets.imdbws.com (datasets.imdbws.com)... 54.230.18.48, 54.230.18.35, 54.230.18.84, ...\n",
            "Connecting to datasets.imdbws.com (datasets.imdbws.com)|54.230.18.48|:443... connected.\n",
            "HTTP request sent, awaiting response... 200 OK\n",
            "Length: 163098861 (156M) [binary/octet-stream]\n",
            "Saving to: ‘title.basics.tsv.gz’\n",
            "\n",
            "title.basics.tsv.gz 100%[===================>] 155.54M   211MB/s    in 0.7s    \n",
            "\n",
            "2022-10-29 13:56:08 (211 MB/s) - ‘title.basics.tsv.gz’ saved [163098861/163098861]\n",
            "\n",
            "--2022-10-29 13:56:08--  https://datasets.imdbws.com/title.crew.tsv.gz\n",
            "Resolving datasets.imdbws.com (datasets.imdbws.com)... 54.230.18.48, 54.230.18.35, 54.230.18.84, ...\n",
            "Connecting to datasets.imdbws.com (datasets.imdbws.com)|54.230.18.48|:443... connected.\n",
            "HTTP request sent, awaiting response... 200 OK\n",
            "Length: 62596851 (60M) [binary/octet-stream]\n",
            "Saving to: ‘title.crew.tsv.gz’\n",
            "\n",
            "title.crew.tsv.gz   100%[===================>]  59.70M   178MB/s    in 0.3s    \n",
            "\n",
            "2022-10-29 13:56:08 (178 MB/s) - ‘title.crew.tsv.gz’ saved [62596851/62596851]\n",
            "\n",
            "--2022-10-29 13:56:08--  https://datasets.imdbws.com/title.episode.tsv.gz\n",
            "Resolving datasets.imdbws.com (datasets.imdbws.com)... 54.230.18.48, 54.230.18.35, 54.230.18.84, ...\n",
            "Connecting to datasets.imdbws.com (datasets.imdbws.com)|54.230.18.48|:443... connected.\n",
            "HTTP request sent, awaiting response... 200 OK\n",
            "Length: 38316710 (37M) [binary/octet-stream]\n",
            "Saving to: ‘title.episode.tsv.gz’\n",
            "\n",
            "title.episode.tsv.g 100%[===================>]  36.54M   180MB/s    in 0.2s    \n",
            "\n",
            "2022-10-29 13:56:08 (180 MB/s) - ‘title.episode.tsv.gz’ saved [38316710/38316710]\n",
            "\n",
            "--2022-10-29 13:56:08--  https://datasets.imdbws.com/title.principals.tsv.gz\n",
            "Resolving datasets.imdbws.com (datasets.imdbws.com)... 54.230.18.48, 54.230.18.35, 54.230.18.84, ...\n",
            "Connecting to datasets.imdbws.com (datasets.imdbws.com)|54.230.18.48|:443... connected.\n",
            "HTTP request sent, awaiting response... 200 OK\n",
            "Length: 415246585 (396M) [binary/octet-stream]\n",
            "Saving to: ‘title.principals.tsv.gz’\n",
            "\n",
            "title.principals.ts 100%[===================>] 396.01M   159MB/s    in 2.5s    \n",
            "\n",
            "2022-10-29 13:56:11 (159 MB/s) - ‘title.principals.tsv.gz’ saved [415246585/415246585]\n",
            "\n",
            "--2022-10-29 13:56:11--  https://datasets.imdbws.com/title.ratings.tsv.gz\n",
            "Resolving datasets.imdbws.com (datasets.imdbws.com)... 54.230.18.48, 54.230.18.35, 54.230.18.84, ...\n",
            "Connecting to datasets.imdbws.com (datasets.imdbws.com)|54.230.18.48|:443... connected.\n",
            "HTTP request sent, awaiting response... 200 OK\n",
            "Length: 6236946 (5.9M) [binary/octet-stream]\n",
            "Saving to: ‘title.ratings.tsv.gz’\n",
            "\n",
            "title.ratings.tsv.g 100%[===================>]   5.95M  --.-KB/s    in 0.09s   \n",
            "\n",
            "2022-10-29 13:56:11 (69.9 MB/s) - ‘title.ratings.tsv.gz’ saved [6236946/6236946]\n",
            "\n"
          ]
        }
      ]
    },
    {
      "cell_type": "code",
      "source": [
        "title_ratings = spark.read.csv(\"title.ratings.tsv.gz\", sep='\\t', header=True)\n",
        "title_principals = spark.read.csv(\"title.principals.tsv.gz\", sep='\\t',header=True)\n",
        "title_episode = spark.read.csv(\"title.episode.tsv.gz\", sep='\\t', header=True)\n",
        "title_crew = spark.read.csv(\"title.crew.tsv.gz\", sep='\\t', header=True)\n",
        "title_basics = spark.read.csv(\"title.basics.tsv.gz\", sep='\\t', header=True)\n",
        "title_akas = spark.read.csv(\"title.akas.tsv.gz\", sep='\\t', header=True)\n",
        "name_basics = spark.read.csv(\"name.basics.tsv.gz\", sep='\\t', header=True)"
      ],
      "metadata": {
        "id": "O96ivUrzBjKk"
      },
      "execution_count": 12,
      "outputs": []
    },
    {
      "cell_type": "code",
      "source": [
        "title_ratings.show(5)"
      ],
      "metadata": {
        "colab": {
          "base_uri": "https://localhost:8080/"
        },
        "id": "J_hAd39DtZTz",
        "outputId": "8a3f663e-46e9-4861-b319-ff4bb918e4d4"
      },
      "execution_count": 13,
      "outputs": [
        {
          "output_type": "stream",
          "name": "stdout",
          "text": [
            "+---------+-------------+--------+\n",
            "|   tconst|averageRating|numVotes|\n",
            "+---------+-------------+--------+\n",
            "|tt0000001|          5.7|    1920|\n",
            "|tt0000002|          5.8|     260|\n",
            "|tt0000003|          6.5|    1728|\n",
            "|tt0000004|          5.6|     174|\n",
            "|tt0000005|          6.2|    2542|\n",
            "+---------+-------------+--------+\n",
            "only showing top 5 rows\n",
            "\n"
          ]
        }
      ]
    }
  ]
}