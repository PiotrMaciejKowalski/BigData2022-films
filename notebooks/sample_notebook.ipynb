{
 "cells": [
  {
   "cell_type": "code",
   "execution_count": 11,
   "metadata": {},
   "outputs": [],
   "source": [
    "import os"
   ]
  },
  {
   "cell_type": "code",
   "execution_count": 13,
   "metadata": {},
   "outputs": [],
   "source": [
    "# jeżeli w naszej ścieżce lokalizacji znajdziemy nazwę 'notebooks'\n",
    "while 'notebooks' in os.getcwd():\n",
    "    # to cofamy się \"o folder\"\n",
    "    os.chdir(\"../\")"
   ]
  },
  {
   "cell_type": "markdown",
   "metadata": {},
   "source": [
    "# *(opis notatnika)* Przykładowy notatnik\n",
    "*(przykładowy opis)* Ten notatnik powstał jako wzór pisania notatników w tym folderze."
   ]
  },
  {
   "cell_type": "markdown",
   "metadata": {},
   "source": [
    "## Ważne!\n",
    "Jeżeli notatnik powstał w celu przetwarzania (np. przelicza/testuje jakieś wartości) to przed zapisaniem do repozytorium (przed utworzeniem commita) należy **wyczyścić cały output!**\n",
    "\n",
    "[Jupyter Clear Cell Output Programmatically With Code Examples](https://www.folkstalk.com/2022/10/jupyter-clear-cell-output-programmatically-with-code-examples.html)\n",
    "\n",
    "W przypadku notatnika, który jest swego rodzaju raportem (np. wizualna analiza zbioru) i nie chcemy, aby każdy członek zespołu wywoływał plik od nowa, wtedy zapisujemy notatnik z outputem, ale należy pamiętać, **aby go nie modyfikować!**\n",
    "\n",
    "Powyższe reguł mają ogrniczyć **niepotrzebne commity** zmian, które w praktyce zmianami nie są, co powoduje niepotrzebne zaśmiecenie historii edycji plików.\n",
    "\n",
    "Dodatkowo, ogólny standard struktury kodu:"
   ]
  },
  {
   "cell_type": "code",
   "execution_count": 19,
   "metadata": {},
   "outputs": [],
   "source": [
    "# Wszystkie importy na początku \n",
    "# pozwala to pilnować zależności w projekcie\n",
    "# kolejność importów \n",
    "# - od bibliotek o dużej ogólności\n",
    "# - poprzez zależności do cudzych projektów \n",
    "# - do własnych plików z lib\n",
    "#TODO: Przenieść ten poradnik do folderu 'tutorials' po pojawieniu się właściwej treści."
   ]
  }
 ],
 "metadata": {
  "kernelspec": {
   "display_name": "Python 3.10.6 ('bigdata2022_env')",
   "language": "python",
   "name": "python3"
  },
  "language_info": {
   "codemirror_mode": {
    "name": "ipython",
    "version": 3
   },
   "file_extension": ".py",
   "mimetype": "text/x-python",
   "name": "python",
   "nbconvert_exporter": "python",
   "pygments_lexer": "ipython3",
   "version": "3.10.6"
  },
  "orig_nbformat": 4,
  "vscode": {
   "interpreter": {
    "hash": "d3bd7558b382e9dfedbadb497b519832d5eeed5cdea53be5faf7c2ce6e68cd89"
   }
  }
 },
 "nbformat": 4,
 "nbformat_minor": 2
}
